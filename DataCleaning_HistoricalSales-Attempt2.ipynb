{
 "cells": [
  {
   "cell_type": "code",
   "execution_count": 67,
   "metadata": {},
   "outputs": [],
   "source": [
    "# Dependencies\n",
    "import pandas as pd\n",
    "from pathlib import Path\n",
    "from dateutil import parser\n",
    "from datetime import datetime\n",
    "import seaborn as sns\n",
    "import matplotlib.pyplot as plt\n",
    "\n",
    "import sklearn as skl\n",
    "\n",
    "from sklearn.model_selection import train_test_split\n",
    "from sklearn.preprocessing import StandardScaler\n",
    "\n",
    "from sklearn.decomposition import PCA"
   ]
  },
  {
   "cell_type": "code",
   "execution_count": 68,
   "metadata": {},
   "outputs": [],
   "source": [
    "# Store filepath in a variable\n",
    "file_one = Path(\"Resources\\historical-property-sales-data.csv\")"
   ]
  },
  {
   "cell_type": "code",
   "execution_count": 69,
   "metadata": {},
   "outputs": [
    {
     "data": {
      "text/html": [
       "<div>\n",
       "<style scoped>\n",
       "    .dataframe tbody tr th:only-of-type {\n",
       "        vertical-align: middle;\n",
       "    }\n",
       "\n",
       "    .dataframe tbody tr th {\n",
       "        vertical-align: top;\n",
       "    }\n",
       "\n",
       "    .dataframe thead th {\n",
       "        text-align: right;\n",
       "    }\n",
       "</style>\n",
       "<table border=\"1\" class=\"dataframe\">\n",
       "  <thead>\n",
       "    <tr style=\"text-align: right;\">\n",
       "      <th></th>\n",
       "      <th>ï»¿PropertyID</th>\n",
       "      <th>PropType</th>\n",
       "      <th>taxkey</th>\n",
       "      <th>Address</th>\n",
       "      <th>CondoProject</th>\n",
       "      <th>District</th>\n",
       "      <th>nbhd</th>\n",
       "      <th>Style</th>\n",
       "      <th>Extwall</th>\n",
       "      <th>Stories</th>\n",
       "      <th>Year_Built</th>\n",
       "      <th>Rooms</th>\n",
       "      <th>FinishedSqft</th>\n",
       "      <th>Units</th>\n",
       "      <th>Bdrms</th>\n",
       "      <th>Fbath</th>\n",
       "      <th>Hbath</th>\n",
       "      <th>Lotsize</th>\n",
       "      <th>Sale_date</th>\n",
       "      <th>Sale_price</th>\n",
       "    </tr>\n",
       "  </thead>\n",
       "  <tbody>\n",
       "    <tr>\n",
       "      <th>0</th>\n",
       "      <td>862416.0</td>\n",
       "      <td>Commercial</td>\n",
       "      <td>5370701000</td>\n",
       "      <td>115 W OKLAHOMA AV</td>\n",
       "      <td>NaN</td>\n",
       "      <td>14.0</td>\n",
       "      <td>6440.0</td>\n",
       "      <td>Fast Food Operation</td>\n",
       "      <td>Alum/Vynyl Siding</td>\n",
       "      <td>1.0</td>\n",
       "      <td>2000.0</td>\n",
       "      <td>NaN</td>\n",
       "      <td>3,229</td>\n",
       "      <td>1</td>\n",
       "      <td>NaN</td>\n",
       "      <td>0.0</td>\n",
       "      <td>0.0</td>\n",
       "      <td>1,703,065,320</td>\n",
       "      <td>12/23/2020</td>\n",
       "      <td>$2,150,000</td>\n",
       "    </tr>\n",
       "    <tr>\n",
       "      <th>1</th>\n",
       "      <td>862062.0</td>\n",
       "      <td>Commercial</td>\n",
       "      <td>6269997114</td>\n",
       "      <td>151 W LAYTON AV</td>\n",
       "      <td>NaN</td>\n",
       "      <td>13.0</td>\n",
       "      <td>6440.0</td>\n",
       "      <td>Fast Food Operation</td>\n",
       "      <td>Concrete Block</td>\n",
       "      <td>1.0</td>\n",
       "      <td>1968.0</td>\n",
       "      <td>NaN</td>\n",
       "      <td>1,980</td>\n",
       "      <td>1</td>\n",
       "      <td>NaN</td>\n",
       "      <td>0.0</td>\n",
       "      <td>0.0</td>\n",
       "      <td>457,380,000</td>\n",
       "      <td>12/23/2020</td>\n",
       "      <td>$1,200,000</td>\n",
       "    </tr>\n",
       "    <tr>\n",
       "      <th>2</th>\n",
       "      <td>870290.0</td>\n",
       "      <td>Commercial</td>\n",
       "      <td>330432000</td>\n",
       "      <td>9050-9100 N SWAN RD</td>\n",
       "      <td>NaN</td>\n",
       "      <td>9.0</td>\n",
       "      <td>6202.0</td>\n",
       "      <td>Day Care Center</td>\n",
       "      <td>NaN</td>\n",
       "      <td>1.0</td>\n",
       "      <td>2000.0</td>\n",
       "      <td>NaN</td>\n",
       "      <td>34,100</td>\n",
       "      <td>1</td>\n",
       "      <td>NaN</td>\n",
       "      <td>0.0</td>\n",
       "      <td>0.0</td>\n",
       "      <td>2,238,984</td>\n",
       "      <td>5/7/2021</td>\n",
       "      <td>$1,500,000</td>\n",
       "    </tr>\n",
       "    <tr>\n",
       "      <th>3</th>\n",
       "      <td>98508.0</td>\n",
       "      <td>Residential</td>\n",
       "      <td>49980110</td>\n",
       "      <td>9327 N SWAN RD</td>\n",
       "      <td>NaN</td>\n",
       "      <td>9.0</td>\n",
       "      <td>40.0</td>\n",
       "      <td>NaN</td>\n",
       "      <td>NaN</td>\n",
       "      <td>NaN</td>\n",
       "      <td>NaN</td>\n",
       "      <td>NaN</td>\n",
       "      <td>NaN</td>\n",
       "      <td>0</td>\n",
       "      <td>NaN</td>\n",
       "      <td>0.0</td>\n",
       "      <td>0.0</td>\n",
       "      <td>1341648</td>\n",
       "      <td>2022-01-07</td>\n",
       "      <td>800000</td>\n",
       "    </tr>\n",
       "    <tr>\n",
       "      <th>4</th>\n",
       "      <td>NaN</td>\n",
       "      <td>Vacant Land</td>\n",
       "      <td>369999400</td>\n",
       "      <td>9201R N 107TH ST</td>\n",
       "      <td>NaN</td>\n",
       "      <td>9.0</td>\n",
       "      <td>6411.0</td>\n",
       "      <td>Commercial Land</td>\n",
       "      <td>NaN</td>\n",
       "      <td>0.0</td>\n",
       "      <td>0.0</td>\n",
       "      <td>0.0</td>\n",
       "      <td>0</td>\n",
       "      <td>1</td>\n",
       "      <td>0.0</td>\n",
       "      <td>0.0</td>\n",
       "      <td>0.0</td>\n",
       "      <td>1090307</td>\n",
       "      <td>2015-11-01</td>\n",
       "      <td>790000</td>\n",
       "    </tr>\n",
       "  </tbody>\n",
       "</table>\n",
       "</div>"
      ],
      "text/plain": [
       "   ï»¿PropertyID     PropType      taxkey              Address CondoProject  \\\n",
       "0       862416.0   Commercial  5370701000    115 W OKLAHOMA AV          NaN   \n",
       "1       862062.0   Commercial  6269997114      151 W LAYTON AV          NaN   \n",
       "2       870290.0   Commercial   330432000  9050-9100 N SWAN RD          NaN   \n",
       "3        98508.0  Residential    49980110       9327 N SWAN RD          NaN   \n",
       "4            NaN  Vacant Land   369999400     9201R N 107TH ST          NaN   \n",
       "\n",
       "   District    nbhd                Style            Extwall  Stories  \\\n",
       "0      14.0  6440.0  Fast Food Operation  Alum/Vynyl Siding      1.0   \n",
       "1      13.0  6440.0  Fast Food Operation     Concrete Block      1.0   \n",
       "2       9.0  6202.0      Day Care Center                NaN      1.0   \n",
       "3       9.0    40.0                  NaN                NaN      NaN   \n",
       "4       9.0  6411.0      Commercial Land                NaN      0.0   \n",
       "\n",
       "   Year_Built  Rooms FinishedSqft  Units  Bdrms  Fbath  Hbath        Lotsize  \\\n",
       "0      2000.0    NaN        3,229      1    NaN    0.0    0.0  1,703,065,320   \n",
       "1      1968.0    NaN        1,980      1    NaN    0.0    0.0    457,380,000   \n",
       "2      2000.0    NaN       34,100      1    NaN    0.0    0.0      2,238,984   \n",
       "3         NaN    NaN          NaN      0    NaN    0.0    0.0        1341648   \n",
       "4         0.0    0.0            0      1    0.0    0.0    0.0        1090307   \n",
       "\n",
       "    Sale_date  Sale_price  \n",
       "0  12/23/2020  $2,150,000  \n",
       "1  12/23/2020  $1,200,000  \n",
       "2    5/7/2021  $1,500,000  \n",
       "3  2022-01-07      800000  \n",
       "4  2015-11-01      790000  "
      ]
     },
     "execution_count": 69,
     "metadata": {},
     "output_type": "execute_result"
    }
   ],
   "source": [
    "# Read our data file with the Pandas library\n",
    "# Not every CSV requires an encoding, but be aware this can come up\n",
    "properties_original_df = pd.read_csv(file_one, encoding=\"ISO-8859-1\")\n",
    "properties_original_df.head()"
   ]
  },
  {
   "cell_type": "code",
   "execution_count": 70,
   "metadata": {},
   "outputs": [
    {
     "name": "stdout",
     "output_type": "stream",
     "text": [
      "<class 'pandas.core.frame.DataFrame'>\n",
      "RangeIndex: 56048 entries, 0 to 56047\n",
      "Data columns (total 20 columns):\n",
      " #   Column         Non-Null Count  Dtype  \n",
      "---  ------         --------------  -----  \n",
      " 0   ï»¿PropertyID  32048 non-null  float64\n",
      " 1   PropType       56040 non-null  object \n",
      " 2   taxkey         56048 non-null  int64  \n",
      " 3   Address        56044 non-null  object \n",
      " 4   CondoProject   9142 non-null   object \n",
      " 5   District       56046 non-null  float64\n",
      " 6   nbhd           55991 non-null  float64\n",
      " 7   Style          55957 non-null  object \n",
      " 8   Extwall        45621 non-null  object \n",
      " 9   Stories        55879 non-null  float64\n",
      " 10  Year_Built     55987 non-null  float64\n",
      " 11  Rooms          54418 non-null  float64\n",
      " 12  FinishedSqft   55947 non-null  object \n",
      " 13  Units          56048 non-null  int64  \n",
      " 14  Bdrms          54419 non-null  float64\n",
      " 15  Fbath          55393 non-null  float64\n",
      " 16  Hbath          51208 non-null  float64\n",
      " 17  Lotsize        56048 non-null  object \n",
      " 18  Sale_date      56048 non-null  object \n",
      " 19  Sale_price     56038 non-null  object \n",
      "dtypes: float64(9), int64(2), object(9)\n",
      "memory usage: 8.6+ MB\n"
     ]
    }
   ],
   "source": [
    "properties_original_df.info()"
   ]
  },
  {
   "cell_type": "code",
   "execution_count": 71,
   "metadata": {},
   "outputs": [
    {
     "data": {
      "text/plain": [
       "Style             87\n",
       "FinishedSqft      90\n",
       "Bdrms            128\n",
       "Fbath             10\n",
       "Hbath           3610\n",
       "Lotsize            0\n",
       "Sale_date          0\n",
       "Sale_price         8\n",
       "dtype: int64"
      ]
     },
     "execution_count": 71,
     "metadata": {},
     "output_type": "execute_result"
    }
   ],
   "source": [
    "#getting only 'Residential' values\n",
    "residential_properties_df = properties_original_df.loc[properties_original_df[\"PropType\"] == 'Residential']\n",
    "residential_properties_df = residential_properties_df.drop(columns=['CondoProject', 'ï»¿PropertyID','PropType','District','Extwall','nbhd','Stories','taxkey','Address','Rooms','Year_Built','Units'], axis=1)\n",
    "residential_properties_df.isnull().sum()"
   ]
  },
  {
   "cell_type": "code",
   "execution_count": 72,
   "metadata": {},
   "outputs": [],
   "source": [
    "filtered_residential_properties_df = residential_properties_df.copy()"
   ]
  },
  {
   "cell_type": "markdown",
   "metadata": {},
   "source": [
    "Trying the data out without filtering out the styles, but instead filtering on bedrooms and price ranges later on"
   ]
  },
  {
   "cell_type": "code",
   "execution_count": 73,
   "metadata": {},
   "outputs": [],
   "source": [
    "# styles_list = ['Cape Cod','Colonial','Bi-Level','Duplex N/S','Townhouse','Dplx Bungalow','Milwaukee Bungalow','Split Level','Res O/S A & 1/2','Res O/S 2sty +','Res O/S 1 Story','Duplex O/S','Triplex','Tudor','Contemporary','Mansion','Rm or Rooming House']\n",
    "# filtered_residential_properties_df = residential_properties_df[residential_properties_df['Style'].isin(styles_list)]\n",
    "# filtered_residential_properties_df = filtered_residential_properties_df.drop('Style', axis=1)\n",
    "# filtered_residential_properties_df"
   ]
  },
  {
   "cell_type": "code",
   "execution_count": 74,
   "metadata": {},
   "outputs": [
    {
     "name": "stdout",
     "output_type": "stream",
     "text": [
      "<class 'pandas.core.frame.DataFrame'>\n",
      "Index: 43638 entries, 3 to 56003\n",
      "Data columns (total 8 columns):\n",
      " #   Column        Non-Null Count  Dtype  \n",
      "---  ------        --------------  -----  \n",
      " 0   Style         43551 non-null  object \n",
      " 1   FinishedSqft  43548 non-null  object \n",
      " 2   Bdrms         43510 non-null  float64\n",
      " 3   Fbath         43628 non-null  float64\n",
      " 4   Hbath         40028 non-null  float64\n",
      " 5   Lotsize       43638 non-null  object \n",
      " 6   Sale_date     43638 non-null  object \n",
      " 7   Sale_price    43630 non-null  object \n",
      "dtypes: float64(3), object(5)\n",
      "memory usage: 3.0+ MB\n"
     ]
    }
   ],
   "source": [
    "#check datatype of each column\n",
    "filtered_residential_properties_df.info()"
   ]
  },
  {
   "cell_type": "code",
   "execution_count": 75,
   "metadata": {},
   "outputs": [
    {
     "name": "stdout",
     "output_type": "stream",
     "text": [
      "<class 'pandas.core.frame.DataFrame'>\n",
      "Index: 43638 entries, 3 to 56003\n",
      "Data columns (total 7 columns):\n",
      " #   Column        Non-Null Count  Dtype  \n",
      "---  ------        --------------  -----  \n",
      " 0   Style         43551 non-null  object \n",
      " 1   FinishedSqft  43548 non-null  object \n",
      " 2   Bdrms         43510 non-null  float64\n",
      " 3   Lotsize       43638 non-null  object \n",
      " 4   Sale_date     43638 non-null  object \n",
      " 5   Sale_price    43630 non-null  object \n",
      " 6   Baths_total   40023 non-null  float64\n",
      "dtypes: float64(2), object(5)\n",
      "memory usage: 2.7+ MB\n"
     ]
    }
   ],
   "source": [
    "filtered_residential_properties_df['Baths_total'] = filtered_residential_properties_df['Fbath'] + filtered_residential_properties_df['Hbath']\n",
    "filtered_residential_properties_df = filtered_residential_properties_df.drop(columns=['Fbath','Hbath'], axis=1)\n",
    "filtered_residential_properties_df.info()"
   ]
  },
  {
   "cell_type": "code",
   "execution_count": 76,
   "metadata": {},
   "outputs": [
    {
     "name": "stdout",
     "output_type": "stream",
     "text": [
      "<class 'pandas.core.frame.DataFrame'>\n",
      "Index: 43638 entries, 3 to 56003\n",
      "Data columns (total 9 columns):\n",
      " #   Column        Non-Null Count  Dtype         \n",
      "---  ------        --------------  -----         \n",
      " 0   Style         43551 non-null  object        \n",
      " 1   FinishedSqft  43548 non-null  object        \n",
      " 2   Bdrms         43510 non-null  float64       \n",
      " 3   Lotsize       43638 non-null  object        \n",
      " 4   Sale_date     43638 non-null  datetime64[ns]\n",
      " 5   Sale_price    43630 non-null  object        \n",
      " 6   Baths_total   40023 non-null  float64       \n",
      " 7   Year          43638 non-null  int32         \n",
      " 8   Month         43638 non-null  int32         \n",
      "dtypes: datetime64[ns](1), float64(2), int32(2), object(4)\n",
      "memory usage: 3.0+ MB\n"
     ]
    },
    {
     "name": "stderr",
     "output_type": "stream",
     "text": [
      "C:\\Users\\Ajunjee Selvam\\AppData\\Local\\Temp\\ipykernel_14228\\3724813437.py:1: UserWarning: The argument 'infer_datetime_format' is deprecated and will be removed in a future version. A strict version of it is now the default, see https://pandas.pydata.org/pdeps/0004-consistent-to-datetime-parsing.html. You can safely remove this argument.\n",
      "  filtered_residential_properties_df['Sale_date'] = pd.to_datetime(filtered_residential_properties_df['Sale_date'], infer_datetime_format=True, format='mixed')\n"
     ]
    }
   ],
   "source": [
    "filtered_residential_properties_df['Sale_date'] = pd.to_datetime(filtered_residential_properties_df['Sale_date'], infer_datetime_format=True, format='mixed')\n",
    "filtered_residential_properties_df['Year'] = filtered_residential_properties_df['Sale_date'].dt.year\n",
    "filtered_residential_properties_df['Month'] = filtered_residential_properties_df['Sale_date'].dt.month\n",
    "filtered_residential_properties_df.info()"
   ]
  },
  {
   "cell_type": "code",
   "execution_count": 77,
   "metadata": {},
   "outputs": [
    {
     "data": {
      "text/plain": [
       "Style           0\n",
       "FinishedSqft    0\n",
       "Bdrms           0\n",
       "Lotsize         0\n",
       "Sale_date       0\n",
       "Sale_price      0\n",
       "Baths_total     0\n",
       "Year            0\n",
       "Month           0\n",
       "dtype: int64"
      ]
     },
     "execution_count": 77,
     "metadata": {},
     "output_type": "execute_result"
    }
   ],
   "source": [
    "filtered_residential_properties_df=filtered_residential_properties_df.dropna(subset=['Bdrms','Baths_total','Sale_price'])\n",
    "filtered_residential_properties_df.isnull().sum()"
   ]
  },
  {
   "cell_type": "code",
   "execution_count": 78,
   "metadata": {},
   "outputs": [],
   "source": [
    "filtered_residential_properties_df['Style'] = filtered_residential_properties_df['Style'].astype(str)\n",
    "filtered_residential_properties_df['Sale_price'] = filtered_residential_properties_df['Sale_price'].astype(str)\n",
    "filtered_residential_properties_df['Sale_price'] = filtered_residential_properties_df['Sale_price'].str.replace('$', '')\n",
    "filtered_residential_properties_df['Sale_price'] = filtered_residential_properties_df['Sale_price'].str.replace(',', '')\n",
    "filtered_residential_properties_df['Sale_price'] = pd.to_numeric(filtered_residential_properties_df['Sale_price']).astype(int)\n",
    "\n",
    "filtered_residential_properties_df['Bdrms'] = pd.to_numeric(filtered_residential_properties_df['Bdrms']).astype(int)\n",
    "filtered_residential_properties_df['Baths_total'] = pd.to_numeric(filtered_residential_properties_df['Baths_total']).astype(int)\n",
    "\n",
    "\n",
    "filtered_residential_properties_df['FinishedSqft'] = filtered_residential_properties_df['FinishedSqft'].str.replace(',', '')\n",
    "filtered_residential_properties_df['FinishedSqft'] = pd.to_numeric(filtered_residential_properties_df['FinishedSqft']).astype(int, errors='ignore')\n",
    "\n",
    "# filtered_residential_properties_df['Lotsize'] = filtered_residential_properties_df['Lotsize'].str.replace(',', '')\n",
    "# filtered_residential_properties_df['Lotsize'] = pd.to_numeric(filtered_residential_properties_df['Lotsize']).astype(int, errors='ignore')"
   ]
  },
  {
   "cell_type": "code",
   "execution_count": 79,
   "metadata": {},
   "outputs": [
    {
     "data": {
      "text/plain": [
       "Style           0\n",
       "FinishedSqft    0\n",
       "Bdrms           0\n",
       "Lotsize         0\n",
       "Sale_date       0\n",
       "Sale_price      0\n",
       "Baths_total     0\n",
       "Year            0\n",
       "Month           0\n",
       "dtype: int64"
      ]
     },
     "execution_count": 79,
     "metadata": {},
     "output_type": "execute_result"
    }
   ],
   "source": [
    "filtered_residential_properties_df.isnull().sum()"
   ]
  },
  {
   "cell_type": "code",
   "execution_count": 80,
   "metadata": {},
   "outputs": [
    {
     "data": {
      "text/plain": [
       "Style           0\n",
       "FinishedSqft    0\n",
       "Bdrms           0\n",
       "Lotsize         0\n",
       "Sale_date       0\n",
       "Sale_price      0\n",
       "Baths_total     0\n",
       "Year            0\n",
       "Month           0\n",
       "dtype: int64"
      ]
     },
     "execution_count": 80,
     "metadata": {},
     "output_type": "execute_result"
    }
   ],
   "source": [
    "filtered_residential_properties_df=filtered_residential_properties_df.dropna(subset=['FinishedSqft'])\n",
    "filtered_residential_properties_df = filtered_residential_properties_df.drop(filtered_residential_properties_df[(filtered_residential_properties_df['Bdrms'] == 0) | (filtered_residential_properties_df['Baths_total'] == 0) | (filtered_residential_properties_df['Sale_price'] == 0)].index)\n",
    "filtered_residential_properties_df.isnull().sum()"
   ]
  },
  {
   "cell_type": "code",
   "execution_count": 81,
   "metadata": {},
   "outputs": [
    {
     "name": "stdout",
     "output_type": "stream",
     "text": [
      "<class 'pandas.core.frame.DataFrame'>\n",
      "Index: 39869 entries, 79 to 56002\n",
      "Data columns (total 8 columns):\n",
      " #   Column        Non-Null Count  Dtype         \n",
      "---  ------        --------------  -----         \n",
      " 0   Style         39869 non-null  object        \n",
      " 1   Bdrms         39869 non-null  int32         \n",
      " 2   Baths_total   39869 non-null  int32         \n",
      " 3   FinishedSqft  39869 non-null  int32         \n",
      " 4   Sale_date     39869 non-null  datetime64[ns]\n",
      " 5   Year          39869 non-null  int32         \n",
      " 6   Month         39869 non-null  int32         \n",
      " 7   Sale_price    39869 non-null  int32         \n",
      "dtypes: datetime64[ns](1), int32(6), object(1)\n",
      "memory usage: 1.8+ MB\n"
     ]
    }
   ],
   "source": [
    "filtered_residential_properties_df['FinishedSqft'] = pd.to_numeric(filtered_residential_properties_df['FinishedSqft']).astype(int)\n",
    "# filtered_residential_properties_df['Lotsize'] = pd.to_numeric(filtered_residential_properties_df['Lotsize']).astype(int)\n",
    "filtered_residential_properties_df = filtered_residential_properties_df[['Style','Bdrms','Baths_total', 'FinishedSqft', 'Sale_date','Year', 'Month', 'Sale_price']]\n",
    "filtered_residential_properties_df.info()"
   ]
  },
  {
   "cell_type": "code",
   "execution_count": 82,
   "metadata": {},
   "outputs": [
    {
     "data": {
      "text/html": [
       "<div>\n",
       "<style scoped>\n",
       "    .dataframe tbody tr th:only-of-type {\n",
       "        vertical-align: middle;\n",
       "    }\n",
       "\n",
       "    .dataframe tbody tr th {\n",
       "        vertical-align: top;\n",
       "    }\n",
       "\n",
       "    .dataframe thead th {\n",
       "        text-align: right;\n",
       "    }\n",
       "</style>\n",
       "<table border=\"1\" class=\"dataframe\">\n",
       "  <thead>\n",
       "    <tr style=\"text-align: right;\">\n",
       "      <th></th>\n",
       "      <th>Style</th>\n",
       "      <th>Bdrms</th>\n",
       "      <th>Baths_total</th>\n",
       "      <th>FinishedSqft</th>\n",
       "      <th>Sale_date</th>\n",
       "      <th>Year</th>\n",
       "      <th>Month</th>\n",
       "      <th>Sale_price</th>\n",
       "    </tr>\n",
       "  </thead>\n",
       "  <tbody>\n",
       "    <tr>\n",
       "      <th>79</th>\n",
       "      <td>Ranch</td>\n",
       "      <td>3</td>\n",
       "      <td>2</td>\n",
       "      <td>1884</td>\n",
       "      <td>2023-01-23</td>\n",
       "      <td>2023</td>\n",
       "      <td>1</td>\n",
       "      <td>349000</td>\n",
       "    </tr>\n",
       "    <tr>\n",
       "      <th>80</th>\n",
       "      <td>Tudor</td>\n",
       "      <td>3</td>\n",
       "      <td>4</td>\n",
       "      <td>3328</td>\n",
       "      <td>2022-08-18</td>\n",
       "      <td>2022</td>\n",
       "      <td>8</td>\n",
       "      <td>2500000</td>\n",
       "    </tr>\n",
       "    <tr>\n",
       "      <th>81</th>\n",
       "      <td>Tudor</td>\n",
       "      <td>3</td>\n",
       "      <td>4</td>\n",
       "      <td>3328</td>\n",
       "      <td>2017-08-01</td>\n",
       "      <td>2017</td>\n",
       "      <td>8</td>\n",
       "      <td>1391000</td>\n",
       "    </tr>\n",
       "    <tr>\n",
       "      <th>92</th>\n",
       "      <td>Ranch</td>\n",
       "      <td>3</td>\n",
       "      <td>2</td>\n",
       "      <td>2104</td>\n",
       "      <td>2022-09-13</td>\n",
       "      <td>2022</td>\n",
       "      <td>9</td>\n",
       "      <td>200000</td>\n",
       "    </tr>\n",
       "    <tr>\n",
       "      <th>144</th>\n",
       "      <td>Colonial</td>\n",
       "      <td>4</td>\n",
       "      <td>2</td>\n",
       "      <td>2200</td>\n",
       "      <td>2021-11-23</td>\n",
       "      <td>2021</td>\n",
       "      <td>11</td>\n",
       "      <td>336000</td>\n",
       "    </tr>\n",
       "  </tbody>\n",
       "</table>\n",
       "</div>"
      ],
      "text/plain": [
       "        Style  Bdrms  Baths_total  FinishedSqft  Sale_date  Year  Month  \\\n",
       "79      Ranch      3            2          1884 2023-01-23  2023      1   \n",
       "80      Tudor      3            4          3328 2022-08-18  2022      8   \n",
       "81      Tudor      3            4          3328 2017-08-01  2017      8   \n",
       "92      Ranch      3            2          2104 2022-09-13  2022      9   \n",
       "144  Colonial      4            2          2200 2021-11-23  2021     11   \n",
       "\n",
       "     Sale_price  \n",
       "79       349000  \n",
       "80      2500000  \n",
       "81      1391000  \n",
       "92       200000  \n",
       "144      336000  "
      ]
     },
     "execution_count": 82,
     "metadata": {},
     "output_type": "execute_result"
    }
   ],
   "source": [
    "filtered_residential_properties_df.head()"
   ]
  },
  {
   "cell_type": "code",
   "execution_count": 83,
   "metadata": {},
   "outputs": [
    {
     "data": {
      "text/html": [
       "<div>\n",
       "<style scoped>\n",
       "    .dataframe tbody tr th:only-of-type {\n",
       "        vertical-align: middle;\n",
       "    }\n",
       "\n",
       "    .dataframe tbody tr th {\n",
       "        vertical-align: top;\n",
       "    }\n",
       "\n",
       "    .dataframe thead th {\n",
       "        text-align: right;\n",
       "    }\n",
       "</style>\n",
       "<table border=\"1\" class=\"dataframe\">\n",
       "  <thead>\n",
       "    <tr style=\"text-align: right;\">\n",
       "      <th></th>\n",
       "      <th>Style</th>\n",
       "      <th>Bdrms</th>\n",
       "      <th>Baths_total</th>\n",
       "      <th>FinishedSqft</th>\n",
       "      <th>Sale_date</th>\n",
       "      <th>Year</th>\n",
       "      <th>Month</th>\n",
       "      <th>Sale_price</th>\n",
       "    </tr>\n",
       "  </thead>\n",
       "  <tbody>\n",
       "    <tr>\n",
       "      <th>79</th>\n",
       "      <td>Ranch</td>\n",
       "      <td>3</td>\n",
       "      <td>2</td>\n",
       "      <td>1884</td>\n",
       "      <td>2023-01-23</td>\n",
       "      <td>2023</td>\n",
       "      <td>1</td>\n",
       "      <td>349000</td>\n",
       "    </tr>\n",
       "    <tr>\n",
       "      <th>92</th>\n",
       "      <td>Ranch</td>\n",
       "      <td>3</td>\n",
       "      <td>2</td>\n",
       "      <td>2104</td>\n",
       "      <td>2022-09-13</td>\n",
       "      <td>2022</td>\n",
       "      <td>9</td>\n",
       "      <td>200000</td>\n",
       "    </tr>\n",
       "    <tr>\n",
       "      <th>144</th>\n",
       "      <td>Colonial</td>\n",
       "      <td>4</td>\n",
       "      <td>2</td>\n",
       "      <td>2200</td>\n",
       "      <td>2021-11-23</td>\n",
       "      <td>2021</td>\n",
       "      <td>11</td>\n",
       "      <td>336000</td>\n",
       "    </tr>\n",
       "    <tr>\n",
       "      <th>150</th>\n",
       "      <td>Ranch</td>\n",
       "      <td>3</td>\n",
       "      <td>2</td>\n",
       "      <td>1585</td>\n",
       "      <td>2023-11-21</td>\n",
       "      <td>2023</td>\n",
       "      <td>11</td>\n",
       "      <td>233000</td>\n",
       "    </tr>\n",
       "    <tr>\n",
       "      <th>179</th>\n",
       "      <td>Res O/S 1 Story</td>\n",
       "      <td>2</td>\n",
       "      <td>2</td>\n",
       "      <td>1125</td>\n",
       "      <td>2021-10-08</td>\n",
       "      <td>2021</td>\n",
       "      <td>10</td>\n",
       "      <td>250000</td>\n",
       "    </tr>\n",
       "  </tbody>\n",
       "</table>\n",
       "</div>"
      ],
      "text/plain": [
       "               Style  Bdrms  Baths_total  FinishedSqft  Sale_date  Year  \\\n",
       "79             Ranch      3            2          1884 2023-01-23  2023   \n",
       "92             Ranch      3            2          2104 2022-09-13  2022   \n",
       "144         Colonial      4            2          2200 2021-11-23  2021   \n",
       "150            Ranch      3            2          1585 2023-11-21  2023   \n",
       "179  Res O/S 1 Story      2            2          1125 2021-10-08  2021   \n",
       "\n",
       "     Month  Sale_price  \n",
       "79       1      349000  \n",
       "92       9      200000  \n",
       "144     11      336000  \n",
       "150     11      233000  \n",
       "179     10      250000  "
      ]
     },
     "execution_count": 83,
     "metadata": {},
     "output_type": "execute_result"
    }
   ],
   "source": [
    "filtered_residential_properties_df = filtered_residential_properties_df[(filtered_residential_properties_df['Bdrms'] < 6) & (filtered_residential_properties_df['Bdrms'] > 1) & (filtered_residential_properties_df['Baths_total'] > 0) &  (filtered_residential_properties_df['Baths_total'] < 8) &  (filtered_residential_properties_df['FinishedSqft'] < 3000)]\n",
    "filtered_residential_properties_df.head()"
   ]
  },
  {
   "cell_type": "code",
   "execution_count": 84,
   "metadata": {},
   "outputs": [
    {
     "data": {
      "text/html": [
       "<div>\n",
       "<style scoped>\n",
       "    .dataframe tbody tr th:only-of-type {\n",
       "        vertical-align: middle;\n",
       "    }\n",
       "\n",
       "    .dataframe tbody tr th {\n",
       "        vertical-align: top;\n",
       "    }\n",
       "\n",
       "    .dataframe thead th {\n",
       "        text-align: right;\n",
       "    }\n",
       "</style>\n",
       "<table border=\"1\" class=\"dataframe\">\n",
       "  <thead>\n",
       "    <tr style=\"text-align: right;\">\n",
       "      <th></th>\n",
       "      <th>Bdrms</th>\n",
       "    </tr>\n",
       "  </thead>\n",
       "  <tbody>\n",
       "    <tr>\n",
       "      <th>count</th>\n",
       "      <td>35316.000000</td>\n",
       "    </tr>\n",
       "    <tr>\n",
       "      <th>mean</th>\n",
       "      <td>3.245271</td>\n",
       "    </tr>\n",
       "    <tr>\n",
       "      <th>min</th>\n",
       "      <td>2.000000</td>\n",
       "    </tr>\n",
       "    <tr>\n",
       "      <th>25%</th>\n",
       "      <td>3.000000</td>\n",
       "    </tr>\n",
       "    <tr>\n",
       "      <th>50%</th>\n",
       "      <td>3.000000</td>\n",
       "    </tr>\n",
       "    <tr>\n",
       "      <th>75%</th>\n",
       "      <td>4.000000</td>\n",
       "    </tr>\n",
       "    <tr>\n",
       "      <th>max</th>\n",
       "      <td>5.000000</td>\n",
       "    </tr>\n",
       "    <tr>\n",
       "      <th>std</th>\n",
       "      <td>0.766705</td>\n",
       "    </tr>\n",
       "  </tbody>\n",
       "</table>\n",
       "</div>"
      ],
      "text/plain": [
       "              Bdrms\n",
       "count  35316.000000\n",
       "mean       3.245271\n",
       "min        2.000000\n",
       "25%        3.000000\n",
       "50%        3.000000\n",
       "75%        4.000000\n",
       "max        5.000000\n",
       "std        0.766705"
      ]
     },
     "execution_count": 84,
     "metadata": {},
     "output_type": "execute_result"
    }
   ],
   "source": [
    "filtered_residential_properties_df.describe()[['Bdrms']]"
   ]
  },
  {
   "cell_type": "code",
   "execution_count": 85,
   "metadata": {},
   "outputs": [
    {
     "data": {
      "text/html": [
       "<div>\n",
       "<style scoped>\n",
       "    .dataframe tbody tr th:only-of-type {\n",
       "        vertical-align: middle;\n",
       "    }\n",
       "\n",
       "    .dataframe tbody tr th {\n",
       "        vertical-align: top;\n",
       "    }\n",
       "\n",
       "    .dataframe thead th {\n",
       "        text-align: right;\n",
       "    }\n",
       "</style>\n",
       "<table border=\"1\" class=\"dataframe\">\n",
       "  <thead>\n",
       "    <tr style=\"text-align: right;\">\n",
       "      <th></th>\n",
       "      <th>Baths_total</th>\n",
       "    </tr>\n",
       "  </thead>\n",
       "  <tbody>\n",
       "    <tr>\n",
       "      <th>count</th>\n",
       "      <td>35316.000000</td>\n",
       "    </tr>\n",
       "    <tr>\n",
       "      <th>mean</th>\n",
       "      <td>1.767443</td>\n",
       "    </tr>\n",
       "    <tr>\n",
       "      <th>min</th>\n",
       "      <td>1.000000</td>\n",
       "    </tr>\n",
       "    <tr>\n",
       "      <th>25%</th>\n",
       "      <td>1.000000</td>\n",
       "    </tr>\n",
       "    <tr>\n",
       "      <th>50%</th>\n",
       "      <td>2.000000</td>\n",
       "    </tr>\n",
       "    <tr>\n",
       "      <th>75%</th>\n",
       "      <td>2.000000</td>\n",
       "    </tr>\n",
       "    <tr>\n",
       "      <th>max</th>\n",
       "      <td>6.000000</td>\n",
       "    </tr>\n",
       "    <tr>\n",
       "      <th>std</th>\n",
       "      <td>0.646427</td>\n",
       "    </tr>\n",
       "  </tbody>\n",
       "</table>\n",
       "</div>"
      ],
      "text/plain": [
       "        Baths_total\n",
       "count  35316.000000\n",
       "mean       1.767443\n",
       "min        1.000000\n",
       "25%        1.000000\n",
       "50%        2.000000\n",
       "75%        2.000000\n",
       "max        6.000000\n",
       "std        0.646427"
      ]
     },
     "execution_count": 85,
     "metadata": {},
     "output_type": "execute_result"
    }
   ],
   "source": [
    "filtered_residential_properties_df.describe()[['Baths_total']]"
   ]
  },
  {
   "cell_type": "code",
   "execution_count": 86,
   "metadata": {},
   "outputs": [
    {
     "name": "stdout",
     "output_type": "stream",
     "text": [
      "<class 'pandas.core.frame.DataFrame'>\n",
      "Index: 35316 entries, 79 to 56002\n",
      "Data columns (total 8 columns):\n",
      " #   Column        Non-Null Count  Dtype         \n",
      "---  ------        --------------  -----         \n",
      " 0   Style         35316 non-null  object        \n",
      " 1   Bdrms         35316 non-null  int32         \n",
      " 2   Baths_total   35316 non-null  int32         \n",
      " 3   FinishedSqft  35316 non-null  int32         \n",
      " 4   Sale_date     35316 non-null  datetime64[ns]\n",
      " 5   Year          35316 non-null  int32         \n",
      " 6   Month         35316 non-null  int32         \n",
      " 7   Sale_price    35316 non-null  int32         \n",
      "dtypes: datetime64[ns](1), int32(6), object(1)\n",
      "memory usage: 1.6+ MB\n"
     ]
    }
   ],
   "source": [
    "filtered_residential_properties_df.info()"
   ]
  },
  {
   "cell_type": "code",
   "execution_count": 87,
   "metadata": {},
   "outputs": [],
   "source": [
    "filtered_residential_properties_df.to_csv(\"Resources\\cleaned-property-sales-data2.csv\", encoding='utf-8',index=False)"
   ]
  },
  {
   "cell_type": "markdown",
   "metadata": {},
   "source": [
    "REMOVING UPPER RANGE DUE TO HIGH PRICE PREDICTIONS"
   ]
  },
  {
   "cell_type": "code",
   "execution_count": 88,
   "metadata": {},
   "outputs": [
    {
     "data": {
      "text/html": [
       "<div>\n",
       "<style scoped>\n",
       "    .dataframe tbody tr th:only-of-type {\n",
       "        vertical-align: middle;\n",
       "    }\n",
       "\n",
       "    .dataframe tbody tr th {\n",
       "        vertical-align: top;\n",
       "    }\n",
       "\n",
       "    .dataframe thead th {\n",
       "        text-align: right;\n",
       "    }\n",
       "</style>\n",
       "<table border=\"1\" class=\"dataframe\">\n",
       "  <thead>\n",
       "    <tr style=\"text-align: right;\">\n",
       "      <th></th>\n",
       "      <th>Sale_price</th>\n",
       "    </tr>\n",
       "  </thead>\n",
       "  <tbody>\n",
       "    <tr>\n",
       "      <th>count</th>\n",
       "      <td>3.531600e+04</td>\n",
       "    </tr>\n",
       "    <tr>\n",
       "      <th>mean</th>\n",
       "      <td>1.590013e+05</td>\n",
       "    </tr>\n",
       "    <tr>\n",
       "      <th>min</th>\n",
       "      <td>3.500000e+03</td>\n",
       "    </tr>\n",
       "    <tr>\n",
       "      <th>25%</th>\n",
       "      <td>1.060000e+05</td>\n",
       "    </tr>\n",
       "    <tr>\n",
       "      <th>50%</th>\n",
       "      <td>1.499000e+05</td>\n",
       "    </tr>\n",
       "    <tr>\n",
       "      <th>75%</th>\n",
       "      <td>2.000000e+05</td>\n",
       "    </tr>\n",
       "    <tr>\n",
       "      <th>max</th>\n",
       "      <td>1.609000e+06</td>\n",
       "    </tr>\n",
       "    <tr>\n",
       "      <th>std</th>\n",
       "      <td>7.942079e+04</td>\n",
       "    </tr>\n",
       "  </tbody>\n",
       "</table>\n",
       "</div>"
      ],
      "text/plain": [
       "         Sale_price\n",
       "count  3.531600e+04\n",
       "mean   1.590013e+05\n",
       "min    3.500000e+03\n",
       "25%    1.060000e+05\n",
       "50%    1.499000e+05\n",
       "75%    2.000000e+05\n",
       "max    1.609000e+06\n",
       "std    7.942079e+04"
      ]
     },
     "execution_count": 88,
     "metadata": {},
     "output_type": "execute_result"
    }
   ],
   "source": [
    "#try to find outliers\n",
    "filtered_residential_properties_df.describe()[['Sale_price']]"
   ]
  },
  {
   "cell_type": "code",
   "execution_count": 89,
   "metadata": {},
   "outputs": [
    {
     "data": {
      "image/png": "[encoded data removed]",
      "text/plain": [
       "<Figure size 1000x600 with 1 Axes>"
      ]
     },
     "metadata": {},
     "output_type": "display_data"
    }
   ],
   "source": [
    "# Create the box plot\n",
    "plt.figure(figsize=(10, 6))\n",
    "sns.boxplot(x=filtered_residential_properties_df['Sale_price'])\n",
    "plt.title('Box Plot of Sale Prices')\n",
    "plt.xlabel('Sale Price')\n",
    "plt.show()"
   ]
  },
  {
   "cell_type": "code",
   "execution_count": 90,
   "metadata": {},
   "outputs": [
    {
     "name": "stdout",
     "output_type": "stream",
     "text": [
      "<class 'pandas.core.frame.DataFrame'>\n",
      "Index: 30467 entries, 79 to 56002\n",
      "Data columns (total 8 columns):\n",
      " #   Column        Non-Null Count  Dtype         \n",
      "---  ------        --------------  -----         \n",
      " 0   Style         30467 non-null  object        \n",
      " 1   Bdrms         30467 non-null  int32         \n",
      " 2   Baths_total   30467 non-null  int32         \n",
      " 3   FinishedSqft  30467 non-null  int32         \n",
      " 4   Sale_date     30467 non-null  datetime64[ns]\n",
      " 5   Year          30467 non-null  int32         \n",
      " 6   Month         30467 non-null  int32         \n",
      " 7   Sale_price    30467 non-null  int32         \n",
      "dtypes: datetime64[ns](1), int32(6), object(1)\n",
      "memory usage: 1.4+ MB\n"
     ]
    }
   ],
   "source": [
    "# Calculate Q1 (25th percentile) and Q3 (75th percentile)\n",
    "Q1 = filtered_residential_properties_df['Sale_price'].quantile(0.25)\n",
    "Q3 = filtered_residential_properties_df['Sale_price'].quantile(0.75)\n",
    "\n",
    "# Calculate the IQR (Interquartile Range)\n",
    "IQR = Q3 - Q1\n",
    "\n",
    "# Calculate the lower and upper bound\n",
    "lower_bound = Q1 - 1.5 * IQR\n",
    "upper_bound = Q3 + 1.5 * IQR\n",
    "\n",
    "# Filter out the outliers\n",
    "df_no_outliers = filtered_residential_properties_df[(filtered_residential_properties_df['Sale_price'] >= 80000) & (filtered_residential_properties_df['Sale_price'] <= 800000)]\n",
    "\n",
    "\n",
    "# Display the DataFrame without outliers\n",
    "df_no_outliers.info()"
   ]
  },
  {
   "cell_type": "code",
   "execution_count": 91,
   "metadata": {},
   "outputs": [
    {
     "name": "stdout",
     "output_type": "stream",
     "text": [
      "-35000.0\n",
      "341000.0\n",
      "                    Style  Bdrms  Baths_total  FinishedSqft  Sale_date  Year  \\\n",
      "37509  Milwaukee Bungalow      4            2          1414 2023-06-05  2023   \n",
      "25052  Milwaukee Bungalow      4            1          1430 2014-02-01  2014   \n",
      "37855          Duplex O/S      4            2          1869 2018-08-01  2018   \n",
      "37850            Colonial      3            1          1152 2018-04-01  2018   \n",
      "25224  Milwaukee Bungalow      5            2          1803 2022-10-31  2022   \n",
      "...                   ...    ...          ...           ...        ...   ...   \n",
      "12067            Colonial      4            4          2626 2022-03-09  2022   \n",
      "14430            Colonial      3            4          2122 2023-11-07  2023   \n",
      "10366               Tudor      5            4          2817 2023-06-16  2023   \n",
      "14717            Colonial      3            3          2389 2020-07-08  2020   \n",
      "23679            Colonial      4            3          2393 2022-08-05  2022   \n",
      "\n",
      "       Month  Sale_price  \n",
      "37509      6       80000  \n",
      "25052      2       80000  \n",
      "37855      8       80000  \n",
      "37850      4       80000  \n",
      "25224     10       80000  \n",
      "...      ...         ...  \n",
      "12067      3      751500  \n",
      "14430     11      757500  \n",
      "10366      6      759000  \n",
      "14717      7      775000  \n",
      "23679      8      795000  \n",
      "\n",
      "[30467 rows x 8 columns]\n"
     ]
    }
   ],
   "source": [
    "print(lower_bound)\n",
    "print(upper_bound)\n",
    "print(df_no_outliers.sort_values(['Sale_price']))"
   ]
  },
  {
   "cell_type": "code",
   "execution_count": 92,
   "metadata": {},
   "outputs": [
    {
     "data": {
      "image/png": "[encoded data removed]",
      "text/plain": [
       "<Figure size 1000x600 with 1 Axes>"
      ]
     },
     "metadata": {},
     "output_type": "display_data"
    }
   ],
   "source": [
    "# Create the box plot\n",
    "plt.figure(figsize=(10, 6))\n",
    "sns.boxplot(x=df_no_outliers['Sale_price'])\n",
    "plt.title('Box Plot of Sale Prices')\n",
    "plt.xlabel('Sale Price')\n",
    "plt.show()"
   ]
  },
  {
   "cell_type": "code",
   "execution_count": 93,
   "metadata": {},
   "outputs": [
    {
     "data": {
      "text/html": [
       "<div>\n",
       "<style scoped>\n",
       "    .dataframe tbody tr th:only-of-type {\n",
       "        vertical-align: middle;\n",
       "    }\n",
       "\n",
       "    .dataframe tbody tr th {\n",
       "        vertical-align: top;\n",
       "    }\n",
       "\n",
       "    .dataframe thead th {\n",
       "        text-align: right;\n",
       "    }\n",
       "</style>\n",
       "<table border=\"1\" class=\"dataframe\">\n",
       "  <thead>\n",
       "    <tr style=\"text-align: right;\">\n",
       "      <th></th>\n",
       "      <th>Sale_price</th>\n",
       "    </tr>\n",
       "  </thead>\n",
       "  <tbody>\n",
       "    <tr>\n",
       "      <th>count</th>\n",
       "      <td>30467.000000</td>\n",
       "    </tr>\n",
       "    <tr>\n",
       "      <th>mean</th>\n",
       "      <td>175465.860603</td>\n",
       "    </tr>\n",
       "    <tr>\n",
       "      <th>min</th>\n",
       "      <td>80000.000000</td>\n",
       "    </tr>\n",
       "    <tr>\n",
       "      <th>25%</th>\n",
       "      <td>125000.000000</td>\n",
       "    </tr>\n",
       "    <tr>\n",
       "      <th>50%</th>\n",
       "      <td>160000.000000</td>\n",
       "    </tr>\n",
       "    <tr>\n",
       "      <th>75%</th>\n",
       "      <td>210000.000000</td>\n",
       "    </tr>\n",
       "    <tr>\n",
       "      <th>max</th>\n",
       "      <td>795000.000000</td>\n",
       "    </tr>\n",
       "    <tr>\n",
       "      <th>std</th>\n",
       "      <td>71328.511343</td>\n",
       "    </tr>\n",
       "  </tbody>\n",
       "</table>\n",
       "</div>"
      ],
      "text/plain": [
       "          Sale_price\n",
       "count   30467.000000\n",
       "mean   175465.860603\n",
       "min     80000.000000\n",
       "25%    125000.000000\n",
       "50%    160000.000000\n",
       "75%    210000.000000\n",
       "max    795000.000000\n",
       "std     71328.511343"
      ]
     },
     "execution_count": 93,
     "metadata": {},
     "output_type": "execute_result"
    }
   ],
   "source": [
    "df_no_outliers.describe()[['Sale_price']]"
   ]
  },
  {
   "cell_type": "code",
   "execution_count": 94,
   "metadata": {},
   "outputs": [],
   "source": [
    "df_no_outliers.to_csv(\"Resources\\cleaned-property-sales-data_no-outliers2.csv\")"
   ]
  },
  {
   "cell_type": "code",
   "execution_count": null,
   "metadata": {},
   "outputs": [],
   "source": []
  }
 ],
 "metadata": {
  "anaconda-cloud": {},
  "kernelspec": {
   "display_name": "Python 3 (ipykernel)",
   "language": "python",
   "name": "python3"
  },
  "language_info": {
   "codemirror_mode": {
    "name": "ipython",
    "version": 3
   },
   "file_extension": ".py",
   "mimetype": "text/x-python",
   "name": "python",
   "nbconvert_exporter": "python",
   "pygments_lexer": "ipython3",
   "version": "3.11.5"
  }
 },
 "nbformat": 4,
 "nbformat_minor": 2
}
