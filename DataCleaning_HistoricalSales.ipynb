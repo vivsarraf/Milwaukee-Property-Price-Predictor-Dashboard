{
 "cells": [
  {
   "cell_type": "code",
   "execution_count": 74,
   "metadata": {},
   "outputs": [],
   "source": [
    "# Dependencies\n",
    "import pandas as pd\n",
    "from pathlib import Path\n",
    "from dateutil import parser\n",
    "from datetime import datetime\n",
    "import seaborn as sns\n",
    "import matplotlib.pyplot as plt\n",
    "\n",
    "import sklearn as skl\n",
    "\n",
    "from sklearn.model_selection import train_test_split\n",
    "from sklearn.preprocessing import StandardScaler\n",
    "\n",
    "from sklearn.decomposition import PCA"
   ]
  },
  {
   "cell_type": "code",
   "execution_count": 75,
   "metadata": {},
   "outputs": [],
   "source": [
    "# Store filepath in a variable\n",
    "file_one = Path(\"Resources\\historical-property-sales-data.csv\")"
   ]
  },
  {
   "cell_type": "code",
   "execution_count": 76,
   "metadata": {},
   "outputs": [
    {
     "data": {
      "text/html": [
       "<div>\n",
       "<style scoped>\n",
       "    .dataframe tbody tr th:only-of-type {\n",
       "        vertical-align: middle;\n",
       "    }\n",
       "\n",
       "    .dataframe tbody tr th {\n",
       "        vertical-align: top;\n",
       "    }\n",
       "\n",
       "    .dataframe thead th {\n",
       "        text-align: right;\n",
       "    }\n",
       "</style>\n",
       "<table border=\"1\" class=\"dataframe\">\n",
       "  <thead>\n",
       "    <tr style=\"text-align: right;\">\n",
       "      <th></th>\n",
       "      <th>ï»¿PropertyID</th>\n",
       "      <th>PropType</th>\n",
       "      <th>taxkey</th>\n",
       "      <th>Address</th>\n",
       "      <th>CondoProject</th>\n",
       "      <th>District</th>\n",
       "      <th>nbhd</th>\n",
       "      <th>Style</th>\n",
       "      <th>Extwall</th>\n",
       "      <th>Stories</th>\n",
       "      <th>Year_Built</th>\n",
       "      <th>Rooms</th>\n",
       "      <th>FinishedSqft</th>\n",
       "      <th>Units</th>\n",
       "      <th>Bdrms</th>\n",
       "      <th>Fbath</th>\n",
       "      <th>Hbath</th>\n",
       "      <th>Lotsize</th>\n",
       "      <th>Sale_date</th>\n",
       "      <th>Sale_price</th>\n",
       "    </tr>\n",
       "  </thead>\n",
       "  <tbody>\n",
       "    <tr>\n",
       "      <th>0</th>\n",
       "      <td>862416.0</td>\n",
       "      <td>Commercial</td>\n",
       "      <td>5370701000</td>\n",
       "      <td>115 W OKLAHOMA AV</td>\n",
       "      <td>NaN</td>\n",
       "      <td>14.0</td>\n",
       "      <td>6440.0</td>\n",
       "      <td>Fast Food Operation</td>\n",
       "      <td>Alum/Vynyl Siding</td>\n",
       "      <td>1.0</td>\n",
       "      <td>2000.0</td>\n",
       "      <td>NaN</td>\n",
       "      <td>3,229</td>\n",
       "      <td>1</td>\n",
       "      <td>NaN</td>\n",
       "      <td>0.0</td>\n",
       "      <td>0.0</td>\n",
       "      <td>1,703,065,320</td>\n",
       "      <td>12/23/2020</td>\n",
       "      <td>$2,150,000</td>\n",
       "    </tr>\n",
       "    <tr>\n",
       "      <th>1</th>\n",
       "      <td>862062.0</td>\n",
       "      <td>Commercial</td>\n",
       "      <td>6269997114</td>\n",
       "      <td>151 W LAYTON AV</td>\n",
       "      <td>NaN</td>\n",
       "      <td>13.0</td>\n",
       "      <td>6440.0</td>\n",
       "      <td>Fast Food Operation</td>\n",
       "      <td>Concrete Block</td>\n",
       "      <td>1.0</td>\n",
       "      <td>1968.0</td>\n",
       "      <td>NaN</td>\n",
       "      <td>1,980</td>\n",
       "      <td>1</td>\n",
       "      <td>NaN</td>\n",
       "      <td>0.0</td>\n",
       "      <td>0.0</td>\n",
       "      <td>457,380,000</td>\n",
       "      <td>12/23/2020</td>\n",
       "      <td>$1,200,000</td>\n",
       "    </tr>\n",
       "    <tr>\n",
       "      <th>2</th>\n",
       "      <td>870290.0</td>\n",
       "      <td>Commercial</td>\n",
       "      <td>330432000</td>\n",
       "      <td>9050-9100 N SWAN RD</td>\n",
       "      <td>NaN</td>\n",
       "      <td>9.0</td>\n",
       "      <td>6202.0</td>\n",
       "      <td>Day Care Center</td>\n",
       "      <td>NaN</td>\n",
       "      <td>1.0</td>\n",
       "      <td>2000.0</td>\n",
       "      <td>NaN</td>\n",
       "      <td>34,100</td>\n",
       "      <td>1</td>\n",
       "      <td>NaN</td>\n",
       "      <td>0.0</td>\n",
       "      <td>0.0</td>\n",
       "      <td>2,238,984</td>\n",
       "      <td>5/7/2021</td>\n",
       "      <td>$1,500,000</td>\n",
       "    </tr>\n",
       "    <tr>\n",
       "      <th>3</th>\n",
       "      <td>98508.0</td>\n",
       "      <td>Residential</td>\n",
       "      <td>49980110</td>\n",
       "      <td>9327 N SWAN RD</td>\n",
       "      <td>NaN</td>\n",
       "      <td>9.0</td>\n",
       "      <td>40.0</td>\n",
       "      <td>NaN</td>\n",
       "      <td>NaN</td>\n",
       "      <td>NaN</td>\n",
       "      <td>NaN</td>\n",
       "      <td>NaN</td>\n",
       "      <td>NaN</td>\n",
       "      <td>0</td>\n",
       "      <td>NaN</td>\n",
       "      <td>0.0</td>\n",
       "      <td>0.0</td>\n",
       "      <td>1341648</td>\n",
       "      <td>2022-01-07</td>\n",
       "      <td>800000</td>\n",
       "    </tr>\n",
       "    <tr>\n",
       "      <th>4</th>\n",
       "      <td>NaN</td>\n",
       "      <td>Vacant Land</td>\n",
       "      <td>369999400</td>\n",
       "      <td>9201R N 107TH ST</td>\n",
       "      <td>NaN</td>\n",
       "      <td>9.0</td>\n",
       "      <td>6411.0</td>\n",
       "      <td>Commercial Land</td>\n",
       "      <td>NaN</td>\n",
       "      <td>0.0</td>\n",
       "      <td>0.0</td>\n",
       "      <td>0.0</td>\n",
       "      <td>0</td>\n",
       "      <td>1</td>\n",
       "      <td>0.0</td>\n",
       "      <td>0.0</td>\n",
       "      <td>0.0</td>\n",
       "      <td>1090307</td>\n",
       "      <td>2015-11-01</td>\n",
       "      <td>790000</td>\n",
       "    </tr>\n",
       "  </tbody>\n",
       "</table>\n",
       "</div>"
      ],
      "text/plain": [
       "   ï»¿PropertyID     PropType      taxkey              Address CondoProject  \\\n",
       "0       862416.0   Commercial  5370701000    115 W OKLAHOMA AV          NaN   \n",
       "1       862062.0   Commercial  6269997114      151 W LAYTON AV          NaN   \n",
       "2       870290.0   Commercial   330432000  9050-9100 N SWAN RD          NaN   \n",
       "3        98508.0  Residential    49980110       9327 N SWAN RD          NaN   \n",
       "4            NaN  Vacant Land   369999400     9201R N 107TH ST          NaN   \n",
       "\n",
       "   District    nbhd                Style            Extwall  Stories  \\\n",
       "0      14.0  6440.0  Fast Food Operation  Alum/Vynyl Siding      1.0   \n",
       "1      13.0  6440.0  Fast Food Operation     Concrete Block      1.0   \n",
       "2       9.0  6202.0      Day Care Center                NaN      1.0   \n",
       "3       9.0    40.0                  NaN                NaN      NaN   \n",
       "4       9.0  6411.0      Commercial Land                NaN      0.0   \n",
       "\n",
       "   Year_Built  Rooms FinishedSqft  Units  Bdrms  Fbath  Hbath        Lotsize  \\\n",
       "0      2000.0    NaN        3,229      1    NaN    0.0    0.0  1,703,065,320   \n",
       "1      1968.0    NaN        1,980      1    NaN    0.0    0.0    457,380,000   \n",
       "2      2000.0    NaN       34,100      1    NaN    0.0    0.0      2,238,984   \n",
       "3         NaN    NaN          NaN      0    NaN    0.0    0.0        1341648   \n",
       "4         0.0    0.0            0      1    0.0    0.0    0.0        1090307   \n",
       "\n",
       "    Sale_date  Sale_price  \n",
       "0  12/23/2020  $2,150,000  \n",
       "1  12/23/2020  $1,200,000  \n",
       "2    5/7/2021  $1,500,000  \n",
       "3  2022-01-07      800000  \n",
       "4  2015-11-01      790000  "
      ]
     },
     "execution_count": 76,
     "metadata": {},
     "output_type": "execute_result"
    }
   ],
   "source": [
    "# Read our data file with the Pandas library\n",
    "# Not every CSV requires an encoding, but be aware this can come up\n",
    "properties_original_df = pd.read_csv(file_one, encoding=\"ISO-8859-1\")\n",
    "properties_original_df.head()"
   ]
  },
  {
   "cell_type": "code",
   "execution_count": 77,
   "metadata": {},
   "outputs": [
    {
     "data": {
      "text/plain": [
       "Index(['ï»¿PropertyID', 'PropType', 'taxkey', 'Address', 'CondoProject',\n",
       "       'District', 'nbhd', 'Style', 'Extwall', 'Stories', 'Year_Built',\n",
       "       'Rooms', 'FinishedSqft', 'Units', 'Bdrms', 'Fbath', 'Hbath', 'Lotsize',\n",
       "       'Sale_date', 'Sale_price'],\n",
       "      dtype='object')"
      ]
     },
     "execution_count": 77,
     "metadata": {},
     "output_type": "execute_result"
    }
   ],
   "source": [
    "properties_original_df.columns"
   ]
  },
  {
   "cell_type": "code",
   "execution_count": 78,
   "metadata": {},
   "outputs": [
    {
     "name": "stdout",
     "output_type": "stream",
     "text": [
      "<class 'pandas.core.frame.DataFrame'>\n",
      "RangeIndex: 56048 entries, 0 to 56047\n",
      "Data columns (total 20 columns):\n",
      " #   Column         Non-Null Count  Dtype  \n",
      "---  ------         --------------  -----  \n",
      " 0   ï»¿PropertyID  32048 non-null  float64\n",
      " 1   PropType       56040 non-null  object \n",
      " 2   taxkey         56048 non-null  int64  \n",
      " 3   Address        56044 non-null  object \n",
      " 4   CondoProject   9142 non-null   object \n",
      " 5   District       56046 non-null  float64\n",
      " 6   nbhd           55991 non-null  float64\n",
      " 7   Style          55957 non-null  object \n",
      " 8   Extwall        45621 non-null  object \n",
      " 9   Stories        55879 non-null  float64\n",
      " 10  Year_Built     55987 non-null  float64\n",
      " 11  Rooms          54418 non-null  float64\n",
      " 12  FinishedSqft   55947 non-null  object \n",
      " 13  Units          56048 non-null  int64  \n",
      " 14  Bdrms          54419 non-null  float64\n",
      " 15  Fbath          55393 non-null  float64\n",
      " 16  Hbath          51208 non-null  float64\n",
      " 17  Lotsize        56048 non-null  object \n",
      " 18  Sale_date      56048 non-null  object \n",
      " 19  Sale_price     56038 non-null  object \n",
      "dtypes: float64(9), int64(2), object(9)\n",
      "memory usage: 8.6+ MB\n"
     ]
    }
   ],
   "source": [
    "properties_original_df.info()"
   ]
  },
  {
   "cell_type": "code",
   "execution_count": 79,
   "metadata": {},
   "outputs": [
    {
     "data": {
      "text/plain": [
       "Style             87\n",
       "FinishedSqft      90\n",
       "Bdrms            128\n",
       "Fbath             10\n",
       "Hbath           3610\n",
       "Lotsize            0\n",
       "Sale_date          0\n",
       "Sale_price         8\n",
       "dtype: int64"
      ]
     },
     "execution_count": 79,
     "metadata": {},
     "output_type": "execute_result"
    }
   ],
   "source": [
    "#getting only 'Residential' values\n",
    "residential_properties_df = properties_original_df.loc[properties_original_df[\"PropType\"] == 'Residential']\n",
    "residential_properties_df = residential_properties_df.drop(columns=['CondoProject', 'ï»¿PropertyID','PropType','District','Extwall','nbhd','Stories','taxkey','Address','Rooms','Year_Built','Units'], axis=1)\n",
    "residential_properties_df.isnull().sum()"
   ]
  },
  {
   "cell_type": "code",
   "execution_count": 80,
   "metadata": {},
   "outputs": [
    {
     "data": {
      "text/html": [
       "<div>\n",
       "<style scoped>\n",
       "    .dataframe tbody tr th:only-of-type {\n",
       "        vertical-align: middle;\n",
       "    }\n",
       "\n",
       "    .dataframe tbody tr th {\n",
       "        vertical-align: top;\n",
       "    }\n",
       "\n",
       "    .dataframe thead th {\n",
       "        text-align: right;\n",
       "    }\n",
       "</style>\n",
       "<table border=\"1\" class=\"dataframe\">\n",
       "  <thead>\n",
       "    <tr style=\"text-align: right;\">\n",
       "      <th></th>\n",
       "      <th>FinishedSqft</th>\n",
       "      <th>Bdrms</th>\n",
       "      <th>Fbath</th>\n",
       "      <th>Hbath</th>\n",
       "      <th>Lotsize</th>\n",
       "      <th>Sale_date</th>\n",
       "      <th>Sale_price</th>\n",
       "    </tr>\n",
       "  </thead>\n",
       "  <tbody>\n",
       "    <tr>\n",
       "      <th>80</th>\n",
       "      <td>3328</td>\n",
       "      <td>3.0</td>\n",
       "      <td>3.0</td>\n",
       "      <td>1.0</td>\n",
       "      <td>219978</td>\n",
       "      <td>2022-08-18</td>\n",
       "      <td>2500000</td>\n",
       "    </tr>\n",
       "    <tr>\n",
       "      <th>81</th>\n",
       "      <td>3328</td>\n",
       "      <td>3.0</td>\n",
       "      <td>3.0</td>\n",
       "      <td>1.0</td>\n",
       "      <td>219978</td>\n",
       "      <td>2017-08-01</td>\n",
       "      <td>1391000</td>\n",
       "    </tr>\n",
       "    <tr>\n",
       "      <th>83</th>\n",
       "      <td>1120</td>\n",
       "      <td>2.0</td>\n",
       "      <td>1.0</td>\n",
       "      <td>NaN</td>\n",
       "      <td>218163</td>\n",
       "      <td>6/24/2019</td>\n",
       "      <td>167500</td>\n",
       "    </tr>\n",
       "    <tr>\n",
       "      <th>144</th>\n",
       "      <td>2,200</td>\n",
       "      <td>4.0</td>\n",
       "      <td>2.0</td>\n",
       "      <td>0.0</td>\n",
       "      <td>128,502</td>\n",
       "      <td>11/23/2021</td>\n",
       "      <td>$336,000</td>\n",
       "    </tr>\n",
       "    <tr>\n",
       "      <th>179</th>\n",
       "      <td>1,125</td>\n",
       "      <td>2.0</td>\n",
       "      <td>1.0</td>\n",
       "      <td>1.0</td>\n",
       "      <td>101,059</td>\n",
       "      <td>10/8/2021</td>\n",
       "      <td>$250,000</td>\n",
       "    </tr>\n",
       "    <tr>\n",
       "      <th>...</th>\n",
       "      <td>...</td>\n",
       "      <td>...</td>\n",
       "      <td>...</td>\n",
       "      <td>...</td>\n",
       "      <td>...</td>\n",
       "      <td>...</td>\n",
       "      <td>...</td>\n",
       "    </tr>\n",
       "    <tr>\n",
       "      <th>55938</th>\n",
       "      <td>907</td>\n",
       "      <td>3.0</td>\n",
       "      <td>1.0</td>\n",
       "      <td>0.0</td>\n",
       "      <td>0</td>\n",
       "      <td>2018-11-01</td>\n",
       "      <td>51100</td>\n",
       "    </tr>\n",
       "    <tr>\n",
       "      <th>56000</th>\n",
       "      <td>1438</td>\n",
       "      <td>2.0</td>\n",
       "      <td>2.0</td>\n",
       "      <td>0.0</td>\n",
       "      <td>0</td>\n",
       "      <td>2018-12-01</td>\n",
       "      <td>198000</td>\n",
       "    </tr>\n",
       "    <tr>\n",
       "      <th>56001</th>\n",
       "      <td>2310</td>\n",
       "      <td>4.0</td>\n",
       "      <td>2.0</td>\n",
       "      <td>0.0</td>\n",
       "      <td>0</td>\n",
       "      <td>2018-12-01</td>\n",
       "      <td>180000</td>\n",
       "    </tr>\n",
       "    <tr>\n",
       "      <th>56002</th>\n",
       "      <td>560</td>\n",
       "      <td>3.0</td>\n",
       "      <td>1.0</td>\n",
       "      <td>0.0</td>\n",
       "      <td>0</td>\n",
       "      <td>2018-12-01</td>\n",
       "      <td>103000</td>\n",
       "    </tr>\n",
       "    <tr>\n",
       "      <th>56003</th>\n",
       "      <td>504</td>\n",
       "      <td>1.0</td>\n",
       "      <td>0.0</td>\n",
       "      <td>0.0</td>\n",
       "      <td>0</td>\n",
       "      <td>2018-12-01</td>\n",
       "      <td>105000</td>\n",
       "    </tr>\n",
       "  </tbody>\n",
       "</table>\n",
       "<p>26800 rows × 7 columns</p>\n",
       "</div>"
      ],
      "text/plain": [
       "      FinishedSqft  Bdrms  Fbath  Hbath  Lotsize   Sale_date Sale_price\n",
       "80            3328    3.0    3.0    1.0   219978  2022-08-18    2500000\n",
       "81            3328    3.0    3.0    1.0   219978  2017-08-01    1391000\n",
       "83            1120    2.0    1.0    NaN   218163   6/24/2019     167500\n",
       "144          2,200    4.0    2.0    0.0  128,502  11/23/2021   $336,000\n",
       "179          1,125    2.0    1.0    1.0  101,059   10/8/2021   $250,000\n",
       "...            ...    ...    ...    ...      ...         ...        ...\n",
       "55938          907    3.0    1.0    0.0        0  2018-11-01      51100\n",
       "56000         1438    2.0    2.0    0.0        0  2018-12-01     198000\n",
       "56001         2310    4.0    2.0    0.0        0  2018-12-01     180000\n",
       "56002          560    3.0    1.0    0.0        0  2018-12-01     103000\n",
       "56003          504    1.0    0.0    0.0        0  2018-12-01     105000\n",
       "\n",
       "[26800 rows x 7 columns]"
      ]
     },
     "execution_count": 80,
     "metadata": {},
     "output_type": "execute_result"
    }
   ],
   "source": [
    "styles_list = ['Cape Cod','Colonial','Bi-Level','Duplex N/S','Townhouse','Dplx Bungalow','Milwaukee Bungalow','Split Level','Res O/S A & 1/2','Res O/S 2sty +','Res O/S 1 Story','Duplex O/S','Triplex','Tudor','Contemporary','Mansion','Rm or Rooming House']\n",
    "filtered_residential_properties_df = residential_properties_df[residential_properties_df['Style'].isin(styles_list)]\n",
    "filtered_residential_properties_df = filtered_residential_properties_df.drop('Style', axis=1)\n",
    "filtered_residential_properties_df"
   ]
  },
  {
   "cell_type": "code",
   "execution_count": 81,
   "metadata": {},
   "outputs": [
    {
     "name": "stdout",
     "output_type": "stream",
     "text": [
      "<class 'pandas.core.frame.DataFrame'>\n",
      "Index: 26800 entries, 80 to 56003\n",
      "Data columns (total 7 columns):\n",
      " #   Column        Non-Null Count  Dtype  \n",
      "---  ------        --------------  -----  \n",
      " 0   FinishedSqft  26800 non-null  object \n",
      " 1   Bdrms         26769 non-null  float64\n",
      " 2   Fbath         26796 non-null  float64\n",
      " 3   Hbath         24705 non-null  float64\n",
      " 4   Lotsize       26800 non-null  object \n",
      " 5   Sale_date     26800 non-null  object \n",
      " 6   Sale_price    26795 non-null  object \n",
      "dtypes: float64(3), object(4)\n",
      "memory usage: 1.6+ MB\n"
     ]
    }
   ],
   "source": [
    "#check datatype of each column\n",
    "filtered_residential_properties_df.info()"
   ]
  },
  {
   "cell_type": "code",
   "execution_count": 82,
   "metadata": {},
   "outputs": [
    {
     "name": "stdout",
     "output_type": "stream",
     "text": [
      "<class 'pandas.core.frame.DataFrame'>\n",
      "Index: 26800 entries, 80 to 56003\n",
      "Data columns (total 6 columns):\n",
      " #   Column        Non-Null Count  Dtype  \n",
      "---  ------        --------------  -----  \n",
      " 0   FinishedSqft  26800 non-null  object \n",
      " 1   Bdrms         26769 non-null  float64\n",
      " 2   Lotsize       26800 non-null  object \n",
      " 3   Sale_date     26800 non-null  object \n",
      " 4   Sale_price    26795 non-null  object \n",
      " 5   Baths_total   24703 non-null  float64\n",
      "dtypes: float64(2), object(4)\n",
      "memory usage: 1.4+ MB\n"
     ]
    }
   ],
   "source": [
    "filtered_residential_properties_df['Baths_total'] = filtered_residential_properties_df['Fbath'] + filtered_residential_properties_df['Hbath']\n",
    "filtered_residential_properties_df = filtered_residential_properties_df.drop(columns=['Fbath','Hbath'], axis=1)\n",
    "filtered_residential_properties_df.info()"
   ]
  },
  {
   "cell_type": "code",
   "execution_count": 83,
   "metadata": {},
   "outputs": [
    {
     "name": "stdout",
     "output_type": "stream",
     "text": [
      "<class 'pandas.core.frame.DataFrame'>\n",
      "Index: 26800 entries, 80 to 56003\n",
      "Data columns (total 8 columns):\n",
      " #   Column        Non-Null Count  Dtype         \n",
      "---  ------        --------------  -----         \n",
      " 0   FinishedSqft  26800 non-null  object        \n",
      " 1   Bdrms         26769 non-null  float64       \n",
      " 2   Lotsize       26800 non-null  object        \n",
      " 3   Sale_date     26800 non-null  datetime64[ns]\n",
      " 4   Sale_price    26795 non-null  object        \n",
      " 5   Baths_total   24703 non-null  float64       \n",
      " 6   Year          26800 non-null  int32         \n",
      " 7   Month         26800 non-null  int32         \n",
      "dtypes: datetime64[ns](1), float64(2), int32(2), object(3)\n",
      "memory usage: 1.6+ MB\n"
     ]
    },
    {
     "name": "stderr",
     "output_type": "stream",
     "text": [
      "C:\\Users\\Ajunjee Selvam\\AppData\\Local\\Temp\\ipykernel_12856\\3724813437.py:1: UserWarning: The argument 'infer_datetime_format' is deprecated and will be removed in a future version. A strict version of it is now the default, see https://pandas.pydata.org/pdeps/0004-consistent-to-datetime-parsing.html. You can safely remove this argument.\n",
      "  filtered_residential_properties_df['Sale_date'] = pd.to_datetime(filtered_residential_properties_df['Sale_date'], infer_datetime_format=True, format='mixed')\n"
     ]
    }
   ],
   "source": [
    "filtered_residential_properties_df['Sale_date'] = pd.to_datetime(filtered_residential_properties_df['Sale_date'], infer_datetime_format=True, format='mixed')\n",
    "filtered_residential_properties_df['Year'] = filtered_residential_properties_df['Sale_date'].dt.year\n",
    "filtered_residential_properties_df['Month'] = filtered_residential_properties_df['Sale_date'].dt.month\n",
    "filtered_residential_properties_df.info()"
   ]
  },
  {
   "cell_type": "code",
   "execution_count": 84,
   "metadata": {},
   "outputs": [
    {
     "data": {
      "text/plain": [
       "FinishedSqft    0\n",
       "Bdrms           0\n",
       "Lotsize         0\n",
       "Sale_date       0\n",
       "Sale_price      0\n",
       "Baths_total     0\n",
       "Year            0\n",
       "Month           0\n",
       "dtype: int64"
      ]
     },
     "execution_count": 84,
     "metadata": {},
     "output_type": "execute_result"
    }
   ],
   "source": [
    "filtered_residential_properties_df=filtered_residential_properties_df.dropna(subset=['Bdrms','Baths_total','Lotsize'])\n",
    "filtered_residential_properties_df.isnull().sum()"
   ]
  },
  {
   "cell_type": "code",
   "execution_count": 85,
   "metadata": {},
   "outputs": [],
   "source": [
    "filtered_residential_properties_df['Sale_price'] = filtered_residential_properties_df['Sale_price'].astype(str)\n",
    "filtered_residential_properties_df['Sale_price'] = filtered_residential_properties_df['Sale_price'].str.replace('$', '')\n",
    "filtered_residential_properties_df['Sale_price'] = filtered_residential_properties_df['Sale_price'].str.replace(',', '')\n",
    "filtered_residential_properties_df['Sale_price'] = pd.to_numeric(filtered_residential_properties_df['Sale_price']).astype(int)\n",
    "\n",
    "filtered_residential_properties_df['Bdrms'] = pd.to_numeric(filtered_residential_properties_df['Bdrms']).astype(int)\n",
    "filtered_residential_properties_df['Baths_total'] = pd.to_numeric(filtered_residential_properties_df['Baths_total']).astype(int)\n",
    "\n",
    "\n",
    "filtered_residential_properties_df['FinishedSqft'] = filtered_residential_properties_df['FinishedSqft'].str.replace(',', '')\n",
    "filtered_residential_properties_df['FinishedSqft'] = pd.to_numeric(filtered_residential_properties_df['FinishedSqft']).astype(int, errors='ignore')\n",
    "\n",
    "filtered_residential_properties_df['Lotsize'] = filtered_residential_properties_df['Lotsize'].str.replace(',', '')\n",
    "filtered_residential_properties_df['Lotsize'] = pd.to_numeric(filtered_residential_properties_df['Lotsize']).astype(int, errors='ignore')"
   ]
  },
  {
   "cell_type": "code",
   "execution_count": 86,
   "metadata": {},
   "outputs": [
    {
     "data": {
      "text/plain": [
       "FinishedSqft    0\n",
       "Bdrms           0\n",
       "Lotsize         0\n",
       "Sale_date       0\n",
       "Sale_price      0\n",
       "Baths_total     0\n",
       "Year            0\n",
       "Month           0\n",
       "dtype: int64"
      ]
     },
     "execution_count": 86,
     "metadata": {},
     "output_type": "execute_result"
    }
   ],
   "source": [
    "filtered_residential_properties_df.isnull().sum()"
   ]
  },
  {
   "cell_type": "code",
   "execution_count": 87,
   "metadata": {},
   "outputs": [
    {
     "data": {
      "text/plain": [
       "FinishedSqft    0\n",
       "Bdrms           0\n",
       "Lotsize         0\n",
       "Sale_date       0\n",
       "Sale_price      0\n",
       "Baths_total     0\n",
       "Year            0\n",
       "Month           0\n",
       "dtype: int64"
      ]
     },
     "execution_count": 87,
     "metadata": {},
     "output_type": "execute_result"
    }
   ],
   "source": [
    "filtered_residential_properties_df=filtered_residential_properties_df.dropna(subset=['FinishedSqft','Lotsize'])\n",
    "filtered_residential_properties_df = filtered_residential_properties_df.drop(filtered_residential_properties_df[(filtered_residential_properties_df['Bdrms'] == 0) | (filtered_residential_properties_df['Baths_total'] == 0) | (filtered_residential_properties_df['Lotsize'] == 0) | (filtered_residential_properties_df['Sale_price'] == 0)].index)\n",
    "filtered_residential_properties_df.isnull().sum()"
   ]
  },
  {
   "cell_type": "code",
   "execution_count": 88,
   "metadata": {},
   "outputs": [
    {
     "name": "stdout",
     "output_type": "stream",
     "text": [
      "<class 'pandas.core.frame.DataFrame'>\n",
      "Index: 24519 entries, 80 to 47247\n",
      "Data columns (total 8 columns):\n",
      " #   Column        Non-Null Count  Dtype         \n",
      "---  ------        --------------  -----         \n",
      " 0   Bdrms         24519 non-null  int32         \n",
      " 1   Baths_total   24519 non-null  int32         \n",
      " 2   FinishedSqft  24519 non-null  int32         \n",
      " 3   Lotsize       24519 non-null  int32         \n",
      " 4   Sale_date     24519 non-null  datetime64[ns]\n",
      " 5   Year          24519 non-null  int32         \n",
      " 6   Month         24519 non-null  int32         \n",
      " 7   Sale_price    24519 non-null  int32         \n",
      "dtypes: datetime64[ns](1), int32(7)\n",
      "memory usage: 1.0 MB\n"
     ]
    }
   ],
   "source": [
    "filtered_residential_properties_df['FinishedSqft'] = pd.to_numeric(filtered_residential_properties_df['FinishedSqft']).astype(int)\n",
    "filtered_residential_properties_df['Lotsize'] = pd.to_numeric(filtered_residential_properties_df['Lotsize']).astype(int)\n",
    "filtered_residential_properties_df = filtered_residential_properties_df[['Bdrms','Baths_total', 'FinishedSqft', 'Lotsize', 'Sale_date','Year', 'Month', 'Sale_price']]\n",
    "filtered_residential_properties_df.info()"
   ]
  },
  {
   "cell_type": "code",
   "execution_count": 89,
   "metadata": {},
   "outputs": [
    {
     "data": {
      "text/html": [
       "<div>\n",
       "<style scoped>\n",
       "    .dataframe tbody tr th:only-of-type {\n",
       "        vertical-align: middle;\n",
       "    }\n",
       "\n",
       "    .dataframe tbody tr th {\n",
       "        vertical-align: top;\n",
       "    }\n",
       "\n",
       "    .dataframe thead th {\n",
       "        text-align: right;\n",
       "    }\n",
       "</style>\n",
       "<table border=\"1\" class=\"dataframe\">\n",
       "  <thead>\n",
       "    <tr style=\"text-align: right;\">\n",
       "      <th></th>\n",
       "      <th>Bdrms</th>\n",
       "      <th>Baths_total</th>\n",
       "      <th>FinishedSqft</th>\n",
       "      <th>Lotsize</th>\n",
       "      <th>Sale_date</th>\n",
       "      <th>Year</th>\n",
       "      <th>Month</th>\n",
       "      <th>Sale_price</th>\n",
       "    </tr>\n",
       "  </thead>\n",
       "  <tbody>\n",
       "    <tr>\n",
       "      <th>80</th>\n",
       "      <td>3</td>\n",
       "      <td>4</td>\n",
       "      <td>3328</td>\n",
       "      <td>219978</td>\n",
       "      <td>2022-08-18</td>\n",
       "      <td>2022</td>\n",
       "      <td>8</td>\n",
       "      <td>2500000</td>\n",
       "    </tr>\n",
       "    <tr>\n",
       "      <th>81</th>\n",
       "      <td>3</td>\n",
       "      <td>4</td>\n",
       "      <td>3328</td>\n",
       "      <td>219978</td>\n",
       "      <td>2017-08-01</td>\n",
       "      <td>2017</td>\n",
       "      <td>8</td>\n",
       "      <td>1391000</td>\n",
       "    </tr>\n",
       "    <tr>\n",
       "      <th>144</th>\n",
       "      <td>4</td>\n",
       "      <td>2</td>\n",
       "      <td>2200</td>\n",
       "      <td>128502</td>\n",
       "      <td>2021-11-23</td>\n",
       "      <td>2021</td>\n",
       "      <td>11</td>\n",
       "      <td>336000</td>\n",
       "    </tr>\n",
       "    <tr>\n",
       "      <th>179</th>\n",
       "      <td>2</td>\n",
       "      <td>2</td>\n",
       "      <td>1125</td>\n",
       "      <td>101059</td>\n",
       "      <td>2021-10-08</td>\n",
       "      <td>2021</td>\n",
       "      <td>10</td>\n",
       "      <td>250000</td>\n",
       "    </tr>\n",
       "    <tr>\n",
       "      <th>191</th>\n",
       "      <td>4</td>\n",
       "      <td>1</td>\n",
       "      <td>1471</td>\n",
       "      <td>95832</td>\n",
       "      <td>2022-08-12</td>\n",
       "      <td>2022</td>\n",
       "      <td>8</td>\n",
       "      <td>274900</td>\n",
       "    </tr>\n",
       "  </tbody>\n",
       "</table>\n",
       "</div>"
      ],
      "text/plain": [
       "     Bdrms  Baths_total  FinishedSqft  Lotsize  Sale_date  Year  Month  \\\n",
       "80       3            4          3328   219978 2022-08-18  2022      8   \n",
       "81       3            4          3328   219978 2017-08-01  2017      8   \n",
       "144      4            2          2200   128502 2021-11-23  2021     11   \n",
       "179      2            2          1125   101059 2021-10-08  2021     10   \n",
       "191      4            1          1471    95832 2022-08-12  2022      8   \n",
       "\n",
       "     Sale_price  \n",
       "80      2500000  \n",
       "81      1391000  \n",
       "144      336000  \n",
       "179      250000  \n",
       "191      274900  "
      ]
     },
     "execution_count": 89,
     "metadata": {},
     "output_type": "execute_result"
    }
   ],
   "source": [
    "# replace '$' sign from some Sale_price values\n",
    "filtered_residential_properties_df=filtered_residential_properties_df.dropna(subset=['Sale_price'])\n",
    "\n",
    "filtered_residential_properties_df['Sale_price'] = filtered_residential_properties_df['Sale_price'].astype(str)\n",
    "filtered_residential_properties_df['Sale_price'] = filtered_residential_properties_df['Sale_price'].str.replace('$', '')\n",
    "filtered_residential_properties_df['Sale_price'] = filtered_residential_properties_df['Sale_price'].str.replace(',', '')\n",
    "filtered_residential_properties_df['Sale_price'] = pd.to_numeric(filtered_residential_properties_df['Sale_price']).astype(int)\n",
    "filtered_residential_properties_df.head()"
   ]
  },
  {
   "cell_type": "code",
   "execution_count": 90,
   "metadata": {},
   "outputs": [],
   "source": [
    "filtered_residential_properties_df.to_csv(\"Resources\\cleaned-property-sales-data.csv\", encoding='utf-8',index=False)"
   ]
  },
  {
   "cell_type": "markdown",
   "metadata": {},
   "source": [
    "REMOVING UPPER RANGE DUE TO HIGH PRICE PREDICTIONS"
   ]
  },
  {
   "cell_type": "code",
   "execution_count": 91,
   "metadata": {},
   "outputs": [
    {
     "data": {
      "text/html": [
       "<div>\n",
       "<style scoped>\n",
       "    .dataframe tbody tr th:only-of-type {\n",
       "        vertical-align: middle;\n",
       "    }\n",
       "\n",
       "    .dataframe tbody tr th {\n",
       "        vertical-align: top;\n",
       "    }\n",
       "\n",
       "    .dataframe thead th {\n",
       "        text-align: right;\n",
       "    }\n",
       "</style>\n",
       "<table border=\"1\" class=\"dataframe\">\n",
       "  <thead>\n",
       "    <tr style=\"text-align: right;\">\n",
       "      <th></th>\n",
       "      <th>Sale_price</th>\n",
       "    </tr>\n",
       "  </thead>\n",
       "  <tbody>\n",
       "    <tr>\n",
       "      <th>count</th>\n",
       "      <td>2.451900e+04</td>\n",
       "    </tr>\n",
       "    <tr>\n",
       "      <th>mean</th>\n",
       "      <td>1.738504e+05</td>\n",
       "    </tr>\n",
       "    <tr>\n",
       "      <th>min</th>\n",
       "      <td>3.900000e+03</td>\n",
       "    </tr>\n",
       "    <tr>\n",
       "      <th>25%</th>\n",
       "      <td>1.100000e+05</td>\n",
       "    </tr>\n",
       "    <tr>\n",
       "      <th>50%</th>\n",
       "      <td>1.560000e+05</td>\n",
       "    </tr>\n",
       "    <tr>\n",
       "      <th>75%</th>\n",
       "      <td>2.170000e+05</td>\n",
       "    </tr>\n",
       "    <tr>\n",
       "      <th>max</th>\n",
       "      <td>2.500000e+06</td>\n",
       "    </tr>\n",
       "    <tr>\n",
       "      <th>std</th>\n",
       "      <td>1.100793e+05</td>\n",
       "    </tr>\n",
       "  </tbody>\n",
       "</table>\n",
       "</div>"
      ],
      "text/plain": [
       "         Sale_price\n",
       "count  2.451900e+04\n",
       "mean   1.738504e+05\n",
       "min    3.900000e+03\n",
       "25%    1.100000e+05\n",
       "50%    1.560000e+05\n",
       "75%    2.170000e+05\n",
       "max    2.500000e+06\n",
       "std    1.100793e+05"
      ]
     },
     "execution_count": 91,
     "metadata": {},
     "output_type": "execute_result"
    }
   ],
   "source": [
    "#try to find outliers\n",
    "filtered_residential_properties_df.describe()[['Sale_price']]"
   ]
  },
  {
   "cell_type": "code",
   "execution_count": 92,
   "metadata": {},
   "outputs": [
    {
     "data": {
      "image/png": "[encoded data removed]",
      "text/plain": [
       "<Figure size 1000x600 with 1 Axes>"
      ]
     },
     "metadata": {},
     "output_type": "display_data"
    }
   ],
   "source": [
    "# Create the box plot\n",
    "plt.figure(figsize=(10, 6))\n",
    "sns.boxplot(x=filtered_residential_properties_df['Sale_price'])\n",
    "plt.title('Box Plot of Sale Prices')\n",
    "plt.xlabel('Sale Price')\n",
    "plt.show()"
   ]
  },
  {
   "cell_type": "code",
   "execution_count": 93,
   "metadata": {},
   "outputs": [
    {
     "name": "stdout",
     "output_type": "stream",
     "text": [
      "<class 'pandas.core.frame.DataFrame'>\n",
      "Index: 22539 entries, 144 to 47247\n",
      "Data columns (total 8 columns):\n",
      " #   Column        Non-Null Count  Dtype         \n",
      "---  ------        --------------  -----         \n",
      " 0   Bdrms         22539 non-null  int32         \n",
      " 1   Baths_total   22539 non-null  int32         \n",
      " 2   FinishedSqft  22539 non-null  int32         \n",
      " 3   Lotsize       22539 non-null  int32         \n",
      " 4   Sale_date     22539 non-null  datetime64[ns]\n",
      " 5   Year          22539 non-null  int32         \n",
      " 6   Month         22539 non-null  int32         \n",
      " 7   Sale_price    22539 non-null  int32         \n",
      "dtypes: datetime64[ns](1), int32(7)\n",
      "memory usage: 968.5 KB\n"
     ]
    }
   ],
   "source": [
    "# Calculate Q1 (25th percentile) and Q3 (75th percentile)\n",
    "Q1 = filtered_residential_properties_df['Sale_price'].quantile(0.25)\n",
    "Q3 = filtered_residential_properties_df['Sale_price'].quantile(0.75)\n",
    "\n",
    "# Calculate the IQR (Interquartile Range)\n",
    "IQR = Q3 - Q1\n",
    "\n",
    "# Calculate the lower and upper bound\n",
    "lower_bound = Q1 - 1.5 * IQR\n",
    "upper_bound = Q3 + 1.5 * IQR\n",
    "\n",
    "# Filter out the outliers\n",
    "df_no_outliers = filtered_residential_properties_df[(filtered_residential_properties_df['Sale_price'] >= 50000) & (filtered_residential_properties_df['Sale_price'] <= upper_bound)]\n",
    "\n",
    "\n",
    "# Display the DataFrame without outliers\n",
    "df_no_outliers.info()"
   ]
  },
  {
   "cell_type": "code",
   "execution_count": 94,
   "metadata": {},
   "outputs": [
    {
     "name": "stdout",
     "output_type": "stream",
     "text": [
      "-50500.0\n",
      "377500.0\n",
      "       Bdrms  Baths_total  FinishedSqft  Lotsize  Sale_date  Year  Month  \\\n",
      "32934      4            1          1679     4800 2020-03-16  2020      3   \n",
      "40565      4            2          1321     3750 2023-05-30  2023      5   \n",
      "40573      5            2          2232     3750 2023-01-31  2023      1   \n",
      "25918      2            2          1195     5208 2023-07-10  2023      7   \n",
      "40577      5            2          2226     3750 2023-04-17  2023      4   \n",
      "...      ...          ...           ...      ...        ...   ...    ...   \n",
      "33088      5            3          2744     4800 2020-11-30  2020     11   \n",
      "1689       4            3          2356    15756 2023-05-19  2023      5   \n",
      "5821       4            3          2210     9126 2023-06-30  2023      6   \n",
      "30495      4            2          3073     4920 2016-06-01  2016      6   \n",
      "30795      5            3          3369     4895 2021-06-14  2021      6   \n",
      "\n",
      "       Sale_price  \n",
      "32934       50000  \n",
      "40565       50000  \n",
      "40573       50000  \n",
      "25918       50000  \n",
      "40577       50000  \n",
      "...           ...  \n",
      "33088      377000  \n",
      "1689       377400  \n",
      "5821       377500  \n",
      "30495      377500  \n",
      "30795      377500  \n",
      "\n",
      "[22539 rows x 8 columns]\n"
     ]
    }
   ],
   "source": [
    "print(lower_bound)\n",
    "print(upper_bound)\n",
    "print(df_no_outliers.sort_values(['Sale_price']))"
   ]
  },
  {
   "cell_type": "code",
   "execution_count": 95,
   "metadata": {},
   "outputs": [
    {
     "data": {
      "image/png": "[encoded data removed]",
      "text/plain": [
       "<Figure size 1000x600 with 1 Axes>"
      ]
     },
     "metadata": {},
     "output_type": "display_data"
    }
   ],
   "source": [
    "# Create the box plot\n",
    "plt.figure(figsize=(10, 6))\n",
    "sns.boxplot(x=df_no_outliers['Sale_price'])\n",
    "plt.title('Box Plot of Sale Prices')\n",
    "plt.xlabel('Sale Price')\n",
    "plt.show()"
   ]
  },
  {
   "cell_type": "code",
   "execution_count": 96,
   "metadata": {},
   "outputs": [
    {
     "data": {
      "text/html": [
       "<div>\n",
       "<style scoped>\n",
       "    .dataframe tbody tr th:only-of-type {\n",
       "        vertical-align: middle;\n",
       "    }\n",
       "\n",
       "    .dataframe tbody tr th {\n",
       "        vertical-align: top;\n",
       "    }\n",
       "\n",
       "    .dataframe thead th {\n",
       "        text-align: right;\n",
       "    }\n",
       "</style>\n",
       "<table border=\"1\" class=\"dataframe\">\n",
       "  <thead>\n",
       "    <tr style=\"text-align: right;\">\n",
       "      <th></th>\n",
       "      <th>Sale_price</th>\n",
       "    </tr>\n",
       "  </thead>\n",
       "  <tbody>\n",
       "    <tr>\n",
       "      <th>count</th>\n",
       "      <td>22539.000000</td>\n",
       "    </tr>\n",
       "    <tr>\n",
       "      <th>mean</th>\n",
       "      <td>168132.601136</td>\n",
       "    </tr>\n",
       "    <tr>\n",
       "      <th>min</th>\n",
       "      <td>50000.000000</td>\n",
       "    </tr>\n",
       "    <tr>\n",
       "      <th>25%</th>\n",
       "      <td>115000.000000</td>\n",
       "    </tr>\n",
       "    <tr>\n",
       "      <th>50%</th>\n",
       "      <td>158000.000000</td>\n",
       "    </tr>\n",
       "    <tr>\n",
       "      <th>75%</th>\n",
       "      <td>212900.000000</td>\n",
       "    </tr>\n",
       "    <tr>\n",
       "      <th>max</th>\n",
       "      <td>377500.000000</td>\n",
       "    </tr>\n",
       "    <tr>\n",
       "      <th>std</th>\n",
       "      <td>70977.526466</td>\n",
       "    </tr>\n",
       "  </tbody>\n",
       "</table>\n",
       "</div>"
      ],
      "text/plain": [
       "          Sale_price\n",
       "count   22539.000000\n",
       "mean   168132.601136\n",
       "min     50000.000000\n",
       "25%    115000.000000\n",
       "50%    158000.000000\n",
       "75%    212900.000000\n",
       "max    377500.000000\n",
       "std     70977.526466"
      ]
     },
     "execution_count": 96,
     "metadata": {},
     "output_type": "execute_result"
    }
   ],
   "source": [
    "df_no_outliers.describe()[['Sale_price']]"
   ]
  },
  {
   "cell_type": "code",
   "execution_count": 97,
   "metadata": {},
   "outputs": [],
   "source": [
    "df_no_outliers.to_csv(\"Resources\\cleaned-property-sales-data_no-outliers.csv\")"
   ]
  },
  {
   "cell_type": "code",
   "execution_count": null,
   "metadata": {},
   "outputs": [],
   "source": []
  }
 ],
 "metadata": {
  "anaconda-cloud": {},
  "kernelspec": {
   "display_name": "Python 3 (ipykernel)",
   "language": "python",
   "name": "python3"
  },
  "language_info": {
   "codemirror_mode": {
    "name": "ipython",
    "version": 3
   },
   "file_extension": ".py",
   "mimetype": "text/x-python",
   "name": "python",
   "nbconvert_exporter": "python",
   "pygments_lexer": "ipython3",
   "version": "3.11.5"
  }
 },
 "nbformat": 4,
 "nbformat_minor": 2
}
