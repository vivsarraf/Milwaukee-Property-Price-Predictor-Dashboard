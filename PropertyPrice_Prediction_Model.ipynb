{
  "cells": [
    {
      "cell_type": "markdown",
      "metadata": {
        "colab_type": "text",
        "id": "view-in-github"
      },
      "source": [
        "<a href=\"https://colab.research.google.com/github/vivsarraf/Project-4/blob/Ajunjee/Project_4_Price_Prediction_Model.ipynb\" target=\"_parent\"><img src=\"https://colab.research.google.com/assets/colab-badge.svg\" alt=\"Open In Colab\"/></a>"
      ]
    },
    {
      "cell_type": "code",
      "execution_count": 108,
      "metadata": {
        "colab": {
          "base_uri": "https://localhost:8080/",
          "height": 206
        },
        "id": "H4hG9B2keUTY",
        "outputId": "25554a62-aa64-4fe5-814f-d2a3adc891f8"
      },
      "outputs": [],
      "source": [
        "# Import our dependencies\n",
        "from sklearn.model_selection import train_test_split\n",
        "from sklearn.preprocessing import StandardScaler\n",
        "import pandas as pd\n",
        "from pathlib import Path\n",
        "import tensorflow as tf\n",
        "import numpy as np\n",
        "import matplotlib.pyplot as plt\n",
        "from tensorflow.keras.layers import Dense\n",
        "from tensorflow.keras.models import Sequential, Model\n",
        "from sklearn.model_selection import train_test_split\n",
        "from sklearn.preprocessing import StandardScaler\n",
        "from sklearn.metrics import mean_squared_error,r2_score,mean_absolute_error\n",
        "\n"
      ]
    },
    {
      "cell_type": "code",
      "execution_count": 237,
      "metadata": {},
      "outputs": [
        {
          "data": {
            "text/html": [
              "<div>\n",
              "<style scoped>\n",
              "    .dataframe tbody tr th:only-of-type {\n",
              "        vertical-align: middle;\n",
              "    }\n",
              "\n",
              "    .dataframe tbody tr th {\n",
              "        vertical-align: top;\n",
              "    }\n",
              "\n",
              "    .dataframe thead th {\n",
              "        text-align: right;\n",
              "    }\n",
              "</style>\n",
              "<table border=\"1\" class=\"dataframe\">\n",
              "  <thead>\n",
              "    <tr style=\"text-align: right;\">\n",
              "      <th></th>\n",
              "      <th>Unnamed: 0</th>\n",
              "      <th>FinishedSqft</th>\n",
              "      <th>Lotsize</th>\n",
              "      <th>Bdrms</th>\n",
              "      <th>Baths_total</th>\n",
              "      <th>Sale_year</th>\n",
              "      <th>Sale_month</th>\n",
              "      <th>Sale_price</th>\n",
              "      <th>Style_AP 1</th>\n",
              "      <th>Style_Bi-Level</th>\n",
              "      <th>...</th>\n",
              "      <th>Extwall_Fiber-Cement</th>\n",
              "      <th>Extwall_Frame</th>\n",
              "      <th>Extwall_Masonary Frame</th>\n",
              "      <th>Extwall_Masonry / Frame</th>\n",
              "      <th>Extwall_Masonry/Frame</th>\n",
              "      <th>Extwall_Metal Siding</th>\n",
              "      <th>Extwall_Prem Wood</th>\n",
              "      <th>Extwall_Stone</th>\n",
              "      <th>Extwall_Stucco</th>\n",
              "      <th>Extwall_Wood</th>\n",
              "    </tr>\n",
              "  </thead>\n",
              "  <tbody>\n",
              "    <tr>\n",
              "      <th>0</th>\n",
              "      <td>207</td>\n",
              "      <td>504</td>\n",
              "      <td>5580</td>\n",
              "      <td>2</td>\n",
              "      <td>2</td>\n",
              "      <td>2013</td>\n",
              "      <td>8</td>\n",
              "      <td>92500</td>\n",
              "      <td>False</td>\n",
              "      <td>False</td>\n",
              "      <td>...</td>\n",
              "      <td>False</td>\n",
              "      <td>False</td>\n",
              "      <td>False</td>\n",
              "      <td>False</td>\n",
              "      <td>False</td>\n",
              "      <td>False</td>\n",
              "      <td>False</td>\n",
              "      <td>False</td>\n",
              "      <td>False</td>\n",
              "      <td>False</td>\n",
              "    </tr>\n",
              "    <tr>\n",
              "      <th>1</th>\n",
              "      <td>253</td>\n",
              "      <td>532</td>\n",
              "      <td>3600</td>\n",
              "      <td>2</td>\n",
              "      <td>1</td>\n",
              "      <td>2023</td>\n",
              "      <td>8</td>\n",
              "      <td>253000</td>\n",
              "      <td>False</td>\n",
              "      <td>False</td>\n",
              "      <td>...</td>\n",
              "      <td>False</td>\n",
              "      <td>False</td>\n",
              "      <td>False</td>\n",
              "      <td>False</td>\n",
              "      <td>False</td>\n",
              "      <td>False</td>\n",
              "      <td>False</td>\n",
              "      <td>False</td>\n",
              "      <td>False</td>\n",
              "      <td>False</td>\n",
              "    </tr>\n",
              "    <tr>\n",
              "      <th>2</th>\n",
              "      <td>322</td>\n",
              "      <td>550</td>\n",
              "      <td>8640</td>\n",
              "      <td>2</td>\n",
              "      <td>2</td>\n",
              "      <td>2018</td>\n",
              "      <td>5</td>\n",
              "      <td>190000</td>\n",
              "      <td>False</td>\n",
              "      <td>False</td>\n",
              "      <td>...</td>\n",
              "      <td>False</td>\n",
              "      <td>False</td>\n",
              "      <td>False</td>\n",
              "      <td>False</td>\n",
              "      <td>False</td>\n",
              "      <td>False</td>\n",
              "      <td>False</td>\n",
              "      <td>False</td>\n",
              "      <td>False</td>\n",
              "      <td>False</td>\n",
              "    </tr>\n",
              "    <tr>\n",
              "      <th>3</th>\n",
              "      <td>423</td>\n",
              "      <td>572</td>\n",
              "      <td>7425</td>\n",
              "      <td>2</td>\n",
              "      <td>1</td>\n",
              "      <td>2020</td>\n",
              "      <td>12</td>\n",
              "      <td>85000</td>\n",
              "      <td>False</td>\n",
              "      <td>False</td>\n",
              "      <td>...</td>\n",
              "      <td>False</td>\n",
              "      <td>False</td>\n",
              "      <td>False</td>\n",
              "      <td>False</td>\n",
              "      <td>False</td>\n",
              "      <td>False</td>\n",
              "      <td>False</td>\n",
              "      <td>False</td>\n",
              "      <td>False</td>\n",
              "      <td>False</td>\n",
              "    </tr>\n",
              "    <tr>\n",
              "      <th>4</th>\n",
              "      <td>457</td>\n",
              "      <td>581</td>\n",
              "      <td>3300</td>\n",
              "      <td>2</td>\n",
              "      <td>1</td>\n",
              "      <td>2023</td>\n",
              "      <td>8</td>\n",
              "      <td>175000</td>\n",
              "      <td>False</td>\n",
              "      <td>False</td>\n",
              "      <td>...</td>\n",
              "      <td>False</td>\n",
              "      <td>False</td>\n",
              "      <td>False</td>\n",
              "      <td>False</td>\n",
              "      <td>False</td>\n",
              "      <td>False</td>\n",
              "      <td>False</td>\n",
              "      <td>False</td>\n",
              "      <td>False</td>\n",
              "      <td>False</td>\n",
              "    </tr>\n",
              "  </tbody>\n",
              "</table>\n",
              "<p>5 rows × 47 columns</p>\n",
              "</div>"
            ],
            "text/plain": [
              "   Unnamed: 0  FinishedSqft  Lotsize  Bdrms  Baths_total  Sale_year  \\\n",
              "0         207           504     5580      2            2       2013   \n",
              "1         253           532     3600      2            1       2023   \n",
              "2         322           550     8640      2            2       2018   \n",
              "3         423           572     7425      2            1       2020   \n",
              "4         457           581     3300      2            1       2023   \n",
              "\n",
              "   Sale_month  Sale_price  Style_AP 1  Style_Bi-Level  ...  \\\n",
              "0           8       92500       False           False  ...   \n",
              "1           8      253000       False           False  ...   \n",
              "2           5      190000       False           False  ...   \n",
              "3          12       85000       False           False  ...   \n",
              "4           8      175000       False           False  ...   \n",
              "\n",
              "   Extwall_Fiber-Cement  Extwall_Frame  Extwall_Masonary Frame  \\\n",
              "0                 False          False                   False   \n",
              "1                 False          False                   False   \n",
              "2                 False          False                   False   \n",
              "3                 False          False                   False   \n",
              "4                 False          False                   False   \n",
              "\n",
              "   Extwall_Masonry / Frame  Extwall_Masonry/Frame  Extwall_Metal Siding  \\\n",
              "0                    False                  False                 False   \n",
              "1                    False                  False                 False   \n",
              "2                    False                  False                 False   \n",
              "3                    False                  False                 False   \n",
              "4                    False                  False                 False   \n",
              "\n",
              "   Extwall_Prem Wood  Extwall_Stone  Extwall_Stucco  Extwall_Wood  \n",
              "0              False          False           False         False  \n",
              "1              False          False           False         False  \n",
              "2              False          False           False         False  \n",
              "3              False          False           False         False  \n",
              "4              False          False           False         False  \n",
              "\n",
              "[5 rows x 47 columns]"
            ]
          },
          "execution_count": 237,
          "metadata": {},
          "output_type": "execute_result"
        }
      ],
      "source": [
        "\n",
        "# Store filepath in a variable\n",
        "file_one = Path(\"Resources/cleaned-sales-data-with-dummies-and-no-outliers-June11.csv\")\n",
        "sales_data_df =  pd.read_csv(file_one, encoding=\"ISO-8859-1\")\n",
        "sales_data_df.head()"
      ]
    },
    {
      "cell_type": "code",
      "execution_count": 238,
      "metadata": {
        "colab": {
          "base_uri": "https://localhost:8080/",
          "height": 206
        },
        "id": "wbO6S3bwoA4p",
        "outputId": "78e83b14-d181-4f6b-a9b2-4ba414ff4148"
      },
      "outputs": [
        {
          "data": {
            "text/html": [
              "<div>\n",
              "<style scoped>\n",
              "    .dataframe tbody tr th:only-of-type {\n",
              "        vertical-align: middle;\n",
              "    }\n",
              "\n",
              "    .dataframe tbody tr th {\n",
              "        vertical-align: top;\n",
              "    }\n",
              "\n",
              "    .dataframe thead th {\n",
              "        text-align: right;\n",
              "    }\n",
              "</style>\n",
              "<table border=\"1\" class=\"dataframe\">\n",
              "  <thead>\n",
              "    <tr style=\"text-align: right;\">\n",
              "      <th></th>\n",
              "      <th>Unnamed: 0</th>\n",
              "      <th>FinishedSqft</th>\n",
              "      <th>Lotsize</th>\n",
              "      <th>Bedrooms</th>\n",
              "      <th>Bathrooms</th>\n",
              "      <th>Sale_year</th>\n",
              "      <th>Sale_month</th>\n",
              "      <th>Sale_price</th>\n",
              "      <th>Style_AP 1</th>\n",
              "      <th>Style_Bi-Level</th>\n",
              "      <th>...</th>\n",
              "      <th>Extwall_Fiber-Cement</th>\n",
              "      <th>Extwall_Frame</th>\n",
              "      <th>Extwall_Masonary Frame</th>\n",
              "      <th>Extwall_Masonry / Frame</th>\n",
              "      <th>Extwall_Masonry/Frame</th>\n",
              "      <th>Extwall_Metal Siding</th>\n",
              "      <th>Extwall_Prem Wood</th>\n",
              "      <th>Extwall_Stone</th>\n",
              "      <th>Extwall_Stucco</th>\n",
              "      <th>Extwall_Wood</th>\n",
              "    </tr>\n",
              "  </thead>\n",
              "  <tbody>\n",
              "    <tr>\n",
              "      <th>0</th>\n",
              "      <td>207</td>\n",
              "      <td>504</td>\n",
              "      <td>5580</td>\n",
              "      <td>2</td>\n",
              "      <td>2</td>\n",
              "      <td>2013</td>\n",
              "      <td>8</td>\n",
              "      <td>92500</td>\n",
              "      <td>False</td>\n",
              "      <td>False</td>\n",
              "      <td>...</td>\n",
              "      <td>False</td>\n",
              "      <td>False</td>\n",
              "      <td>False</td>\n",
              "      <td>False</td>\n",
              "      <td>False</td>\n",
              "      <td>False</td>\n",
              "      <td>False</td>\n",
              "      <td>False</td>\n",
              "      <td>False</td>\n",
              "      <td>False</td>\n",
              "    </tr>\n",
              "    <tr>\n",
              "      <th>1</th>\n",
              "      <td>253</td>\n",
              "      <td>532</td>\n",
              "      <td>3600</td>\n",
              "      <td>2</td>\n",
              "      <td>1</td>\n",
              "      <td>2023</td>\n",
              "      <td>8</td>\n",
              "      <td>253000</td>\n",
              "      <td>False</td>\n",
              "      <td>False</td>\n",
              "      <td>...</td>\n",
              "      <td>False</td>\n",
              "      <td>False</td>\n",
              "      <td>False</td>\n",
              "      <td>False</td>\n",
              "      <td>False</td>\n",
              "      <td>False</td>\n",
              "      <td>False</td>\n",
              "      <td>False</td>\n",
              "      <td>False</td>\n",
              "      <td>False</td>\n",
              "    </tr>\n",
              "    <tr>\n",
              "      <th>2</th>\n",
              "      <td>322</td>\n",
              "      <td>550</td>\n",
              "      <td>8640</td>\n",
              "      <td>2</td>\n",
              "      <td>2</td>\n",
              "      <td>2018</td>\n",
              "      <td>5</td>\n",
              "      <td>190000</td>\n",
              "      <td>False</td>\n",
              "      <td>False</td>\n",
              "      <td>...</td>\n",
              "      <td>False</td>\n",
              "      <td>False</td>\n",
              "      <td>False</td>\n",
              "      <td>False</td>\n",
              "      <td>False</td>\n",
              "      <td>False</td>\n",
              "      <td>False</td>\n",
              "      <td>False</td>\n",
              "      <td>False</td>\n",
              "      <td>False</td>\n",
              "    </tr>\n",
              "    <tr>\n",
              "      <th>3</th>\n",
              "      <td>423</td>\n",
              "      <td>572</td>\n",
              "      <td>7425</td>\n",
              "      <td>2</td>\n",
              "      <td>1</td>\n",
              "      <td>2020</td>\n",
              "      <td>12</td>\n",
              "      <td>85000</td>\n",
              "      <td>False</td>\n",
              "      <td>False</td>\n",
              "      <td>...</td>\n",
              "      <td>False</td>\n",
              "      <td>False</td>\n",
              "      <td>False</td>\n",
              "      <td>False</td>\n",
              "      <td>False</td>\n",
              "      <td>False</td>\n",
              "      <td>False</td>\n",
              "      <td>False</td>\n",
              "      <td>False</td>\n",
              "      <td>False</td>\n",
              "    </tr>\n",
              "    <tr>\n",
              "      <th>4</th>\n",
              "      <td>457</td>\n",
              "      <td>581</td>\n",
              "      <td>3300</td>\n",
              "      <td>2</td>\n",
              "      <td>1</td>\n",
              "      <td>2023</td>\n",
              "      <td>8</td>\n",
              "      <td>175000</td>\n",
              "      <td>False</td>\n",
              "      <td>False</td>\n",
              "      <td>...</td>\n",
              "      <td>False</td>\n",
              "      <td>False</td>\n",
              "      <td>False</td>\n",
              "      <td>False</td>\n",
              "      <td>False</td>\n",
              "      <td>False</td>\n",
              "      <td>False</td>\n",
              "      <td>False</td>\n",
              "      <td>False</td>\n",
              "      <td>False</td>\n",
              "    </tr>\n",
              "  </tbody>\n",
              "</table>\n",
              "<p>5 rows × 47 columns</p>\n",
              "</div>"
            ],
            "text/plain": [
              "   Unnamed: 0  FinishedSqft  Lotsize  Bedrooms  Bathrooms  Sale_year  \\\n",
              "0         207           504     5580         2          2       2013   \n",
              "1         253           532     3600         2          1       2023   \n",
              "2         322           550     8640         2          2       2018   \n",
              "3         423           572     7425         2          1       2020   \n",
              "4         457           581     3300         2          1       2023   \n",
              "\n",
              "   Sale_month  Sale_price  Style_AP 1  Style_Bi-Level  ...  \\\n",
              "0           8       92500       False           False  ...   \n",
              "1           8      253000       False           False  ...   \n",
              "2           5      190000       False           False  ...   \n",
              "3          12       85000       False           False  ...   \n",
              "4           8      175000       False           False  ...   \n",
              "\n",
              "   Extwall_Fiber-Cement  Extwall_Frame  Extwall_Masonary Frame  \\\n",
              "0                 False          False                   False   \n",
              "1                 False          False                   False   \n",
              "2                 False          False                   False   \n",
              "3                 False          False                   False   \n",
              "4                 False          False                   False   \n",
              "\n",
              "   Extwall_Masonry / Frame  Extwall_Masonry/Frame  Extwall_Metal Siding  \\\n",
              "0                    False                  False                 False   \n",
              "1                    False                  False                 False   \n",
              "2                    False                  False                 False   \n",
              "3                    False                  False                 False   \n",
              "4                    False                  False                 False   \n",
              "\n",
              "   Extwall_Prem Wood  Extwall_Stone  Extwall_Stucco  Extwall_Wood  \n",
              "0              False          False           False         False  \n",
              "1              False          False           False         False  \n",
              "2              False          False           False         False  \n",
              "3              False          False           False         False  \n",
              "4              False          False           False         False  \n",
              "\n",
              "[5 rows x 47 columns]"
            ]
          },
          "execution_count": 238,
          "metadata": {},
          "output_type": "execute_result"
        }
      ],
      "source": [
        "sales_data_df = sales_data_df.rename(columns={'Bdrms':'Bedrooms', 'Baths_total': 'Bathrooms'})\n",
        "sales_data_df.head()"
      ]
    },
    {
      "cell_type": "code",
      "execution_count": 239,
      "metadata": {
        "colab": {
          "base_uri": "https://localhost:8080/"
        },
        "id": "xQyasf-SpEsS",
        "outputId": "6ea34e7a-1e92-46a8-a118-4023fb29029f"
      },
      "outputs": [
        {
          "data": {
            "text/plain": [
              "Unnamed: 0                          0\n",
              "FinishedSqft                        0\n",
              "Lotsize                             0\n",
              "Bedrooms                            0\n",
              "Bathrooms                           0\n",
              "Sale_year                           0\n",
              "Sale_month                          0\n",
              "Sale_price                          0\n",
              "Style_AP 1                          0\n",
              "Style_Bi-Level                      0\n",
              "Style_Cape Cod                      0\n",
              "Style_Colonial                      0\n",
              "Style_Contemporary                  0\n",
              "Style_Cottage                       0\n",
              "Style_Dplx Bungalow                 0\n",
              "Style_Duplex N/S                    0\n",
              "Style_Duplex O/S                    0\n",
              "Style_Duplex-Cottage                0\n",
              "Style_Milwaukee Bungalow            0\n",
              "Style_Multiple Residential Bldgs    0\n",
              "Style_Ranch                         0\n",
              "Style_Res O/S 1 Story               0\n",
              "Style_Res O/S 2sty +                0\n",
              "Style_Res O/S A & 1/2               0\n",
              "Style_Residence O/S                 0\n",
              "Style_Residence O/S 2sty+           0\n",
              "Style_Split Level                   0\n",
              "Style_Townhouse                     0\n",
              "Style_Triplex                       0\n",
              "Style_Tudor                         0\n",
              "Extwall_Alum/Vynyl Siding           0\n",
              "Extwall_Aluminum / Vinyl            0\n",
              "Extwall_Aluminum/Vinyl              0\n",
              "Extwall_Asphalt/Other               0\n",
              "Extwall_Block                       0\n",
              "Extwall_Brick                       0\n",
              "Extwall_Fiber Cement/Hardiplank     0\n",
              "Extwall_Fiber-Cement                0\n",
              "Extwall_Frame                       0\n",
              "Extwall_Masonary Frame              0\n",
              "Extwall_Masonry / Frame             0\n",
              "Extwall_Masonry/Frame               0\n",
              "Extwall_Metal Siding                0\n",
              "Extwall_Prem Wood                   0\n",
              "Extwall_Stone                       0\n",
              "Extwall_Stucco                      0\n",
              "Extwall_Wood                        0\n",
              "dtype: int64"
            ]
          },
          "execution_count": 239,
          "metadata": {},
          "output_type": "execute_result"
        }
      ],
      "source": [
        "sales_data_df.isnull().sum()"
      ]
    },
    {
      "cell_type": "code",
      "execution_count": null,
      "metadata": {
        "colab": {
          "base_uri": "https://localhost:8080/"
        },
        "id": "eKkTa7QrhM-s",
        "outputId": "3e6f2d17-8a14-4bab-99fa-66c1afdcc636"
      },
      "outputs": [],
      "source": [
        "sales_data_df['Sale_date'] = pd.to_datetime(sales_data_df['Sale_date'], infer_datetime_format=True, format='mixed')\n",
        "sales_data_df.info()"
      ]
    },
    {
      "cell_type": "code",
      "execution_count": 236,
      "metadata": {},
      "outputs": [
        {
          "data": {
            "text/html": [
              "<div>\n",
              "<style scoped>\n",
              "    .dataframe tbody tr th:only-of-type {\n",
              "        vertical-align: middle;\n",
              "    }\n",
              "\n",
              "    .dataframe tbody tr th {\n",
              "        vertical-align: top;\n",
              "    }\n",
              "\n",
              "    .dataframe thead th {\n",
              "        text-align: right;\n",
              "    }\n",
              "</style>\n",
              "<table border=\"1\" class=\"dataframe\">\n",
              "  <thead>\n",
              "    <tr style=\"text-align: right;\">\n",
              "      <th></th>\n",
              "      <th>Bedrooms</th>\n",
              "      <th>Bathrooms</th>\n",
              "      <th>FinishedSqft</th>\n",
              "      <th>Lotsize</th>\n",
              "      <th>Year</th>\n",
              "    </tr>\n",
              "  </thead>\n",
              "  <tbody>\n",
              "    <tr>\n",
              "      <th>0</th>\n",
              "      <td>4</td>\n",
              "      <td>2</td>\n",
              "      <td>2200</td>\n",
              "      <td>128502</td>\n",
              "      <td>2021</td>\n",
              "    </tr>\n",
              "    <tr>\n",
              "      <th>1</th>\n",
              "      <td>2</td>\n",
              "      <td>2</td>\n",
              "      <td>1125</td>\n",
              "      <td>101059</td>\n",
              "      <td>2021</td>\n",
              "    </tr>\n",
              "    <tr>\n",
              "      <th>2</th>\n",
              "      <td>4</td>\n",
              "      <td>1</td>\n",
              "      <td>1471</td>\n",
              "      <td>95832</td>\n",
              "      <td>2022</td>\n",
              "    </tr>\n",
              "    <tr>\n",
              "      <th>3</th>\n",
              "      <td>4</td>\n",
              "      <td>3</td>\n",
              "      <td>2303</td>\n",
              "      <td>84071</td>\n",
              "      <td>2019</td>\n",
              "    </tr>\n",
              "    <tr>\n",
              "      <th>4</th>\n",
              "      <td>4</td>\n",
              "      <td>2</td>\n",
              "      <td>1247</td>\n",
              "      <td>81893</td>\n",
              "      <td>2023</td>\n",
              "    </tr>\n",
              "  </tbody>\n",
              "</table>\n",
              "</div>"
            ],
            "text/plain": [
              "   Bedrooms  Bathrooms  FinishedSqft  Lotsize  Year\n",
              "0         4          2          2200   128502  2021\n",
              "1         2          2          1125   101059  2021\n",
              "2         4          1          1471    95832  2022\n",
              "3         4          3          2303    84071  2019\n",
              "4         4          2          1247    81893  2023"
            ]
          },
          "execution_count": 236,
          "metadata": {},
          "output_type": "execute_result"
        }
      ],
      "source": [
        "\n",
        "y = sales_data_df.Sale_price.values\n",
        "X = sales_data_df.drop(columns = ['Sale_price', 'Sale_date','Month'], axis=1)\n",
        "X.head()"
      ]
    },
    {
      "cell_type": "code",
      "execution_count": 156,
      "metadata": {},
      "outputs": [
        {
          "data": {
            "text/plain": [
              "Bedrooms        0\n",
              "Bathrooms       0\n",
              "FinishedSqft    0\n",
              "Lotsize         0\n",
              "Sale_date       0\n",
              "Year            0\n",
              "Month           0\n",
              "Sale_price      0\n",
              "dtype: int64"
            ]
          },
          "execution_count": 156,
          "metadata": {},
          "output_type": "execute_result"
        }
      ],
      "source": [
        "\n",
        "sales_data_df.isnull().sum()"
      ]
    },
    {
      "cell_type": "code",
      "execution_count": 199,
      "metadata": {
        "id": "MJZ5k-4hhC3s"
      },
      "outputs": [],
      "source": [
        "# Split the preprocessed data into a training and testing dataset\n",
        "# Assign the function a random_state equal to 1\n",
        "X_train, X_test, y_train, y_test = train_test_split(X, y, test_size=0.3, train_size=0.7, random_state=0)"
      ]
    },
    {
      "cell_type": "code",
      "execution_count": 200,
      "metadata": {
        "id": "zbd34barhOn8"
      },
      "outputs": [],
      "source": [
        "# Create a StandardScaler instance\n",
        "scaler = StandardScaler()\n",
        "\n",
        "# Fit the scaler to the features training dataset\n",
        "X_scaler = scaler.fit(X_train)\n",
        "\n",
        "# Fit the scaler to the features training dataset\n",
        "X_train_scaled = X_scaler.transform(X_train)\n",
        "X_test_scaled = X_scaler.transform(X_test)"
      ]
    },
    {
      "cell_type": "code",
      "execution_count": 201,
      "metadata": {
        "colab": {
          "base_uri": "https://localhost:8080/"
        },
        "id": "FJkDFiashP6k",
        "outputId": "5dc792af-61b6-4b46-e5ae-86a8c4561c50"
      },
      "outputs": [
        {
          "data": {
            "text/plain": [
              "5"
            ]
          },
          "execution_count": 201,
          "metadata": {},
          "output_type": "execute_result"
        }
      ],
      "source": [
        "# Define the the number of inputs (features) to the model\n",
        "number_input_features = len(X.iloc[0])\n",
        "\n",
        "# Review the number of features\n",
        "number_input_features"
      ]
    },
    {
      "cell_type": "code",
      "execution_count": 202,
      "metadata": {
        "colab": {
          "base_uri": "https://localhost:8080/"
        },
        "id": "mkTQGlDZhXcU",
        "outputId": "4b432edc-1e6b-4ef2-d705-5a58a8b98358"
      },
      "outputs": [
        {
          "data": {
            "text/plain": [
              "7"
            ]
          },
          "execution_count": 202,
          "metadata": {},
          "output_type": "execute_result"
        }
      ],
      "source": [
        "# Define the number of neurons in the output layer\n",
        "number_output_neurons = 1\n",
        "\n",
        "# Define the number of hidden nodes for the first hidden layer\n",
        "hidden_nodes_layer1 = 3\n",
        "\n",
        "# Define the number of hidden nodes for the second hidden layer\n",
        "hidden_nodes_layer2 = 4\n",
        "\n",
        "# Review the number hidden nodes in the second layer\n",
        "hidden_nodes_layers = hidden_nodes_layer1 + hidden_nodes_layer2\n",
        "hidden_nodes_layers"
      ]
    },
    {
      "cell_type": "code",
      "execution_count": 203,
      "metadata": {
        "id": "bFRxiOOohaxl"
      },
      "outputs": [
        {
          "name": "stderr",
          "output_type": "stream",
          "text": [
            "c:\\Users\\sarra\\anaconda3\\Lib\\site-packages\\keras\\src\\layers\\core\\dense.py:87: UserWarning: Do not pass an `input_shape`/`input_dim` argument to a layer. When using Sequential models, prefer using an `Input(shape)` object as the first layer in the model instead.\n",
            "  super().__init__(activity_regularizer=activity_regularizer, **kwargs)\n"
          ]
        }
      ],
      "source": [
        "# Create the Sequential model instance\n",
        "nn = Sequential()\n",
        "\n",
        "# Add the first hidden layer\n",
        "nn.add(Dense(units=hidden_nodes_layer1, input_dim=number_input_features, activation=\"relu\"))\n",
        "\n",
        "# Add the second hidden layer\n",
        "nn.add(Dense(units=hidden_nodes_layer2, activation=\"relu\"))\n",
        "\n",
        "# Add the output layer to the model specifying the number of output neurons and activation function\n",
        "nn.add(Dense(units=number_output_neurons, activation=\"linear\"))"
      ]
    },
    {
      "cell_type": "code",
      "execution_count": 204,
      "metadata": {
        "colab": {
          "base_uri": "https://localhost:8080/"
        },
        "id": "GlN4P045hdNN",
        "outputId": "5186b38f-561f-4bd4-a098-4d68c76d2a8d"
      },
      "outputs": [
        {
          "data": {
            "text/html": [
              "<pre style=\"white-space:pre;overflow-x:auto;line-height:normal;font-family:Menlo,'DejaVu Sans Mono',consolas,'Courier New',monospace\"><span style=\"font-weight: bold\">Model: \"sequential_7\"</span>\n",
              "</pre>\n"
            ],
            "text/plain": [
              "\u001b[1mModel: \"sequential_7\"\u001b[0m\n"
            ]
          },
          "metadata": {},
          "output_type": "display_data"
        },
        {
          "data": {
            "text/html": [
              "<pre style=\"white-space:pre;overflow-x:auto;line-height:normal;font-family:Menlo,'DejaVu Sans Mono',consolas,'Courier New',monospace\">┏━━━━━━━━━━━━━━━━━━━━━━━━━━━━━━━━━┳━━━━━━━━━━━━━━━━━━━━━━━━┳━━━━━━━━━━━━━━━┓\n",
              "┃<span style=\"font-weight: bold\"> Layer (type)                    </span>┃<span style=\"font-weight: bold\"> Output Shape           </span>┃<span style=\"font-weight: bold\">       Param # </span>┃\n",
              "┡━━━━━━━━━━━━━━━━━━━━━━━━━━━━━━━━━╇━━━━━━━━━━━━━━━━━━━━━━━━╇━━━━━━━━━━━━━━━┩\n",
              "│ dense_21 (<span style=\"color: #0087ff; text-decoration-color: #0087ff\">Dense</span>)                │ (<span style=\"color: #00d7ff; text-decoration-color: #00d7ff\">None</span>, <span style=\"color: #00af00; text-decoration-color: #00af00\">3</span>)              │            <span style=\"color: #00af00; text-decoration-color: #00af00\">18</span> │\n",
              "├─────────────────────────────────┼────────────────────────┼───────────────┤\n",
              "│ dense_22 (<span style=\"color: #0087ff; text-decoration-color: #0087ff\">Dense</span>)                │ (<span style=\"color: #00d7ff; text-decoration-color: #00d7ff\">None</span>, <span style=\"color: #00af00; text-decoration-color: #00af00\">4</span>)              │            <span style=\"color: #00af00; text-decoration-color: #00af00\">16</span> │\n",
              "├─────────────────────────────────┼────────────────────────┼───────────────┤\n",
              "│ dense_23 (<span style=\"color: #0087ff; text-decoration-color: #0087ff\">Dense</span>)                │ (<span style=\"color: #00d7ff; text-decoration-color: #00d7ff\">None</span>, <span style=\"color: #00af00; text-decoration-color: #00af00\">1</span>)              │             <span style=\"color: #00af00; text-decoration-color: #00af00\">5</span> │\n",
              "└─────────────────────────────────┴────────────────────────┴───────────────┘\n",
              "</pre>\n"
            ],
            "text/plain": [
              "┏━━━━━━━━━━━━━━━━━━━━━━━━━━━━━━━━━┳━━━━━━━━━━━━━━━━━━━━━━━━┳━━━━━━━━━━━━━━━┓\n",
              "┃\u001b[1m \u001b[0m\u001b[1mLayer (type)                   \u001b[0m\u001b[1m \u001b[0m┃\u001b[1m \u001b[0m\u001b[1mOutput Shape          \u001b[0m\u001b[1m \u001b[0m┃\u001b[1m \u001b[0m\u001b[1m      Param #\u001b[0m\u001b[1m \u001b[0m┃\n",
              "┡━━━━━━━━━━━━━━━━━━━━━━━━━━━━━━━━━╇━━━━━━━━━━━━━━━━━━━━━━━━╇━━━━━━━━━━━━━━━┩\n",
              "│ dense_21 (\u001b[38;5;33mDense\u001b[0m)                │ (\u001b[38;5;45mNone\u001b[0m, \u001b[38;5;34m3\u001b[0m)              │            \u001b[38;5;34m18\u001b[0m │\n",
              "├─────────────────────────────────┼────────────────────────┼───────────────┤\n",
              "│ dense_22 (\u001b[38;5;33mDense\u001b[0m)                │ (\u001b[38;5;45mNone\u001b[0m, \u001b[38;5;34m4\u001b[0m)              │            \u001b[38;5;34m16\u001b[0m │\n",
              "├─────────────────────────────────┼────────────────────────┼───────────────┤\n",
              "│ dense_23 (\u001b[38;5;33mDense\u001b[0m)                │ (\u001b[38;5;45mNone\u001b[0m, \u001b[38;5;34m1\u001b[0m)              │             \u001b[38;5;34m5\u001b[0m │\n",
              "└─────────────────────────────────┴────────────────────────┴───────────────┘\n"
            ]
          },
          "metadata": {},
          "output_type": "display_data"
        },
        {
          "data": {
            "text/html": [
              "<pre style=\"white-space:pre;overflow-x:auto;line-height:normal;font-family:Menlo,'DejaVu Sans Mono',consolas,'Courier New',monospace\"><span style=\"font-weight: bold\"> Total params: </span><span style=\"color: #00af00; text-decoration-color: #00af00\">39</span> (156.00 B)\n",
              "</pre>\n"
            ],
            "text/plain": [
              "\u001b[1m Total params: \u001b[0m\u001b[38;5;34m39\u001b[0m (156.00 B)\n"
            ]
          },
          "metadata": {},
          "output_type": "display_data"
        },
        {
          "data": {
            "text/html": [
              "<pre style=\"white-space:pre;overflow-x:auto;line-height:normal;font-family:Menlo,'DejaVu Sans Mono',consolas,'Courier New',monospace\"><span style=\"font-weight: bold\"> Trainable params: </span><span style=\"color: #00af00; text-decoration-color: #00af00\">39</span> (156.00 B)\n",
              "</pre>\n"
            ],
            "text/plain": [
              "\u001b[1m Trainable params: \u001b[0m\u001b[38;5;34m39\u001b[0m (156.00 B)\n"
            ]
          },
          "metadata": {},
          "output_type": "display_data"
        },
        {
          "data": {
            "text/html": [
              "<pre style=\"white-space:pre;overflow-x:auto;line-height:normal;font-family:Menlo,'DejaVu Sans Mono',consolas,'Courier New',monospace\"><span style=\"font-weight: bold\"> Non-trainable params: </span><span style=\"color: #00af00; text-decoration-color: #00af00\">0</span> (0.00 B)\n",
              "</pre>\n"
            ],
            "text/plain": [
              "\u001b[1m Non-trainable params: \u001b[0m\u001b[38;5;34m0\u001b[0m (0.00 B)\n"
            ]
          },
          "metadata": {},
          "output_type": "display_data"
        }
      ],
      "source": [
        "# Display the Sequential model summary\n",
        "nn.summary()"
      ]
    },
    {
      "cell_type": "code",
      "execution_count": 205,
      "metadata": {
        "id": "t0eOOXq9hq2t"
      },
      "outputs": [],
      "source": [
        "# Compile the Sequential model\n",
        "nn.compile(loss=\"mse\", optimizer=\"adam\", metrics=[\"mean_absolute_error'\"])"
      ]
    },
    {
      "cell_type": "code",
      "execution_count": null,
      "metadata": {
        "id": "TY8B32VShuD8"
      },
      "outputs": [],
      "source": [
        "# \n",
        "\n",
        "#fit_model = nn.fit(X_train, y_train, epochs=100)"
      ]
    },
    {
      "cell_type": "code",
      "execution_count": null,
      "metadata": {
        "id": "DPROkTcWhxCk"
      },
      "outputs": [],
      "source": [
        "# # Evaluate the model loss and accuracy metrics using the evaluate method and the TRAIN data\n",
        "# model_loss, model_accuracy = nn.evaluate(X_train_scaled, y_train,verbose=0)\n",
        "\n",
        "# # Display the model loss and accuracy results\n",
        "# print(f\"Loss: {model_loss}, Accuracy: {model_accuracy}\")"
      ]
    },
    {
      "cell_type": "code",
      "execution_count": 206,
      "metadata": {
        "colab": {
          "base_uri": "https://localhost:8080/"
        },
        "id": "hhFj_9rvo8kR",
        "outputId": "6af85216-bec2-42d1-9aea-ab00ab300471"
      },
      "outputs": [
        {
          "name": "stdout",
          "output_type": "stream",
          "text": [
            "By using Linear Regression we got:\n",
            "Training data accuracy 0.18377784232552452\n",
            "Testing data accuracy 0.2099985430112865\n"
          ]
        }
      ],
      "source": [
        "from sklearn.linear_model import LinearRegression\n",
        "lr_model = LinearRegression()\n",
        "lr_model.fit(X_train, y_train)\n",
        "\n",
        "print(\"By using Linear Regression we got:\")\n",
        "print(\"Training data accuracy\",lr_model.score(X_train, y_train))\n",
        "print(\"Testing data accuracy\",lr_model.score(X_test, y_test))"
      ]
    },
    {
      "cell_type": "code",
      "execution_count": 197,
      "metadata": {
        "id": "vvjtJJc7iw9w"
      },
      "outputs": [],
      "source": [
        "# Failed, could not converge\n",
        "# from sklearn.linear_model import LogisticRegression\n",
        "# log_model = LogisticRegression()\n",
        "# log_model.fit(X_train_scaled, y_train)\n",
        "\n",
        "# print(\"By using Logistic Regression we got:\")\n",
        "# print(\"Training data accuracy\",log_model.score(X_train_scaled, y_train))\n",
        "# print(\"Testing data accuracy\",log_model.score(X_test_scaled, y_test))"
      ]
    },
    {
      "cell_type": "code",
      "execution_count": 207,
      "metadata": {
        "colab": {
          "base_uri": "https://localhost:8080/"
        },
        "id": "JERYdM5jo899",
        "outputId": "e5634be6-85d3-4836-e536-9ebb7849054e"
      },
      "outputs": [
        {
          "name": "stdout",
          "output_type": "stream",
          "text": [
            "By using Random Forest Regression we got:\n",
            "Training data accuracy 0.884035635212428\n",
            "Testing data accuracy 0.19215094545015754\n"
          ]
        }
      ],
      "source": [
        "from sklearn.ensemble import RandomForestRegressor\n",
        "rfm=RandomForestRegressor()\n",
        "rfm.fit(X_train,y_train)\n",
        "\n",
        "print(\"By using Random Forest Regression we got:\")\n",
        "print(\"Training data accuracy\",rfm.score(X_train,y_train))\n",
        "print(\"Testing data accuracy\",rfm.score(X_test,y_test))"
      ]
    },
    {
      "cell_type": "code",
      "execution_count": 208,
      "metadata": {
        "colab": {
          "base_uri": "https://localhost:8080/"
        },
        "id": "-3DViOjjIiFl",
        "outputId": "e44ea329-9232-4c2c-cefd-a5d4eae95138"
      },
      "outputs": [
        {
          "data": {
            "text/plain": [
              "{'bootstrap': True,\n",
              " 'ccp_alpha': 0.0,\n",
              " 'criterion': 'squared_error',\n",
              " 'max_depth': None,\n",
              " 'max_features': 1.0,\n",
              " 'max_leaf_nodes': None,\n",
              " 'max_samples': None,\n",
              " 'min_impurity_decrease': 0.0,\n",
              " 'min_samples_leaf': 1,\n",
              " 'min_samples_split': 2,\n",
              " 'min_weight_fraction_leaf': 0.0,\n",
              " 'n_estimators': 100,\n",
              " 'n_jobs': None,\n",
              " 'oob_score': False,\n",
              " 'random_state': None,\n",
              " 'verbose': 0,\n",
              " 'warm_start': False}"
            ]
          },
          "execution_count": 208,
          "metadata": {},
          "output_type": "execute_result"
        }
      ],
      "source": [
        "rfm.get_params()"
      ]
    },
    {
      "cell_type": "code",
      "execution_count": 209,
      "metadata": {
        "id": "MBEtVbuGIiDA"
      },
      "outputs": [],
      "source": [
        "rfm=RandomForestRegressor(max_depth=None,min_samples_leaf=5,min_samples_split=6,\n",
        "                          n_estimators=150,verbose=2,n_jobs=-1)"
      ]
    },
    {
      "cell_type": "code",
      "execution_count": 210,
      "metadata": {
        "colab": {
          "base_uri": "https://localhost:8080/",
          "height": 1000
        },
        "id": "W6GE6JYGIiAo",
        "outputId": "84cc89e7-d598-44b4-fbd0-3836965d68b8"
      },
      "outputs": [
        {
          "name": "stderr",
          "output_type": "stream",
          "text": [
            "[Parallel(n_jobs=-1)]: Using backend ThreadingBackend with 16 concurrent workers.\n",
            "[Parallel(n_jobs=-1)]: Done   9 tasks      | elapsed:    0.0s\n"
          ]
        },
        {
          "name": "stdout",
          "output_type": "stream",
          "text": [
            "building tree 1 of 150building tree 2 of 150\n",
            "\n",
            "building tree 3 of 150\n",
            "building tree 4 of 150\n",
            "building tree 5 of 150\n",
            "building tree 6 of 150\n",
            "building tree 7 of 150\n",
            "building tree 8 of 150\n",
            "building tree 9 of 150\n",
            "building tree 10 of 150\n",
            "building tree 11 of 150\n",
            "building tree 12 of 150\n",
            "building tree 13 of 150\n",
            "building tree 14 of 150\n",
            "building tree 15 of 150\n",
            "building tree 16 of 150\n",
            "building tree 17 of 150\n",
            "building tree 18 of 150\n",
            "building tree 19 of 150\n",
            "building tree 20 of 150\n",
            "building tree 21 of 150\n",
            "building tree 22 of 150\n",
            "building tree 23 of 150\n",
            "building tree 24 of 150\n",
            "building tree 25 of 150\n",
            "building tree 26 of 150\n",
            "building tree 27 of 150\n",
            "building tree 28 of 150\n",
            "building tree 29 of 150\n",
            "building tree 30 of 150\n",
            "building tree 31 of 150\n",
            "building tree 32 of 150\n",
            "building tree 33 of 150\n",
            "building tree 34 of 150\n",
            "building tree 35 of 150\n",
            "building tree 36 of 150\n",
            "building tree 37 of 150\n",
            "building tree 38 of 150\n",
            "building tree 39 of 150\n",
            "building tree 40 of 150\n",
            "building tree 41 of 150\n",
            "building tree 42 of 150\n",
            "building tree 43 of 150\n",
            "building tree 44 of 150\n",
            "building tree 45 of 150\n",
            "building tree 46 of 150\n",
            "building tree 47 of 150\n",
            "building tree 48 of 150\n",
            "building tree 49 of 150\n",
            "building tree 50 of 150\n",
            "building tree 51 of 150\n",
            "building tree 52 of 150\n",
            "building tree 53 of 150\n",
            "building tree 54 of 150\n",
            "building tree 55 of 150\n",
            "building tree 56 of 150\n",
            "building tree 57 of 150\n",
            "building tree 58 of 150\n",
            "building tree 59 of 150\n",
            "building tree 60 of 150\n",
            "building tree 61 of 150\n",
            "building tree 62 of 150\n",
            "building tree 63 of 150\n",
            "building tree 64 of 150\n",
            "building tree 65 of 150\n",
            "building tree 66 of 150\n",
            "building tree 67 of 150\n",
            "building tree 68 of 150\n",
            "building tree 69 of 150\n",
            "building tree 70 of 150\n",
            "building tree 71 of 150\n",
            "building tree 72 of 150\n",
            "building tree 73 of 150\n",
            "building tree 74 of 150\n",
            "building tree 75 of 150\n",
            "building tree 76 of 150\n",
            "building tree 77 of 150\n",
            "building tree 78 of 150\n",
            "building tree 79 of 150\n",
            "building tree 80 of 150\n",
            "building tree 81 of 150\n",
            "building tree 82 of 150\n",
            "building tree 83 of 150\n",
            "building tree 84 of 150\n",
            "building tree 85 of 150\n",
            "building tree 86 of 150\n",
            "building tree 87 of 150\n",
            "building tree 88 of 150\n",
            "building tree 89 of 150\n",
            "building tree 90 of 150\n",
            "building tree 91 of 150\n",
            "building tree 92 of 150\n",
            "building tree 93 of 150\n",
            "building tree 94 of 150\n",
            "building tree 95 of 150\n",
            "building tree 96 of 150\n",
            "building tree 97 of 150\n",
            "building tree 98 of 150\n",
            "building tree 99 of 150\n",
            "building tree 100 of 150\n",
            "building tree 101 of 150\n",
            "building tree 102 of 150\n",
            "building tree 103 of 150\n",
            "building tree 104 of 150\n",
            "building tree 105 of 150\n",
            "building tree 106 of 150\n",
            "building tree 107 of 150\n",
            "building tree 108 of 150\n",
            "building tree 109 of 150\n",
            "building tree 110 of 150\n",
            "building tree 111 of 150\n",
            "building tree 112 of 150\n",
            "building tree 113 of 150\n",
            "building tree 114 of 150\n",
            "building tree 115 of 150\n",
            "building tree 116 of 150\n",
            "building tree 117 of 150\n",
            "building tree 118 of 150\n",
            "building tree 119 of 150\n",
            "building tree 120 of 150\n",
            "building tree 121 of 150\n",
            "building tree 122 of 150\n",
            "building tree 123 of 150\n",
            "building tree 124 of 150building tree 125 of 150\n",
            "\n",
            "building tree 126 of 150\n",
            "building tree 127 of 150\n",
            "building tree 128 of 150\n",
            "building tree 129 of 150\n",
            "building tree 130 of 150\n",
            "building tree 131 of 150\n",
            "building tree 132 of 150\n",
            "building tree 133 of 150\n",
            "building tree 134 of 150\n",
            "building tree 135 of 150\n",
            "building tree 136 of 150\n",
            "building tree 137 of 150\n",
            "building tree 138 of 150\n",
            "building tree 139 of 150\n",
            "building tree 140 of 150\n",
            "building tree 141 of 150\n",
            "building tree 142 of 150\n",
            "building tree 143 of 150\n",
            "building tree 144 of 150\n",
            "building tree 145 of 150\n",
            "building tree 146 of 150\n",
            "building tree 147 of 150\n",
            "building tree 148 of 150\n",
            "building tree 149 of 150\n",
            "building tree 150 of 150\n"
          ]
        },
        {
          "name": "stderr",
          "output_type": "stream",
          "text": [
            "[Parallel(n_jobs=-1)]: Done 150 out of 150 | elapsed:    1.8s finished\n"
          ]
        },
        {
          "data": {
            "text/html": [
              "<style>#sk-container-id-4 {color: black;background-color: white;}#sk-container-id-4 pre{padding: 0;}#sk-container-id-4 div.sk-toggleable {background-color: white;}#sk-container-id-4 label.sk-toggleable__label {cursor: pointer;display: block;width: 100%;margin-bottom: 0;padding: 0.3em;box-sizing: border-box;text-align: center;}#sk-container-id-4 label.sk-toggleable__label-arrow:before {content: \"▸\";float: left;margin-right: 0.25em;color: #696969;}#sk-container-id-4 label.sk-toggleable__label-arrow:hover:before {color: black;}#sk-container-id-4 div.sk-estimator:hover label.sk-toggleable__label-arrow:before {color: black;}#sk-container-id-4 div.sk-toggleable__content {max-height: 0;max-width: 0;overflow: hidden;text-align: left;background-color: #f0f8ff;}#sk-container-id-4 div.sk-toggleable__content pre {margin: 0.2em;color: black;border-radius: 0.25em;background-color: #f0f8ff;}#sk-container-id-4 input.sk-toggleable__control:checked~div.sk-toggleable__content {max-height: 200px;max-width: 100%;overflow: auto;}#sk-container-id-4 input.sk-toggleable__control:checked~label.sk-toggleable__label-arrow:before {content: \"▾\";}#sk-container-id-4 div.sk-estimator input.sk-toggleable__control:checked~label.sk-toggleable__label {background-color: #d4ebff;}#sk-container-id-4 div.sk-label input.sk-toggleable__control:checked~label.sk-toggleable__label {background-color: #d4ebff;}#sk-container-id-4 input.sk-hidden--visually {border: 0;clip: rect(1px 1px 1px 1px);clip: rect(1px, 1px, 1px, 1px);height: 1px;margin: -1px;overflow: hidden;padding: 0;position: absolute;width: 1px;}#sk-container-id-4 div.sk-estimator {font-family: monospace;background-color: #f0f8ff;border: 1px dotted black;border-radius: 0.25em;box-sizing: border-box;margin-bottom: 0.5em;}#sk-container-id-4 div.sk-estimator:hover {background-color: #d4ebff;}#sk-container-id-4 div.sk-parallel-item::after {content: \"\";width: 100%;border-bottom: 1px solid gray;flex-grow: 1;}#sk-container-id-4 div.sk-label:hover label.sk-toggleable__label {background-color: #d4ebff;}#sk-container-id-4 div.sk-serial::before {content: \"\";position: absolute;border-left: 1px solid gray;box-sizing: border-box;top: 0;bottom: 0;left: 50%;z-index: 0;}#sk-container-id-4 div.sk-serial {display: flex;flex-direction: column;align-items: center;background-color: white;padding-right: 0.2em;padding-left: 0.2em;position: relative;}#sk-container-id-4 div.sk-item {position: relative;z-index: 1;}#sk-container-id-4 div.sk-parallel {display: flex;align-items: stretch;justify-content: center;background-color: white;position: relative;}#sk-container-id-4 div.sk-item::before, #sk-container-id-4 div.sk-parallel-item::before {content: \"\";position: absolute;border-left: 1px solid gray;box-sizing: border-box;top: 0;bottom: 0;left: 50%;z-index: -1;}#sk-container-id-4 div.sk-parallel-item {display: flex;flex-direction: column;z-index: 1;position: relative;background-color: white;}#sk-container-id-4 div.sk-parallel-item:first-child::after {align-self: flex-end;width: 50%;}#sk-container-id-4 div.sk-parallel-item:last-child::after {align-self: flex-start;width: 50%;}#sk-container-id-4 div.sk-parallel-item:only-child::after {width: 0;}#sk-container-id-4 div.sk-dashed-wrapped {border: 1px dashed gray;margin: 0 0.4em 0.5em 0.4em;box-sizing: border-box;padding-bottom: 0.4em;background-color: white;}#sk-container-id-4 div.sk-label label {font-family: monospace;font-weight: bold;display: inline-block;line-height: 1.2em;}#sk-container-id-4 div.sk-label-container {text-align: center;}#sk-container-id-4 div.sk-container {/* jupyter's `normalize.less` sets `[hidden] { display: none; }` but bootstrap.min.css set `[hidden] { display: none !important; }` so we also need the `!important` here to be able to override the default hidden behavior on the sphinx rendered scikit-learn.org. See: https://github.com/scikit-learn/scikit-learn/issues/21755 */display: inline-block !important;position: relative;}#sk-container-id-4 div.sk-text-repr-fallback {display: none;}</style><div id=\"sk-container-id-4\" class=\"sk-top-container\"><div class=\"sk-text-repr-fallback\"><pre>RandomForestRegressor(min_samples_leaf=5, min_samples_split=6, n_estimators=150,\n",
              "                      n_jobs=-1, verbose=2)</pre><b>In a Jupyter environment, please rerun this cell to show the HTML representation or trust the notebook. <br />On GitHub, the HTML representation is unable to render, please try loading this page with nbviewer.org.</b></div><div class=\"sk-container\" hidden><div class=\"sk-item\"><div class=\"sk-estimator sk-toggleable\"><input class=\"sk-toggleable__control sk-hidden--visually\" id=\"sk-estimator-id-4\" type=\"checkbox\" checked><label for=\"sk-estimator-id-4\" class=\"sk-toggleable__label sk-toggleable__label-arrow\">RandomForestRegressor</label><div class=\"sk-toggleable__content\"><pre>RandomForestRegressor(min_samples_leaf=5, min_samples_split=6, n_estimators=150,\n",
              "                      n_jobs=-1, verbose=2)</pre></div></div></div></div></div>"
            ],
            "text/plain": [
              "RandomForestRegressor(min_samples_leaf=5, min_samples_split=6, n_estimators=150,\n",
              "                      n_jobs=-1, verbose=2)"
            ]
          },
          "execution_count": 210,
          "metadata": {},
          "output_type": "execute_result"
        }
      ],
      "source": [
        "rfm.fit(X_train,y_train)"
      ]
    },
    {
      "cell_type": "code",
      "execution_count": 211,
      "metadata": {
        "colab": {
          "base_uri": "https://localhost:8080/"
        },
        "id": "pAoeqabOIh-D",
        "outputId": "17c7f2a6-70f2-46ff-84b9-cbdedb143b32"
      },
      "outputs": [
        {
          "name": "stdout",
          "output_type": "stream",
          "text": [
            "By using Tuned Random Forest Regression we got:\n",
            "Training data accuracy 0.5649165344286148\n",
            "Testing data accuracy 0.24079322784446033\n"
          ]
        },
        {
          "name": "stderr",
          "output_type": "stream",
          "text": [
            "[Parallel(n_jobs=16)]: Using backend ThreadingBackend with 16 concurrent workers.\n",
            "[Parallel(n_jobs=16)]: Done   9 tasks      | elapsed:    0.0s\n",
            "[Parallel(n_jobs=16)]: Done 150 out of 150 | elapsed:    0.0s finished\n",
            "[Parallel(n_jobs=16)]: Using backend ThreadingBackend with 16 concurrent workers.\n",
            "[Parallel(n_jobs=16)]: Done   9 tasks      | elapsed:    0.0s\n",
            "[Parallel(n_jobs=16)]: Done 150 out of 150 | elapsed:    0.0s finished\n"
          ]
        }
      ],
      "source": [
        "print(\"By using Tuned Random Forest Regression we got:\")\n",
        "print(\"Training data accuracy\",rfm.score(X_train,y_train))\n",
        "print(\"Testing data accuracy\",rfm.score(X_test,y_test))"
      ]
    },
    {
      "cell_type": "code",
      "execution_count": null,
      "metadata": {
        "id": "-MKEFLx1Ih7T"
      },
      "outputs": [],
      "source": []
    },
    {
      "cell_type": "code",
      "execution_count": null,
      "metadata": {
        "id": "jeDNNyogIh4f"
      },
      "outputs": [],
      "source": []
    },
    {
      "cell_type": "code",
      "execution_count": 212,
      "metadata": {
        "colab": {
          "base_uri": "https://localhost:8080/"
        },
        "id": "kB89jl5zv9XN",
        "outputId": "ba73547b-014c-4821-fb79-c8d3b85dc3e4"
      },
      "outputs": [
        {
          "name": "stderr",
          "output_type": "stream",
          "text": [
            "[Parallel(n_jobs=16)]: Using backend ThreadingBackend with 16 concurrent workers.\n",
            "[Parallel(n_jobs=16)]: Done   9 tasks      | elapsed:    0.0s\n",
            "[Parallel(n_jobs=16)]: Done 150 out of 150 | elapsed:    0.0s finished\n"
          ]
        }
      ],
      "source": [
        "y_pred = rfm.predict(X_test)"
      ]
    },
    {
      "cell_type": "code",
      "execution_count": 213,
      "metadata": {
        "colab": {
          "base_uri": "https://localhost:8080/"
        },
        "id": "_TdE1KIjwU6e",
        "outputId": "f4787861-6b22-48fd-b3a0-2eb4663eb123"
      },
      "outputs": [
        {
          "name": "stdout",
          "output_type": "stream",
          "text": [
            "Coefficient of Determination: 0.24079322784446033\n"
          ]
        }
      ],
      "source": [
        "# Calculating R2 value or Coefficient of Determination\n",
        "test_set_r2 = r2_score(y_test, y_pred)\n",
        "print(\"Coefficient of Determination:\",test_set_r2)"
      ]
    },
    {
      "cell_type": "code",
      "execution_count": 214,
      "metadata": {
        "colab": {
          "base_uri": "https://localhost:8080/"
        },
        "id": "4kyYI7S-wJqQ",
        "outputId": "77d4eb66-4580-4bfb-ed3e-3dad110be23c"
      },
      "outputs": [
        {
          "name": "stdout",
          "output_type": "stream",
          "text": [
            "Mean Absolute Error: 51085.0826640187\n"
          ]
        }
      ],
      "source": [
        "# Calculating MAE or Mean Absolute Error\n",
        "mae = mean_absolute_error(y_test, y_pred)\n",
        "print(\"Mean Absolute Error:\",mae)"
      ]
    },
    {
      "cell_type": "code",
      "execution_count": 215,
      "metadata": {
        "colab": {
          "base_uri": "https://localhost:8080/"
        },
        "id": "TYs_Kl8nwKQX",
        "outputId": "855370ba-df20-4fd3-8ec8-85c597949446"
      },
      "outputs": [
        {
          "name": "stdout",
          "output_type": "stream",
          "text": [
            "Root Mean Squared Error: 65504.33090778013\n"
          ]
        }
      ],
      "source": [
        "# Calculating RMSE or Root Mean Square Error\n",
        "rmse = (np.sqrt(mean_squared_error(y_test, y_pred)))\n",
        "print(\"Root Mean Squared Error:\",rmse)"
      ]
    },
    {
      "cell_type": "code",
      "execution_count": 217,
      "metadata": {
        "colab": {
          "base_uri": "https://localhost:8080/"
        },
        "id": "xOh4SAhDwfU-",
        "outputId": "f778126e-67f7-4c1a-b379-7d70a8bc76d0"
      },
      "outputs": [
        {
          "name": "stdout",
          "output_type": "stream",
          "text": [
            "The MAE is 31.49% of Average of y_test (162,243)\n"
          ]
        }
      ],
      "source": [
        "# Comparing the MAE with Mean of the actual values (y_test)\n",
        "print(f\"The MAE is {(mae/np.mean(y_test))*100:.2f}% of Average of y_test ({np.mean(y_test):,.0f})\")"
      ]
    },
    {
      "cell_type": "code",
      "execution_count": 218,
      "metadata": {
        "colab": {
          "base_uri": "https://localhost:8080/"
        },
        "id": "koFIfZW9w0EN",
        "outputId": "cdb43475-b55e-4774-c11c-c96aca396df3"
      },
      "outputs": [
        {
          "name": "stdout",
          "output_type": "stream",
          "text": [
            "The RMSE is 40.37% of Average of y_test (162,243)\n"
          ]
        }
      ],
      "source": [
        "# Comparing the RMSE with Mean of the actual values (y_test)\n",
        "print(f\"The RMSE is {(rmse/np.mean(y_test))*100:.2f}% of Average of y_test ({np.mean(y_test):,.0f})\")"
      ]
    },
    {
      "cell_type": "code",
      "execution_count": 221,
      "metadata": {
        "colab": {
          "base_uri": "https://localhost:8080/",
          "height": 206
        },
        "id": "bb3jPwq8mw2V",
        "outputId": "74ccf17e-2926-444c-a9f1-8634f989dec7"
      },
      "outputs": [
        {
          "data": {
            "text/html": [
              "<div>\n",
              "<style scoped>\n",
              "    .dataframe tbody tr th:only-of-type {\n",
              "        vertical-align: middle;\n",
              "    }\n",
              "\n",
              "    .dataframe tbody tr th {\n",
              "        vertical-align: top;\n",
              "    }\n",
              "\n",
              "    .dataframe thead th {\n",
              "        text-align: right;\n",
              "    }\n",
              "</style>\n",
              "<table border=\"1\" class=\"dataframe\">\n",
              "  <thead>\n",
              "    <tr style=\"text-align: right;\">\n",
              "      <th></th>\n",
              "      <th>Bedrooms</th>\n",
              "      <th>Bathrooms</th>\n",
              "      <th>FinishedSqft</th>\n",
              "      <th>Lotsize</th>\n",
              "      <th>Sale_date</th>\n",
              "      <th>Year</th>\n",
              "      <th>Month</th>\n",
              "      <th>Sale_price</th>\n",
              "    </tr>\n",
              "  </thead>\n",
              "  <tbody>\n",
              "    <tr>\n",
              "      <th>0</th>\n",
              "      <td>4</td>\n",
              "      <td>2</td>\n",
              "      <td>2200</td>\n",
              "      <td>128502</td>\n",
              "      <td>2021-11-23</td>\n",
              "      <td>2021</td>\n",
              "      <td>11</td>\n",
              "      <td>336000</td>\n",
              "    </tr>\n",
              "    <tr>\n",
              "      <th>1</th>\n",
              "      <td>2</td>\n",
              "      <td>2</td>\n",
              "      <td>1125</td>\n",
              "      <td>101059</td>\n",
              "      <td>2021-10-08</td>\n",
              "      <td>2021</td>\n",
              "      <td>10</td>\n",
              "      <td>250000</td>\n",
              "    </tr>\n",
              "    <tr>\n",
              "      <th>2</th>\n",
              "      <td>4</td>\n",
              "      <td>1</td>\n",
              "      <td>1471</td>\n",
              "      <td>95832</td>\n",
              "      <td>2022-08-12</td>\n",
              "      <td>2022</td>\n",
              "      <td>8</td>\n",
              "      <td>274900</td>\n",
              "    </tr>\n",
              "    <tr>\n",
              "      <th>3</th>\n",
              "      <td>4</td>\n",
              "      <td>3</td>\n",
              "      <td>2303</td>\n",
              "      <td>84071</td>\n",
              "      <td>2019-07-18</td>\n",
              "      <td>2019</td>\n",
              "      <td>7</td>\n",
              "      <td>237500</td>\n",
              "    </tr>\n",
              "    <tr>\n",
              "      <th>4</th>\n",
              "      <td>4</td>\n",
              "      <td>2</td>\n",
              "      <td>1247</td>\n",
              "      <td>81893</td>\n",
              "      <td>2023-06-01</td>\n",
              "      <td>2023</td>\n",
              "      <td>6</td>\n",
              "      <td>150000</td>\n",
              "    </tr>\n",
              "  </tbody>\n",
              "</table>\n",
              "</div>"
            ],
            "text/plain": [
              "   Bedrooms  Bathrooms  FinishedSqft  Lotsize  Sale_date  Year  Month  \\\n",
              "0         4          2          2200   128502 2021-11-23  2021     11   \n",
              "1         2          2          1125   101059 2021-10-08  2021     10   \n",
              "2         4          1          1471    95832 2022-08-12  2022      8   \n",
              "3         4          3          2303    84071 2019-07-18  2019      7   \n",
              "4         4          2          1247    81893 2023-06-01  2023      6   \n",
              "\n",
              "   Sale_price  \n",
              "0      336000  \n",
              "1      250000  \n",
              "2      274900  \n",
              "3      237500  \n",
              "4      150000  "
            ]
          },
          "execution_count": 221,
          "metadata": {},
          "output_type": "execute_result"
        }
      ],
      "source": [
        "sales_data_df.head()"
      ]
    },
    {
      "cell_type": "code",
      "execution_count": null,
      "metadata": {
        "id": "IVHSu3r-qjWO"
      },
      "outputs": [],
      "source": []
    },
    {
      "cell_type": "code",
      "execution_count": null,
      "metadata": {},
      "outputs": [],
      "source": []
    },
    {
      "cell_type": "code",
      "execution_count": null,
      "metadata": {},
      "outputs": [],
      "source": []
    }
  ],
  "metadata": {
    "colab": {
      "authorship_tag": "ABX9TyNTWBnrhGI8JQtxLTHdn01d",
      "include_colab_link": true,
      "provenance": []
    },
    "kernelspec": {
      "display_name": "Python 3",
      "name": "python3"
    },
    "language_info": {
      "codemirror_mode": {
        "name": "ipython",
        "version": 3
      },
      "file_extension": ".py",
      "mimetype": "text/x-python",
      "name": "python",
      "nbconvert_exporter": "python",
      "pygments_lexer": "ipython3",
      "version": "3.11.5"
    }
  },
  "nbformat": 4,
  "nbformat_minor": 0
}
