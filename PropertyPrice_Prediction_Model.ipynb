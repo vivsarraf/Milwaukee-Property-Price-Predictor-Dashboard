{
  "cells": [
    {
      "cell_type": "markdown",
      "metadata": {
        "colab_type": "text",
        "id": "view-in-github"
      },
      "source": [
        "<a href=\"https://colab.research.google.com/github/vivsarraf/Project-4/blob/Ajunjee/Project_4_Price_Prediction_Model.ipynb\" target=\"_parent\"><img src=\"https://colab.research.google.com/assets/colab-badge.svg\" alt=\"Open In Colab\"/></a>"
      ]
    },
    {
      "cell_type": "code",
      "execution_count": 4,
      "metadata": {
        "colab": {
          "base_uri": "https://localhost:8080/",
          "height": 206
        },
        "id": "H4hG9B2keUTY",
        "outputId": "25554a62-aa64-4fe5-814f-d2a3adc891f8"
      },
      "outputs": [],
      "source": [
        "# Import our dependencies\n",
        "from sklearn.model_selection import train_test_split\n",
        "from sklearn.preprocessing import StandardScaler\n",
        "import pandas as pd\n",
        "from pathlib import Path\n",
        "import tensorflow as tf\n",
        "import numpy as np\n",
        "import matplotlib.pyplot as plt\n",
        "from tensorflow.keras.layers import Dense\n",
        "from tensorflow.keras.models import Sequential, Model\n",
        "from sklearn.model_selection import train_test_split\n",
        "from sklearn.preprocessing import StandardScaler\n",
        "from sklearn.metrics import mean_squared_error,r2_score,mean_absolute_error\n",
        "\n"
      ]
    },
    {
      "cell_type": "code",
      "execution_count": 6,
      "metadata": {},
      "outputs": [
        {
          "data": {
            "text/html": [
              "<div>\n",
              "<style scoped>\n",
              "    .dataframe tbody tr th:only-of-type {\n",
              "        vertical-align: middle;\n",
              "    }\n",
              "\n",
              "    .dataframe tbody tr th {\n",
              "        vertical-align: top;\n",
              "    }\n",
              "\n",
              "    .dataframe thead th {\n",
              "        text-align: right;\n",
              "    }\n",
              "</style>\n",
              "<table border=\"1\" class=\"dataframe\">\n",
              "  <thead>\n",
              "    <tr style=\"text-align: right;\">\n",
              "      <th></th>\n",
              "      <th>Bdrms</th>\n",
              "      <th>Baths_total</th>\n",
              "      <th>FinishedSqft</th>\n",
              "      <th>Lotsize</th>\n",
              "      <th>Sale_date</th>\n",
              "      <th>Year</th>\n",
              "      <th>Month</th>\n",
              "      <th>Sale_price</th>\n",
              "    </tr>\n",
              "  </thead>\n",
              "  <tbody>\n",
              "    <tr>\n",
              "      <th>0</th>\n",
              "      <td>4</td>\n",
              "      <td>2</td>\n",
              "      <td>2200</td>\n",
              "      <td>128502</td>\n",
              "      <td>2021-11-23</td>\n",
              "      <td>2021</td>\n",
              "      <td>11</td>\n",
              "      <td>336000</td>\n",
              "    </tr>\n",
              "    <tr>\n",
              "      <th>1</th>\n",
              "      <td>2</td>\n",
              "      <td>2</td>\n",
              "      <td>1125</td>\n",
              "      <td>101059</td>\n",
              "      <td>2021-10-08</td>\n",
              "      <td>2021</td>\n",
              "      <td>10</td>\n",
              "      <td>250000</td>\n",
              "    </tr>\n",
              "    <tr>\n",
              "      <th>2</th>\n",
              "      <td>4</td>\n",
              "      <td>1</td>\n",
              "      <td>1471</td>\n",
              "      <td>95832</td>\n",
              "      <td>2022-08-12</td>\n",
              "      <td>2022</td>\n",
              "      <td>8</td>\n",
              "      <td>274900</td>\n",
              "    </tr>\n",
              "    <tr>\n",
              "      <th>3</th>\n",
              "      <td>4</td>\n",
              "      <td>3</td>\n",
              "      <td>2303</td>\n",
              "      <td>84071</td>\n",
              "      <td>2019-07-18</td>\n",
              "      <td>2019</td>\n",
              "      <td>7</td>\n",
              "      <td>237500</td>\n",
              "    </tr>\n",
              "    <tr>\n",
              "      <th>4</th>\n",
              "      <td>4</td>\n",
              "      <td>2</td>\n",
              "      <td>1247</td>\n",
              "      <td>81893</td>\n",
              "      <td>2023-06-01</td>\n",
              "      <td>2023</td>\n",
              "      <td>6</td>\n",
              "      <td>150000</td>\n",
              "    </tr>\n",
              "  </tbody>\n",
              "</table>\n",
              "</div>"
            ],
            "text/plain": [
              "   Bdrms  Baths_total  FinishedSqft  Lotsize   Sale_date  Year  Month  \\\n",
              "0      4            2          2200   128502  2021-11-23  2021     11   \n",
              "1      2            2          1125   101059  2021-10-08  2021     10   \n",
              "2      4            1          1471    95832  2022-08-12  2022      8   \n",
              "3      4            3          2303    84071  2019-07-18  2019      7   \n",
              "4      4            2          1247    81893  2023-06-01  2023      6   \n",
              "\n",
              "   Sale_price  \n",
              "0      336000  \n",
              "1      250000  \n",
              "2      274900  \n",
              "3      237500  \n",
              "4      150000  "
            ]
          },
          "execution_count": 6,
          "metadata": {},
          "output_type": "execute_result"
        }
      ],
      "source": [
        "\n",
        "# Store filepath in a variable\n",
        "file_one = Path(\"Resources/cleaned_property_sales_data_no-outliers.csv\")\n",
        "sales_data_df =  pd.read_csv(file_one, encoding=\"ISO-8859-1\")\n",
        "sales_data_df.head()"
      ]
    },
    {
      "cell_type": "code",
      "execution_count": 7,
      "metadata": {
        "colab": {
          "base_uri": "https://localhost:8080/",
          "height": 206
        },
        "id": "wbO6S3bwoA4p",
        "outputId": "78e83b14-d181-4f6b-a9b2-4ba414ff4148"
      },
      "outputs": [
        {
          "data": {
            "text/html": [
              "<div>\n",
              "<style scoped>\n",
              "    .dataframe tbody tr th:only-of-type {\n",
              "        vertical-align: middle;\n",
              "    }\n",
              "\n",
              "    .dataframe tbody tr th {\n",
              "        vertical-align: top;\n",
              "    }\n",
              "\n",
              "    .dataframe thead th {\n",
              "        text-align: right;\n",
              "    }\n",
              "</style>\n",
              "<table border=\"1\" class=\"dataframe\">\n",
              "  <thead>\n",
              "    <tr style=\"text-align: right;\">\n",
              "      <th></th>\n",
              "      <th>Bedrooms</th>\n",
              "      <th>Bathrooms</th>\n",
              "      <th>FinishedSqft</th>\n",
              "      <th>Lotsize</th>\n",
              "      <th>Sale_date</th>\n",
              "      <th>Year</th>\n",
              "      <th>Month</th>\n",
              "      <th>Sale_price</th>\n",
              "    </tr>\n",
              "  </thead>\n",
              "  <tbody>\n",
              "    <tr>\n",
              "      <th>0</th>\n",
              "      <td>4</td>\n",
              "      <td>2</td>\n",
              "      <td>2200</td>\n",
              "      <td>128502</td>\n",
              "      <td>2021-11-23</td>\n",
              "      <td>2021</td>\n",
              "      <td>11</td>\n",
              "      <td>336000</td>\n",
              "    </tr>\n",
              "    <tr>\n",
              "      <th>1</th>\n",
              "      <td>2</td>\n",
              "      <td>2</td>\n",
              "      <td>1125</td>\n",
              "      <td>101059</td>\n",
              "      <td>2021-10-08</td>\n",
              "      <td>2021</td>\n",
              "      <td>10</td>\n",
              "      <td>250000</td>\n",
              "    </tr>\n",
              "    <tr>\n",
              "      <th>2</th>\n",
              "      <td>4</td>\n",
              "      <td>1</td>\n",
              "      <td>1471</td>\n",
              "      <td>95832</td>\n",
              "      <td>2022-08-12</td>\n",
              "      <td>2022</td>\n",
              "      <td>8</td>\n",
              "      <td>274900</td>\n",
              "    </tr>\n",
              "    <tr>\n",
              "      <th>3</th>\n",
              "      <td>4</td>\n",
              "      <td>3</td>\n",
              "      <td>2303</td>\n",
              "      <td>84071</td>\n",
              "      <td>2019-07-18</td>\n",
              "      <td>2019</td>\n",
              "      <td>7</td>\n",
              "      <td>237500</td>\n",
              "    </tr>\n",
              "    <tr>\n",
              "      <th>4</th>\n",
              "      <td>4</td>\n",
              "      <td>2</td>\n",
              "      <td>1247</td>\n",
              "      <td>81893</td>\n",
              "      <td>2023-06-01</td>\n",
              "      <td>2023</td>\n",
              "      <td>6</td>\n",
              "      <td>150000</td>\n",
              "    </tr>\n",
              "  </tbody>\n",
              "</table>\n",
              "</div>"
            ],
            "text/plain": [
              "   Bedrooms  Bathrooms  FinishedSqft  Lotsize   Sale_date  Year  Month  \\\n",
              "0         4          2          2200   128502  2021-11-23  2021     11   \n",
              "1         2          2          1125   101059  2021-10-08  2021     10   \n",
              "2         4          1          1471    95832  2022-08-12  2022      8   \n",
              "3         4          3          2303    84071  2019-07-18  2019      7   \n",
              "4         4          2          1247    81893  2023-06-01  2023      6   \n",
              "\n",
              "   Sale_price  \n",
              "0      336000  \n",
              "1      250000  \n",
              "2      274900  \n",
              "3      237500  \n",
              "4      150000  "
            ]
          },
          "execution_count": 7,
          "metadata": {},
          "output_type": "execute_result"
        }
      ],
      "source": [
        "sales_data_df = sales_data_df.rename(columns={'Bdrms':'Bedrooms', 'Baths_total': 'Bathrooms'})\n",
        "sales_data_df.head()"
      ]
    },
    {
      "cell_type": "code",
      "execution_count": 8,
      "metadata": {
        "colab": {
          "base_uri": "https://localhost:8080/"
        },
        "id": "xQyasf-SpEsS",
        "outputId": "6ea34e7a-1e92-46a8-a118-4023fb29029f"
      },
      "outputs": [
        {
          "data": {
            "text/plain": [
              "Bedrooms        0\n",
              "Bathrooms       0\n",
              "FinishedSqft    0\n",
              "Lotsize         0\n",
              "Sale_date       0\n",
              "Year            0\n",
              "Month           0\n",
              "Sale_price      0\n",
              "dtype: int64"
            ]
          },
          "execution_count": 8,
          "metadata": {},
          "output_type": "execute_result"
        }
      ],
      "source": [
        "sales_data_df.isnull().sum()"
      ]
    },
    {
      "cell_type": "code",
      "execution_count": 13,
      "metadata": {
        "colab": {
          "base_uri": "https://localhost:8080/"
        },
        "id": "eKkTa7QrhM-s",
        "outputId": "3e6f2d17-8a14-4bab-99fa-66c1afdcc636"
      },
      "outputs": [
        {
          "name": "stdout",
          "output_type": "stream",
          "text": [
            "<class 'pandas.core.frame.DataFrame'>\n",
            "RangeIndex: 23731 entries, 0 to 23730\n",
            "Data columns (total 8 columns):\n",
            " #   Column        Non-Null Count  Dtype         \n",
            "---  ------        --------------  -----         \n",
            " 0   Bedrooms      23731 non-null  int64         \n",
            " 1   Bathrooms     23731 non-null  int64         \n",
            " 2   FinishedSqft  23731 non-null  int64         \n",
            " 3   Lotsize       23731 non-null  int64         \n",
            " 4   Sale_date     23731 non-null  datetime64[ns]\n",
            " 5   Year          23731 non-null  int64         \n",
            " 6   Month         23731 non-null  int64         \n",
            " 7   Sale_price    23731 non-null  int64         \n",
            "dtypes: datetime64[ns](1), int64(7)\n",
            "memory usage: 1.4 MB\n"
          ]
        },
        {
          "name": "stderr",
          "output_type": "stream",
          "text": [
            "C:\\Users\\sarra\\AppData\\Local\\Temp\\ipykernel_7888\\2163812407.py:1: UserWarning: The argument 'infer_datetime_format' is deprecated and will be removed in a future version. A strict version of it is now the default, see https://pandas.pydata.org/pdeps/0004-consistent-to-datetime-parsing.html. You can safely remove this argument.\n",
            "  sales_data_df['Sale_date'] = pd.to_datetime(sales_data_df['Sale_date'], infer_datetime_format=True, format='mixed')\n"
          ]
        }
      ],
      "source": [
        "sales_data_df['Sale_date'] = pd.to_datetime(sales_data_df['Sale_date'], infer_datetime_format=True, format='mixed')\n",
        "sales_data_df.info()"
      ]
    },
    {
      "cell_type": "code",
      "execution_count": 17,
      "metadata": {},
      "outputs": [
        {
          "data": {
            "text/html": [
              "<div>\n",
              "<style scoped>\n",
              "    .dataframe tbody tr th:only-of-type {\n",
              "        vertical-align: middle;\n",
              "    }\n",
              "\n",
              "    .dataframe tbody tr th {\n",
              "        vertical-align: top;\n",
              "    }\n",
              "\n",
              "    .dataframe thead th {\n",
              "        text-align: right;\n",
              "    }\n",
              "</style>\n",
              "<table border=\"1\" class=\"dataframe\">\n",
              "  <thead>\n",
              "    <tr style=\"text-align: right;\">\n",
              "      <th></th>\n",
              "      <th>Bedrooms</th>\n",
              "      <th>Bathrooms</th>\n",
              "      <th>FinishedSqft</th>\n",
              "      <th>Lotsize</th>\n",
              "      <th>Year</th>\n",
              "    </tr>\n",
              "  </thead>\n",
              "  <tbody>\n",
              "    <tr>\n",
              "      <th>0</th>\n",
              "      <td>4</td>\n",
              "      <td>2</td>\n",
              "      <td>2200</td>\n",
              "      <td>128502</td>\n",
              "      <td>2021</td>\n",
              "    </tr>\n",
              "    <tr>\n",
              "      <th>1</th>\n",
              "      <td>2</td>\n",
              "      <td>2</td>\n",
              "      <td>1125</td>\n",
              "      <td>101059</td>\n",
              "      <td>2021</td>\n",
              "    </tr>\n",
              "    <tr>\n",
              "      <th>2</th>\n",
              "      <td>4</td>\n",
              "      <td>1</td>\n",
              "      <td>1471</td>\n",
              "      <td>95832</td>\n",
              "      <td>2022</td>\n",
              "    </tr>\n",
              "    <tr>\n",
              "      <th>3</th>\n",
              "      <td>4</td>\n",
              "      <td>3</td>\n",
              "      <td>2303</td>\n",
              "      <td>84071</td>\n",
              "      <td>2019</td>\n",
              "    </tr>\n",
              "    <tr>\n",
              "      <th>4</th>\n",
              "      <td>4</td>\n",
              "      <td>2</td>\n",
              "      <td>1247</td>\n",
              "      <td>81893</td>\n",
              "      <td>2023</td>\n",
              "    </tr>\n",
              "  </tbody>\n",
              "</table>\n",
              "</div>"
            ],
            "text/plain": [
              "   Bedrooms  Bathrooms  FinishedSqft  Lotsize  Year\n",
              "0         4          2          2200   128502  2021\n",
              "1         2          2          1125   101059  2021\n",
              "2         4          1          1471    95832  2022\n",
              "3         4          3          2303    84071  2019\n",
              "4         4          2          1247    81893  2023"
            ]
          },
          "execution_count": 17,
          "metadata": {},
          "output_type": "execute_result"
        }
      ],
      "source": [
        "\n",
        "y = sales_data_df.Sale_price.values\n",
        "X = sales_data_df.drop(columns = ['Sale_price', 'Sale_date','Month'], axis=1)\n",
        "X.head()"
      ]
    },
    {
      "cell_type": "code",
      "execution_count": 18,
      "metadata": {},
      "outputs": [
        {
          "data": {
            "text/plain": [
              "Bedrooms        0\n",
              "Bathrooms       0\n",
              "FinishedSqft    0\n",
              "Lotsize         0\n",
              "Sale_date       0\n",
              "Year            0\n",
              "Month           0\n",
              "Sale_price      0\n",
              "dtype: int64"
            ]
          },
          "execution_count": 18,
          "metadata": {},
          "output_type": "execute_result"
        }
      ],
      "source": [
        "\n",
        "sales_data_df.isnull().sum()"
      ]
    },
    {
      "cell_type": "code",
      "execution_count": 19,
      "metadata": {
        "id": "MJZ5k-4hhC3s"
      },
      "outputs": [],
      "source": [
        "# Split the preprocessed data into a training and testing dataset\n",
        "# Assign the function a random_state equal to 1\n",
        "X_train, X_test, y_train, y_test = train_test_split(X, y, test_size=0.2, train_size=0.8, random_state=1)"
      ]
    },
    {
      "cell_type": "code",
      "execution_count": 20,
      "metadata": {
        "id": "zbd34barhOn8"
      },
      "outputs": [],
      "source": [
        "# Create a StandardScaler instance\n",
        "scaler = StandardScaler()\n",
        "\n",
        "# Fit the scaler to the features training dataset\n",
        "X_scaler = scaler.fit(X_train)\n",
        "\n",
        "# Fit the scaler to the features training dataset\n",
        "X_train_scaled = X_scaler.transform(X_train)\n",
        "X_test_scaled = X_scaler.transform(X_test)"
      ]
    },
    {
      "cell_type": "code",
      "execution_count": 21,
      "metadata": {
        "colab": {
          "base_uri": "https://localhost:8080/"
        },
        "id": "FJkDFiashP6k",
        "outputId": "5dc792af-61b6-4b46-e5ae-86a8c4561c50"
      },
      "outputs": [
        {
          "data": {
            "text/plain": [
              "5"
            ]
          },
          "execution_count": 21,
          "metadata": {},
          "output_type": "execute_result"
        }
      ],
      "source": [
        "# Define the the number of inputs (features) to the model\n",
        "number_input_features = len(X.iloc[0])\n",
        "\n",
        "# Review the number of features\n",
        "number_input_features"
      ]
    },
    {
      "cell_type": "code",
      "execution_count": 22,
      "metadata": {
        "colab": {
          "base_uri": "https://localhost:8080/"
        },
        "id": "mkTQGlDZhXcU",
        "outputId": "4b432edc-1e6b-4ef2-d705-5a58a8b98358"
      },
      "outputs": [
        {
          "data": {
            "text/plain": [
              "64"
            ]
          },
          "execution_count": 22,
          "metadata": {},
          "output_type": "execute_result"
        }
      ],
      "source": [
        "# Define the number of neurons in the output layer\n",
        "number_output_neurons = 1\n",
        "\n",
        "# Define the number of hidden nodes for the first hidden layer\n",
        "hidden_nodes_layer1 = 32\n",
        "\n",
        "# Define the number of hidden nodes for the second hidden layer\n",
        "hidden_nodes_layer2 = 32\n",
        "\n",
        "# Review the number hidden nodes in the second layer\n",
        "hidden_nodes_layers = hidden_nodes_layer1 + hidden_nodes_layer2\n",
        "hidden_nodes_layers"
      ]
    },
    {
      "cell_type": "code",
      "execution_count": 23,
      "metadata": {
        "id": "bFRxiOOohaxl"
      },
      "outputs": [
        {
          "name": "stderr",
          "output_type": "stream",
          "text": [
            "c:\\Users\\sarra\\anaconda3\\Lib\\site-packages\\keras\\src\\layers\\core\\dense.py:87: UserWarning: Do not pass an `input_shape`/`input_dim` argument to a layer. When using Sequential models, prefer using an `Input(shape)` object as the first layer in the model instead.\n",
            "  super().__init__(activity_regularizer=activity_regularizer, **kwargs)\n"
          ]
        }
      ],
      "source": [
        "# Create the Sequential model instance\n",
        "nn = Sequential()\n",
        "\n",
        "# Add the first hidden layer\n",
        "nn.add(Dense(units=hidden_nodes_layer1, input_dim=number_input_features, activation=\"relu\"))\n",
        "\n",
        "# Add the second hidden layer\n",
        "nn.add(Dense(units=hidden_nodes_layer2, activation=\"relu\"))\n",
        "\n",
        "# Add the output layer to the model specifying the number of output neurons and activation function\n",
        "nn.add(Dense(units=number_output_neurons, activation=\"linear\"))"
      ]
    },
    {
      "cell_type": "code",
      "execution_count": 24,
      "metadata": {
        "colab": {
          "base_uri": "https://localhost:8080/"
        },
        "id": "GlN4P045hdNN",
        "outputId": "5186b38f-561f-4bd4-a098-4d68c76d2a8d"
      },
      "outputs": [
        {
          "data": {
            "text/html": [
              "<pre style=\"white-space:pre;overflow-x:auto;line-height:normal;font-family:Menlo,'DejaVu Sans Mono',consolas,'Courier New',monospace\"><span style=\"font-weight: bold\">Model: \"sequential\"</span>\n",
              "</pre>\n"
            ],
            "text/plain": [
              "\u001b[1mModel: \"sequential\"\u001b[0m\n"
            ]
          },
          "metadata": {},
          "output_type": "display_data"
        },
        {
          "data": {
            "text/html": [
              "<pre style=\"white-space:pre;overflow-x:auto;line-height:normal;font-family:Menlo,'DejaVu Sans Mono',consolas,'Courier New',monospace\">┏━━━━━━━━━━━━━━━━━━━━━━━━━━━━━━━━━┳━━━━━━━━━━━━━━━━━━━━━━━━┳━━━━━━━━━━━━━━━┓\n",
              "┃<span style=\"font-weight: bold\"> Layer (type)                    </span>┃<span style=\"font-weight: bold\"> Output Shape           </span>┃<span style=\"font-weight: bold\">       Param # </span>┃\n",
              "┡━━━━━━━━━━━━━━━━━━━━━━━━━━━━━━━━━╇━━━━━━━━━━━━━━━━━━━━━━━━╇━━━━━━━━━━━━━━━┩\n",
              "│ dense (<span style=\"color: #0087ff; text-decoration-color: #0087ff\">Dense</span>)                   │ (<span style=\"color: #00d7ff; text-decoration-color: #00d7ff\">None</span>, <span style=\"color: #00af00; text-decoration-color: #00af00\">32</span>)             │           <span style=\"color: #00af00; text-decoration-color: #00af00\">192</span> │\n",
              "├─────────────────────────────────┼────────────────────────┼───────────────┤\n",
              "│ dense_1 (<span style=\"color: #0087ff; text-decoration-color: #0087ff\">Dense</span>)                 │ (<span style=\"color: #00d7ff; text-decoration-color: #00d7ff\">None</span>, <span style=\"color: #00af00; text-decoration-color: #00af00\">32</span>)             │         <span style=\"color: #00af00; text-decoration-color: #00af00\">1,056</span> │\n",
              "├─────────────────────────────────┼────────────────────────┼───────────────┤\n",
              "│ dense_2 (<span style=\"color: #0087ff; text-decoration-color: #0087ff\">Dense</span>)                 │ (<span style=\"color: #00d7ff; text-decoration-color: #00d7ff\">None</span>, <span style=\"color: #00af00; text-decoration-color: #00af00\">1</span>)              │            <span style=\"color: #00af00; text-decoration-color: #00af00\">33</span> │\n",
              "└─────────────────────────────────┴────────────────────────┴───────────────┘\n",
              "</pre>\n"
            ],
            "text/plain": [
              "┏━━━━━━━━━━━━━━━━━━━━━━━━━━━━━━━━━┳━━━━━━━━━━━━━━━━━━━━━━━━┳━━━━━━━━━━━━━━━┓\n",
              "┃\u001b[1m \u001b[0m\u001b[1mLayer (type)                   \u001b[0m\u001b[1m \u001b[0m┃\u001b[1m \u001b[0m\u001b[1mOutput Shape          \u001b[0m\u001b[1m \u001b[0m┃\u001b[1m \u001b[0m\u001b[1m      Param #\u001b[0m\u001b[1m \u001b[0m┃\n",
              "┡━━━━━━━━━━━━━━━━━━━━━━━━━━━━━━━━━╇━━━━━━━━━━━━━━━━━━━━━━━━╇━━━━━━━━━━━━━━━┩\n",
              "│ dense (\u001b[38;5;33mDense\u001b[0m)                   │ (\u001b[38;5;45mNone\u001b[0m, \u001b[38;5;34m32\u001b[0m)             │           \u001b[38;5;34m192\u001b[0m │\n",
              "├─────────────────────────────────┼────────────────────────┼───────────────┤\n",
              "│ dense_1 (\u001b[38;5;33mDense\u001b[0m)                 │ (\u001b[38;5;45mNone\u001b[0m, \u001b[38;5;34m32\u001b[0m)             │         \u001b[38;5;34m1,056\u001b[0m │\n",
              "├─────────────────────────────────┼────────────────────────┼───────────────┤\n",
              "│ dense_2 (\u001b[38;5;33mDense\u001b[0m)                 │ (\u001b[38;5;45mNone\u001b[0m, \u001b[38;5;34m1\u001b[0m)              │            \u001b[38;5;34m33\u001b[0m │\n",
              "└─────────────────────────────────┴────────────────────────┴───────────────┘\n"
            ]
          },
          "metadata": {},
          "output_type": "display_data"
        },
        {
          "data": {
            "text/html": [
              "<pre style=\"white-space:pre;overflow-x:auto;line-height:normal;font-family:Menlo,'DejaVu Sans Mono',consolas,'Courier New',monospace\"><span style=\"font-weight: bold\"> Total params: </span><span style=\"color: #00af00; text-decoration-color: #00af00\">1,281</span> (5.00 KB)\n",
              "</pre>\n"
            ],
            "text/plain": [
              "\u001b[1m Total params: \u001b[0m\u001b[38;5;34m1,281\u001b[0m (5.00 KB)\n"
            ]
          },
          "metadata": {},
          "output_type": "display_data"
        },
        {
          "data": {
            "text/html": [
              "<pre style=\"white-space:pre;overflow-x:auto;line-height:normal;font-family:Menlo,'DejaVu Sans Mono',consolas,'Courier New',monospace\"><span style=\"font-weight: bold\"> Trainable params: </span><span style=\"color: #00af00; text-decoration-color: #00af00\">1,281</span> (5.00 KB)\n",
              "</pre>\n"
            ],
            "text/plain": [
              "\u001b[1m Trainable params: \u001b[0m\u001b[38;5;34m1,281\u001b[0m (5.00 KB)\n"
            ]
          },
          "metadata": {},
          "output_type": "display_data"
        },
        {
          "data": {
            "text/html": [
              "<pre style=\"white-space:pre;overflow-x:auto;line-height:normal;font-family:Menlo,'DejaVu Sans Mono',consolas,'Courier New',monospace\"><span style=\"font-weight: bold\"> Non-trainable params: </span><span style=\"color: #00af00; text-decoration-color: #00af00\">0</span> (0.00 B)\n",
              "</pre>\n"
            ],
            "text/plain": [
              "\u001b[1m Non-trainable params: \u001b[0m\u001b[38;5;34m0\u001b[0m (0.00 B)\n"
            ]
          },
          "metadata": {},
          "output_type": "display_data"
        }
      ],
      "source": [
        "# Display the Sequential model summary\n",
        "nn.summary()"
      ]
    },
    {
      "cell_type": "code",
      "execution_count": 25,
      "metadata": {
        "id": "t0eOOXq9hq2t"
      },
      "outputs": [],
      "source": [
        "# Compile the Sequential model\n",
        "nn.compile(loss=\"mse\", optimizer=\"adam\", metrics=[\"accuracy\"])"
      ]
    },
    {
      "cell_type": "code",
      "execution_count": 255,
      "metadata": {
        "id": "TY8B32VShuD8"
      },
      "outputs": [],
      "source": [
        "# # Horrible accuracy for NN, please disregard\n",
        "# # Fit the model using 100 epochs and the training data\n",
        "# fit_model = nn.fit(X_train, y_train, epochs=10)"
      ]
    },
    {
      "cell_type": "code",
      "execution_count": 256,
      "metadata": {
        "id": "DPROkTcWhxCk"
      },
      "outputs": [],
      "source": [
        "# # Evaluate the model loss and accuracy metrics using the evaluate method and the TRAIN data\n",
        "# model_loss, model_accuracy = nn.evaluate(X_train_scaled, y_train,verbose=0)\n",
        "\n",
        "# # Display the model loss and accuracy results\n",
        "# print(f\"Loss: {model_loss}, Accuracy: {model_accuracy}\")"
      ]
    },
    {
      "cell_type": "code",
      "execution_count": 26,
      "metadata": {
        "colab": {
          "base_uri": "https://localhost:8080/"
        },
        "id": "hhFj_9rvo8kR",
        "outputId": "6af85216-bec2-42d1-9aea-ab00ab300471"
      },
      "outputs": [
        {
          "name": "stdout",
          "output_type": "stream",
          "text": [
            "By using Linear Regression we got:\n",
            "Training data accuracy 0.19468155192024417\n",
            "Testing data accuracy 0.17917597455530254\n"
          ]
        }
      ],
      "source": [
        "from sklearn.linear_model import LinearRegression\n",
        "lr_model = LinearRegression()\n",
        "lr_model.fit(X_train, y_train)\n",
        "\n",
        "print(\"By using Linear Regression we got:\")\n",
        "print(\"Training data accuracy\",lr_model.score(X_train, y_train))\n",
        "print(\"Testing data accuracy\",lr_model.score(X_test, y_test))"
      ]
    },
    {
      "cell_type": "code",
      "execution_count": 27,
      "metadata": {
        "id": "vvjtJJc7iw9w"
      },
      "outputs": [],
      "source": [
        "# Failed, could not converge\n",
        "# from sklearn.linear_model import LogisticRegression\n",
        "# log_model = LogisticRegression()\n",
        "# log_model.fit(X_train_scaled, y_train)\n",
        "\n",
        "# print(\"By using Logistic Regression we got:\")\n",
        "# print(\"Training data accuracy\",log_model.score(X_train_scaled, y_train))\n",
        "# print(\"Testing data accuracy\",log_model.score(X_test_scaled, y_test))"
      ]
    },
    {
      "cell_type": "code",
      "execution_count": 28,
      "metadata": {
        "colab": {
          "base_uri": "https://localhost:8080/"
        },
        "id": "JERYdM5jo899",
        "outputId": "e5634be6-85d3-4836-e536-9ebb7849054e"
      },
      "outputs": [
        {
          "name": "stdout",
          "output_type": "stream",
          "text": [
            "By using Random Forest Regression we got:\n",
            "Training data accuracy 0.8838882730368776\n",
            "Testing data accuracy 0.17701114602080825\n"
          ]
        }
      ],
      "source": [
        "from sklearn.ensemble import RandomForestRegressor\n",
        "rfm=RandomForestRegressor()\n",
        "rfm.fit(X_train,y_train)\n",
        "\n",
        "print(\"By using Random Forest Regression we got:\")\n",
        "print(\"Training data accuracy\",rfm.score(X_train,y_train))\n",
        "print(\"Testing data accuracy\",rfm.score(X_test,y_test))"
      ]
    },
    {
      "cell_type": "code",
      "execution_count": 29,
      "metadata": {
        "colab": {
          "base_uri": "https://localhost:8080/"
        },
        "id": "-3DViOjjIiFl",
        "outputId": "e44ea329-9232-4c2c-cefd-a5d4eae95138"
      },
      "outputs": [
        {
          "data": {
            "text/plain": [
              "{'bootstrap': True,\n",
              " 'ccp_alpha': 0.0,\n",
              " 'criterion': 'squared_error',\n",
              " 'max_depth': None,\n",
              " 'max_features': 1.0,\n",
              " 'max_leaf_nodes': None,\n",
              " 'max_samples': None,\n",
              " 'min_impurity_decrease': 0.0,\n",
              " 'min_samples_leaf': 1,\n",
              " 'min_samples_split': 2,\n",
              " 'min_weight_fraction_leaf': 0.0,\n",
              " 'n_estimators': 100,\n",
              " 'n_jobs': None,\n",
              " 'oob_score': False,\n",
              " 'random_state': None,\n",
              " 'verbose': 0,\n",
              " 'warm_start': False}"
            ]
          },
          "execution_count": 29,
          "metadata": {},
          "output_type": "execute_result"
        }
      ],
      "source": [
        "rfm.get_params()"
      ]
    },
    {
      "cell_type": "code",
      "execution_count": 30,
      "metadata": {
        "id": "MBEtVbuGIiDA"
      },
      "outputs": [],
      "source": [
        "rfm=RandomForestRegressor(max_depth=None,min_samples_leaf=5,min_samples_split=6,\n",
        "                          n_estimators=150,verbose=2,n_jobs=-1)"
      ]
    },
    {
      "cell_type": "code",
      "execution_count": 31,
      "metadata": {
        "colab": {
          "base_uri": "https://localhost:8080/",
          "height": 1000
        },
        "id": "W6GE6JYGIiAo",
        "outputId": "84cc89e7-d598-44b4-fbd0-3836965d68b8"
      },
      "outputs": [
        {
          "name": "stderr",
          "output_type": "stream",
          "text": [
            "[Parallel(n_jobs=-1)]: Using backend ThreadingBackend with 16 concurrent workers.\n",
            "[Parallel(n_jobs=-1)]: Done   9 tasks      | elapsed:    0.0s\n"
          ]
        },
        {
          "name": "stdout",
          "output_type": "stream",
          "text": [
            "building tree 1 of 150building tree 2 of 150\n",
            "building tree 3 of 150\n",
            "building tree 4 of 150\n",
            "\n",
            "building tree 5 of 150\n",
            "building tree 6 of 150\n",
            "building tree 7 of 150\n",
            "building tree 8 of 150\n",
            "building tree 9 of 150\n",
            "building tree 10 of 150\n",
            "building tree 11 of 150\n",
            "building tree 12 of 150\n",
            "building tree 13 of 150\n",
            "building tree 14 of 150\n",
            "building tree 15 of 150\n",
            "building tree 16 of 150\n",
            "building tree 17 of 150\n",
            "building tree 18 of 150\n",
            "building tree 19 of 150\n",
            "building tree 20 of 150\n",
            "building tree 21 of 150\n",
            "building tree 22 of 150\n",
            "building tree 23 of 150\n",
            "building tree 24 of 150\n",
            "building tree 25 of 150\n",
            "building tree 26 of 150\n",
            "building tree 27 of 150\n",
            "building tree 28 of 150\n",
            "building tree 29 of 150\n",
            "building tree 30 of 150\n",
            "building tree 31 of 150\n",
            "building tree 32 of 150\n",
            "building tree 33 of 150\n",
            "building tree 34 of 150\n",
            "building tree 35 of 150\n",
            "building tree 36 of 150\n",
            "building tree 37 of 150\n",
            "building tree 38 of 150\n",
            "building tree 39 of 150\n",
            "building tree 40 of 150\n",
            "building tree 41 of 150\n",
            "building tree 42 of 150\n",
            "building tree 43 of 150\n",
            "building tree 44 of 150\n",
            "building tree 45 of 150\n",
            "building tree 46 of 150\n",
            "building tree 47 of 150\n",
            "building tree 48 of 150\n",
            "building tree 49 of 150\n",
            "building tree 50 of 150\n",
            "building tree 51 of 150\n",
            "building tree 52 of 150\n",
            "building tree 53 of 150\n",
            "building tree 54 of 150\n",
            "building tree 55 of 150\n",
            "building tree 56 of 150\n",
            "building tree 57 of 150\n",
            "building tree 58 of 150\n",
            "building tree 59 of 150\n",
            "building tree 60 of 150\n",
            "building tree 61 of 150\n",
            "building tree 62 of 150\n",
            "building tree 63 of 150\n",
            "building tree 64 of 150\n",
            "building tree 65 of 150\n",
            "building tree 66 of 150\n",
            "building tree 67 of 150\n",
            "building tree 68 of 150\n",
            "building tree 69 of 150\n",
            "building tree 70 of 150\n",
            "building tree 71 of 150\n",
            "building tree 72 of 150\n",
            "building tree 73 of 150\n",
            "building tree 74 of 150\n",
            "building tree 75 of 150\n",
            "building tree 76 of 150\n",
            "building tree 77 of 150\n",
            "building tree 78 of 150\n",
            "building tree 79 of 150\n",
            "building tree 80 of 150\n",
            "building tree 81 of 150\n",
            "building tree 82 of 150\n",
            "building tree 83 of 150\n",
            "building tree 84 of 150\n",
            "building tree 85 of 150\n",
            "building tree 86 of 150\n",
            "building tree 87 of 150\n",
            "building tree 88 of 150\n",
            "building tree 89 of 150\n",
            "building tree 90 of 150\n",
            "building tree 91 of 150\n",
            "building tree 92 of 150\n",
            "building tree 93 of 150\n",
            "building tree 94 of 150\n",
            "building tree 95 of 150\n",
            "building tree 96 of 150\n",
            "building tree 97 of 150\n",
            "building tree 98 of 150\n",
            "building tree 99 of 150\n",
            "building tree 100 of 150\n",
            "building tree 101 of 150\n",
            "building tree 102 of 150\n",
            "building tree 103 of 150\n",
            "building tree 104 of 150\n",
            "building tree 105 of 150\n",
            "building tree 106 of 150\n",
            "building tree 107 of 150\n",
            "building tree 108 of 150\n",
            "building tree 109 of 150\n",
            "building tree 110 of 150\n",
            "building tree 111 of 150\n",
            "building tree 112 of 150\n",
            "building tree 113 of 150\n",
            "building tree 114 of 150\n",
            "building tree 115 of 150\n",
            "building tree 116 of 150\n",
            "building tree 117 of 150\n",
            "building tree 118 of 150\n",
            "building tree 119 of 150\n",
            "building tree 120 of 150\n",
            "building tree 121 of 150\n",
            "building tree 122 of 150\n",
            "building tree 123 of 150\n",
            "building tree 124 of 150\n",
            "building tree 125 of 150\n",
            "building tree 126 of 150\n",
            "building tree 127 of 150\n",
            "building tree 128 of 150\n",
            "building tree 129 of 150\n",
            "building tree 130 of 150\n",
            "building tree 131 of 150\n",
            "building tree 132 of 150\n",
            "building tree 133 of 150\n",
            "building tree 134 of 150\n",
            "building tree 135 of 150\n",
            "building tree 136 of 150\n",
            "building tree 137 of 150\n",
            "building tree 138 of 150\n",
            "building tree 139 of 150\n",
            "building tree 140 of 150\n",
            "building tree 141 of 150\n",
            "building tree 142 of 150\n",
            "building tree 143 of 150\n",
            "building tree 144 of 150\n",
            "building tree 145 of 150\n",
            "building tree 146 of 150\n",
            "building tree 147 of 150\n",
            "building tree 148 of 150\n",
            "building tree 149 of 150\n",
            "building tree 150 of 150\n"
          ]
        },
        {
          "name": "stderr",
          "output_type": "stream",
          "text": [
            "[Parallel(n_jobs=-1)]: Done 150 out of 150 | elapsed:    0.5s finished\n"
          ]
        },
        {
          "data": {
            "text/html": [
              "<style>#sk-container-id-1 {color: black;background-color: white;}#sk-container-id-1 pre{padding: 0;}#sk-container-id-1 div.sk-toggleable {background-color: white;}#sk-container-id-1 label.sk-toggleable__label {cursor: pointer;display: block;width: 100%;margin-bottom: 0;padding: 0.3em;box-sizing: border-box;text-align: center;}#sk-container-id-1 label.sk-toggleable__label-arrow:before {content: \"▸\";float: left;margin-right: 0.25em;color: #696969;}#sk-container-id-1 label.sk-toggleable__label-arrow:hover:before {color: black;}#sk-container-id-1 div.sk-estimator:hover label.sk-toggleable__label-arrow:before {color: black;}#sk-container-id-1 div.sk-toggleable__content {max-height: 0;max-width: 0;overflow: hidden;text-align: left;background-color: #f0f8ff;}#sk-container-id-1 div.sk-toggleable__content pre {margin: 0.2em;color: black;border-radius: 0.25em;background-color: #f0f8ff;}#sk-container-id-1 input.sk-toggleable__control:checked~div.sk-toggleable__content {max-height: 200px;max-width: 100%;overflow: auto;}#sk-container-id-1 input.sk-toggleable__control:checked~label.sk-toggleable__label-arrow:before {content: \"▾\";}#sk-container-id-1 div.sk-estimator input.sk-toggleable__control:checked~label.sk-toggleable__label {background-color: #d4ebff;}#sk-container-id-1 div.sk-label input.sk-toggleable__control:checked~label.sk-toggleable__label {background-color: #d4ebff;}#sk-container-id-1 input.sk-hidden--visually {border: 0;clip: rect(1px 1px 1px 1px);clip: rect(1px, 1px, 1px, 1px);height: 1px;margin: -1px;overflow: hidden;padding: 0;position: absolute;width: 1px;}#sk-container-id-1 div.sk-estimator {font-family: monospace;background-color: #f0f8ff;border: 1px dotted black;border-radius: 0.25em;box-sizing: border-box;margin-bottom: 0.5em;}#sk-container-id-1 div.sk-estimator:hover {background-color: #d4ebff;}#sk-container-id-1 div.sk-parallel-item::after {content: \"\";width: 100%;border-bottom: 1px solid gray;flex-grow: 1;}#sk-container-id-1 div.sk-label:hover label.sk-toggleable__label {background-color: #d4ebff;}#sk-container-id-1 div.sk-serial::before {content: \"\";position: absolute;border-left: 1px solid gray;box-sizing: border-box;top: 0;bottom: 0;left: 50%;z-index: 0;}#sk-container-id-1 div.sk-serial {display: flex;flex-direction: column;align-items: center;background-color: white;padding-right: 0.2em;padding-left: 0.2em;position: relative;}#sk-container-id-1 div.sk-item {position: relative;z-index: 1;}#sk-container-id-1 div.sk-parallel {display: flex;align-items: stretch;justify-content: center;background-color: white;position: relative;}#sk-container-id-1 div.sk-item::before, #sk-container-id-1 div.sk-parallel-item::before {content: \"\";position: absolute;border-left: 1px solid gray;box-sizing: border-box;top: 0;bottom: 0;left: 50%;z-index: -1;}#sk-container-id-1 div.sk-parallel-item {display: flex;flex-direction: column;z-index: 1;position: relative;background-color: white;}#sk-container-id-1 div.sk-parallel-item:first-child::after {align-self: flex-end;width: 50%;}#sk-container-id-1 div.sk-parallel-item:last-child::after {align-self: flex-start;width: 50%;}#sk-container-id-1 div.sk-parallel-item:only-child::after {width: 0;}#sk-container-id-1 div.sk-dashed-wrapped {border: 1px dashed gray;margin: 0 0.4em 0.5em 0.4em;box-sizing: border-box;padding-bottom: 0.4em;background-color: white;}#sk-container-id-1 div.sk-label label {font-family: monospace;font-weight: bold;display: inline-block;line-height: 1.2em;}#sk-container-id-1 div.sk-label-container {text-align: center;}#sk-container-id-1 div.sk-container {/* jupyter's `normalize.less` sets `[hidden] { display: none; }` but bootstrap.min.css set `[hidden] { display: none !important; }` so we also need the `!important` here to be able to override the default hidden behavior on the sphinx rendered scikit-learn.org. See: https://github.com/scikit-learn/scikit-learn/issues/21755 */display: inline-block !important;position: relative;}#sk-container-id-1 div.sk-text-repr-fallback {display: none;}</style><div id=\"sk-container-id-1\" class=\"sk-top-container\"><div class=\"sk-text-repr-fallback\"><pre>RandomForestRegressor(min_samples_leaf=5, min_samples_split=6, n_estimators=150,\n",
              "                      n_jobs=-1, verbose=2)</pre><b>In a Jupyter environment, please rerun this cell to show the HTML representation or trust the notebook. <br />On GitHub, the HTML representation is unable to render, please try loading this page with nbviewer.org.</b></div><div class=\"sk-container\" hidden><div class=\"sk-item\"><div class=\"sk-estimator sk-toggleable\"><input class=\"sk-toggleable__control sk-hidden--visually\" id=\"sk-estimator-id-1\" type=\"checkbox\" checked><label for=\"sk-estimator-id-1\" class=\"sk-toggleable__label sk-toggleable__label-arrow\">RandomForestRegressor</label><div class=\"sk-toggleable__content\"><pre>RandomForestRegressor(min_samples_leaf=5, min_samples_split=6, n_estimators=150,\n",
              "                      n_jobs=-1, verbose=2)</pre></div></div></div></div></div>"
            ],
            "text/plain": [
              "RandomForestRegressor(min_samples_leaf=5, min_samples_split=6, n_estimators=150,\n",
              "                      n_jobs=-1, verbose=2)"
            ]
          },
          "execution_count": 31,
          "metadata": {},
          "output_type": "execute_result"
        }
      ],
      "source": [
        "rfm.fit(X_train,y_train)"
      ]
    },
    {
      "cell_type": "code",
      "execution_count": 32,
      "metadata": {
        "colab": {
          "base_uri": "https://localhost:8080/"
        },
        "id": "pAoeqabOIh-D",
        "outputId": "17c7f2a6-70f2-46ff-84b9-cbdedb143b32"
      },
      "outputs": [
        {
          "name": "stdout",
          "output_type": "stream",
          "text": [
            "By using Tuned Random Forest Regression we got:\n",
            "Training data accuracy 0.5657454595662531\n",
            "Testing data accuracy 0.23194272245448166\n"
          ]
        },
        {
          "name": "stderr",
          "output_type": "stream",
          "text": [
            "[Parallel(n_jobs=16)]: Using backend ThreadingBackend with 16 concurrent workers.\n",
            "[Parallel(n_jobs=16)]: Done   9 tasks      | elapsed:    0.0s\n",
            "[Parallel(n_jobs=16)]: Done 150 out of 150 | elapsed:    0.0s finished\n",
            "[Parallel(n_jobs=16)]: Using backend ThreadingBackend with 16 concurrent workers.\n",
            "[Parallel(n_jobs=16)]: Done   9 tasks      | elapsed:    0.0s\n",
            "[Parallel(n_jobs=16)]: Done 150 out of 150 | elapsed:    0.0s finished\n"
          ]
        }
      ],
      "source": [
        "print(\"By using Tuned Random Forest Regression we got:\")\n",
        "print(\"Training data accuracy\",rfm.score(X_train,y_train))\n",
        "print(\"Testing data accuracy\",rfm.score(X_test,y_test))"
      ]
    },
    {
      "cell_type": "code",
      "execution_count": 263,
      "metadata": {
        "id": "-MKEFLx1Ih7T"
      },
      "outputs": [],
      "source": []
    },
    {
      "cell_type": "code",
      "execution_count": 263,
      "metadata": {
        "id": "jeDNNyogIh4f"
      },
      "outputs": [],
      "source": []
    },
    {
      "cell_type": "code",
      "execution_count": 33,
      "metadata": {
        "colab": {
          "base_uri": "https://localhost:8080/"
        },
        "id": "kB89jl5zv9XN",
        "outputId": "ba73547b-014c-4821-fb79-c8d3b85dc3e4"
      },
      "outputs": [
        {
          "name": "stderr",
          "output_type": "stream",
          "text": [
            "[Parallel(n_jobs=16)]: Using backend ThreadingBackend with 16 concurrent workers.\n",
            "[Parallel(n_jobs=16)]: Done   9 tasks      | elapsed:    0.0s\n",
            "[Parallel(n_jobs=16)]: Done 150 out of 150 | elapsed:    0.0s finished\n"
          ]
        }
      ],
      "source": [
        "y_pred = rfm.predict(X_test)"
      ]
    },
    {
      "cell_type": "code",
      "execution_count": 34,
      "metadata": {
        "colab": {
          "base_uri": "https://localhost:8080/"
        },
        "id": "_TdE1KIjwU6e",
        "outputId": "f4787861-6b22-48fd-b3a0-2eb4663eb123"
      },
      "outputs": [
        {
          "name": "stdout",
          "output_type": "stream",
          "text": [
            "Coefficient of Determination: 0.23194272245448166\n"
          ]
        }
      ],
      "source": [
        "# Calculating R2 value or Coefficient of Determination\n",
        "test_set_r2 = r2_score(y_test, y_pred)\n",
        "print(\"Coefficient of Determination:\",test_set_r2)"
      ]
    },
    {
      "cell_type": "code",
      "execution_count": 35,
      "metadata": {
        "colab": {
          "base_uri": "https://localhost:8080/"
        },
        "id": "4kyYI7S-wJqQ",
        "outputId": "77d4eb66-4580-4bfb-ed3e-3dad110be23c"
      },
      "outputs": [
        {
          "name": "stdout",
          "output_type": "stream",
          "text": [
            "Mean Absolute Error: 51206.39011010733\n"
          ]
        }
      ],
      "source": [
        "# Calculating MAE or Mean Absolute Error\n",
        "mae = mean_absolute_error(y_test, y_pred)\n",
        "print(\"Mean Absolute Error:\",mae)"
      ]
    },
    {
      "cell_type": "code",
      "execution_count": 36,
      "metadata": {
        "colab": {
          "base_uri": "https://localhost:8080/"
        },
        "id": "TYs_Kl8nwKQX",
        "outputId": "855370ba-df20-4fd3-8ec8-85c597949446"
      },
      "outputs": [
        {
          "name": "stdout",
          "output_type": "stream",
          "text": [
            "Root Mean Squared Error: 65546.23155658222\n"
          ]
        }
      ],
      "source": [
        "# Calculating RMSE or Root Mean Square Error\n",
        "rmse = (np.sqrt(mean_squared_error(y_test, y_pred)))\n",
        "print(\"Root Mean Squared Error:\",rmse)"
      ]
    },
    {
      "cell_type": "code",
      "execution_count": 37,
      "metadata": {
        "colab": {
          "base_uri": "https://localhost:8080/"
        },
        "id": "xOh4SAhDwfU-",
        "outputId": "f778126e-67f7-4c1a-b379-7d70a8bc76d0"
      },
      "outputs": [
        {
          "name": "stdout",
          "output_type": "stream",
          "text": [
            "The MAE is 31.81% of Average of y_test (160,996)\n"
          ]
        }
      ],
      "source": [
        "# Comparing the MAE with Mean of the actual values (y_test)\n",
        "print(f\"The MAE is {(mae/np.mean(y_test))*100:.2f}% of Average of y_test ({np.mean(y_test):,.0f})\")"
      ]
    },
    {
      "cell_type": "code",
      "execution_count": 38,
      "metadata": {
        "colab": {
          "base_uri": "https://localhost:8080/"
        },
        "id": "koFIfZW9w0EN",
        "outputId": "cdb43475-b55e-4774-c11c-c96aca396df3"
      },
      "outputs": [
        {
          "name": "stdout",
          "output_type": "stream",
          "text": [
            "The RMSE is 40.71% of Average of y_test (160,996)\n"
          ]
        }
      ],
      "source": [
        "# Comparing the RMSE with Mean of the actual values (y_test)\n",
        "print(f\"The RMSE is {(rmse/np.mean(y_test))*100:.2f}% of Average of y_test ({np.mean(y_test):,.0f})\")"
      ]
    },
    {
      "cell_type": "code",
      "execution_count": 39,
      "metadata": {
        "colab": {
          "base_uri": "https://localhost:8080/"
        },
        "id": "-7_-RyY0xdpq",
        "outputId": "3e36895d-da26-43a1-f8d2-36b2e68da3b5"
      },
      "outputs": [
        {
          "name": "stdout",
          "output_type": "stream",
          "text": [
            "y_test[0]:    125,000    y_pred[0]:    122,258   Difference (% of y_test):  -2.19%\n",
            "y_test[1]:    132,000    y_pred[1]:    153,348   Difference (% of y_test):  16.17%\n",
            "y_test[2]:    211,000    y_pred[2]:    191,481   Difference (% of y_test):  -9.25%\n",
            "y_test[3]:    190,000    y_pred[3]:    193,680   Difference (% of y_test):   1.94%\n",
            "y_test[4]:    221,000    y_pred[4]:    152,152   Difference (% of y_test): -31.15%\n",
            "y_test[5]:     55,000    y_pred[5]:    199,991   Difference (% of y_test): 263.62%\n",
            "y_test[6]:     60,000    y_pred[6]:    117,135   Difference (% of y_test):  95.23%\n",
            "y_test[7]:    122,500    y_pred[7]:    151,715   Difference (% of y_test):  23.85%\n",
            "y_test[8]:    255,000    y_pred[8]:    187,579   Difference (% of y_test): -26.44%\n",
            "y_test[9]:    152,000    y_pred[9]:    167,984   Difference (% of y_test):  10.52%\n",
            "y_test[10]:     73,500    y_pred[10]:    136,114   Difference (% of y_test):  85.19%\n",
            "y_test[11]:    222,000    y_pred[11]:    176,558   Difference (% of y_test): -20.47%\n",
            "y_test[12]:    198,000    y_pred[12]:    174,395   Difference (% of y_test): -11.92%\n",
            "y_test[13]:     95,000    y_pred[13]:    113,362   Difference (% of y_test):  19.33%\n",
            "y_test[14]:    152,000    y_pred[14]:    165,684   Difference (% of y_test):   9.00%\n",
            "y_test[15]:    181,000    y_pred[15]:    145,302   Difference (% of y_test): -19.72%\n",
            "y_test[16]:     44,900    y_pred[16]:    136,683   Difference (% of y_test): 204.42%\n",
            "y_test[17]:    165,000    y_pred[17]:    173,909   Difference (% of y_test):   5.40%\n",
            "y_test[18]:    234,000    y_pred[18]:    215,514   Difference (% of y_test):  -7.90%\n",
            "y_test[19]:    225,000    y_pred[19]:    184,397   Difference (% of y_test): -18.05%\n",
            "y_test[20]:    160,000    y_pred[20]:    142,980   Difference (% of y_test): -10.64%\n",
            "y_test[21]:    131,000    y_pred[21]:    262,658   Difference (% of y_test): 100.50%\n",
            "y_test[22]:    116,000    y_pred[22]:    142,951   Difference (% of y_test):  23.23%\n",
            "y_test[23]:    200,000    y_pred[23]:    134,956   Difference (% of y_test): -32.52%\n",
            "y_test[24]:    127,000    y_pred[24]:    160,432   Difference (% of y_test):  26.32%\n",
            "y_test[25]:    170,000    y_pred[25]:    197,201   Difference (% of y_test):  16.00%\n",
            "y_test[26]:    210,000    y_pred[26]:    210,382   Difference (% of y_test):   0.18%\n",
            "y_test[27]:     80,000    y_pred[27]:    173,056   Difference (% of y_test): 116.32%\n",
            "y_test[28]:     62,000    y_pred[28]:    270,168   Difference (% of y_test): 335.75%\n",
            "y_test[29]:    140,000    y_pred[29]:    104,802   Difference (% of y_test): -25.14%\n",
            "y_test[30]:    242,000    y_pred[30]:    192,389   Difference (% of y_test): -20.50%\n",
            "y_test[31]:    176,300    y_pred[31]:    135,792   Difference (% of y_test): -22.98%\n",
            "y_test[32]:    130,000    y_pred[32]:     85,836   Difference (% of y_test): -33.97%\n",
            "y_test[33]:    175,000    y_pred[33]:    109,341   Difference (% of y_test): -37.52%\n",
            "y_test[34]:    209,900    y_pred[34]:    194,416   Difference (% of y_test):  -7.38%\n",
            "y_test[35]:    115,000    y_pred[35]:    185,882   Difference (% of y_test):  61.64%\n",
            "y_test[36]:    258,000    y_pred[36]:     86,060   Difference (% of y_test): -66.64%\n",
            "y_test[37]:    275,000    y_pred[37]:    175,813   Difference (% of y_test): -36.07%\n",
            "y_test[38]:    215,000    y_pred[38]:    134,758   Difference (% of y_test): -37.32%\n",
            "y_test[39]:    325,000    y_pred[39]:    159,755   Difference (% of y_test): -50.84%\n",
            "y_test[40]:    100,000    y_pred[40]:    190,096   Difference (% of y_test):  90.10%\n",
            "y_test[41]:    262,000    y_pred[41]:    202,437   Difference (% of y_test): -22.73%\n",
            "y_test[42]:    312,500    y_pred[42]:    279,902   Difference (% of y_test): -10.43%\n",
            "y_test[43]:    106,300    y_pred[43]:    113,432   Difference (% of y_test):   6.71%\n",
            "y_test[44]:    103,900    y_pred[44]:     88,288   Difference (% of y_test): -15.03%\n",
            "y_test[45]:    257,500    y_pred[45]:    213,178   Difference (% of y_test): -17.21%\n",
            "y_test[46]:    137,900    y_pred[46]:    182,519   Difference (% of y_test):  32.36%\n",
            "y_test[47]:    160,000    y_pred[47]:    219,442   Difference (% of y_test):  37.15%\n",
            "y_test[48]:    155,000    y_pred[48]:    168,395   Difference (% of y_test):   8.64%\n",
            "y_test[49]:    137,500    y_pred[49]:    138,905   Difference (% of y_test):   1.02%\n"
          ]
        }
      ],
      "source": [
        "# Comparing some of the individual actual values (y_test) with their respective predicted values (y_pred)\n",
        "for i in range(50):\n",
        "    print(f\"y_test[{i}]: {y_test[i]:10,.0f}    y_pred[{i}]: {y_pred[i]:10,.0f}   Difference (% of y_test): {((y_pred[i]-y_test[i])/y_test[i])*100:6.2f}%\")"
      ]
    },
    {
      "cell_type": "code",
      "execution_count": 40,
      "metadata": {
        "colab": {
          "base_uri": "https://localhost:8080/",
          "height": 465
        },
        "id": "0bvLd-tGw5ou",
        "outputId": "c4b182f0-fa9d-4238-b943-75348bd2293b"
      },
      "outputs": [
        {
          "data": {
            "image/png": "[encoded data removed]",
            "text/plain": [
              "<Figure size 640x480 with 1 Axes>"
            ]
          },
          "metadata": {},
          "output_type": "display_data"
        }
      ],
      "source": [
        "# Plotting graph between real and predicted values\n",
        "plt.plot(y_pred,y_test,'ro')\n",
        "plt.plot([400000,1500000],[400000,1500000], 'g-')\n",
        "plt.xlabel('Predicted')\n",
        "plt.ylabel('Actual')\n",
        "plt.show()"
      ]
    },
    {
      "cell_type": "code",
      "execution_count": 41,
      "metadata": {
        "colab": {
          "base_uri": "https://localhost:8080/",
          "height": 206
        },
        "id": "bb3jPwq8mw2V",
        "outputId": "74ccf17e-2926-444c-a9f1-8634f989dec7"
      },
      "outputs": [
        {
          "data": {
            "text/html": [
              "<div>\n",
              "<style scoped>\n",
              "    .dataframe tbody tr th:only-of-type {\n",
              "        vertical-align: middle;\n",
              "    }\n",
              "\n",
              "    .dataframe tbody tr th {\n",
              "        vertical-align: top;\n",
              "    }\n",
              "\n",
              "    .dataframe thead th {\n",
              "        text-align: right;\n",
              "    }\n",
              "</style>\n",
              "<table border=\"1\" class=\"dataframe\">\n",
              "  <thead>\n",
              "    <tr style=\"text-align: right;\">\n",
              "      <th></th>\n",
              "      <th>Bedrooms</th>\n",
              "      <th>Bathrooms</th>\n",
              "      <th>FinishedSqft</th>\n",
              "      <th>Lotsize</th>\n",
              "      <th>Sale_date</th>\n",
              "      <th>Year</th>\n",
              "      <th>Month</th>\n",
              "      <th>Sale_price</th>\n",
              "    </tr>\n",
              "  </thead>\n",
              "  <tbody>\n",
              "    <tr>\n",
              "      <th>0</th>\n",
              "      <td>4</td>\n",
              "      <td>2</td>\n",
              "      <td>2200</td>\n",
              "      <td>128502</td>\n",
              "      <td>2021-11-23</td>\n",
              "      <td>2021</td>\n",
              "      <td>11</td>\n",
              "      <td>336000</td>\n",
              "    </tr>\n",
              "    <tr>\n",
              "      <th>1</th>\n",
              "      <td>2</td>\n",
              "      <td>2</td>\n",
              "      <td>1125</td>\n",
              "      <td>101059</td>\n",
              "      <td>2021-10-08</td>\n",
              "      <td>2021</td>\n",
              "      <td>10</td>\n",
              "      <td>250000</td>\n",
              "    </tr>\n",
              "    <tr>\n",
              "      <th>2</th>\n",
              "      <td>4</td>\n",
              "      <td>1</td>\n",
              "      <td>1471</td>\n",
              "      <td>95832</td>\n",
              "      <td>2022-08-12</td>\n",
              "      <td>2022</td>\n",
              "      <td>8</td>\n",
              "      <td>274900</td>\n",
              "    </tr>\n",
              "    <tr>\n",
              "      <th>3</th>\n",
              "      <td>4</td>\n",
              "      <td>3</td>\n",
              "      <td>2303</td>\n",
              "      <td>84071</td>\n",
              "      <td>2019-07-18</td>\n",
              "      <td>2019</td>\n",
              "      <td>7</td>\n",
              "      <td>237500</td>\n",
              "    </tr>\n",
              "    <tr>\n",
              "      <th>4</th>\n",
              "      <td>4</td>\n",
              "      <td>2</td>\n",
              "      <td>1247</td>\n",
              "      <td>81893</td>\n",
              "      <td>2023-06-01</td>\n",
              "      <td>2023</td>\n",
              "      <td>6</td>\n",
              "      <td>150000</td>\n",
              "    </tr>\n",
              "  </tbody>\n",
              "</table>\n",
              "</div>"
            ],
            "text/plain": [
              "   Bedrooms  Bathrooms  FinishedSqft  Lotsize  Sale_date  Year  Month  \\\n",
              "0         4          2          2200   128502 2021-11-23  2021     11   \n",
              "1         2          2          1125   101059 2021-10-08  2021     10   \n",
              "2         4          1          1471    95832 2022-08-12  2022      8   \n",
              "3         4          3          2303    84071 2019-07-18  2019      7   \n",
              "4         4          2          1247    81893 2023-06-01  2023      6   \n",
              "\n",
              "   Sale_price  \n",
              "0      336000  \n",
              "1      250000  \n",
              "2      274900  \n",
              "3      237500  \n",
              "4      150000  "
            ]
          },
          "execution_count": 41,
          "metadata": {},
          "output_type": "execute_result"
        }
      ],
      "source": [
        "sales_data_df.head()"
      ]
    },
    {
      "cell_type": "code",
      "execution_count": 44,
      "metadata": {
        "colab": {
          "base_uri": "https://localhost:8080/",
          "height": 224
        },
        "id": "woHL8AXtxB8m",
        "outputId": "51e80160-2eb3-40eb-94b7-019fe81745cf"
      },
      "outputs": [
        {
          "data": {
            "text/html": [
              "<div>\n",
              "<style scoped>\n",
              "    .dataframe tbody tr th:only-of-type {\n",
              "        vertical-align: middle;\n",
              "    }\n",
              "\n",
              "    .dataframe tbody tr th {\n",
              "        vertical-align: top;\n",
              "    }\n",
              "\n",
              "    .dataframe thead th {\n",
              "        text-align: right;\n",
              "    }\n",
              "</style>\n",
              "<table border=\"1\" class=\"dataframe\">\n",
              "  <thead>\n",
              "    <tr style=\"text-align: right;\">\n",
              "      <th></th>\n",
              "      <th>State</th>\n",
              "      <th>City</th>\n",
              "      <th>Street</th>\n",
              "      <th>Zipcode</th>\n",
              "      <th>Latitude</th>\n",
              "      <th>Longitude</th>\n",
              "      <th>Bedroom</th>\n",
              "      <th>Bathroom</th>\n",
              "      <th>Area</th>\n",
              "      <th>PPSq</th>\n",
              "      <th>LotArea</th>\n",
              "      <th>ConvertedLot</th>\n",
              "      <th>LotUnit</th>\n",
              "      <th>MarketEstimate</th>\n",
              "      <th>RentEstimate</th>\n",
              "      <th>Price</th>\n",
              "    </tr>\n",
              "  </thead>\n",
              "  <tbody>\n",
              "    <tr>\n",
              "      <th>0</th>\n",
              "      <td>WI</td>\n",
              "      <td>Milwaukee</td>\n",
              "      <td>North 26th STREET</td>\n",
              "      <td>53206</td>\n",
              "      <td>43.076214</td>\n",
              "      <td>-87.946370</td>\n",
              "      <td>4</td>\n",
              "      <td>2</td>\n",
              "      <td>NaN</td>\n",
              "      <td>NaN</td>\n",
              "      <td>3920.40</td>\n",
              "      <td>0.09</td>\n",
              "      <td>sqft</td>\n",
              "      <td>NaN</td>\n",
              "      <td>1425.0</td>\n",
              "      <td>7000</td>\n",
              "    </tr>\n",
              "    <tr>\n",
              "      <th>1</th>\n",
              "      <td>WI</td>\n",
              "      <td>Milwaukee</td>\n",
              "      <td>North 37th STREET</td>\n",
              "      <td>53210</td>\n",
              "      <td>43.066345</td>\n",
              "      <td>-87.959490</td>\n",
              "      <td>4</td>\n",
              "      <td>2</td>\n",
              "      <td>1714.0</td>\n",
              "      <td>20.361727</td>\n",
              "      <td>3484.80</td>\n",
              "      <td>0.08</td>\n",
              "      <td>sqft</td>\n",
              "      <td>NaN</td>\n",
              "      <td>1345.0</td>\n",
              "      <td>34900</td>\n",
              "    </tr>\n",
              "    <tr>\n",
              "      <th>2</th>\n",
              "      <td>WI</td>\n",
              "      <td>Milwaukee</td>\n",
              "      <td>North Sherman BOULEVARD UNIT 4326</td>\n",
              "      <td>53216</td>\n",
              "      <td>43.095818</td>\n",
              "      <td>-87.966620</td>\n",
              "      <td>4</td>\n",
              "      <td>2</td>\n",
              "      <td>1500.0</td>\n",
              "      <td>83.266667</td>\n",
              "      <td>0.62</td>\n",
              "      <td>0.62</td>\n",
              "      <td>acres</td>\n",
              "      <td>NaN</td>\n",
              "      <td>NaN</td>\n",
              "      <td>124900</td>\n",
              "    </tr>\n",
              "    <tr>\n",
              "      <th>3</th>\n",
              "      <td>WI</td>\n",
              "      <td>Milwaukee</td>\n",
              "      <td>North 25th STREET</td>\n",
              "      <td>53205</td>\n",
              "      <td>43.056957</td>\n",
              "      <td>-87.944756</td>\n",
              "      <td>3</td>\n",
              "      <td>2</td>\n",
              "      <td>1184.0</td>\n",
              "      <td>114.020270</td>\n",
              "      <td>4356.00</td>\n",
              "      <td>0.10</td>\n",
              "      <td>sqft</td>\n",
              "      <td>132800.0</td>\n",
              "      <td>1500.0</td>\n",
              "      <td>135000</td>\n",
              "    </tr>\n",
              "    <tr>\n",
              "      <th>4</th>\n",
              "      <td>WI</td>\n",
              "      <td>Milwaukee</td>\n",
              "      <td>North 86th PLACE</td>\n",
              "      <td>53225</td>\n",
              "      <td>43.121850</td>\n",
              "      <td>-88.019295</td>\n",
              "      <td>3</td>\n",
              "      <td>2</td>\n",
              "      <td>1271.0</td>\n",
              "      <td>106.215578</td>\n",
              "      <td>7840.80</td>\n",
              "      <td>0.18</td>\n",
              "      <td>sqft</td>\n",
              "      <td>136300.0</td>\n",
              "      <td>1875.0</td>\n",
              "      <td>135000</td>\n",
              "    </tr>\n",
              "  </tbody>\n",
              "</table>\n",
              "</div>"
            ],
            "text/plain": [
              "  State       City                             Street  Zipcode   Latitude  \\\n",
              "0    WI  Milwaukee                  North 26th STREET    53206  43.076214   \n",
              "1    WI  Milwaukee                  North 37th STREET    53210  43.066345   \n",
              "2    WI  Milwaukee  North Sherman BOULEVARD UNIT 4326    53216  43.095818   \n",
              "3    WI  Milwaukee                  North 25th STREET    53205  43.056957   \n",
              "4    WI  Milwaukee                   North 86th PLACE    53225  43.121850   \n",
              "\n",
              "   Longitude  Bedroom  Bathroom    Area        PPSq  LotArea  ConvertedLot  \\\n",
              "0 -87.946370        4         2     NaN         NaN  3920.40          0.09   \n",
              "1 -87.959490        4         2  1714.0   20.361727  3484.80          0.08   \n",
              "2 -87.966620        4         2  1500.0   83.266667     0.62          0.62   \n",
              "3 -87.944756        3         2  1184.0  114.020270  4356.00          0.10   \n",
              "4 -88.019295        3         2  1271.0  106.215578  7840.80          0.18   \n",
              "\n",
              "  LotUnit  MarketEstimate  RentEstimate   Price  \n",
              "0    sqft             NaN        1425.0    7000  \n",
              "1    sqft             NaN        1345.0   34900  \n",
              "2   acres             NaN           NaN  124900  \n",
              "3    sqft        132800.0        1500.0  135000  \n",
              "4    sqft        136300.0        1875.0  135000  "
            ]
          },
          "execution_count": 44,
          "metadata": {},
          "output_type": "execute_result"
        }
      ],
      "source": [
        "\n",
        "\n",
        "file_one = Path(\"Resources/original_extracted_df_MilwaukeeOnly.csv\")\n",
        "listings_data_df =  pd.read_csv(file_one, encoding=\"ISO-8859-1\")\n",
        "\n",
        "listings_data_df.head()"
      ]
    },
    {
      "cell_type": "code",
      "execution_count": 45,
      "metadata": {
        "colab": {
          "base_uri": "https://localhost:8080/"
        },
        "id": "nN1rQMfvl2zD",
        "outputId": "9f30fb16-5925-4a70-c9c1-5a7d1e641518"
      },
      "outputs": [
        {
          "name": "stdout",
          "output_type": "stream",
          "text": [
            "<class 'pandas.core.frame.DataFrame'>\n",
            "RangeIndex: 33 entries, 0 to 32\n",
            "Data columns (total 12 columns):\n",
            " #   Column          Non-Null Count  Dtype  \n",
            "---  ------          --------------  -----  \n",
            " 0   Street          33 non-null     object \n",
            " 1   City            33 non-null     object \n",
            " 2   State           33 non-null     object \n",
            " 3   Zipcode         33 non-null     int64  \n",
            " 4   Latitude        33 non-null     float64\n",
            " 5   Longitude       33 non-null     float64\n",
            " 6   Bedroom         33 non-null     int64  \n",
            " 7   Bathroom        33 non-null     int64  \n",
            " 8   Area            32 non-null     float64\n",
            " 9   LotArea         28 non-null     float64\n",
            " 10  Price           33 non-null     int64  \n",
            " 11  MarketEstimate  26 non-null     float64\n",
            "dtypes: float64(5), int64(4), object(3)\n",
            "memory usage: 3.2+ KB\n"
          ]
        }
      ],
      "source": [
        "listings_data_df = listings_data_df.drop(columns=['PPSq', 'ConvertedLot','LotUnit','RentEstimate'], axis=1)\n",
        "listings_data_df = listings_data_df[['Street', 'City', 'State', 'Zipcode', 'Latitude', 'Longitude', 'Bedroom', 'Bathroom', 'Area','LotArea', 'Price','MarketEstimate']]\n",
        "listings_data_df.info()"
      ]
    },
    {
      "cell_type": "code",
      "execution_count": 46,
      "metadata": {
        "colab": {
          "base_uri": "https://localhost:8080/",
          "height": 206
        },
        "id": "oRxr20nVmU2y",
        "outputId": "982c1ea2-d21a-42e7-86c0-c9dcf9737547"
      },
      "outputs": [
        {
          "data": {
            "text/html": [
              "<div>\n",
              "<style scoped>\n",
              "    .dataframe tbody tr th:only-of-type {\n",
              "        vertical-align: middle;\n",
              "    }\n",
              "\n",
              "    .dataframe tbody tr th {\n",
              "        vertical-align: top;\n",
              "    }\n",
              "\n",
              "    .dataframe thead th {\n",
              "        text-align: right;\n",
              "    }\n",
              "</style>\n",
              "<table border=\"1\" class=\"dataframe\">\n",
              "  <thead>\n",
              "    <tr style=\"text-align: right;\">\n",
              "      <th></th>\n",
              "      <th>Street</th>\n",
              "      <th>City</th>\n",
              "      <th>State</th>\n",
              "      <th>Zipcode</th>\n",
              "      <th>Latitude</th>\n",
              "      <th>Longitude</th>\n",
              "      <th>Bedrooms</th>\n",
              "      <th>Bathrooms</th>\n",
              "      <th>FinishedSqft</th>\n",
              "      <th>Lotsize</th>\n",
              "      <th>Price</th>\n",
              "      <th>MarketEstimate</th>\n",
              "    </tr>\n",
              "  </thead>\n",
              "  <tbody>\n",
              "    <tr>\n",
              "      <th>0</th>\n",
              "      <td>North 26th STREET</td>\n",
              "      <td>Milwaukee</td>\n",
              "      <td>WI</td>\n",
              "      <td>53206</td>\n",
              "      <td>43.076214</td>\n",
              "      <td>-87.946370</td>\n",
              "      <td>4</td>\n",
              "      <td>2</td>\n",
              "      <td>NaN</td>\n",
              "      <td>3920.40</td>\n",
              "      <td>7000</td>\n",
              "      <td>NaN</td>\n",
              "    </tr>\n",
              "    <tr>\n",
              "      <th>1</th>\n",
              "      <td>North 37th STREET</td>\n",
              "      <td>Milwaukee</td>\n",
              "      <td>WI</td>\n",
              "      <td>53210</td>\n",
              "      <td>43.066345</td>\n",
              "      <td>-87.959490</td>\n",
              "      <td>4</td>\n",
              "      <td>2</td>\n",
              "      <td>1714.0</td>\n",
              "      <td>3484.80</td>\n",
              "      <td>34900</td>\n",
              "      <td>NaN</td>\n",
              "    </tr>\n",
              "    <tr>\n",
              "      <th>2</th>\n",
              "      <td>North Sherman BOULEVARD UNIT 4326</td>\n",
              "      <td>Milwaukee</td>\n",
              "      <td>WI</td>\n",
              "      <td>53216</td>\n",
              "      <td>43.095818</td>\n",
              "      <td>-87.966620</td>\n",
              "      <td>4</td>\n",
              "      <td>2</td>\n",
              "      <td>1500.0</td>\n",
              "      <td>0.62</td>\n",
              "      <td>124900</td>\n",
              "      <td>NaN</td>\n",
              "    </tr>\n",
              "    <tr>\n",
              "      <th>3</th>\n",
              "      <td>North 25th STREET</td>\n",
              "      <td>Milwaukee</td>\n",
              "      <td>WI</td>\n",
              "      <td>53205</td>\n",
              "      <td>43.056957</td>\n",
              "      <td>-87.944756</td>\n",
              "      <td>3</td>\n",
              "      <td>2</td>\n",
              "      <td>1184.0</td>\n",
              "      <td>4356.00</td>\n",
              "      <td>135000</td>\n",
              "      <td>132800.0</td>\n",
              "    </tr>\n",
              "    <tr>\n",
              "      <th>4</th>\n",
              "      <td>North 86th PLACE</td>\n",
              "      <td>Milwaukee</td>\n",
              "      <td>WI</td>\n",
              "      <td>53225</td>\n",
              "      <td>43.121850</td>\n",
              "      <td>-88.019295</td>\n",
              "      <td>3</td>\n",
              "      <td>2</td>\n",
              "      <td>1271.0</td>\n",
              "      <td>7840.80</td>\n",
              "      <td>135000</td>\n",
              "      <td>136300.0</td>\n",
              "    </tr>\n",
              "  </tbody>\n",
              "</table>\n",
              "</div>"
            ],
            "text/plain": [
              "                              Street       City State  Zipcode   Latitude  \\\n",
              "0                  North 26th STREET  Milwaukee    WI    53206  43.076214   \n",
              "1                  North 37th STREET  Milwaukee    WI    53210  43.066345   \n",
              "2  North Sherman BOULEVARD UNIT 4326  Milwaukee    WI    53216  43.095818   \n",
              "3                  North 25th STREET  Milwaukee    WI    53205  43.056957   \n",
              "4                   North 86th PLACE  Milwaukee    WI    53225  43.121850   \n",
              "\n",
              "   Longitude  Bedrooms  Bathrooms  FinishedSqft  Lotsize   Price  \\\n",
              "0 -87.946370         4          2           NaN  3920.40    7000   \n",
              "1 -87.959490         4          2        1714.0  3484.80   34900   \n",
              "2 -87.966620         4          2        1500.0     0.62  124900   \n",
              "3 -87.944756         3          2        1184.0  4356.00  135000   \n",
              "4 -88.019295         3          2        1271.0  7840.80  135000   \n",
              "\n",
              "   MarketEstimate  \n",
              "0             NaN  \n",
              "1             NaN  \n",
              "2             NaN  \n",
              "3        132800.0  \n",
              "4        136300.0  "
            ]
          },
          "execution_count": 46,
          "metadata": {},
          "output_type": "execute_result"
        }
      ],
      "source": [
        "listings_data_df = listings_data_df.rename(columns={'Bedroom': 'Bedrooms', 'Bathroom':'Bathrooms','Area':'FinishedSqft', 'LotArea': 'Lotsize'})\n",
        "listings_data_df.head()"
      ]
    },
    {
      "cell_type": "code",
      "execution_count": 47,
      "metadata": {
        "colab": {
          "base_uri": "https://localhost:8080/"
        },
        "id": "WEBFZbYqqnZh",
        "outputId": "223795f6-c62b-4610-91c2-319491453f3f"
      },
      "outputs": [
        {
          "data": {
            "text/plain": [
              "Street            0\n",
              "City              0\n",
              "State             0\n",
              "Zipcode           0\n",
              "Latitude          0\n",
              "Longitude         0\n",
              "Bedrooms          0\n",
              "Bathrooms         0\n",
              "FinishedSqft      1\n",
              "Lotsize           5\n",
              "Price             0\n",
              "MarketEstimate    7\n",
              "dtype: int64"
            ]
          },
          "execution_count": 47,
          "metadata": {},
          "output_type": "execute_result"
        }
      ],
      "source": [
        "listings_data_df.isnull().sum()"
      ]
    },
    {
      "cell_type": "code",
      "execution_count": 48,
      "metadata": {
        "colab": {
          "base_uri": "https://localhost:8080/"
        },
        "id": "x-AuFeyXq8ak",
        "outputId": "c00d3153-8240-43aa-f438-5fe8e891df8a"
      },
      "outputs": [
        {
          "data": {
            "text/plain": [
              "Street            0\n",
              "City              0\n",
              "State             0\n",
              "Zipcode           0\n",
              "Latitude          0\n",
              "Longitude         0\n",
              "Bedrooms          0\n",
              "Bathrooms         0\n",
              "FinishedSqft      0\n",
              "Lotsize           0\n",
              "Price             0\n",
              "MarketEstimate    4\n",
              "dtype: int64"
            ]
          },
          "execution_count": 48,
          "metadata": {},
          "output_type": "execute_result"
        }
      ],
      "source": [
        "listings_data_df=listings_data_df.dropna(subset=['FinishedSqft','Lotsize'])\n",
        "listings_data_df.isnull().sum()"
      ]
    },
    {
      "cell_type": "code",
      "execution_count": 49,
      "metadata": {
        "colab": {
          "base_uri": "https://localhost:8080/",
          "height": 206
        },
        "id": "WMazJIh-n8Rw",
        "outputId": "938191ec-6ddc-4985-f056-5718c4db7191"
      },
      "outputs": [
        {
          "data": {
            "text/html": [
              "<div>\n",
              "<style scoped>\n",
              "    .dataframe tbody tr th:only-of-type {\n",
              "        vertical-align: middle;\n",
              "    }\n",
              "\n",
              "    .dataframe tbody tr th {\n",
              "        vertical-align: top;\n",
              "    }\n",
              "\n",
              "    .dataframe thead th {\n",
              "        text-align: right;\n",
              "    }\n",
              "</style>\n",
              "<table border=\"1\" class=\"dataframe\">\n",
              "  <thead>\n",
              "    <tr style=\"text-align: right;\">\n",
              "      <th></th>\n",
              "      <th>Bedrooms</th>\n",
              "      <th>Bathrooms</th>\n",
              "      <th>FinishedSqft</th>\n",
              "      <th>Lotsize</th>\n",
              "      <th>Year</th>\n",
              "    </tr>\n",
              "  </thead>\n",
              "  <tbody>\n",
              "    <tr>\n",
              "      <th>0</th>\n",
              "      <td>4</td>\n",
              "      <td>2</td>\n",
              "      <td>2200</td>\n",
              "      <td>128502</td>\n",
              "      <td>2021</td>\n",
              "    </tr>\n",
              "    <tr>\n",
              "      <th>1</th>\n",
              "      <td>2</td>\n",
              "      <td>2</td>\n",
              "      <td>1125</td>\n",
              "      <td>101059</td>\n",
              "      <td>2021</td>\n",
              "    </tr>\n",
              "    <tr>\n",
              "      <th>2</th>\n",
              "      <td>4</td>\n",
              "      <td>1</td>\n",
              "      <td>1471</td>\n",
              "      <td>95832</td>\n",
              "      <td>2022</td>\n",
              "    </tr>\n",
              "    <tr>\n",
              "      <th>3</th>\n",
              "      <td>4</td>\n",
              "      <td>3</td>\n",
              "      <td>2303</td>\n",
              "      <td>84071</td>\n",
              "      <td>2019</td>\n",
              "    </tr>\n",
              "    <tr>\n",
              "      <th>4</th>\n",
              "      <td>4</td>\n",
              "      <td>2</td>\n",
              "      <td>1247</td>\n",
              "      <td>81893</td>\n",
              "      <td>2023</td>\n",
              "    </tr>\n",
              "  </tbody>\n",
              "</table>\n",
              "</div>"
            ],
            "text/plain": [
              "   Bedrooms  Bathrooms  FinishedSqft  Lotsize  Year\n",
              "0         4          2          2200   128502  2021\n",
              "1         2          2          1125   101059  2021\n",
              "2         4          1          1471    95832  2022\n",
              "3         4          3          2303    84071  2019\n",
              "4         4          2          1247    81893  2023"
            ]
          },
          "execution_count": 49,
          "metadata": {},
          "output_type": "execute_result"
        }
      ],
      "source": [
        "X.head()"
      ]
    },
    {
      "cell_type": "code",
      "execution_count": 50,
      "metadata": {
        "colab": {
          "base_uri": "https://localhost:8080/",
          "height": 206
        },
        "id": "Ye2wdchJEGjW",
        "outputId": "51659af3-ac0c-4902-eeb8-50fa0ecc15fb"
      },
      "outputs": [
        {
          "data": {
            "text/html": [
              "<div>\n",
              "<style scoped>\n",
              "    .dataframe tbody tr th:only-of-type {\n",
              "        vertical-align: middle;\n",
              "    }\n",
              "\n",
              "    .dataframe tbody tr th {\n",
              "        vertical-align: top;\n",
              "    }\n",
              "\n",
              "    .dataframe thead th {\n",
              "        text-align: right;\n",
              "    }\n",
              "</style>\n",
              "<table border=\"1\" class=\"dataframe\">\n",
              "  <thead>\n",
              "    <tr style=\"text-align: right;\">\n",
              "      <th></th>\n",
              "      <th>Street</th>\n",
              "      <th>City</th>\n",
              "      <th>State</th>\n",
              "      <th>Zipcode</th>\n",
              "      <th>Latitude</th>\n",
              "      <th>Longitude</th>\n",
              "      <th>Bedrooms</th>\n",
              "      <th>Bathrooms</th>\n",
              "      <th>FinishedSqft</th>\n",
              "      <th>Lotsize</th>\n",
              "      <th>Price</th>\n",
              "      <th>MarketEstimate</th>\n",
              "      <th>Year</th>\n",
              "    </tr>\n",
              "  </thead>\n",
              "  <tbody>\n",
              "    <tr>\n",
              "      <th>1</th>\n",
              "      <td>North 37th STREET</td>\n",
              "      <td>Milwaukee</td>\n",
              "      <td>WI</td>\n",
              "      <td>53210</td>\n",
              "      <td>43.066345</td>\n",
              "      <td>-87.959490</td>\n",
              "      <td>4</td>\n",
              "      <td>2</td>\n",
              "      <td>1714.0</td>\n",
              "      <td>3484.80</td>\n",
              "      <td>34900</td>\n",
              "      <td>NaN</td>\n",
              "      <td>2024</td>\n",
              "    </tr>\n",
              "    <tr>\n",
              "      <th>2</th>\n",
              "      <td>North Sherman BOULEVARD UNIT 4326</td>\n",
              "      <td>Milwaukee</td>\n",
              "      <td>WI</td>\n",
              "      <td>53216</td>\n",
              "      <td>43.095818</td>\n",
              "      <td>-87.966620</td>\n",
              "      <td>4</td>\n",
              "      <td>2</td>\n",
              "      <td>1500.0</td>\n",
              "      <td>0.62</td>\n",
              "      <td>124900</td>\n",
              "      <td>NaN</td>\n",
              "      <td>2024</td>\n",
              "    </tr>\n",
              "    <tr>\n",
              "      <th>3</th>\n",
              "      <td>North 25th STREET</td>\n",
              "      <td>Milwaukee</td>\n",
              "      <td>WI</td>\n",
              "      <td>53205</td>\n",
              "      <td>43.056957</td>\n",
              "      <td>-87.944756</td>\n",
              "      <td>3</td>\n",
              "      <td>2</td>\n",
              "      <td>1184.0</td>\n",
              "      <td>4356.00</td>\n",
              "      <td>135000</td>\n",
              "      <td>132800.0</td>\n",
              "      <td>2024</td>\n",
              "    </tr>\n",
              "    <tr>\n",
              "      <th>4</th>\n",
              "      <td>North 86th PLACE</td>\n",
              "      <td>Milwaukee</td>\n",
              "      <td>WI</td>\n",
              "      <td>53225</td>\n",
              "      <td>43.121850</td>\n",
              "      <td>-88.019295</td>\n",
              "      <td>3</td>\n",
              "      <td>2</td>\n",
              "      <td>1271.0</td>\n",
              "      <td>7840.80</td>\n",
              "      <td>135000</td>\n",
              "      <td>136300.0</td>\n",
              "      <td>2024</td>\n",
              "    </tr>\n",
              "    <tr>\n",
              "      <th>5</th>\n",
              "      <td>North 35th STREET</td>\n",
              "      <td>Milwaukee</td>\n",
              "      <td>WI</td>\n",
              "      <td>53216</td>\n",
              "      <td>43.095448</td>\n",
              "      <td>-87.957344</td>\n",
              "      <td>2</td>\n",
              "      <td>1</td>\n",
              "      <td>667.0</td>\n",
              "      <td>4356.00</td>\n",
              "      <td>137500</td>\n",
              "      <td>139700.0</td>\n",
              "      <td>2024</td>\n",
              "    </tr>\n",
              "  </tbody>\n",
              "</table>\n",
              "</div>"
            ],
            "text/plain": [
              "                              Street       City State  Zipcode   Latitude  \\\n",
              "1                  North 37th STREET  Milwaukee    WI    53210  43.066345   \n",
              "2  North Sherman BOULEVARD UNIT 4326  Milwaukee    WI    53216  43.095818   \n",
              "3                  North 25th STREET  Milwaukee    WI    53205  43.056957   \n",
              "4                   North 86th PLACE  Milwaukee    WI    53225  43.121850   \n",
              "5                  North 35th STREET  Milwaukee    WI    53216  43.095448   \n",
              "\n",
              "   Longitude  Bedrooms  Bathrooms  FinishedSqft  Lotsize   Price  \\\n",
              "1 -87.959490         4          2        1714.0  3484.80   34900   \n",
              "2 -87.966620         4          2        1500.0     0.62  124900   \n",
              "3 -87.944756         3          2        1184.0  4356.00  135000   \n",
              "4 -88.019295         3          2        1271.0  7840.80  135000   \n",
              "5 -87.957344         2          1         667.0  4356.00  137500   \n",
              "\n",
              "   MarketEstimate  Year  \n",
              "1             NaN  2024  \n",
              "2             NaN  2024  \n",
              "3        132800.0  2024  \n",
              "4        136300.0  2024  \n",
              "5        139700.0  2024  "
            ]
          },
          "execution_count": 50,
          "metadata": {},
          "output_type": "execute_result"
        }
      ],
      "source": [
        "prediction1_df = listings_data_df.copy()\n",
        "prediction1_df['Year'] = 2024\n",
        "prediction1_df.head()"
      ]
    },
    {
      "cell_type": "code",
      "execution_count": 51,
      "metadata": {
        "colab": {
          "base_uri": "https://localhost:8080/",
          "height": 345
        },
        "id": "478ZWSEiEKKk",
        "outputId": "ec62b021-8d54-4301-b938-90f7a3dbecfd"
      },
      "outputs": [
        {
          "data": {
            "text/html": [
              "<div>\n",
              "<style scoped>\n",
              "    .dataframe tbody tr th:only-of-type {\n",
              "        vertical-align: middle;\n",
              "    }\n",
              "\n",
              "    .dataframe tbody tr th {\n",
              "        vertical-align: top;\n",
              "    }\n",
              "\n",
              "    .dataframe thead th {\n",
              "        text-align: right;\n",
              "    }\n",
              "</style>\n",
              "<table border=\"1\" class=\"dataframe\">\n",
              "  <thead>\n",
              "    <tr style=\"text-align: right;\">\n",
              "      <th></th>\n",
              "      <th>Street</th>\n",
              "      <th>City</th>\n",
              "      <th>State</th>\n",
              "      <th>Zipcode</th>\n",
              "      <th>Latitude</th>\n",
              "      <th>Longitude</th>\n",
              "      <th>Bedrooms</th>\n",
              "      <th>Bathrooms</th>\n",
              "      <th>FinishedSqft</th>\n",
              "      <th>Lotsize</th>\n",
              "      <th>Price</th>\n",
              "      <th>MarketEstimate</th>\n",
              "      <th>Year</th>\n",
              "    </tr>\n",
              "  </thead>\n",
              "  <tbody>\n",
              "    <tr>\n",
              "      <th>1</th>\n",
              "      <td>North 37th STREET</td>\n",
              "      <td>Milwaukee</td>\n",
              "      <td>WI</td>\n",
              "      <td>53210</td>\n",
              "      <td>43.066345</td>\n",
              "      <td>-87.959490</td>\n",
              "      <td>4</td>\n",
              "      <td>2</td>\n",
              "      <td>1714.0</td>\n",
              "      <td>3484.80</td>\n",
              "      <td>34900</td>\n",
              "      <td>NaN</td>\n",
              "      <td>2026</td>\n",
              "    </tr>\n",
              "    <tr>\n",
              "      <th>2</th>\n",
              "      <td>North Sherman BOULEVARD UNIT 4326</td>\n",
              "      <td>Milwaukee</td>\n",
              "      <td>WI</td>\n",
              "      <td>53216</td>\n",
              "      <td>43.095818</td>\n",
              "      <td>-87.966620</td>\n",
              "      <td>4</td>\n",
              "      <td>2</td>\n",
              "      <td>1500.0</td>\n",
              "      <td>0.62</td>\n",
              "      <td>124900</td>\n",
              "      <td>NaN</td>\n",
              "      <td>2026</td>\n",
              "    </tr>\n",
              "    <tr>\n",
              "      <th>3</th>\n",
              "      <td>North 25th STREET</td>\n",
              "      <td>Milwaukee</td>\n",
              "      <td>WI</td>\n",
              "      <td>53205</td>\n",
              "      <td>43.056957</td>\n",
              "      <td>-87.944756</td>\n",
              "      <td>3</td>\n",
              "      <td>2</td>\n",
              "      <td>1184.0</td>\n",
              "      <td>4356.00</td>\n",
              "      <td>135000</td>\n",
              "      <td>132800.0</td>\n",
              "      <td>2026</td>\n",
              "    </tr>\n",
              "    <tr>\n",
              "      <th>4</th>\n",
              "      <td>North 86th PLACE</td>\n",
              "      <td>Milwaukee</td>\n",
              "      <td>WI</td>\n",
              "      <td>53225</td>\n",
              "      <td>43.121850</td>\n",
              "      <td>-88.019295</td>\n",
              "      <td>3</td>\n",
              "      <td>2</td>\n",
              "      <td>1271.0</td>\n",
              "      <td>7840.80</td>\n",
              "      <td>135000</td>\n",
              "      <td>136300.0</td>\n",
              "      <td>2026</td>\n",
              "    </tr>\n",
              "    <tr>\n",
              "      <th>5</th>\n",
              "      <td>North 35th STREET</td>\n",
              "      <td>Milwaukee</td>\n",
              "      <td>WI</td>\n",
              "      <td>53216</td>\n",
              "      <td>43.095448</td>\n",
              "      <td>-87.957344</td>\n",
              "      <td>2</td>\n",
              "      <td>1</td>\n",
              "      <td>667.0</td>\n",
              "      <td>4356.00</td>\n",
              "      <td>137500</td>\n",
              "      <td>139700.0</td>\n",
              "      <td>2026</td>\n",
              "    </tr>\n",
              "  </tbody>\n",
              "</table>\n",
              "</div>"
            ],
            "text/plain": [
              "                              Street       City State  Zipcode   Latitude  \\\n",
              "1                  North 37th STREET  Milwaukee    WI    53210  43.066345   \n",
              "2  North Sherman BOULEVARD UNIT 4326  Milwaukee    WI    53216  43.095818   \n",
              "3                  North 25th STREET  Milwaukee    WI    53205  43.056957   \n",
              "4                   North 86th PLACE  Milwaukee    WI    53225  43.121850   \n",
              "5                  North 35th STREET  Milwaukee    WI    53216  43.095448   \n",
              "\n",
              "   Longitude  Bedrooms  Bathrooms  FinishedSqft  Lotsize   Price  \\\n",
              "1 -87.959490         4          2        1714.0  3484.80   34900   \n",
              "2 -87.966620         4          2        1500.0     0.62  124900   \n",
              "3 -87.944756         3          2        1184.0  4356.00  135000   \n",
              "4 -88.019295         3          2        1271.0  7840.80  135000   \n",
              "5 -87.957344         2          1         667.0  4356.00  137500   \n",
              "\n",
              "   MarketEstimate  Year  \n",
              "1             NaN  2026  \n",
              "2             NaN  2026  \n",
              "3        132800.0  2026  \n",
              "4        136300.0  2026  \n",
              "5        139700.0  2026  "
            ]
          },
          "execution_count": 51,
          "metadata": {},
          "output_type": "execute_result"
        }
      ],
      "source": [
        "prediction2_df = listings_data_df.copy()\n",
        "prediction2_df['Year'] = 2026\n",
        "prediction2_df.head()"
      ]
    },
    {
      "cell_type": "code",
      "execution_count": 52,
      "metadata": {
        "colab": {
          "base_uri": "https://localhost:8080/",
          "height": 345
        },
        "id": "-B1mG9wUlF8-",
        "outputId": "02006018-1f9a-476b-d8a4-803da87cc7a2"
      },
      "outputs": [
        {
          "data": {
            "text/html": [
              "<div>\n",
              "<style scoped>\n",
              "    .dataframe tbody tr th:only-of-type {\n",
              "        vertical-align: middle;\n",
              "    }\n",
              "\n",
              "    .dataframe tbody tr th {\n",
              "        vertical-align: top;\n",
              "    }\n",
              "\n",
              "    .dataframe thead th {\n",
              "        text-align: right;\n",
              "    }\n",
              "</style>\n",
              "<table border=\"1\" class=\"dataframe\">\n",
              "  <thead>\n",
              "    <tr style=\"text-align: right;\">\n",
              "      <th></th>\n",
              "      <th>Street</th>\n",
              "      <th>City</th>\n",
              "      <th>State</th>\n",
              "      <th>Zipcode</th>\n",
              "      <th>Latitude</th>\n",
              "      <th>Longitude</th>\n",
              "      <th>Bedrooms</th>\n",
              "      <th>Bathrooms</th>\n",
              "      <th>FinishedSqft</th>\n",
              "      <th>Lotsize</th>\n",
              "      <th>Price</th>\n",
              "      <th>MarketEstimate</th>\n",
              "      <th>Year</th>\n",
              "    </tr>\n",
              "  </thead>\n",
              "  <tbody>\n",
              "    <tr>\n",
              "      <th>1</th>\n",
              "      <td>North 37th STREET</td>\n",
              "      <td>Milwaukee</td>\n",
              "      <td>WI</td>\n",
              "      <td>53210</td>\n",
              "      <td>43.066345</td>\n",
              "      <td>-87.959490</td>\n",
              "      <td>4</td>\n",
              "      <td>2</td>\n",
              "      <td>1714.0</td>\n",
              "      <td>3484.80</td>\n",
              "      <td>34900</td>\n",
              "      <td>NaN</td>\n",
              "      <td>2028</td>\n",
              "    </tr>\n",
              "    <tr>\n",
              "      <th>2</th>\n",
              "      <td>North Sherman BOULEVARD UNIT 4326</td>\n",
              "      <td>Milwaukee</td>\n",
              "      <td>WI</td>\n",
              "      <td>53216</td>\n",
              "      <td>43.095818</td>\n",
              "      <td>-87.966620</td>\n",
              "      <td>4</td>\n",
              "      <td>2</td>\n",
              "      <td>1500.0</td>\n",
              "      <td>0.62</td>\n",
              "      <td>124900</td>\n",
              "      <td>NaN</td>\n",
              "      <td>2028</td>\n",
              "    </tr>\n",
              "    <tr>\n",
              "      <th>3</th>\n",
              "      <td>North 25th STREET</td>\n",
              "      <td>Milwaukee</td>\n",
              "      <td>WI</td>\n",
              "      <td>53205</td>\n",
              "      <td>43.056957</td>\n",
              "      <td>-87.944756</td>\n",
              "      <td>3</td>\n",
              "      <td>2</td>\n",
              "      <td>1184.0</td>\n",
              "      <td>4356.00</td>\n",
              "      <td>135000</td>\n",
              "      <td>132800.0</td>\n",
              "      <td>2028</td>\n",
              "    </tr>\n",
              "    <tr>\n",
              "      <th>4</th>\n",
              "      <td>North 86th PLACE</td>\n",
              "      <td>Milwaukee</td>\n",
              "      <td>WI</td>\n",
              "      <td>53225</td>\n",
              "      <td>43.121850</td>\n",
              "      <td>-88.019295</td>\n",
              "      <td>3</td>\n",
              "      <td>2</td>\n",
              "      <td>1271.0</td>\n",
              "      <td>7840.80</td>\n",
              "      <td>135000</td>\n",
              "      <td>136300.0</td>\n",
              "      <td>2028</td>\n",
              "    </tr>\n",
              "    <tr>\n",
              "      <th>5</th>\n",
              "      <td>North 35th STREET</td>\n",
              "      <td>Milwaukee</td>\n",
              "      <td>WI</td>\n",
              "      <td>53216</td>\n",
              "      <td>43.095448</td>\n",
              "      <td>-87.957344</td>\n",
              "      <td>2</td>\n",
              "      <td>1</td>\n",
              "      <td>667.0</td>\n",
              "      <td>4356.00</td>\n",
              "      <td>137500</td>\n",
              "      <td>139700.0</td>\n",
              "      <td>2028</td>\n",
              "    </tr>\n",
              "  </tbody>\n",
              "</table>\n",
              "</div>"
            ],
            "text/plain": [
              "                              Street       City State  Zipcode   Latitude  \\\n",
              "1                  North 37th STREET  Milwaukee    WI    53210  43.066345   \n",
              "2  North Sherman BOULEVARD UNIT 4326  Milwaukee    WI    53216  43.095818   \n",
              "3                  North 25th STREET  Milwaukee    WI    53205  43.056957   \n",
              "4                   North 86th PLACE  Milwaukee    WI    53225  43.121850   \n",
              "5                  North 35th STREET  Milwaukee    WI    53216  43.095448   \n",
              "\n",
              "   Longitude  Bedrooms  Bathrooms  FinishedSqft  Lotsize   Price  \\\n",
              "1 -87.959490         4          2        1714.0  3484.80   34900   \n",
              "2 -87.966620         4          2        1500.0     0.62  124900   \n",
              "3 -87.944756         3          2        1184.0  4356.00  135000   \n",
              "4 -88.019295         3          2        1271.0  7840.80  135000   \n",
              "5 -87.957344         2          1         667.0  4356.00  137500   \n",
              "\n",
              "   MarketEstimate  Year  \n",
              "1             NaN  2028  \n",
              "2             NaN  2028  \n",
              "3        132800.0  2028  \n",
              "4        136300.0  2028  \n",
              "5        139700.0  2028  "
            ]
          },
          "execution_count": 52,
          "metadata": {},
          "output_type": "execute_result"
        }
      ],
      "source": [
        "prediction3_df = listings_data_df.copy()\n",
        "prediction3_df['Year'] = 2028\n",
        "prediction3_df.head()"
      ]
    },
    {
      "cell_type": "code",
      "execution_count": 54,
      "metadata": {
        "colab": {
          "base_uri": "https://localhost:8080/",
          "height": 1000
        },
        "id": "bu6nLrI0qPif",
        "outputId": "1b2c2f3a-5157-4f3e-d910-4169901c0bef"
      },
      "outputs": [
        {
          "name": "stderr",
          "output_type": "stream",
          "text": [
            "[Parallel(n_jobs=16)]: Using backend ThreadingBackend with 16 concurrent workers.\n",
            "[Parallel(n_jobs=16)]: Done   9 tasks      | elapsed:    0.0s\n",
            "[Parallel(n_jobs=16)]: Done 150 out of 150 | elapsed:    0.0s finished\n",
            "[Parallel(n_jobs=16)]: Using backend ThreadingBackend with 16 concurrent workers.\n",
            "[Parallel(n_jobs=16)]: Done   9 tasks      | elapsed:    0.0s\n",
            "[Parallel(n_jobs=16)]: Done 150 out of 150 | elapsed:    0.0s finished\n",
            "[Parallel(n_jobs=16)]: Using backend ThreadingBackend with 16 concurrent workers.\n",
            "[Parallel(n_jobs=16)]: Done   9 tasks      | elapsed:    0.0s\n",
            "[Parallel(n_jobs=16)]: Done 150 out of 150 | elapsed:    0.0s finished\n"
          ]
        },
        {
          "data": {
            "text/html": [
              "<div>\n",
              "<style scoped>\n",
              "    .dataframe tbody tr th:only-of-type {\n",
              "        vertical-align: middle;\n",
              "    }\n",
              "\n",
              "    .dataframe tbody tr th {\n",
              "        vertical-align: top;\n",
              "    }\n",
              "\n",
              "    .dataframe thead th {\n",
              "        text-align: right;\n",
              "    }\n",
              "</style>\n",
              "<table border=\"1\" class=\"dataframe\">\n",
              "  <thead>\n",
              "    <tr style=\"text-align: right;\">\n",
              "      <th></th>\n",
              "      <th>Street</th>\n",
              "      <th>City</th>\n",
              "      <th>State</th>\n",
              "      <th>Zipcode</th>\n",
              "      <th>Latitude</th>\n",
              "      <th>Longitude</th>\n",
              "      <th>Bedrooms</th>\n",
              "      <th>Bathrooms</th>\n",
              "      <th>FinishedSqft</th>\n",
              "      <th>Lotsize</th>\n",
              "      <th>Price</th>\n",
              "      <th>MarketEstimate</th>\n",
              "      <th>2024 Forecasted House Price</th>\n",
              "      <th>2026 Forecasted House Price</th>\n",
              "      <th>2028 Forecasted House Price</th>\n",
              "    </tr>\n",
              "  </thead>\n",
              "  <tbody>\n",
              "    <tr>\n",
              "      <th>1</th>\n",
              "      <td>North 37th STREET</td>\n",
              "      <td>Milwaukee</td>\n",
              "      <td>WI</td>\n",
              "      <td>53210</td>\n",
              "      <td>43.066345</td>\n",
              "      <td>-87.959490</td>\n",
              "      <td>4</td>\n",
              "      <td>2</td>\n",
              "      <td>1714.0</td>\n",
              "      <td>3484.80</td>\n",
              "      <td>34900</td>\n",
              "      <td>NaN</td>\n",
              "      <td>171842.347687</td>\n",
              "      <td>171842.347687</td>\n",
              "      <td>171842.347687</td>\n",
              "    </tr>\n",
              "    <tr>\n",
              "      <th>2</th>\n",
              "      <td>North Sherman BOULEVARD UNIT 4326</td>\n",
              "      <td>Milwaukee</td>\n",
              "      <td>WI</td>\n",
              "      <td>53216</td>\n",
              "      <td>43.095818</td>\n",
              "      <td>-87.966620</td>\n",
              "      <td>4</td>\n",
              "      <td>2</td>\n",
              "      <td>1500.0</td>\n",
              "      <td>0.62</td>\n",
              "      <td>124900</td>\n",
              "      <td>NaN</td>\n",
              "      <td>188241.058807</td>\n",
              "      <td>188241.058807</td>\n",
              "      <td>188241.058807</td>\n",
              "    </tr>\n",
              "    <tr>\n",
              "      <th>3</th>\n",
              "      <td>North 25th STREET</td>\n",
              "      <td>Milwaukee</td>\n",
              "      <td>WI</td>\n",
              "      <td>53205</td>\n",
              "      <td>43.056957</td>\n",
              "      <td>-87.944756</td>\n",
              "      <td>3</td>\n",
              "      <td>2</td>\n",
              "      <td>1184.0</td>\n",
              "      <td>4356.00</td>\n",
              "      <td>135000</td>\n",
              "      <td>132800.0</td>\n",
              "      <td>186813.887829</td>\n",
              "      <td>186813.887829</td>\n",
              "      <td>186813.887829</td>\n",
              "    </tr>\n",
              "    <tr>\n",
              "      <th>4</th>\n",
              "      <td>North 86th PLACE</td>\n",
              "      <td>Milwaukee</td>\n",
              "      <td>WI</td>\n",
              "      <td>53225</td>\n",
              "      <td>43.121850</td>\n",
              "      <td>-88.019295</td>\n",
              "      <td>3</td>\n",
              "      <td>2</td>\n",
              "      <td>1271.0</td>\n",
              "      <td>7840.80</td>\n",
              "      <td>135000</td>\n",
              "      <td>136300.0</td>\n",
              "      <td>202872.349800</td>\n",
              "      <td>202872.349800</td>\n",
              "      <td>202872.349800</td>\n",
              "    </tr>\n",
              "    <tr>\n",
              "      <th>5</th>\n",
              "      <td>North 35th STREET</td>\n",
              "      <td>Milwaukee</td>\n",
              "      <td>WI</td>\n",
              "      <td>53216</td>\n",
              "      <td>43.095448</td>\n",
              "      <td>-87.957344</td>\n",
              "      <td>2</td>\n",
              "      <td>1</td>\n",
              "      <td>667.0</td>\n",
              "      <td>4356.00</td>\n",
              "      <td>137500</td>\n",
              "      <td>139700.0</td>\n",
              "      <td>111612.866556</td>\n",
              "      <td>111612.866556</td>\n",
              "      <td>111612.866556</td>\n",
              "    </tr>\n",
              "    <tr>\n",
              "      <th>6</th>\n",
              "      <td>North 17th STREET NORTH North</td>\n",
              "      <td>Milwaukee</td>\n",
              "      <td>WI</td>\n",
              "      <td>53206</td>\n",
              "      <td>43.069004</td>\n",
              "      <td>-87.934100</td>\n",
              "      <td>3</td>\n",
              "      <td>2</td>\n",
              "      <td>902.0</td>\n",
              "      <td>0.00</td>\n",
              "      <td>140000</td>\n",
              "      <td>NaN</td>\n",
              "      <td>155553.148274</td>\n",
              "      <td>155553.148274</td>\n",
              "      <td>155553.148274</td>\n",
              "    </tr>\n",
              "    <tr>\n",
              "      <th>7</th>\n",
              "      <td>West Eden PLACE</td>\n",
              "      <td>Milwaukee</td>\n",
              "      <td>WI</td>\n",
              "      <td>53220</td>\n",
              "      <td>42.980330</td>\n",
              "      <td>-88.002720</td>\n",
              "      <td>3</td>\n",
              "      <td>1</td>\n",
              "      <td>1156.0</td>\n",
              "      <td>7840.80</td>\n",
              "      <td>144900</td>\n",
              "      <td>157300.0</td>\n",
              "      <td>155947.286575</td>\n",
              "      <td>155947.286575</td>\n",
              "      <td>155947.286575</td>\n",
              "    </tr>\n",
              "    <tr>\n",
              "      <th>8</th>\n",
              "      <td>South 8th STREET</td>\n",
              "      <td>Milwaukee</td>\n",
              "      <td>WI</td>\n",
              "      <td>53215</td>\n",
              "      <td>42.996044</td>\n",
              "      <td>-87.921000</td>\n",
              "      <td>3</td>\n",
              "      <td>1</td>\n",
              "      <td>1400.0</td>\n",
              "      <td>3484.80</td>\n",
              "      <td>155000</td>\n",
              "      <td>156700.0</td>\n",
              "      <td>166670.368625</td>\n",
              "      <td>166670.368625</td>\n",
              "      <td>166670.368625</td>\n",
              "    </tr>\n",
              "    <tr>\n",
              "      <th>10</th>\n",
              "      <td>North Sherman BOULEVARD</td>\n",
              "      <td>Milwaukee</td>\n",
              "      <td>WI</td>\n",
              "      <td>53216</td>\n",
              "      <td>43.077385</td>\n",
              "      <td>-87.966930</td>\n",
              "      <td>4</td>\n",
              "      <td>2</td>\n",
              "      <td>1972.0</td>\n",
              "      <td>0.96</td>\n",
              "      <td>163500</td>\n",
              "      <td>162900.0</td>\n",
              "      <td>174350.050195</td>\n",
              "      <td>174350.050195</td>\n",
              "      <td>174350.050195</td>\n",
              "    </tr>\n",
              "    <tr>\n",
              "      <th>11</th>\n",
              "      <td>North 78th STREET</td>\n",
              "      <td>Milwaukee</td>\n",
              "      <td>WI</td>\n",
              "      <td>53222</td>\n",
              "      <td>43.074600</td>\n",
              "      <td>-88.009514</td>\n",
              "      <td>2</td>\n",
              "      <td>1</td>\n",
              "      <td>953.0</td>\n",
              "      <td>4791.60</td>\n",
              "      <td>179000</td>\n",
              "      <td>192900.0</td>\n",
              "      <td>128889.295395</td>\n",
              "      <td>128889.295395</td>\n",
              "      <td>128889.295395</td>\n",
              "    </tr>\n",
              "    <tr>\n",
              "      <th>12</th>\n",
              "      <td>North 45th STREET</td>\n",
              "      <td>Milwaukee</td>\n",
              "      <td>WI</td>\n",
              "      <td>53216</td>\n",
              "      <td>43.081413</td>\n",
              "      <td>-87.970080</td>\n",
              "      <td>3</td>\n",
              "      <td>2</td>\n",
              "      <td>1532.0</td>\n",
              "      <td>4791.60</td>\n",
              "      <td>179000</td>\n",
              "      <td>183800.0</td>\n",
              "      <td>150261.805021</td>\n",
              "      <td>150261.805021</td>\n",
              "      <td>150261.805021</td>\n",
              "    </tr>\n",
              "    <tr>\n",
              "      <th>13</th>\n",
              "      <td>West Green Tree ROAD</td>\n",
              "      <td>Milwaukee</td>\n",
              "      <td>WI</td>\n",
              "      <td>53223</td>\n",
              "      <td>43.141716</td>\n",
              "      <td>-88.011400</td>\n",
              "      <td>4</td>\n",
              "      <td>3</td>\n",
              "      <td>2007.0</td>\n",
              "      <td>7840.80</td>\n",
              "      <td>205000</td>\n",
              "      <td>211900.0</td>\n",
              "      <td>259131.457226</td>\n",
              "      <td>259131.457226</td>\n",
              "      <td>259131.457226</td>\n",
              "    </tr>\n",
              "    <tr>\n",
              "      <th>15</th>\n",
              "      <td>West Bottsford AVENUE</td>\n",
              "      <td>Milwaukee</td>\n",
              "      <td>WI</td>\n",
              "      <td>53221</td>\n",
              "      <td>42.964855</td>\n",
              "      <td>-87.954440</td>\n",
              "      <td>3</td>\n",
              "      <td>2</td>\n",
              "      <td>1152.0</td>\n",
              "      <td>8712.00</td>\n",
              "      <td>249000</td>\n",
              "      <td>259000.0</td>\n",
              "      <td>164821.722471</td>\n",
              "      <td>164821.722471</td>\n",
              "      <td>164821.722471</td>\n",
              "    </tr>\n",
              "    <tr>\n",
              "      <th>16</th>\n",
              "      <td>S Alabama Ave</td>\n",
              "      <td>Milwaukee</td>\n",
              "      <td>WI</td>\n",
              "      <td>53207</td>\n",
              "      <td>42.982690</td>\n",
              "      <td>-87.887985</td>\n",
              "      <td>2</td>\n",
              "      <td>2</td>\n",
              "      <td>1234.0</td>\n",
              "      <td>4791.60</td>\n",
              "      <td>249800</td>\n",
              "      <td>263300.0</td>\n",
              "      <td>149453.782346</td>\n",
              "      <td>149453.782346</td>\n",
              "      <td>149453.782346</td>\n",
              "    </tr>\n",
              "    <tr>\n",
              "      <th>18</th>\n",
              "      <td>West Good Hope ROAD</td>\n",
              "      <td>Milwaukee</td>\n",
              "      <td>WI</td>\n",
              "      <td>53224</td>\n",
              "      <td>43.148857</td>\n",
              "      <td>-88.034750</td>\n",
              "      <td>5</td>\n",
              "      <td>2</td>\n",
              "      <td>1816.0</td>\n",
              "      <td>0.28</td>\n",
              "      <td>249900</td>\n",
              "      <td>256800.0</td>\n",
              "      <td>129413.464499</td>\n",
              "      <td>129413.464499</td>\n",
              "      <td>129413.464499</td>\n",
              "    </tr>\n",
              "    <tr>\n",
              "      <th>19</th>\n",
              "      <td>North 50th STREET</td>\n",
              "      <td>Milwaukee</td>\n",
              "      <td>WI</td>\n",
              "      <td>53216</td>\n",
              "      <td>43.076060</td>\n",
              "      <td>-87.976380</td>\n",
              "      <td>5</td>\n",
              "      <td>3</td>\n",
              "      <td>2739.0</td>\n",
              "      <td>4791.60</td>\n",
              "      <td>260000</td>\n",
              "      <td>257300.0</td>\n",
              "      <td>224026.391251</td>\n",
              "      <td>224026.391251</td>\n",
              "      <td>224026.391251</td>\n",
              "    </tr>\n",
              "    <tr>\n",
              "      <th>20</th>\n",
              "      <td>SE Sellwood St</td>\n",
              "      <td>Milwaukie</td>\n",
              "      <td>OR</td>\n",
              "      <td>97222</td>\n",
              "      <td>45.440216</td>\n",
              "      <td>-122.628470</td>\n",
              "      <td>2</td>\n",
              "      <td>1</td>\n",
              "      <td>1884.0</td>\n",
              "      <td>5000.00</td>\n",
              "      <td>275000</td>\n",
              "      <td>NaN</td>\n",
              "      <td>135364.358291</td>\n",
              "      <td>135364.358291</td>\n",
              "      <td>135364.358291</td>\n",
              "    </tr>\n",
              "    <tr>\n",
              "      <th>21</th>\n",
              "      <td>South 83rd STREET</td>\n",
              "      <td>Milwaukee</td>\n",
              "      <td>WI</td>\n",
              "      <td>53220</td>\n",
              "      <td>42.980274</td>\n",
              "      <td>-88.016075</td>\n",
              "      <td>3</td>\n",
              "      <td>2</td>\n",
              "      <td>1506.0</td>\n",
              "      <td>10454.40</td>\n",
              "      <td>284900</td>\n",
              "      <td>294300.0</td>\n",
              "      <td>182892.353402</td>\n",
              "      <td>182892.353402</td>\n",
              "      <td>182892.353402</td>\n",
              "    </tr>\n",
              "    <tr>\n",
              "      <th>22</th>\n",
              "      <td>North Link PLACE</td>\n",
              "      <td>Milwaukee</td>\n",
              "      <td>WI</td>\n",
              "      <td>53223</td>\n",
              "      <td>43.160305</td>\n",
              "      <td>-87.976050</td>\n",
              "      <td>3</td>\n",
              "      <td>2</td>\n",
              "      <td>1907.0</td>\n",
              "      <td>0.25</td>\n",
              "      <td>309900</td>\n",
              "      <td>319100.0</td>\n",
              "      <td>185514.141103</td>\n",
              "      <td>185514.141103</td>\n",
              "      <td>185514.141103</td>\n",
              "    </tr>\n",
              "    <tr>\n",
              "      <th>23</th>\n",
              "      <td>North 60th STREET</td>\n",
              "      <td>Milwaukee</td>\n",
              "      <td>WI</td>\n",
              "      <td>53208</td>\n",
              "      <td>43.051777</td>\n",
              "      <td>-87.987220</td>\n",
              "      <td>3</td>\n",
              "      <td>1</td>\n",
              "      <td>1717.0</td>\n",
              "      <td>6534.00</td>\n",
              "      <td>320000</td>\n",
              "      <td>334300.0</td>\n",
              "      <td>171669.470518</td>\n",
              "      <td>171669.470518</td>\n",
              "      <td>171669.470518</td>\n",
              "    </tr>\n",
              "    <tr>\n",
              "      <th>24</th>\n",
              "      <td>North 85th STREET</td>\n",
              "      <td>Milwaukee</td>\n",
              "      <td>WI</td>\n",
              "      <td>53222</td>\n",
              "      <td>43.072025</td>\n",
              "      <td>-88.019160</td>\n",
              "      <td>5</td>\n",
              "      <td>3</td>\n",
              "      <td>2118.0</td>\n",
              "      <td>5227.20</td>\n",
              "      <td>334900</td>\n",
              "      <td>355900.0</td>\n",
              "      <td>206599.143079</td>\n",
              "      <td>206599.143079</td>\n",
              "      <td>206599.143079</td>\n",
              "    </tr>\n",
              "    <tr>\n",
              "      <th>25</th>\n",
              "      <td>South Whitnall AVENUE</td>\n",
              "      <td>Milwaukee</td>\n",
              "      <td>WI</td>\n",
              "      <td>53207</td>\n",
              "      <td>42.982292</td>\n",
              "      <td>-87.905945</td>\n",
              "      <td>3</td>\n",
              "      <td>2</td>\n",
              "      <td>1300.0</td>\n",
              "      <td>4356.00</td>\n",
              "      <td>339000</td>\n",
              "      <td>360000.0</td>\n",
              "      <td>196326.731381</td>\n",
              "      <td>196326.731381</td>\n",
              "      <td>196326.731381</td>\n",
              "    </tr>\n",
              "    <tr>\n",
              "      <th>26</th>\n",
              "      <td>North Warren AVENUE</td>\n",
              "      <td>Milwaukee</td>\n",
              "      <td>WI</td>\n",
              "      <td>53202</td>\n",
              "      <td>43.053540</td>\n",
              "      <td>-87.893420</td>\n",
              "      <td>3</td>\n",
              "      <td>2</td>\n",
              "      <td>1603.0</td>\n",
              "      <td>5227.20</td>\n",
              "      <td>349900</td>\n",
              "      <td>356000.0</td>\n",
              "      <td>241533.092376</td>\n",
              "      <td>241533.092376</td>\n",
              "      <td>241533.092376</td>\n",
              "    </tr>\n",
              "    <tr>\n",
              "      <th>27</th>\n",
              "      <td>East Homer STREET</td>\n",
              "      <td>Milwaukee</td>\n",
              "      <td>WI</td>\n",
              "      <td>53207</td>\n",
              "      <td>42.999760</td>\n",
              "      <td>-87.899940</td>\n",
              "      <td>3</td>\n",
              "      <td>2</td>\n",
              "      <td>1600.0</td>\n",
              "      <td>3484.80</td>\n",
              "      <td>349900</td>\n",
              "      <td>370200.0</td>\n",
              "      <td>241381.062815</td>\n",
              "      <td>241381.062815</td>\n",
              "      <td>241381.062815</td>\n",
              "    </tr>\n",
              "    <tr>\n",
              "      <th>28</th>\n",
              "      <td>SE Mabel Ave</td>\n",
              "      <td>Milwaukie</td>\n",
              "      <td>OR</td>\n",
              "      <td>97267</td>\n",
              "      <td>45.407420</td>\n",
              "      <td>-122.594246</td>\n",
              "      <td>3</td>\n",
              "      <td>2</td>\n",
              "      <td>2287.0</td>\n",
              "      <td>0.43</td>\n",
              "      <td>399900</td>\n",
              "      <td>412700.0</td>\n",
              "      <td>216201.559255</td>\n",
              "      <td>216201.559255</td>\n",
              "      <td>216201.559255</td>\n",
              "    </tr>\n",
              "    <tr>\n",
              "      <th>30</th>\n",
              "      <td>SE La Marquita Way</td>\n",
              "      <td>Milwaukie</td>\n",
              "      <td>OR</td>\n",
              "      <td>97267</td>\n",
              "      <td>45.412502</td>\n",
              "      <td>-122.614136</td>\n",
              "      <td>3</td>\n",
              "      <td>2</td>\n",
              "      <td>1285.0</td>\n",
              "      <td>10454.40</td>\n",
              "      <td>425000</td>\n",
              "      <td>434700.0</td>\n",
              "      <td>206212.682678</td>\n",
              "      <td>206212.682678</td>\n",
              "      <td>206212.682678</td>\n",
              "    </tr>\n",
              "    <tr>\n",
              "      <th>31</th>\n",
              "      <td>SE Jennings Ave</td>\n",
              "      <td>Milwaukie</td>\n",
              "      <td>OR</td>\n",
              "      <td>97267</td>\n",
              "      <td>45.398810</td>\n",
              "      <td>-122.597610</td>\n",
              "      <td>2</td>\n",
              "      <td>2</td>\n",
              "      <td>1279.0</td>\n",
              "      <td>10454.40</td>\n",
              "      <td>475000</td>\n",
              "      <td>485500.0</td>\n",
              "      <td>208310.836667</td>\n",
              "      <td>208310.836667</td>\n",
              "      <td>208310.836667</td>\n",
              "    </tr>\n",
              "  </tbody>\n",
              "</table>\n",
              "</div>"
            ],
            "text/plain": [
              "                               Street       City State  Zipcode   Latitude  \\\n",
              "1                   North 37th STREET  Milwaukee    WI    53210  43.066345   \n",
              "2   North Sherman BOULEVARD UNIT 4326  Milwaukee    WI    53216  43.095818   \n",
              "3                   North 25th STREET  Milwaukee    WI    53205  43.056957   \n",
              "4                    North 86th PLACE  Milwaukee    WI    53225  43.121850   \n",
              "5                   North 35th STREET  Milwaukee    WI    53216  43.095448   \n",
              "6       North 17th STREET NORTH North  Milwaukee    WI    53206  43.069004   \n",
              "7                     West Eden PLACE  Milwaukee    WI    53220  42.980330   \n",
              "8                    South 8th STREET  Milwaukee    WI    53215  42.996044   \n",
              "10            North Sherman BOULEVARD  Milwaukee    WI    53216  43.077385   \n",
              "11                  North 78th STREET  Milwaukee    WI    53222  43.074600   \n",
              "12                  North 45th STREET  Milwaukee    WI    53216  43.081413   \n",
              "13               West Green Tree ROAD  Milwaukee    WI    53223  43.141716   \n",
              "15              West Bottsford AVENUE  Milwaukee    WI    53221  42.964855   \n",
              "16                      S Alabama Ave  Milwaukee    WI    53207  42.982690   \n",
              "18                West Good Hope ROAD  Milwaukee    WI    53224  43.148857   \n",
              "19                  North 50th STREET  Milwaukee    WI    53216  43.076060   \n",
              "20                     SE Sellwood St  Milwaukie    OR    97222  45.440216   \n",
              "21                  South 83rd STREET  Milwaukee    WI    53220  42.980274   \n",
              "22                   North Link PLACE  Milwaukee    WI    53223  43.160305   \n",
              "23                  North 60th STREET  Milwaukee    WI    53208  43.051777   \n",
              "24                  North 85th STREET  Milwaukee    WI    53222  43.072025   \n",
              "25              South Whitnall AVENUE  Milwaukee    WI    53207  42.982292   \n",
              "26                North Warren AVENUE  Milwaukee    WI    53202  43.053540   \n",
              "27                  East Homer STREET  Milwaukee    WI    53207  42.999760   \n",
              "28                       SE Mabel Ave  Milwaukie    OR    97267  45.407420   \n",
              "30                 SE La Marquita Way  Milwaukie    OR    97267  45.412502   \n",
              "31                    SE Jennings Ave  Milwaukie    OR    97267  45.398810   \n",
              "\n",
              "     Longitude  Bedrooms  Bathrooms  FinishedSqft   Lotsize   Price  \\\n",
              "1   -87.959490         4          2        1714.0   3484.80   34900   \n",
              "2   -87.966620         4          2        1500.0      0.62  124900   \n",
              "3   -87.944756         3          2        1184.0   4356.00  135000   \n",
              "4   -88.019295         3          2        1271.0   7840.80  135000   \n",
              "5   -87.957344         2          1         667.0   4356.00  137500   \n",
              "6   -87.934100         3          2         902.0      0.00  140000   \n",
              "7   -88.002720         3          1        1156.0   7840.80  144900   \n",
              "8   -87.921000         3          1        1400.0   3484.80  155000   \n",
              "10  -87.966930         4          2        1972.0      0.96  163500   \n",
              "11  -88.009514         2          1         953.0   4791.60  179000   \n",
              "12  -87.970080         3          2        1532.0   4791.60  179000   \n",
              "13  -88.011400         4          3        2007.0   7840.80  205000   \n",
              "15  -87.954440         3          2        1152.0   8712.00  249000   \n",
              "16  -87.887985         2          2        1234.0   4791.60  249800   \n",
              "18  -88.034750         5          2        1816.0      0.28  249900   \n",
              "19  -87.976380         5          3        2739.0   4791.60  260000   \n",
              "20 -122.628470         2          1        1884.0   5000.00  275000   \n",
              "21  -88.016075         3          2        1506.0  10454.40  284900   \n",
              "22  -87.976050         3          2        1907.0      0.25  309900   \n",
              "23  -87.987220         3          1        1717.0   6534.00  320000   \n",
              "24  -88.019160         5          3        2118.0   5227.20  334900   \n",
              "25  -87.905945         3          2        1300.0   4356.00  339000   \n",
              "26  -87.893420         3          2        1603.0   5227.20  349900   \n",
              "27  -87.899940         3          2        1600.0   3484.80  349900   \n",
              "28 -122.594246         3          2        2287.0      0.43  399900   \n",
              "30 -122.614136         3          2        1285.0  10454.40  425000   \n",
              "31 -122.597610         2          2        1279.0  10454.40  475000   \n",
              "\n",
              "    MarketEstimate  2024 Forecasted House Price  2026 Forecasted House Price  \\\n",
              "1              NaN                171842.347687                171842.347687   \n",
              "2              NaN                188241.058807                188241.058807   \n",
              "3         132800.0                186813.887829                186813.887829   \n",
              "4         136300.0                202872.349800                202872.349800   \n",
              "5         139700.0                111612.866556                111612.866556   \n",
              "6              NaN                155553.148274                155553.148274   \n",
              "7         157300.0                155947.286575                155947.286575   \n",
              "8         156700.0                166670.368625                166670.368625   \n",
              "10        162900.0                174350.050195                174350.050195   \n",
              "11        192900.0                128889.295395                128889.295395   \n",
              "12        183800.0                150261.805021                150261.805021   \n",
              "13        211900.0                259131.457226                259131.457226   \n",
              "15        259000.0                164821.722471                164821.722471   \n",
              "16        263300.0                149453.782346                149453.782346   \n",
              "18        256800.0                129413.464499                129413.464499   \n",
              "19        257300.0                224026.391251                224026.391251   \n",
              "20             NaN                135364.358291                135364.358291   \n",
              "21        294300.0                182892.353402                182892.353402   \n",
              "22        319100.0                185514.141103                185514.141103   \n",
              "23        334300.0                171669.470518                171669.470518   \n",
              "24        355900.0                206599.143079                206599.143079   \n",
              "25        360000.0                196326.731381                196326.731381   \n",
              "26        356000.0                241533.092376                241533.092376   \n",
              "27        370200.0                241381.062815                241381.062815   \n",
              "28        412700.0                216201.559255                216201.559255   \n",
              "30        434700.0                206212.682678                206212.682678   \n",
              "31        485500.0                208310.836667                208310.836667   \n",
              "\n",
              "    2028 Forecasted House Price  \n",
              "1                 171842.347687  \n",
              "2                 188241.058807  \n",
              "3                 186813.887829  \n",
              "4                 202872.349800  \n",
              "5                 111612.866556  \n",
              "6                 155553.148274  \n",
              "7                 155947.286575  \n",
              "8                 166670.368625  \n",
              "10                174350.050195  \n",
              "11                128889.295395  \n",
              "12                150261.805021  \n",
              "13                259131.457226  \n",
              "15                164821.722471  \n",
              "16                149453.782346  \n",
              "18                129413.464499  \n",
              "19                224026.391251  \n",
              "20                135364.358291  \n",
              "21                182892.353402  \n",
              "22                185514.141103  \n",
              "23                171669.470518  \n",
              "24                206599.143079  \n",
              "25                196326.731381  \n",
              "26                241533.092376  \n",
              "27                241381.062815  \n",
              "28                216201.559255  \n",
              "30                206212.682678  \n",
              "31                208310.836667  "
            ]
          },
          "execution_count": 54,
          "metadata": {},
          "output_type": "execute_result"
        }
      ],
      "source": [
        "X_pred1 = prediction1_df[['Bedrooms', 'Bathrooms','FinishedSqft', 'Lotsize','Year']]\n",
        "y_predicted_sales1 = rfm.predict(X_pred1)\n",
        "X_pred2 = prediction2_df[['Bedrooms', 'Bathrooms','FinishedSqft', 'Lotsize','Year']]\n",
        "y_predicted_sales2 = rfm.predict(X_pred2)\n",
        "X_pred3 = prediction3_df[['Bedrooms', 'Bathrooms','FinishedSqft', 'Lotsize','Year']]\n",
        "y_predicted_sales3 = rfm.predict(X_pred3)\n",
        "\n",
        "listings_data_df['2024 Forecasted House Price'] = y_predicted_sales1\n",
        "listings_data_df['2026 Forecasted House Price'] = y_predicted_sales2\n",
        "listings_data_df['2028 Forecasted House Price'] = y_predicted_sales3\n",
        "\n",
        "listings_data_df"
      ]
    },
    {
      "cell_type": "code",
      "execution_count": 281,
      "metadata": {
        "id": "IVHSu3r-qjWO"
      },
      "outputs": [],
      "source": []
    }
  ],
  "metadata": {
    "colab": {
      "authorship_tag": "ABX9TyNTWBnrhGI8JQtxLTHdn01d",
      "include_colab_link": true,
      "provenance": []
    },
    "kernelspec": {
      "display_name": "Python 3",
      "name": "python3"
    },
    "language_info": {
      "codemirror_mode": {
        "name": "ipython",
        "version": 3
      },
      "file_extension": ".py",
      "mimetype": "text/x-python",
      "name": "python",
      "nbconvert_exporter": "python",
      "pygments_lexer": "ipython3",
      "version": "3.11.5"
    }
  },
  "nbformat": 4,
  "nbformat_minor": 0
}
