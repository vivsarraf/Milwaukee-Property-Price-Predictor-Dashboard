{
 "cells": [
  {
   "cell_type": "code",
   "execution_count": 6,
   "metadata": {
    "ExecuteTime": {
     "end_time": "2024-06-11T01:55:26.520119Z",
     "start_time": "2024-06-11T01:55:26.316544Z"
    }
   },
   "outputs": [],
   "source": [
    "import pandas as pd\n",
    "import numpy as np\n",
    "import matplotlib.pyplot as plt\n",
    "from sklearn.metrics import mean_squared_error\n",
    "from sklearn.neural_network import MLPRegressor\n",
    "from sklearn.model_selection import train_test_split\n",
    "from sklearn.preprocessing import StandardScaler\n",
    "from sklearn.linear_model import LinearRegression\n",
    "from sklearn.ensemble import RandomForestRegressor"
   ]
  },
  {
   "cell_type": "code",
   "execution_count": 7,
   "metadata": {
    "ExecuteTime": {
     "end_time": "2024-06-11T01:55:26.611324Z",
     "start_time": "2024-06-11T01:55:26.521970Z"
    }
   },
   "outputs": [
    {
     "name": "stdout",
     "output_type": "stream",
     "text": [
      "Index(['Unnamed: 0', 'FinishedSqft', 'Lotsize', 'Bdrms', 'Baths_total',\n",
      "       'Sale_year', 'Sale_month', 'Sale_price', 'Style_AP 1', 'Style_Bi-Level',\n",
      "       'Style_Cape Cod', 'Style_Colonial', 'Style_Contemporary',\n",
      "       'Style_Cottage', 'Style_Dplx Bungalow', 'Style_Duplex N/S',\n",
      "       'Style_Duplex O/S', 'Style_Duplex-Cottage', 'Style_Milwaukee Bungalow',\n",
      "       'Style_Multiple Residential Bldgs', 'Style_Ranch',\n",
      "       'Style_Res O/S 1 Story', 'Style_Res O/S 2sty +',\n",
      "       'Style_Res O/S A & 1/2', 'Style_Residence O/S',\n",
      "       'Style_Residence O/S 2sty+', 'Style_Split Level', 'Style_Townhouse',\n",
      "       'Style_Triplex', 'Style_Tudor', 'Extwall_Alum/Vynyl Siding',\n",
      "       'Extwall_Aluminum / Vinyl', 'Extwall_Aluminum/Vinyl',\n",
      "       'Extwall_Asphalt/Other', 'Extwall_Block', 'Extwall_Brick',\n",
      "       'Extwall_Fiber Cement/Hardiplank', 'Extwall_Fiber-Cement',\n",
      "       'Extwall_Frame', 'Extwall_Masonary Frame', 'Extwall_Masonry / Frame',\n",
      "       'Extwall_Masonry/Frame', 'Extwall_Metal Siding', 'Extwall_Prem Wood',\n",
      "       'Extwall_Stone', 'Extwall_Stucco', 'Extwall_Wood'],\n",
      "      dtype='object')\n"
     ]
    }
   ],
   "source": [
    "# Load the data\n",
    "data = pd.read_csv('Resources/cleaned-sales-data-with-dummies-and-no-outliers-June11.csv')\n",
    "\n",
    "# Print the columns to check for the correct column name\n",
    "print(data.columns)"
   ]
  },
  {
   "cell_type": "code",
   "execution_count": 8,
   "metadata": {
    "ExecuteTime": {
     "end_time": "2024-06-11T01:55:26.634335Z",
     "start_time": "2024-06-11T01:55:26.622708Z"
    }
   },
   "outputs": [
    {
     "name": "stdout",
     "output_type": "stream",
     "text": [
      "<class 'pandas.core.frame.DataFrame'>\n",
      "RangeIndex: 30383 entries, 0 to 30382\n",
      "Data columns (total 47 columns):\n",
      " #   Column                            Non-Null Count  Dtype\n",
      "---  ------                            --------------  -----\n",
      " 0   Unnamed: 0                        30383 non-null  int64\n",
      " 1   FinishedSqft                      30383 non-null  int64\n",
      " 2   Lotsize                           30383 non-null  int64\n",
      " 3   Bdrms                             30383 non-null  int64\n",
      " 4   Baths_total                       30383 non-null  int64\n",
      " 5   Sale_year                         30383 non-null  int64\n",
      " 6   Sale_month                        30383 non-null  int64\n",
      " 7   Sale_price                        30383 non-null  int64\n",
      " 8   Style_AP 1                        30383 non-null  bool \n",
      " 9   Style_Bi-Level                    30383 non-null  bool \n",
      " 10  Style_Cape Cod                    30383 non-null  bool \n",
      " 11  Style_Colonial                    30383 non-null  bool \n",
      " 12  Style_Contemporary                30383 non-null  bool \n",
      " 13  Style_Cottage                     30383 non-null  bool \n",
      " 14  Style_Dplx Bungalow               30383 non-null  bool \n",
      " 15  Style_Duplex N/S                  30383 non-null  bool \n",
      " 16  Style_Duplex O/S                  30383 non-null  bool \n",
      " 17  Style_Duplex-Cottage              30383 non-null  bool \n",
      " 18  Style_Milwaukee Bungalow          30383 non-null  bool \n",
      " 19  Style_Multiple Residential Bldgs  30383 non-null  bool \n",
      " 20  Style_Ranch                       30383 non-null  bool \n",
      " 21  Style_Res O/S 1 Story             30383 non-null  bool \n",
      " 22  Style_Res O/S 2sty +              30383 non-null  bool \n",
      " 23  Style_Res O/S A & 1/2             30383 non-null  bool \n",
      " 24  Style_Residence O/S               30383 non-null  bool \n",
      " 25  Style_Residence O/S 2sty+         30383 non-null  bool \n",
      " 26  Style_Split Level                 30383 non-null  bool \n",
      " 27  Style_Townhouse                   30383 non-null  bool \n",
      " 28  Style_Triplex                     30383 non-null  bool \n",
      " 29  Style_Tudor                       30383 non-null  bool \n",
      " 30  Extwall_Alum/Vynyl Siding         30383 non-null  bool \n",
      " 31  Extwall_Aluminum / Vinyl          30383 non-null  bool \n",
      " 32  Extwall_Aluminum/Vinyl            30383 non-null  bool \n",
      " 33  Extwall_Asphalt/Other             30383 non-null  bool \n",
      " 34  Extwall_Block                     30383 non-null  bool \n",
      " 35  Extwall_Brick                     30383 non-null  bool \n",
      " 36  Extwall_Fiber Cement/Hardiplank   30383 non-null  bool \n",
      " 37  Extwall_Fiber-Cement              30383 non-null  bool \n",
      " 38  Extwall_Frame                     30383 non-null  bool \n",
      " 39  Extwall_Masonary Frame            30383 non-null  bool \n",
      " 40  Extwall_Masonry / Frame           30383 non-null  bool \n",
      " 41  Extwall_Masonry/Frame             30383 non-null  bool \n",
      " 42  Extwall_Metal Siding              30383 non-null  bool \n",
      " 43  Extwall_Prem Wood                 30383 non-null  bool \n",
      " 44  Extwall_Stone                     30383 non-null  bool \n",
      " 45  Extwall_Stucco                    30383 non-null  bool \n",
      " 46  Extwall_Wood                      30383 non-null  bool \n",
      "dtypes: bool(39), int64(8)\n",
      "memory usage: 3.0 MB\n"
     ]
    }
   ],
   "source": [
    "data.info(type)"
   ]
  },
  {
   "cell_type": "code",
   "execution_count": 9,
   "metadata": {
    "ExecuteTime": {
     "end_time": "2024-06-11T01:55:26.646395Z",
     "start_time": "2024-06-11T01:55:26.636184Z"
    }
   },
   "outputs": [
    {
     "data": {
      "text/plain": [
       "Unnamed: 0                          0\n",
       "FinishedSqft                        0\n",
       "Lotsize                             0\n",
       "Bdrms                               0\n",
       "Baths_total                         0\n",
       "Sale_year                           0\n",
       "Sale_month                          0\n",
       "Sale_price                          0\n",
       "Style_AP 1                          0\n",
       "Style_Bi-Level                      0\n",
       "Style_Cape Cod                      0\n",
       "Style_Colonial                      0\n",
       "Style_Contemporary                  0\n",
       "Style_Cottage                       0\n",
       "Style_Dplx Bungalow                 0\n",
       "Style_Duplex N/S                    0\n",
       "Style_Duplex O/S                    0\n",
       "Style_Duplex-Cottage                0\n",
       "Style_Milwaukee Bungalow            0\n",
       "Style_Multiple Residential Bldgs    0\n",
       "Style_Ranch                         0\n",
       "Style_Res O/S 1 Story               0\n",
       "Style_Res O/S 2sty +                0\n",
       "Style_Res O/S A & 1/2               0\n",
       "Style_Residence O/S                 0\n",
       "Style_Residence O/S 2sty+           0\n",
       "Style_Split Level                   0\n",
       "Style_Townhouse                     0\n",
       "Style_Triplex                       0\n",
       "Style_Tudor                         0\n",
       "Extwall_Alum/Vynyl Siding           0\n",
       "Extwall_Aluminum / Vinyl            0\n",
       "Extwall_Aluminum/Vinyl              0\n",
       "Extwall_Asphalt/Other               0\n",
       "Extwall_Block                       0\n",
       "Extwall_Brick                       0\n",
       "Extwall_Fiber Cement/Hardiplank     0\n",
       "Extwall_Fiber-Cement                0\n",
       "Extwall_Frame                       0\n",
       "Extwall_Masonary Frame              0\n",
       "Extwall_Masonry / Frame             0\n",
       "Extwall_Masonry/Frame               0\n",
       "Extwall_Metal Siding                0\n",
       "Extwall_Prem Wood                   0\n",
       "Extwall_Stone                       0\n",
       "Extwall_Stucco                      0\n",
       "Extwall_Wood                        0\n",
       "dtype: int64"
      ]
     },
     "execution_count": 9,
     "metadata": {},
     "output_type": "execute_result"
    }
   ],
   "source": [
    "#Checking to make sure there are no nulls \n",
    "data.isnull().sum()"
   ]
  },
  {
   "cell_type": "code",
   "execution_count": 11,
   "metadata": {
    "ExecuteTime": {
     "end_time": "2024-06-11T01:55:26.762498Z",
     "start_time": "2024-06-11T01:55:26.736284Z"
    }
   },
   "outputs": [
    {
     "data": {
      "text/html": [
       "<div>\n",
       "<style scoped>\n",
       "    .dataframe tbody tr th:only-of-type {\n",
       "        vertical-align: middle;\n",
       "    }\n",
       "\n",
       "    .dataframe tbody tr th {\n",
       "        vertical-align: top;\n",
       "    }\n",
       "\n",
       "    .dataframe thead th {\n",
       "        text-align: right;\n",
       "    }\n",
       "</style>\n",
       "<table border=\"1\" class=\"dataframe\">\n",
       "  <thead>\n",
       "    <tr style=\"text-align: right;\">\n",
       "      <th></th>\n",
       "      <th>FinishedSqft</th>\n",
       "      <th>Lotsize</th>\n",
       "      <th>Bdrms</th>\n",
       "      <th>Baths_total</th>\n",
       "      <th>Sale_year</th>\n",
       "      <th>Sale_month</th>\n",
       "      <th>Style_AP 1</th>\n",
       "      <th>Style_Bi-Level</th>\n",
       "      <th>Style_Cape Cod</th>\n",
       "      <th>Style_Colonial</th>\n",
       "      <th>...</th>\n",
       "      <th>Extwall_Fiber-Cement</th>\n",
       "      <th>Extwall_Frame</th>\n",
       "      <th>Extwall_Masonary Frame</th>\n",
       "      <th>Extwall_Masonry / Frame</th>\n",
       "      <th>Extwall_Masonry/Frame</th>\n",
       "      <th>Extwall_Metal Siding</th>\n",
       "      <th>Extwall_Prem Wood</th>\n",
       "      <th>Extwall_Stone</th>\n",
       "      <th>Extwall_Stucco</th>\n",
       "      <th>Extwall_Wood</th>\n",
       "    </tr>\n",
       "  </thead>\n",
       "  <tbody>\n",
       "    <tr>\n",
       "      <th>0</th>\n",
       "      <td>504</td>\n",
       "      <td>5580</td>\n",
       "      <td>2</td>\n",
       "      <td>2</td>\n",
       "      <td>2013</td>\n",
       "      <td>8</td>\n",
       "      <td>False</td>\n",
       "      <td>False</td>\n",
       "      <td>False</td>\n",
       "      <td>False</td>\n",
       "      <td>...</td>\n",
       "      <td>False</td>\n",
       "      <td>False</td>\n",
       "      <td>False</td>\n",
       "      <td>False</td>\n",
       "      <td>False</td>\n",
       "      <td>False</td>\n",
       "      <td>False</td>\n",
       "      <td>False</td>\n",
       "      <td>False</td>\n",
       "      <td>False</td>\n",
       "    </tr>\n",
       "    <tr>\n",
       "      <th>1</th>\n",
       "      <td>532</td>\n",
       "      <td>3600</td>\n",
       "      <td>2</td>\n",
       "      <td>1</td>\n",
       "      <td>2023</td>\n",
       "      <td>8</td>\n",
       "      <td>False</td>\n",
       "      <td>False</td>\n",
       "      <td>False</td>\n",
       "      <td>False</td>\n",
       "      <td>...</td>\n",
       "      <td>False</td>\n",
       "      <td>False</td>\n",
       "      <td>False</td>\n",
       "      <td>False</td>\n",
       "      <td>False</td>\n",
       "      <td>False</td>\n",
       "      <td>False</td>\n",
       "      <td>False</td>\n",
       "      <td>False</td>\n",
       "      <td>False</td>\n",
       "    </tr>\n",
       "    <tr>\n",
       "      <th>2</th>\n",
       "      <td>550</td>\n",
       "      <td>8640</td>\n",
       "      <td>2</td>\n",
       "      <td>2</td>\n",
       "      <td>2018</td>\n",
       "      <td>5</td>\n",
       "      <td>False</td>\n",
       "      <td>False</td>\n",
       "      <td>False</td>\n",
       "      <td>False</td>\n",
       "      <td>...</td>\n",
       "      <td>False</td>\n",
       "      <td>False</td>\n",
       "      <td>False</td>\n",
       "      <td>False</td>\n",
       "      <td>False</td>\n",
       "      <td>False</td>\n",
       "      <td>False</td>\n",
       "      <td>False</td>\n",
       "      <td>False</td>\n",
       "      <td>False</td>\n",
       "    </tr>\n",
       "    <tr>\n",
       "      <th>3</th>\n",
       "      <td>572</td>\n",
       "      <td>7425</td>\n",
       "      <td>2</td>\n",
       "      <td>1</td>\n",
       "      <td>2020</td>\n",
       "      <td>12</td>\n",
       "      <td>False</td>\n",
       "      <td>False</td>\n",
       "      <td>False</td>\n",
       "      <td>False</td>\n",
       "      <td>...</td>\n",
       "      <td>False</td>\n",
       "      <td>False</td>\n",
       "      <td>False</td>\n",
       "      <td>False</td>\n",
       "      <td>False</td>\n",
       "      <td>False</td>\n",
       "      <td>False</td>\n",
       "      <td>False</td>\n",
       "      <td>False</td>\n",
       "      <td>False</td>\n",
       "    </tr>\n",
       "    <tr>\n",
       "      <th>4</th>\n",
       "      <td>581</td>\n",
       "      <td>3300</td>\n",
       "      <td>2</td>\n",
       "      <td>1</td>\n",
       "      <td>2023</td>\n",
       "      <td>8</td>\n",
       "      <td>False</td>\n",
       "      <td>False</td>\n",
       "      <td>False</td>\n",
       "      <td>False</td>\n",
       "      <td>...</td>\n",
       "      <td>False</td>\n",
       "      <td>False</td>\n",
       "      <td>False</td>\n",
       "      <td>False</td>\n",
       "      <td>False</td>\n",
       "      <td>False</td>\n",
       "      <td>False</td>\n",
       "      <td>False</td>\n",
       "      <td>False</td>\n",
       "      <td>False</td>\n",
       "    </tr>\n",
       "  </tbody>\n",
       "</table>\n",
       "<p>5 rows × 45 columns</p>\n",
       "</div>"
      ],
      "text/plain": [
       "   FinishedSqft  Lotsize  Bdrms  Baths_total  Sale_year  Sale_month  \\\n",
       "0           504     5580      2            2       2013           8   \n",
       "1           532     3600      2            1       2023           8   \n",
       "2           550     8640      2            2       2018           5   \n",
       "3           572     7425      2            1       2020          12   \n",
       "4           581     3300      2            1       2023           8   \n",
       "\n",
       "   Style_AP 1  Style_Bi-Level  Style_Cape Cod  Style_Colonial  ...  \\\n",
       "0       False           False           False           False  ...   \n",
       "1       False           False           False           False  ...   \n",
       "2       False           False           False           False  ...   \n",
       "3       False           False           False           False  ...   \n",
       "4       False           False           False           False  ...   \n",
       "\n",
       "   Extwall_Fiber-Cement  Extwall_Frame  Extwall_Masonary Frame  \\\n",
       "0                 False          False                   False   \n",
       "1                 False          False                   False   \n",
       "2                 False          False                   False   \n",
       "3                 False          False                   False   \n",
       "4                 False          False                   False   \n",
       "\n",
       "   Extwall_Masonry / Frame  Extwall_Masonry/Frame  Extwall_Metal Siding  \\\n",
       "0                    False                  False                 False   \n",
       "1                    False                  False                 False   \n",
       "2                    False                  False                 False   \n",
       "3                    False                  False                 False   \n",
       "4                    False                  False                 False   \n",
       "\n",
       "   Extwall_Prem Wood  Extwall_Stone  Extwall_Stucco  Extwall_Wood  \n",
       "0              False          False           False         False  \n",
       "1              False          False           False         False  \n",
       "2              False          False           False         False  \n",
       "3              False          False           False         False  \n",
       "4              False          False           False         False  \n",
       "\n",
       "[5 rows x 45 columns]"
      ]
     },
     "execution_count": 11,
     "metadata": {},
     "output_type": "execute_result"
    }
   ],
   "source": [
    "#creating the independent variables set \n",
    "X = data.drop(columns=['Unnamed: 0','Sale_price'])\n",
    "X.head()"
   ]
  },
  {
   "cell_type": "code",
   "execution_count": 12,
   "metadata": {
    "ExecuteTime": {
     "end_time": "2024-06-11T01:55:26.768715Z",
     "start_time": "2024-06-11T01:55:26.763712Z"
    }
   },
   "outputs": [
    {
     "data": {
      "text/plain": [
       "0     92500\n",
       "1    253000\n",
       "2    190000\n",
       "3     85000\n",
       "4    175000\n",
       "Name: Sale_price, dtype: int64"
      ]
     },
     "execution_count": 12,
     "metadata": {},
     "output_type": "execute_result"
    }
   ],
   "source": [
    "# creating the dependent variable set \n",
    "y = data['Sale_price']\n",
    "y.head()"
   ]
  },
  {
   "cell_type": "code",
   "execution_count": 13,
   "metadata": {
    "ExecuteTime": {
     "end_time": "2024-06-11T01:55:26.780012Z",
     "start_time": "2024-06-11T01:55:26.770155Z"
    }
   },
   "outputs": [],
   "source": [
    "# spliting data into training and testing 90/10 \n",
    "X_train, X_test, y_train, y_test = train_test_split(X, y, test_size=0.1, random_state=42)"
   ]
  },
  {
   "cell_type": "markdown",
   "metadata": {},
   "source": [
    "## Linear Regression\n"
   ]
  },
  {
   "cell_type": "code",
   "execution_count": 14,
   "metadata": {
    "ExecuteTime": {
     "end_time": "2024-06-11T01:55:26.879481Z",
     "start_time": "2024-06-11T01:55:26.781571Z"
    }
   },
   "outputs": [
    {
     "data": {
      "text/html": [
       "<style>#sk-container-id-1 {color: black;}#sk-container-id-1 pre{padding: 0;}#sk-container-id-1 div.sk-toggleable {background-color: white;}#sk-container-id-1 label.sk-toggleable__label {cursor: pointer;display: block;width: 100%;margin-bottom: 0;padding: 0.3em;box-sizing: border-box;text-align: center;}#sk-container-id-1 label.sk-toggleable__label-arrow:before {content: \"▸\";float: left;margin-right: 0.25em;color: #696969;}#sk-container-id-1 label.sk-toggleable__label-arrow:hover:before {color: black;}#sk-container-id-1 div.sk-estimator:hover label.sk-toggleable__label-arrow:before {color: black;}#sk-container-id-1 div.sk-toggleable__content {max-height: 0;max-width: 0;overflow: hidden;text-align: left;background-color: #f0f8ff;}#sk-container-id-1 div.sk-toggleable__content pre {margin: 0.2em;color: black;border-radius: 0.25em;background-color: #f0f8ff;}#sk-container-id-1 input.sk-toggleable__control:checked~div.sk-toggleable__content {max-height: 200px;max-width: 100%;overflow: auto;}#sk-container-id-1 input.sk-toggleable__control:checked~label.sk-toggleable__label-arrow:before {content: \"▾\";}#sk-container-id-1 div.sk-estimator input.sk-toggleable__control:checked~label.sk-toggleable__label {background-color: #d4ebff;}#sk-container-id-1 div.sk-label input.sk-toggleable__control:checked~label.sk-toggleable__label {background-color: #d4ebff;}#sk-container-id-1 input.sk-hidden--visually {border: 0;clip: rect(1px 1px 1px 1px);clip: rect(1px, 1px, 1px, 1px);height: 1px;margin: -1px;overflow: hidden;padding: 0;position: absolute;width: 1px;}#sk-container-id-1 div.sk-estimator {font-family: monospace;background-color: #f0f8ff;border: 1px dotted black;border-radius: 0.25em;box-sizing: border-box;margin-bottom: 0.5em;}#sk-container-id-1 div.sk-estimator:hover {background-color: #d4ebff;}#sk-container-id-1 div.sk-parallel-item::after {content: \"\";width: 100%;border-bottom: 1px solid gray;flex-grow: 1;}#sk-container-id-1 div.sk-label:hover label.sk-toggleable__label {background-color: #d4ebff;}#sk-container-id-1 div.sk-serial::before {content: \"\";position: absolute;border-left: 1px solid gray;box-sizing: border-box;top: 0;bottom: 0;left: 50%;z-index: 0;}#sk-container-id-1 div.sk-serial {display: flex;flex-direction: column;align-items: center;background-color: white;padding-right: 0.2em;padding-left: 0.2em;position: relative;}#sk-container-id-1 div.sk-item {position: relative;z-index: 1;}#sk-container-id-1 div.sk-parallel {display: flex;align-items: stretch;justify-content: center;background-color: white;position: relative;}#sk-container-id-1 div.sk-item::before, #sk-container-id-1 div.sk-parallel-item::before {content: \"\";position: absolute;border-left: 1px solid gray;box-sizing: border-box;top: 0;bottom: 0;left: 50%;z-index: -1;}#sk-container-id-1 div.sk-parallel-item {display: flex;flex-direction: column;z-index: 1;position: relative;background-color: white;}#sk-container-id-1 div.sk-parallel-item:first-child::after {align-self: flex-end;width: 50%;}#sk-container-id-1 div.sk-parallel-item:last-child::after {align-self: flex-start;width: 50%;}#sk-container-id-1 div.sk-parallel-item:only-child::after {width: 0;}#sk-container-id-1 div.sk-dashed-wrapped {border: 1px dashed gray;margin: 0 0.4em 0.5em 0.4em;box-sizing: border-box;padding-bottom: 0.4em;background-color: white;}#sk-container-id-1 div.sk-label label {font-family: monospace;font-weight: bold;display: inline-block;line-height: 1.2em;}#sk-container-id-1 div.sk-label-container {text-align: center;}#sk-container-id-1 div.sk-container {/* jupyter's `normalize.less` sets `[hidden] { display: none; }` but bootstrap.min.css set `[hidden] { display: none !important; }` so we also need the `!important` here to be able to override the default hidden behavior on the sphinx rendered scikit-learn.org. See: https://github.com/scikit-learn/scikit-learn/issues/21755 */display: inline-block !important;position: relative;}#sk-container-id-1 div.sk-text-repr-fallback {display: none;}</style><div id=\"sk-container-id-1\" class=\"sk-top-container\"><div class=\"sk-text-repr-fallback\"><pre>LinearRegression()</pre><b>In a Jupyter environment, please rerun this cell to show the HTML representation or trust the notebook. <br />On GitHub, the HTML representation is unable to render, please try loading this page with nbviewer.org.</b></div><div class=\"sk-container\" hidden><div class=\"sk-item\"><div class=\"sk-estimator sk-toggleable\"><input class=\"sk-toggleable__control sk-hidden--visually\" id=\"sk-estimator-id-1\" type=\"checkbox\" checked><label for=\"sk-estimator-id-1\" class=\"sk-toggleable__label sk-toggleable__label-arrow\">LinearRegression</label><div class=\"sk-toggleable__content\"><pre>LinearRegression()</pre></div></div></div></div></div>"
      ],
      "text/plain": [
       "LinearRegression()"
      ]
     },
     "execution_count": 14,
     "metadata": {},
     "output_type": "execute_result"
    }
   ],
   "source": [
    "# setting the model to linear regression \n",
    "model = LinearRegression()\n",
    "# fitting the model \n",
    "model.fit(X_train, y_train)"
   ]
  },
  {
   "cell_type": "code",
   "execution_count": 15,
   "metadata": {
    "ExecuteTime": {
     "end_time": "2024-06-11T01:55:26.890205Z",
     "start_time": "2024-06-11T01:55:26.881519Z"
    }
   },
   "outputs": [
    {
     "data": {
      "text/html": [
       "<div>\n",
       "<style scoped>\n",
       "    .dataframe tbody tr th:only-of-type {\n",
       "        vertical-align: middle;\n",
       "    }\n",
       "\n",
       "    .dataframe tbody tr th {\n",
       "        vertical-align: top;\n",
       "    }\n",
       "\n",
       "    .dataframe thead th {\n",
       "        text-align: right;\n",
       "    }\n",
       "</style>\n",
       "<table border=\"1\" class=\"dataframe\">\n",
       "  <thead>\n",
       "    <tr style=\"text-align: right;\">\n",
       "      <th></th>\n",
       "      <th>Coefficient</th>\n",
       "    </tr>\n",
       "  </thead>\n",
       "  <tbody>\n",
       "    <tr>\n",
       "      <th>FinishedSqft</th>\n",
       "      <td>68.195735</td>\n",
       "    </tr>\n",
       "    <tr>\n",
       "      <th>Lotsize</th>\n",
       "      <td>0.612739</td>\n",
       "    </tr>\n",
       "    <tr>\n",
       "      <th>Bdrms</th>\n",
       "      <td>-4716.339703</td>\n",
       "    </tr>\n",
       "    <tr>\n",
       "      <th>Baths_total</th>\n",
       "      <td>20632.349240</td>\n",
       "    </tr>\n",
       "    <tr>\n",
       "      <th>Sale_year</th>\n",
       "      <td>8986.372392</td>\n",
       "    </tr>\n",
       "    <tr>\n",
       "      <th>Sale_month</th>\n",
       "      <td>730.829319</td>\n",
       "    </tr>\n",
       "    <tr>\n",
       "      <th>Style_AP 1</th>\n",
       "      <td>98673.406054</td>\n",
       "    </tr>\n",
       "    <tr>\n",
       "      <th>Style_Bi-Level</th>\n",
       "      <td>-16877.311243</td>\n",
       "    </tr>\n",
       "    <tr>\n",
       "      <th>Style_Cape Cod</th>\n",
       "      <td>2126.226608</td>\n",
       "    </tr>\n",
       "    <tr>\n",
       "      <th>Style_Colonial</th>\n",
       "      <td>13000.239654</td>\n",
       "    </tr>\n",
       "    <tr>\n",
       "      <th>Style_Contemporary</th>\n",
       "      <td>178249.270125</td>\n",
       "    </tr>\n",
       "    <tr>\n",
       "      <th>Style_Cottage</th>\n",
       "      <td>-14004.039253</td>\n",
       "    </tr>\n",
       "    <tr>\n",
       "      <th>Style_Dplx Bungalow</th>\n",
       "      <td>-56141.594669</td>\n",
       "    </tr>\n",
       "    <tr>\n",
       "      <th>Style_Duplex N/S</th>\n",
       "      <td>-47413.575580</td>\n",
       "    </tr>\n",
       "    <tr>\n",
       "      <th>Style_Duplex O/S</th>\n",
       "      <td>-41170.414122</td>\n",
       "    </tr>\n",
       "    <tr>\n",
       "      <th>Style_Duplex-Cottage</th>\n",
       "      <td>-68796.224038</td>\n",
       "    </tr>\n",
       "    <tr>\n",
       "      <th>Style_Milwaukee Bungalow</th>\n",
       "      <td>-1719.200388</td>\n",
       "    </tr>\n",
       "    <tr>\n",
       "      <th>Style_Multiple Residential Bldgs</th>\n",
       "      <td>-82192.433392</td>\n",
       "    </tr>\n",
       "    <tr>\n",
       "      <th>Style_Ranch</th>\n",
       "      <td>6374.831804</td>\n",
       "    </tr>\n",
       "    <tr>\n",
       "      <th>Style_Res O/S 1 Story</th>\n",
       "      <td>10453.788712</td>\n",
       "    </tr>\n",
       "    <tr>\n",
       "      <th>Style_Res O/S 2sty +</th>\n",
       "      <td>60173.189419</td>\n",
       "    </tr>\n",
       "    <tr>\n",
       "      <th>Style_Res O/S A &amp; 1/2</th>\n",
       "      <td>4903.877963</td>\n",
       "    </tr>\n",
       "    <tr>\n",
       "      <th>Style_Residence O/S</th>\n",
       "      <td>27142.660828</td>\n",
       "    </tr>\n",
       "    <tr>\n",
       "      <th>Style_Residence O/S 2sty+</th>\n",
       "      <td>41338.822861</td>\n",
       "    </tr>\n",
       "    <tr>\n",
       "      <th>Style_Split Level</th>\n",
       "      <td>-5417.640395</td>\n",
       "    </tr>\n",
       "    <tr>\n",
       "      <th>Style_Townhouse</th>\n",
       "      <td>-54842.930916</td>\n",
       "    </tr>\n",
       "    <tr>\n",
       "      <th>Style_Triplex</th>\n",
       "      <td>-68522.727069</td>\n",
       "    </tr>\n",
       "    <tr>\n",
       "      <th>Style_Tudor</th>\n",
       "      <td>14661.777038</td>\n",
       "    </tr>\n",
       "    <tr>\n",
       "      <th>Extwall_Alum/Vynyl Siding</th>\n",
       "      <td>18794.352543</td>\n",
       "    </tr>\n",
       "    <tr>\n",
       "      <th>Extwall_Aluminum / Vinyl</th>\n",
       "      <td>-12529.427879</td>\n",
       "    </tr>\n",
       "    <tr>\n",
       "      <th>Extwall_Aluminum/Vinyl</th>\n",
       "      <td>-14880.791238</td>\n",
       "    </tr>\n",
       "    <tr>\n",
       "      <th>Extwall_Asphalt/Other</th>\n",
       "      <td>-29534.480758</td>\n",
       "    </tr>\n",
       "    <tr>\n",
       "      <th>Extwall_Block</th>\n",
       "      <td>-12728.899996</td>\n",
       "    </tr>\n",
       "    <tr>\n",
       "      <th>Extwall_Brick</th>\n",
       "      <td>-11626.738048</td>\n",
       "    </tr>\n",
       "    <tr>\n",
       "      <th>Extwall_Fiber Cement/Hardiplank</th>\n",
       "      <td>86335.030880</td>\n",
       "    </tr>\n",
       "    <tr>\n",
       "      <th>Extwall_Fiber-Cement</th>\n",
       "      <td>31841.430150</td>\n",
       "    </tr>\n",
       "    <tr>\n",
       "      <th>Extwall_Frame</th>\n",
       "      <td>-11091.555955</td>\n",
       "    </tr>\n",
       "    <tr>\n",
       "      <th>Extwall_Masonary Frame</th>\n",
       "      <td>-6689.910562</td>\n",
       "    </tr>\n",
       "    <tr>\n",
       "      <th>Extwall_Masonry / Frame</th>\n",
       "      <td>-19746.244161</td>\n",
       "    </tr>\n",
       "    <tr>\n",
       "      <th>Extwall_Masonry/Frame</th>\n",
       "      <td>-15758.864963</td>\n",
       "    </tr>\n",
       "    <tr>\n",
       "      <th>Extwall_Metal Siding</th>\n",
       "      <td>-6784.089084</td>\n",
       "    </tr>\n",
       "    <tr>\n",
       "      <th>Extwall_Prem Wood</th>\n",
       "      <td>29973.775717</td>\n",
       "    </tr>\n",
       "    <tr>\n",
       "      <th>Extwall_Stone</th>\n",
       "      <td>-15425.569866</td>\n",
       "    </tr>\n",
       "    <tr>\n",
       "      <th>Extwall_Stucco</th>\n",
       "      <td>2031.164432</td>\n",
       "    </tr>\n",
       "    <tr>\n",
       "      <th>Extwall_Wood</th>\n",
       "      <td>-12179.181213</td>\n",
       "    </tr>\n",
       "  </tbody>\n",
       "</table>\n",
       "</div>"
      ],
      "text/plain": [
       "                                    Coefficient\n",
       "FinishedSqft                          68.195735\n",
       "Lotsize                                0.612739\n",
       "Bdrms                              -4716.339703\n",
       "Baths_total                        20632.349240\n",
       "Sale_year                           8986.372392\n",
       "Sale_month                           730.829319\n",
       "Style_AP 1                         98673.406054\n",
       "Style_Bi-Level                    -16877.311243\n",
       "Style_Cape Cod                      2126.226608\n",
       "Style_Colonial                     13000.239654\n",
       "Style_Contemporary                178249.270125\n",
       "Style_Cottage                     -14004.039253\n",
       "Style_Dplx Bungalow               -56141.594669\n",
       "Style_Duplex N/S                  -47413.575580\n",
       "Style_Duplex O/S                  -41170.414122\n",
       "Style_Duplex-Cottage              -68796.224038\n",
       "Style_Milwaukee Bungalow           -1719.200388\n",
       "Style_Multiple Residential Bldgs  -82192.433392\n",
       "Style_Ranch                         6374.831804\n",
       "Style_Res O/S 1 Story              10453.788712\n",
       "Style_Res O/S 2sty +               60173.189419\n",
       "Style_Res O/S A & 1/2               4903.877963\n",
       "Style_Residence O/S                27142.660828\n",
       "Style_Residence O/S 2sty+          41338.822861\n",
       "Style_Split Level                  -5417.640395\n",
       "Style_Townhouse                   -54842.930916\n",
       "Style_Triplex                     -68522.727069\n",
       "Style_Tudor                        14661.777038\n",
       "Extwall_Alum/Vynyl Siding          18794.352543\n",
       "Extwall_Aluminum / Vinyl          -12529.427879\n",
       "Extwall_Aluminum/Vinyl            -14880.791238\n",
       "Extwall_Asphalt/Other             -29534.480758\n",
       "Extwall_Block                     -12728.899996\n",
       "Extwall_Brick                     -11626.738048\n",
       "Extwall_Fiber Cement/Hardiplank    86335.030880\n",
       "Extwall_Fiber-Cement               31841.430150\n",
       "Extwall_Frame                     -11091.555955\n",
       "Extwall_Masonary Frame             -6689.910562\n",
       "Extwall_Masonry / Frame           -19746.244161\n",
       "Extwall_Masonry/Frame             -15758.864963\n",
       "Extwall_Metal Siding               -6784.089084\n",
       "Extwall_Prem Wood                  29973.775717\n",
       "Extwall_Stone                     -15425.569866\n",
       "Extwall_Stucco                      2031.164432\n",
       "Extwall_Wood                      -12179.181213"
      ]
     },
     "execution_count": 15,
     "metadata": {},
     "output_type": "execute_result"
    }
   ],
   "source": [
    "coef = pd.DataFrame(model.coef_,X.columns,columns=['Coefficient'])\n",
    "coef"
   ]
  },
  {
   "cell_type": "code",
   "execution_count": 16,
   "metadata": {
    "ExecuteTime": {
     "end_time": "2024-06-11T01:55:26.899527Z",
     "start_time": "2024-06-11T01:55:26.892077Z"
    }
   },
   "outputs": [
    {
     "name": "stdout",
     "output_type": "stream",
     "text": [
      "Mean Squared Error: 3123771166.6005197\n"
     ]
    }
   ],
   "source": [
    "# Prediction with test data \n",
    "y_pred = model.predict(X_test)\n",
    "# getting mean square \n",
    "mse = mean_squared_error(y_test, y_pred)\n",
    "print(f'Mean Squared Error: {mse}')"
   ]
  },
  {
   "cell_type": "code",
   "execution_count": 17,
   "metadata": {
    "ExecuteTime": {
     "end_time": "2024-06-11T01:55:27.075638Z",
     "start_time": "2024-06-11T01:55:26.901433Z"
    }
   },
   "outputs": [
    {
     "data": {
      "text/plain": [
       "<matplotlib.collections.PathCollection at 0x25efa151f50>"
      ]
     },
     "execution_count": 17,
     "metadata": {},
     "output_type": "execute_result"
    },
    {
     "data": {
      "image/png": "[encoded data removed]",
      "text/plain": [
       "<Figure size 640x480 with 1 Axes>"
      ]
     },
     "metadata": {},
     "output_type": "display_data"
    }
   ],
   "source": [
    "plt.scatter(y_test, y_pred)"
   ]
  },
  {
   "cell_type": "code",
   "execution_count": 18,
   "metadata": {
    "ExecuteTime": {
     "end_time": "2024-06-11T01:55:27.087615Z",
     "start_time": "2024-06-11T01:55:27.077494Z"
    }
   },
   "outputs": [
    {
     "data": {
      "text/html": [
       "<div>\n",
       "<style scoped>\n",
       "    .dataframe tbody tr th:only-of-type {\n",
       "        vertical-align: middle;\n",
       "    }\n",
       "\n",
       "    .dataframe tbody tr th {\n",
       "        vertical-align: top;\n",
       "    }\n",
       "\n",
       "    .dataframe thead th {\n",
       "        text-align: right;\n",
       "    }\n",
       "</style>\n",
       "<table border=\"1\" class=\"dataframe\">\n",
       "  <thead>\n",
       "    <tr style=\"text-align: right;\">\n",
       "      <th></th>\n",
       "      <th>0</th>\n",
       "    </tr>\n",
       "  </thead>\n",
       "  <tbody>\n",
       "    <tr>\n",
       "      <th>0</th>\n",
       "      <td>269147.218450</td>\n",
       "    </tr>\n",
       "    <tr>\n",
       "      <th>1</th>\n",
       "      <td>197865.166181</td>\n",
       "    </tr>\n",
       "    <tr>\n",
       "      <th>2</th>\n",
       "      <td>244140.738508</td>\n",
       "    </tr>\n",
       "    <tr>\n",
       "      <th>3</th>\n",
       "      <td>170427.520925</td>\n",
       "    </tr>\n",
       "    <tr>\n",
       "      <th>4</th>\n",
       "      <td>178147.292778</td>\n",
       "    </tr>\n",
       "    <tr>\n",
       "      <th>...</th>\n",
       "      <td>...</td>\n",
       "    </tr>\n",
       "    <tr>\n",
       "      <th>3034</th>\n",
       "      <td>261953.592306</td>\n",
       "    </tr>\n",
       "    <tr>\n",
       "      <th>3035</th>\n",
       "      <td>120645.069412</td>\n",
       "    </tr>\n",
       "    <tr>\n",
       "      <th>3036</th>\n",
       "      <td>128363.249160</td>\n",
       "    </tr>\n",
       "    <tr>\n",
       "      <th>3037</th>\n",
       "      <td>185043.633265</td>\n",
       "    </tr>\n",
       "    <tr>\n",
       "      <th>3038</th>\n",
       "      <td>126849.852764</td>\n",
       "    </tr>\n",
       "  </tbody>\n",
       "</table>\n",
       "<p>3039 rows × 1 columns</p>\n",
       "</div>"
      ],
      "text/plain": [
       "                  0\n",
       "0     269147.218450\n",
       "1     197865.166181\n",
       "2     244140.738508\n",
       "3     170427.520925\n",
       "4     178147.292778\n",
       "...             ...\n",
       "3034  261953.592306\n",
       "3035  120645.069412\n",
       "3036  128363.249160\n",
       "3037  185043.633265\n",
       "3038  126849.852764\n",
       "\n",
       "[3039 rows x 1 columns]"
      ]
     },
     "execution_count": 18,
     "metadata": {},
     "output_type": "execute_result"
    }
   ],
   "source": [
    "y_pred = pd.DataFrame(y_pred)\n",
    "y_pred"
   ]
  },
  {
   "cell_type": "code",
   "execution_count": 19,
   "metadata": {
    "ExecuteTime": {
     "end_time": "2024-06-11T01:55:27.093195Z",
     "start_time": "2024-06-11T01:55:27.088867Z"
    }
   },
   "outputs": [
    {
     "data": {
      "text/plain": [
       "22732    312000\n",
       "23518    135000\n",
       "25049    250000\n",
       "14214     96000\n",
       "8085     147000\n",
       "          ...  \n",
       "29873     80000\n",
       "20967     89900\n",
       "16229    159000\n",
       "18209    270000\n",
       "6000      88900\n",
       "Name: Sale_price, Length: 3039, dtype: int64"
      ]
     },
     "execution_count": 19,
     "metadata": {},
     "output_type": "execute_result"
    }
   ],
   "source": [
    "y_test"
   ]
  },
  {
   "cell_type": "code",
   "execution_count": 20,
   "metadata": {
    "ExecuteTime": {
     "end_time": "2024-06-11T01:55:27.101391Z",
     "start_time": "2024-06-11T01:55:27.094614Z"
    }
   },
   "outputs": [
    {
     "data": {
      "text/plain": [
       "0.40550577555424416"
      ]
     },
     "execution_count": 20,
     "metadata": {},
     "output_type": "execute_result"
    }
   ],
   "source": [
    "# determining accuracy score \n",
    "model.score(X_test, y_test)"
   ]
  },
  {
   "cell_type": "markdown",
   "metadata": {},
   "source": [
    "## Random Forest Regressor"
   ]
  },
  {
   "cell_type": "code",
   "execution_count": 21,
   "metadata": {
    "ExecuteTime": {
     "end_time": "2024-06-11T01:55:48.577640Z",
     "start_time": "2024-06-11T01:55:27.103068Z"
    }
   },
   "outputs": [
    {
     "data": {
      "text/html": [
       "<style>#sk-container-id-2 {color: black;}#sk-container-id-2 pre{padding: 0;}#sk-container-id-2 div.sk-toggleable {background-color: white;}#sk-container-id-2 label.sk-toggleable__label {cursor: pointer;display: block;width: 100%;margin-bottom: 0;padding: 0.3em;box-sizing: border-box;text-align: center;}#sk-container-id-2 label.sk-toggleable__label-arrow:before {content: \"▸\";float: left;margin-right: 0.25em;color: #696969;}#sk-container-id-2 label.sk-toggleable__label-arrow:hover:before {color: black;}#sk-container-id-2 div.sk-estimator:hover label.sk-toggleable__label-arrow:before {color: black;}#sk-container-id-2 div.sk-toggleable__content {max-height: 0;max-width: 0;overflow: hidden;text-align: left;background-color: #f0f8ff;}#sk-container-id-2 div.sk-toggleable__content pre {margin: 0.2em;color: black;border-radius: 0.25em;background-color: #f0f8ff;}#sk-container-id-2 input.sk-toggleable__control:checked~div.sk-toggleable__content {max-height: 200px;max-width: 100%;overflow: auto;}#sk-container-id-2 input.sk-toggleable__control:checked~label.sk-toggleable__label-arrow:before {content: \"▾\";}#sk-container-id-2 div.sk-estimator input.sk-toggleable__control:checked~label.sk-toggleable__label {background-color: #d4ebff;}#sk-container-id-2 div.sk-label input.sk-toggleable__control:checked~label.sk-toggleable__label {background-color: #d4ebff;}#sk-container-id-2 input.sk-hidden--visually {border: 0;clip: rect(1px 1px 1px 1px);clip: rect(1px, 1px, 1px, 1px);height: 1px;margin: -1px;overflow: hidden;padding: 0;position: absolute;width: 1px;}#sk-container-id-2 div.sk-estimator {font-family: monospace;background-color: #f0f8ff;border: 1px dotted black;border-radius: 0.25em;box-sizing: border-box;margin-bottom: 0.5em;}#sk-container-id-2 div.sk-estimator:hover {background-color: #d4ebff;}#sk-container-id-2 div.sk-parallel-item::after {content: \"\";width: 100%;border-bottom: 1px solid gray;flex-grow: 1;}#sk-container-id-2 div.sk-label:hover label.sk-toggleable__label {background-color: #d4ebff;}#sk-container-id-2 div.sk-serial::before {content: \"\";position: absolute;border-left: 1px solid gray;box-sizing: border-box;top: 0;bottom: 0;left: 50%;z-index: 0;}#sk-container-id-2 div.sk-serial {display: flex;flex-direction: column;align-items: center;background-color: white;padding-right: 0.2em;padding-left: 0.2em;position: relative;}#sk-container-id-2 div.sk-item {position: relative;z-index: 1;}#sk-container-id-2 div.sk-parallel {display: flex;align-items: stretch;justify-content: center;background-color: white;position: relative;}#sk-container-id-2 div.sk-item::before, #sk-container-id-2 div.sk-parallel-item::before {content: \"\";position: absolute;border-left: 1px solid gray;box-sizing: border-box;top: 0;bottom: 0;left: 50%;z-index: -1;}#sk-container-id-2 div.sk-parallel-item {display: flex;flex-direction: column;z-index: 1;position: relative;background-color: white;}#sk-container-id-2 div.sk-parallel-item:first-child::after {align-self: flex-end;width: 50%;}#sk-container-id-2 div.sk-parallel-item:last-child::after {align-self: flex-start;width: 50%;}#sk-container-id-2 div.sk-parallel-item:only-child::after {width: 0;}#sk-container-id-2 div.sk-dashed-wrapped {border: 1px dashed gray;margin: 0 0.4em 0.5em 0.4em;box-sizing: border-box;padding-bottom: 0.4em;background-color: white;}#sk-container-id-2 div.sk-label label {font-family: monospace;font-weight: bold;display: inline-block;line-height: 1.2em;}#sk-container-id-2 div.sk-label-container {text-align: center;}#sk-container-id-2 div.sk-container {/* jupyter's `normalize.less` sets `[hidden] { display: none; }` but bootstrap.min.css set `[hidden] { display: none !important; }` so we also need the `!important` here to be able to override the default hidden behavior on the sphinx rendered scikit-learn.org. See: https://github.com/scikit-learn/scikit-learn/issues/21755 */display: inline-block !important;position: relative;}#sk-container-id-2 div.sk-text-repr-fallback {display: none;}</style><div id=\"sk-container-id-2\" class=\"sk-top-container\"><div class=\"sk-text-repr-fallback\"><pre>RandomForestRegressor()</pre><b>In a Jupyter environment, please rerun this cell to show the HTML representation or trust the notebook. <br />On GitHub, the HTML representation is unable to render, please try loading this page with nbviewer.org.</b></div><div class=\"sk-container\" hidden><div class=\"sk-item\"><div class=\"sk-estimator sk-toggleable\"><input class=\"sk-toggleable__control sk-hidden--visually\" id=\"sk-estimator-id-2\" type=\"checkbox\" checked><label for=\"sk-estimator-id-2\" class=\"sk-toggleable__label sk-toggleable__label-arrow\">RandomForestRegressor</label><div class=\"sk-toggleable__content\"><pre>RandomForestRegressor()</pre></div></div></div></div></div>"
      ],
      "text/plain": [
       "RandomForestRegressor()"
      ]
     },
     "execution_count": 21,
     "metadata": {},
     "output_type": "execute_result"
    }
   ],
   "source": [
    "model = RandomForestRegressor()\n",
    "model.fit(X_train, y_train)"
   ]
  },
  {
   "cell_type": "code",
   "execution_count": 22,
   "metadata": {
    "ExecuteTime": {
     "end_time": "2024-06-11T01:55:48.762378Z",
     "start_time": "2024-06-11T01:55:48.582042Z"
    }
   },
   "outputs": [
    {
     "name": "stdout",
     "output_type": "stream",
     "text": [
      "Mean Squared Error: 2888275825.6816235\n"
     ]
    }
   ],
   "source": [
    "y_pred = model.predict(X_test)\n",
    "# getting mean square \n",
    "mse = mean_squared_error(y_test, y_pred)\n",
    "print(f'Mean Squared Error: {mse}')"
   ]
  },
  {
   "cell_type": "code",
   "execution_count": 23,
   "metadata": {
    "ExecuteTime": {
     "end_time": "2024-06-11T01:55:48.922624Z",
     "start_time": "2024-06-11T01:55:48.763864Z"
    }
   },
   "outputs": [
    {
     "data": {
      "text/plain": [
       "<matplotlib.collections.PathCollection at 0x25e800e2ed0>"
      ]
     },
     "execution_count": 23,
     "metadata": {},
     "output_type": "execute_result"
    },
    {
     "data": {
      "image/png": "[encoded data removed]",
      "text/plain": [
       "<Figure size 640x480 with 1 Axes>"
      ]
     },
     "metadata": {},
     "output_type": "display_data"
    }
   ],
   "source": [
    "plt.scatter(y_test, y_pred)"
   ]
  },
  {
   "cell_type": "code",
   "execution_count": 24,
   "metadata": {},
   "outputs": [
    {
     "data": {
      "text/html": [
       "<div>\n",
       "<style scoped>\n",
       "    .dataframe tbody tr th:only-of-type {\n",
       "        vertical-align: middle;\n",
       "    }\n",
       "\n",
       "    .dataframe tbody tr th {\n",
       "        vertical-align: top;\n",
       "    }\n",
       "\n",
       "    .dataframe thead th {\n",
       "        text-align: right;\n",
       "    }\n",
       "</style>\n",
       "<table border=\"1\" class=\"dataframe\">\n",
       "  <thead>\n",
       "    <tr style=\"text-align: right;\">\n",
       "      <th></th>\n",
       "      <th>FinishedSqft</th>\n",
       "      <th>Lotsize</th>\n",
       "      <th>Bdrms</th>\n",
       "      <th>Baths_total</th>\n",
       "      <th>Sale_year</th>\n",
       "      <th>Sale_month</th>\n",
       "      <th>Style_AP 1</th>\n",
       "      <th>Style_Bi-Level</th>\n",
       "      <th>Style_Cape Cod</th>\n",
       "      <th>Style_Colonial</th>\n",
       "      <th>...</th>\n",
       "      <th>Extwall_Fiber-Cement</th>\n",
       "      <th>Extwall_Frame</th>\n",
       "      <th>Extwall_Masonary Frame</th>\n",
       "      <th>Extwall_Masonry / Frame</th>\n",
       "      <th>Extwall_Masonry/Frame</th>\n",
       "      <th>Extwall_Metal Siding</th>\n",
       "      <th>Extwall_Prem Wood</th>\n",
       "      <th>Extwall_Stone</th>\n",
       "      <th>Extwall_Stucco</th>\n",
       "      <th>Extwall_Wood</th>\n",
       "    </tr>\n",
       "  </thead>\n",
       "  <tbody>\n",
       "    <tr>\n",
       "      <th>22732</th>\n",
       "      <td>1693</td>\n",
       "      <td>5360</td>\n",
       "      <td>3</td>\n",
       "      <td>3</td>\n",
       "      <td>2020</td>\n",
       "      <td>6</td>\n",
       "      <td>False</td>\n",
       "      <td>False</td>\n",
       "      <td>False</td>\n",
       "      <td>False</td>\n",
       "      <td>...</td>\n",
       "      <td>False</td>\n",
       "      <td>False</td>\n",
       "      <td>False</td>\n",
       "      <td>False</td>\n",
       "      <td>False</td>\n",
       "      <td>False</td>\n",
       "      <td>False</td>\n",
       "      <td>False</td>\n",
       "      <td>False</td>\n",
       "      <td>False</td>\n",
       "    </tr>\n",
       "    <tr>\n",
       "      <th>23518</th>\n",
       "      <td>1754</td>\n",
       "      <td>5000</td>\n",
       "      <td>2</td>\n",
       "      <td>1</td>\n",
       "      <td>2020</td>\n",
       "      <td>12</td>\n",
       "      <td>False</td>\n",
       "      <td>False</td>\n",
       "      <td>False</td>\n",
       "      <td>False</td>\n",
       "      <td>...</td>\n",
       "      <td>False</td>\n",
       "      <td>False</td>\n",
       "      <td>False</td>\n",
       "      <td>False</td>\n",
       "      <td>False</td>\n",
       "      <td>False</td>\n",
       "      <td>False</td>\n",
       "      <td>False</td>\n",
       "      <td>False</td>\n",
       "      <td>False</td>\n",
       "    </tr>\n",
       "    <tr>\n",
       "      <th>25049</th>\n",
       "      <td>1879</td>\n",
       "      <td>4520</td>\n",
       "      <td>4</td>\n",
       "      <td>2</td>\n",
       "      <td>2022</td>\n",
       "      <td>4</td>\n",
       "      <td>False</td>\n",
       "      <td>False</td>\n",
       "      <td>False</td>\n",
       "      <td>True</td>\n",
       "      <td>...</td>\n",
       "      <td>False</td>\n",
       "      <td>False</td>\n",
       "      <td>False</td>\n",
       "      <td>False</td>\n",
       "      <td>False</td>\n",
       "      <td>False</td>\n",
       "      <td>False</td>\n",
       "      <td>False</td>\n",
       "      <td>False</td>\n",
       "      <td>False</td>\n",
       "    </tr>\n",
       "    <tr>\n",
       "      <th>14214</th>\n",
       "      <td>1272</td>\n",
       "      <td>7540</td>\n",
       "      <td>3</td>\n",
       "      <td>3</td>\n",
       "      <td>2016</td>\n",
       "      <td>8</td>\n",
       "      <td>False</td>\n",
       "      <td>False</td>\n",
       "      <td>True</td>\n",
       "      <td>False</td>\n",
       "      <td>...</td>\n",
       "      <td>False</td>\n",
       "      <td>False</td>\n",
       "      <td>False</td>\n",
       "      <td>False</td>\n",
       "      <td>False</td>\n",
       "      <td>False</td>\n",
       "      <td>False</td>\n",
       "      <td>False</td>\n",
       "      <td>False</td>\n",
       "      <td>False</td>\n",
       "    </tr>\n",
       "    <tr>\n",
       "      <th>8085</th>\n",
       "      <td>1100</td>\n",
       "      <td>7616</td>\n",
       "      <td>3</td>\n",
       "      <td>2</td>\n",
       "      <td>2020</td>\n",
       "      <td>11</td>\n",
       "      <td>False</td>\n",
       "      <td>False</td>\n",
       "      <td>False</td>\n",
       "      <td>False</td>\n",
       "      <td>...</td>\n",
       "      <td>False</td>\n",
       "      <td>False</td>\n",
       "      <td>False</td>\n",
       "      <td>False</td>\n",
       "      <td>False</td>\n",
       "      <td>False</td>\n",
       "      <td>False</td>\n",
       "      <td>False</td>\n",
       "      <td>False</td>\n",
       "      <td>False</td>\n",
       "    </tr>\n",
       "  </tbody>\n",
       "</table>\n",
       "<p>5 rows × 45 columns</p>\n",
       "</div>"
      ],
      "text/plain": [
       "       FinishedSqft  Lotsize  Bdrms  Baths_total  Sale_year  Sale_month  \\\n",
       "22732          1693     5360      3            3       2020           6   \n",
       "23518          1754     5000      2            1       2020          12   \n",
       "25049          1879     4520      4            2       2022           4   \n",
       "14214          1272     7540      3            3       2016           8   \n",
       "8085           1100     7616      3            2       2020          11   \n",
       "\n",
       "       Style_AP 1  Style_Bi-Level  Style_Cape Cod  Style_Colonial  ...  \\\n",
       "22732       False           False           False           False  ...   \n",
       "23518       False           False           False           False  ...   \n",
       "25049       False           False           False            True  ...   \n",
       "14214       False           False            True           False  ...   \n",
       "8085        False           False           False           False  ...   \n",
       "\n",
       "       Extwall_Fiber-Cement  Extwall_Frame  Extwall_Masonary Frame  \\\n",
       "22732                 False          False                   False   \n",
       "23518                 False          False                   False   \n",
       "25049                 False          False                   False   \n",
       "14214                 False          False                   False   \n",
       "8085                  False          False                   False   \n",
       "\n",
       "       Extwall_Masonry / Frame  Extwall_Masonry/Frame  Extwall_Metal Siding  \\\n",
       "22732                    False                  False                 False   \n",
       "23518                    False                  False                 False   \n",
       "25049                    False                  False                 False   \n",
       "14214                    False                  False                 False   \n",
       "8085                     False                  False                 False   \n",
       "\n",
       "       Extwall_Prem Wood  Extwall_Stone  Extwall_Stucco  Extwall_Wood  \n",
       "22732              False          False           False         False  \n",
       "23518              False          False           False         False  \n",
       "25049              False          False           False         False  \n",
       "14214              False          False           False         False  \n",
       "8085               False          False           False         False  \n",
       "\n",
       "[5 rows x 45 columns]"
      ]
     },
     "execution_count": 24,
     "metadata": {},
     "output_type": "execute_result"
    }
   ],
   "source": [
    "X_test.head()"
   ]
  },
  {
   "cell_type": "code",
   "execution_count": 25,
   "metadata": {},
   "outputs": [
    {
     "name": "stdout",
     "output_type": "stream",
     "text": [
      "<class 'pandas.core.frame.DataFrame'>\n",
      "Index: 3039 entries, 22732 to 6000\n",
      "Data columns (total 45 columns):\n",
      " #   Column                            Non-Null Count  Dtype\n",
      "---  ------                            --------------  -----\n",
      " 0   FinishedSqft                      3039 non-null   int64\n",
      " 1   Lotsize                           3039 non-null   int64\n",
      " 2   Bdrms                             3039 non-null   int64\n",
      " 3   Baths_total                       3039 non-null   int64\n",
      " 4   Sale_year                         3039 non-null   int64\n",
      " 5   Sale_month                        3039 non-null   int64\n",
      " 6   Style_AP 1                        3039 non-null   bool \n",
      " 7   Style_Bi-Level                    3039 non-null   bool \n",
      " 8   Style_Cape Cod                    3039 non-null   bool \n",
      " 9   Style_Colonial                    3039 non-null   bool \n",
      " 10  Style_Contemporary                3039 non-null   bool \n",
      " 11  Style_Cottage                     3039 non-null   bool \n",
      " 12  Style_Dplx Bungalow               3039 non-null   bool \n",
      " 13  Style_Duplex N/S                  3039 non-null   bool \n",
      " 14  Style_Duplex O/S                  3039 non-null   bool \n",
      " 15  Style_Duplex-Cottage              3039 non-null   bool \n",
      " 16  Style_Milwaukee Bungalow          3039 non-null   bool \n",
      " 17  Style_Multiple Residential Bldgs  3039 non-null   bool \n",
      " 18  Style_Ranch                       3039 non-null   bool \n",
      " 19  Style_Res O/S 1 Story             3039 non-null   bool \n",
      " 20  Style_Res O/S 2sty +              3039 non-null   bool \n",
      " 21  Style_Res O/S A & 1/2             3039 non-null   bool \n",
      " 22  Style_Residence O/S               3039 non-null   bool \n",
      " 23  Style_Residence O/S 2sty+         3039 non-null   bool \n",
      " 24  Style_Split Level                 3039 non-null   bool \n",
      " 25  Style_Townhouse                   3039 non-null   bool \n",
      " 26  Style_Triplex                     3039 non-null   bool \n",
      " 27  Style_Tudor                       3039 non-null   bool \n",
      " 28  Extwall_Alum/Vynyl Siding         3039 non-null   bool \n",
      " 29  Extwall_Aluminum / Vinyl          3039 non-null   bool \n",
      " 30  Extwall_Aluminum/Vinyl            3039 non-null   bool \n",
      " 31  Extwall_Asphalt/Other             3039 non-null   bool \n",
      " 32  Extwall_Block                     3039 non-null   bool \n",
      " 33  Extwall_Brick                     3039 non-null   bool \n",
      " 34  Extwall_Fiber Cement/Hardiplank   3039 non-null   bool \n",
      " 35  Extwall_Fiber-Cement              3039 non-null   bool \n",
      " 36  Extwall_Frame                     3039 non-null   bool \n",
      " 37  Extwall_Masonary Frame            3039 non-null   bool \n",
      " 38  Extwall_Masonry / Frame           3039 non-null   bool \n",
      " 39  Extwall_Masonry/Frame             3039 non-null   bool \n",
      " 40  Extwall_Metal Siding              3039 non-null   bool \n",
      " 41  Extwall_Prem Wood                 3039 non-null   bool \n",
      " 42  Extwall_Stone                     3039 non-null   bool \n",
      " 43  Extwall_Stucco                    3039 non-null   bool \n",
      " 44  Extwall_Wood                      3039 non-null   bool \n",
      "dtypes: bool(39), int64(6)\n",
      "memory usage: 281.9 KB\n"
     ]
    }
   ],
   "source": [
    "X_test.info()"
   ]
  },
  {
   "cell_type": "code",
   "execution_count": 26,
   "metadata": {
    "ExecuteTime": {
     "end_time": "2024-06-11T01:55:52.754055Z",
     "start_time": "2024-06-11T01:55:52.612967Z"
    }
   },
   "outputs": [
    {
     "data": {
      "text/plain": [
       "0.4503235975371923"
      ]
     },
     "execution_count": 26,
     "metadata": {},
     "output_type": "execute_result"
    }
   ],
   "source": [
    "model.score(X_test, y_test)"
   ]
  },
  {
   "cell_type": "code",
   "execution_count": null,
   "metadata": {},
   "outputs": [],
   "source": []
  },
  {
   "cell_type": "code",
   "execution_count": null,
   "metadata": {},
   "outputs": [],
   "source": []
  },
  {
   "cell_type": "code",
   "execution_count": null,
   "metadata": {},
   "outputs": [],
   "source": []
  },
  {
   "cell_type": "markdown",
   "metadata": {},
   "source": [
    "House Price Prediction Using Elle's Model and the Previous (Unfiltered) Dataset"
   ]
  },
  {
   "cell_type": "code",
   "execution_count": 26,
   "metadata": {},
   "outputs": [
    {
     "data": {
      "text/html": [
       "<div>\n",
       "<style scoped>\n",
       "    .dataframe tbody tr th:only-of-type {\n",
       "        vertical-align: middle;\n",
       "    }\n",
       "\n",
       "    .dataframe tbody tr th {\n",
       "        vertical-align: top;\n",
       "    }\n",
       "\n",
       "    .dataframe thead th {\n",
       "        text-align: right;\n",
       "    }\n",
       "</style>\n",
       "<table border=\"1\" class=\"dataframe\">\n",
       "  <thead>\n",
       "    <tr style=\"text-align: right;\">\n",
       "      <th></th>\n",
       "      <th>State</th>\n",
       "      <th>City</th>\n",
       "      <th>Street</th>\n",
       "      <th>Zipcode</th>\n",
       "      <th>Latitude</th>\n",
       "      <th>Longitude</th>\n",
       "      <th>Bedroom</th>\n",
       "      <th>Bathroom</th>\n",
       "      <th>Area</th>\n",
       "      <th>PPSq</th>\n",
       "      <th>LotArea</th>\n",
       "      <th>ConvertedLot</th>\n",
       "      <th>LotUnit</th>\n",
       "      <th>MarketEstimate</th>\n",
       "      <th>RentEstimate</th>\n",
       "      <th>Price</th>\n",
       "    </tr>\n",
       "  </thead>\n",
       "  <tbody>\n",
       "    <tr>\n",
       "      <th>0</th>\n",
       "      <td>WI</td>\n",
       "      <td>Milwaukee</td>\n",
       "      <td>North 26th STREET</td>\n",
       "      <td>53206</td>\n",
       "      <td>43.076214</td>\n",
       "      <td>-87.946370</td>\n",
       "      <td>4</td>\n",
       "      <td>2</td>\n",
       "      <td>NaN</td>\n",
       "      <td>NaN</td>\n",
       "      <td>3920.40</td>\n",
       "      <td>0.09</td>\n",
       "      <td>sqft</td>\n",
       "      <td>NaN</td>\n",
       "      <td>1425.0</td>\n",
       "      <td>7000</td>\n",
       "    </tr>\n",
       "    <tr>\n",
       "      <th>1</th>\n",
       "      <td>WI</td>\n",
       "      <td>Milwaukee</td>\n",
       "      <td>North 37th STREET</td>\n",
       "      <td>53210</td>\n",
       "      <td>43.066345</td>\n",
       "      <td>-87.959490</td>\n",
       "      <td>4</td>\n",
       "      <td>2</td>\n",
       "      <td>1714.0</td>\n",
       "      <td>20.361727</td>\n",
       "      <td>3484.80</td>\n",
       "      <td>0.08</td>\n",
       "      <td>sqft</td>\n",
       "      <td>NaN</td>\n",
       "      <td>1345.0</td>\n",
       "      <td>34900</td>\n",
       "    </tr>\n",
       "    <tr>\n",
       "      <th>2</th>\n",
       "      <td>WI</td>\n",
       "      <td>Milwaukee</td>\n",
       "      <td>North Sherman BOULEVARD UNIT 4326</td>\n",
       "      <td>53216</td>\n",
       "      <td>43.095818</td>\n",
       "      <td>-87.966620</td>\n",
       "      <td>4</td>\n",
       "      <td>2</td>\n",
       "      <td>1500.0</td>\n",
       "      <td>83.266667</td>\n",
       "      <td>0.62</td>\n",
       "      <td>0.62</td>\n",
       "      <td>acres</td>\n",
       "      <td>NaN</td>\n",
       "      <td>NaN</td>\n",
       "      <td>124900</td>\n",
       "    </tr>\n",
       "    <tr>\n",
       "      <th>3</th>\n",
       "      <td>WI</td>\n",
       "      <td>Milwaukee</td>\n",
       "      <td>North 25th STREET</td>\n",
       "      <td>53205</td>\n",
       "      <td>43.056957</td>\n",
       "      <td>-87.944756</td>\n",
       "      <td>3</td>\n",
       "      <td>2</td>\n",
       "      <td>1184.0</td>\n",
       "      <td>114.020270</td>\n",
       "      <td>4356.00</td>\n",
       "      <td>0.10</td>\n",
       "      <td>sqft</td>\n",
       "      <td>132800.0</td>\n",
       "      <td>1500.0</td>\n",
       "      <td>135000</td>\n",
       "    </tr>\n",
       "    <tr>\n",
       "      <th>4</th>\n",
       "      <td>WI</td>\n",
       "      <td>Milwaukee</td>\n",
       "      <td>North 86th PLACE</td>\n",
       "      <td>53225</td>\n",
       "      <td>43.121850</td>\n",
       "      <td>-88.019295</td>\n",
       "      <td>3</td>\n",
       "      <td>2</td>\n",
       "      <td>1271.0</td>\n",
       "      <td>106.215578</td>\n",
       "      <td>7840.80</td>\n",
       "      <td>0.18</td>\n",
       "      <td>sqft</td>\n",
       "      <td>136300.0</td>\n",
       "      <td>1875.0</td>\n",
       "      <td>135000</td>\n",
       "    </tr>\n",
       "  </tbody>\n",
       "</table>\n",
       "</div>"
      ],
      "text/plain": [
       "  State       City                             Street  Zipcode   Latitude  \\\n",
       "0    WI  Milwaukee                  North 26th STREET    53206  43.076214   \n",
       "1    WI  Milwaukee                  North 37th STREET    53210  43.066345   \n",
       "2    WI  Milwaukee  North Sherman BOULEVARD UNIT 4326    53216  43.095818   \n",
       "3    WI  Milwaukee                  North 25th STREET    53205  43.056957   \n",
       "4    WI  Milwaukee                   North 86th PLACE    53225  43.121850   \n",
       "\n",
       "   Longitude  Bedroom  Bathroom    Area        PPSq  LotArea  ConvertedLot  \\\n",
       "0 -87.946370        4         2     NaN         NaN  3920.40          0.09   \n",
       "1 -87.959490        4         2  1714.0   20.361727  3484.80          0.08   \n",
       "2 -87.966620        4         2  1500.0   83.266667     0.62          0.62   \n",
       "3 -87.944756        3         2  1184.0  114.020270  4356.00          0.10   \n",
       "4 -88.019295        3         2  1271.0  106.215578  7840.80          0.18   \n",
       "\n",
       "  LotUnit  MarketEstimate  RentEstimate   Price  \n",
       "0    sqft             NaN        1425.0    7000  \n",
       "1    sqft             NaN        1345.0   34900  \n",
       "2   acres             NaN           NaN  124900  \n",
       "3    sqft        132800.0        1500.0  135000  \n",
       "4    sqft        136300.0        1875.0  135000  "
      ]
     },
     "execution_count": 26,
     "metadata": {},
     "output_type": "execute_result"
    }
   ],
   "source": [
    "listings_data_df = pd.read_csv(\"Resources/original_extracted_df_MilwaukeeOnly.csv\")\n",
    "listings_data_df.head()"
   ]
  },
  {
   "cell_type": "code",
   "execution_count": 27,
   "metadata": {},
   "outputs": [
    {
     "name": "stdout",
     "output_type": "stream",
     "text": [
      "<class 'pandas.core.frame.DataFrame'>\n",
      "RangeIndex: 33 entries, 0 to 32\n",
      "Data columns (total 12 columns):\n",
      " #   Column          Non-Null Count  Dtype  \n",
      "---  ------          --------------  -----  \n",
      " 0   Street          33 non-null     object \n",
      " 1   City            33 non-null     object \n",
      " 2   State           33 non-null     object \n",
      " 3   Zipcode         33 non-null     int64  \n",
      " 4   Latitude        33 non-null     float64\n",
      " 5   Longitude       33 non-null     float64\n",
      " 6   Bedroom         33 non-null     int64  \n",
      " 7   Bathroom        33 non-null     int64  \n",
      " 8   Area            32 non-null     float64\n",
      " 9   LotArea         28 non-null     float64\n",
      " 10  Price           33 non-null     int64  \n",
      " 11  MarketEstimate  26 non-null     float64\n",
      "dtypes: float64(5), int64(4), object(3)\n",
      "memory usage: 3.2+ KB\n"
     ]
    }
   ],
   "source": [
    "listings_data_df = listings_data_df.drop(columns=['PPSq', 'ConvertedLot','LotUnit','RentEstimate'], axis=1)\n",
    "listings_data_df = listings_data_df[['Street', 'City', 'State', 'Zipcode', 'Latitude', 'Longitude', 'Bedroom', 'Bathroom', 'Area','LotArea', 'Price','MarketEstimate']]\n",
    "listings_data_df.info()"
   ]
  },
  {
   "cell_type": "code",
   "execution_count": 28,
   "metadata": {},
   "outputs": [
    {
     "data": {
      "text/html": [
       "<div>\n",
       "<style scoped>\n",
       "    .dataframe tbody tr th:only-of-type {\n",
       "        vertical-align: middle;\n",
       "    }\n",
       "\n",
       "    .dataframe tbody tr th {\n",
       "        vertical-align: top;\n",
       "    }\n",
       "\n",
       "    .dataframe thead th {\n",
       "        text-align: right;\n",
       "    }\n",
       "</style>\n",
       "<table border=\"1\" class=\"dataframe\">\n",
       "  <thead>\n",
       "    <tr style=\"text-align: right;\">\n",
       "      <th></th>\n",
       "      <th>Street</th>\n",
       "      <th>City</th>\n",
       "      <th>State</th>\n",
       "      <th>Zipcode</th>\n",
       "      <th>Latitude</th>\n",
       "      <th>Longitude</th>\n",
       "      <th>Bedrooms</th>\n",
       "      <th>Bathrooms</th>\n",
       "      <th>FinishedSqft</th>\n",
       "      <th>Lotsize</th>\n",
       "      <th>Price</th>\n",
       "      <th>MarketEstimate</th>\n",
       "    </tr>\n",
       "  </thead>\n",
       "  <tbody>\n",
       "    <tr>\n",
       "      <th>0</th>\n",
       "      <td>North 26th STREET</td>\n",
       "      <td>Milwaukee</td>\n",
       "      <td>WI</td>\n",
       "      <td>53206</td>\n",
       "      <td>43.076214</td>\n",
       "      <td>-87.946370</td>\n",
       "      <td>4</td>\n",
       "      <td>2</td>\n",
       "      <td>NaN</td>\n",
       "      <td>3920.40</td>\n",
       "      <td>7000</td>\n",
       "      <td>NaN</td>\n",
       "    </tr>\n",
       "    <tr>\n",
       "      <th>1</th>\n",
       "      <td>North 37th STREET</td>\n",
       "      <td>Milwaukee</td>\n",
       "      <td>WI</td>\n",
       "      <td>53210</td>\n",
       "      <td>43.066345</td>\n",
       "      <td>-87.959490</td>\n",
       "      <td>4</td>\n",
       "      <td>2</td>\n",
       "      <td>1714.0</td>\n",
       "      <td>3484.80</td>\n",
       "      <td>34900</td>\n",
       "      <td>NaN</td>\n",
       "    </tr>\n",
       "    <tr>\n",
       "      <th>2</th>\n",
       "      <td>North Sherman BOULEVARD UNIT 4326</td>\n",
       "      <td>Milwaukee</td>\n",
       "      <td>WI</td>\n",
       "      <td>53216</td>\n",
       "      <td>43.095818</td>\n",
       "      <td>-87.966620</td>\n",
       "      <td>4</td>\n",
       "      <td>2</td>\n",
       "      <td>1500.0</td>\n",
       "      <td>0.62</td>\n",
       "      <td>124900</td>\n",
       "      <td>NaN</td>\n",
       "    </tr>\n",
       "    <tr>\n",
       "      <th>3</th>\n",
       "      <td>North 25th STREET</td>\n",
       "      <td>Milwaukee</td>\n",
       "      <td>WI</td>\n",
       "      <td>53205</td>\n",
       "      <td>43.056957</td>\n",
       "      <td>-87.944756</td>\n",
       "      <td>3</td>\n",
       "      <td>2</td>\n",
       "      <td>1184.0</td>\n",
       "      <td>4356.00</td>\n",
       "      <td>135000</td>\n",
       "      <td>132800.0</td>\n",
       "    </tr>\n",
       "    <tr>\n",
       "      <th>4</th>\n",
       "      <td>North 86th PLACE</td>\n",
       "      <td>Milwaukee</td>\n",
       "      <td>WI</td>\n",
       "      <td>53225</td>\n",
       "      <td>43.121850</td>\n",
       "      <td>-88.019295</td>\n",
       "      <td>3</td>\n",
       "      <td>2</td>\n",
       "      <td>1271.0</td>\n",
       "      <td>7840.80</td>\n",
       "      <td>135000</td>\n",
       "      <td>136300.0</td>\n",
       "    </tr>\n",
       "  </tbody>\n",
       "</table>\n",
       "</div>"
      ],
      "text/plain": [
       "                              Street       City State  Zipcode   Latitude  \\\n",
       "0                  North 26th STREET  Milwaukee    WI    53206  43.076214   \n",
       "1                  North 37th STREET  Milwaukee    WI    53210  43.066345   \n",
       "2  North Sherman BOULEVARD UNIT 4326  Milwaukee    WI    53216  43.095818   \n",
       "3                  North 25th STREET  Milwaukee    WI    53205  43.056957   \n",
       "4                   North 86th PLACE  Milwaukee    WI    53225  43.121850   \n",
       "\n",
       "   Longitude  Bedrooms  Bathrooms  FinishedSqft  Lotsize   Price  \\\n",
       "0 -87.946370         4          2           NaN  3920.40    7000   \n",
       "1 -87.959490         4          2        1714.0  3484.80   34900   \n",
       "2 -87.966620         4          2        1500.0     0.62  124900   \n",
       "3 -87.944756         3          2        1184.0  4356.00  135000   \n",
       "4 -88.019295         3          2        1271.0  7840.80  135000   \n",
       "\n",
       "   MarketEstimate  \n",
       "0             NaN  \n",
       "1             NaN  \n",
       "2             NaN  \n",
       "3        132800.0  \n",
       "4        136300.0  "
      ]
     },
     "execution_count": 28,
     "metadata": {},
     "output_type": "execute_result"
    }
   ],
   "source": [
    "listings_data_df = listings_data_df.rename(columns={'Bedroom': 'Bedrooms', 'Bathroom':'Bathrooms','Area':'FinishedSqft', 'LotArea': 'Lotsize'})\n",
    "listings_data_df.head()"
   ]
  },
  {
   "cell_type": "code",
   "execution_count": 29,
   "metadata": {},
   "outputs": [
    {
     "data": {
      "text/plain": [
       "Street            0\n",
       "City              0\n",
       "State             0\n",
       "Zipcode           0\n",
       "Latitude          0\n",
       "Longitude         0\n",
       "Bedrooms          0\n",
       "Bathrooms         0\n",
       "FinishedSqft      1\n",
       "Lotsize           5\n",
       "Price             0\n",
       "MarketEstimate    7\n",
       "dtype: int64"
      ]
     },
     "execution_count": 29,
     "metadata": {},
     "output_type": "execute_result"
    }
   ],
   "source": [
    "listings_data_df.isnull().sum()"
   ]
  },
  {
   "cell_type": "code",
   "execution_count": 30,
   "metadata": {},
   "outputs": [
    {
     "data": {
      "text/plain": [
       "Street            0\n",
       "City              0\n",
       "State             0\n",
       "Zipcode           0\n",
       "Latitude          0\n",
       "Longitude         0\n",
       "Bedrooms          0\n",
       "Bathrooms         0\n",
       "FinishedSqft      0\n",
       "Lotsize           0\n",
       "Price             0\n",
       "MarketEstimate    4\n",
       "dtype: int64"
      ]
     },
     "execution_count": 30,
     "metadata": {},
     "output_type": "execute_result"
    }
   ],
   "source": [
    "listings_data_df=listings_data_df.dropna(subset=['FinishedSqft','Lotsize'])\n",
    "listings_data_df.isnull().sum()"
   ]
  },
  {
   "cell_type": "code",
   "execution_count": 31,
   "metadata": {},
   "outputs": [
    {
     "data": {
      "text/html": [
       "<div>\n",
       "<style scoped>\n",
       "    .dataframe tbody tr th:only-of-type {\n",
       "        vertical-align: middle;\n",
       "    }\n",
       "\n",
       "    .dataframe tbody tr th {\n",
       "        vertical-align: top;\n",
       "    }\n",
       "\n",
       "    .dataframe thead th {\n",
       "        text-align: right;\n",
       "    }\n",
       "</style>\n",
       "<table border=\"1\" class=\"dataframe\">\n",
       "  <thead>\n",
       "    <tr style=\"text-align: right;\">\n",
       "      <th></th>\n",
       "      <th>Street</th>\n",
       "      <th>City</th>\n",
       "      <th>State</th>\n",
       "      <th>Zipcode</th>\n",
       "      <th>Latitude</th>\n",
       "      <th>Longitude</th>\n",
       "      <th>Bedrooms</th>\n",
       "      <th>Bathrooms</th>\n",
       "      <th>FinishedSqft</th>\n",
       "      <th>Lotsize</th>\n",
       "      <th>Price</th>\n",
       "      <th>MarketEstimate</th>\n",
       "      <th>Year</th>\n",
       "    </tr>\n",
       "  </thead>\n",
       "  <tbody>\n",
       "    <tr>\n",
       "      <th>1</th>\n",
       "      <td>North 37th STREET</td>\n",
       "      <td>Milwaukee</td>\n",
       "      <td>WI</td>\n",
       "      <td>53210</td>\n",
       "      <td>43.066345</td>\n",
       "      <td>-87.959490</td>\n",
       "      <td>4</td>\n",
       "      <td>2</td>\n",
       "      <td>1714.0</td>\n",
       "      <td>3484.80</td>\n",
       "      <td>34900</td>\n",
       "      <td>NaN</td>\n",
       "      <td>2024</td>\n",
       "    </tr>\n",
       "    <tr>\n",
       "      <th>2</th>\n",
       "      <td>North Sherman BOULEVARD UNIT 4326</td>\n",
       "      <td>Milwaukee</td>\n",
       "      <td>WI</td>\n",
       "      <td>53216</td>\n",
       "      <td>43.095818</td>\n",
       "      <td>-87.966620</td>\n",
       "      <td>4</td>\n",
       "      <td>2</td>\n",
       "      <td>1500.0</td>\n",
       "      <td>0.62</td>\n",
       "      <td>124900</td>\n",
       "      <td>NaN</td>\n",
       "      <td>2024</td>\n",
       "    </tr>\n",
       "    <tr>\n",
       "      <th>3</th>\n",
       "      <td>North 25th STREET</td>\n",
       "      <td>Milwaukee</td>\n",
       "      <td>WI</td>\n",
       "      <td>53205</td>\n",
       "      <td>43.056957</td>\n",
       "      <td>-87.944756</td>\n",
       "      <td>3</td>\n",
       "      <td>2</td>\n",
       "      <td>1184.0</td>\n",
       "      <td>4356.00</td>\n",
       "      <td>135000</td>\n",
       "      <td>132800.0</td>\n",
       "      <td>2024</td>\n",
       "    </tr>\n",
       "    <tr>\n",
       "      <th>4</th>\n",
       "      <td>North 86th PLACE</td>\n",
       "      <td>Milwaukee</td>\n",
       "      <td>WI</td>\n",
       "      <td>53225</td>\n",
       "      <td>43.121850</td>\n",
       "      <td>-88.019295</td>\n",
       "      <td>3</td>\n",
       "      <td>2</td>\n",
       "      <td>1271.0</td>\n",
       "      <td>7840.80</td>\n",
       "      <td>135000</td>\n",
       "      <td>136300.0</td>\n",
       "      <td>2024</td>\n",
       "    </tr>\n",
       "    <tr>\n",
       "      <th>5</th>\n",
       "      <td>North 35th STREET</td>\n",
       "      <td>Milwaukee</td>\n",
       "      <td>WI</td>\n",
       "      <td>53216</td>\n",
       "      <td>43.095448</td>\n",
       "      <td>-87.957344</td>\n",
       "      <td>2</td>\n",
       "      <td>1</td>\n",
       "      <td>667.0</td>\n",
       "      <td>4356.00</td>\n",
       "      <td>137500</td>\n",
       "      <td>139700.0</td>\n",
       "      <td>2024</td>\n",
       "    </tr>\n",
       "  </tbody>\n",
       "</table>\n",
       "</div>"
      ],
      "text/plain": [
       "                              Street       City State  Zipcode   Latitude  \\\n",
       "1                  North 37th STREET  Milwaukee    WI    53210  43.066345   \n",
       "2  North Sherman BOULEVARD UNIT 4326  Milwaukee    WI    53216  43.095818   \n",
       "3                  North 25th STREET  Milwaukee    WI    53205  43.056957   \n",
       "4                   North 86th PLACE  Milwaukee    WI    53225  43.121850   \n",
       "5                  North 35th STREET  Milwaukee    WI    53216  43.095448   \n",
       "\n",
       "   Longitude  Bedrooms  Bathrooms  FinishedSqft  Lotsize   Price  \\\n",
       "1 -87.959490         4          2        1714.0  3484.80   34900   \n",
       "2 -87.966620         4          2        1500.0     0.62  124900   \n",
       "3 -87.944756         3          2        1184.0  4356.00  135000   \n",
       "4 -88.019295         3          2        1271.0  7840.80  135000   \n",
       "5 -87.957344         2          1         667.0  4356.00  137500   \n",
       "\n",
       "   MarketEstimate  Year  \n",
       "1             NaN  2024  \n",
       "2             NaN  2024  \n",
       "3        132800.0  2024  \n",
       "4        136300.0  2024  \n",
       "5        139700.0  2024  "
      ]
     },
     "execution_count": 31,
     "metadata": {},
     "output_type": "execute_result"
    }
   ],
   "source": [
    "prediction1_df = listings_data_df.copy()\n",
    "prediction1_df['Year'] = 2024\n",
    "prediction1_df.head()"
   ]
  },
  {
   "cell_type": "code",
   "execution_count": 33,
   "metadata": {},
   "outputs": [
    {
     "ename": "ValueError",
     "evalue": "The feature names should match those that were passed during fit.\nFeature names unseen at fit time:\n- Bathrooms\n- Bedrooms\n- FinishedSqft\n- Lotsize\n- Year\nFeature names seen at fit time, yet now missing:\n- bdrms\n- district\n- extwall_alum/vynyl siding\n- extwall_aluminum / vinyl\n- extwall_aluminum/vinyl\n- ...\n",
     "output_type": "error",
     "traceback": [
      "\u001b[1;31m---------------------------------------------------------------------------\u001b[0m",
      "\u001b[1;31mValueError\u001b[0m                                Traceback (most recent call last)",
      "Cell \u001b[1;32mIn[33], line 2\u001b[0m\n\u001b[0;32m      1\u001b[0m X_pred1 \u001b[38;5;241m=\u001b[39m prediction1_df[[\u001b[38;5;124m'\u001b[39m\u001b[38;5;124mBedrooms\u001b[39m\u001b[38;5;124m'\u001b[39m, \u001b[38;5;124m'\u001b[39m\u001b[38;5;124mBathrooms\u001b[39m\u001b[38;5;124m'\u001b[39m,\u001b[38;5;124m'\u001b[39m\u001b[38;5;124mFinishedSqft\u001b[39m\u001b[38;5;124m'\u001b[39m, \u001b[38;5;124m'\u001b[39m\u001b[38;5;124mLotsize\u001b[39m\u001b[38;5;124m'\u001b[39m,\u001b[38;5;124m'\u001b[39m\u001b[38;5;124mYear\u001b[39m\u001b[38;5;124m'\u001b[39m]]\n\u001b[1;32m----> 2\u001b[0m y_predicted_sales1 \u001b[38;5;241m=\u001b[39m model\u001b[38;5;241m.\u001b[39mpredict(X_pred1)\n\u001b[0;32m      3\u001b[0m listings_data_df[\u001b[38;5;124m'\u001b[39m\u001b[38;5;124m2024 Forecasted House Price\u001b[39m\u001b[38;5;124m'\u001b[39m] \u001b[38;5;241m=\u001b[39m y_predicted_sales1\n\u001b[0;32m      4\u001b[0m listings_data_df[\u001b[38;5;124m'\u001b[39m\u001b[38;5;124mPrice Difference\u001b[39m\u001b[38;5;124m'\u001b[39m] \u001b[38;5;241m=\u001b[39m listings_data_df[\u001b[38;5;124m'\u001b[39m\u001b[38;5;124mPrice\u001b[39m\u001b[38;5;124m'\u001b[39m] \u001b[38;5;241m-\u001b[39m listings_data_df[\u001b[38;5;124m'\u001b[39m\u001b[38;5;124m2024 Forecasted House Price\u001b[39m\u001b[38;5;124m'\u001b[39m]\n",
      "File \u001b[1;32mc:\\Users\\Ajunjee Selvam\\anaconda3\\Lib\\site-packages\\sklearn\\ensemble\\_forest.py:984\u001b[0m, in \u001b[0;36mForestRegressor.predict\u001b[1;34m(self, X)\u001b[0m\n\u001b[0;32m    982\u001b[0m check_is_fitted(\u001b[38;5;28mself\u001b[39m)\n\u001b[0;32m    983\u001b[0m \u001b[38;5;66;03m# Check data\u001b[39;00m\n\u001b[1;32m--> 984\u001b[0m X \u001b[38;5;241m=\u001b[39m \u001b[38;5;28mself\u001b[39m\u001b[38;5;241m.\u001b[39m_validate_X_predict(X)\n\u001b[0;32m    986\u001b[0m \u001b[38;5;66;03m# Assign chunk of trees to jobs\u001b[39;00m\n\u001b[0;32m    987\u001b[0m n_jobs, _, _ \u001b[38;5;241m=\u001b[39m _partition_estimators(\u001b[38;5;28mself\u001b[39m\u001b[38;5;241m.\u001b[39mn_estimators, \u001b[38;5;28mself\u001b[39m\u001b[38;5;241m.\u001b[39mn_jobs)\n",
      "File \u001b[1;32mc:\\Users\\Ajunjee Selvam\\anaconda3\\Lib\\site-packages\\sklearn\\ensemble\\_forest.py:599\u001b[0m, in \u001b[0;36mBaseForest._validate_X_predict\u001b[1;34m(self, X)\u001b[0m\n\u001b[0;32m    596\u001b[0m \u001b[38;5;250m\u001b[39m\u001b[38;5;124;03m\"\"\"\u001b[39;00m\n\u001b[0;32m    597\u001b[0m \u001b[38;5;124;03mValidate X whenever one tries to predict, apply, predict_proba.\"\"\"\u001b[39;00m\n\u001b[0;32m    598\u001b[0m check_is_fitted(\u001b[38;5;28mself\u001b[39m)\n\u001b[1;32m--> 599\u001b[0m X \u001b[38;5;241m=\u001b[39m \u001b[38;5;28mself\u001b[39m\u001b[38;5;241m.\u001b[39m_validate_data(X, dtype\u001b[38;5;241m=\u001b[39mDTYPE, accept_sparse\u001b[38;5;241m=\u001b[39m\u001b[38;5;124m\"\u001b[39m\u001b[38;5;124mcsr\u001b[39m\u001b[38;5;124m\"\u001b[39m, reset\u001b[38;5;241m=\u001b[39m\u001b[38;5;28;01mFalse\u001b[39;00m)\n\u001b[0;32m    600\u001b[0m \u001b[38;5;28;01mif\u001b[39;00m issparse(X) \u001b[38;5;129;01mand\u001b[39;00m (X\u001b[38;5;241m.\u001b[39mindices\u001b[38;5;241m.\u001b[39mdtype \u001b[38;5;241m!=\u001b[39m np\u001b[38;5;241m.\u001b[39mintc \u001b[38;5;129;01mor\u001b[39;00m X\u001b[38;5;241m.\u001b[39mindptr\u001b[38;5;241m.\u001b[39mdtype \u001b[38;5;241m!=\u001b[39m np\u001b[38;5;241m.\u001b[39mintc):\n\u001b[0;32m    601\u001b[0m     \u001b[38;5;28;01mraise\u001b[39;00m \u001b[38;5;167;01mValueError\u001b[39;00m(\u001b[38;5;124m\"\u001b[39m\u001b[38;5;124mNo support for np.int64 index based sparse matrices\u001b[39m\u001b[38;5;124m\"\u001b[39m)\n",
      "File \u001b[1;32mc:\\Users\\Ajunjee Selvam\\anaconda3\\Lib\\site-packages\\sklearn\\base.py:579\u001b[0m, in \u001b[0;36mBaseEstimator._validate_data\u001b[1;34m(self, X, y, reset, validate_separately, cast_to_ndarray, **check_params)\u001b[0m\n\u001b[0;32m    508\u001b[0m \u001b[38;5;28;01mdef\u001b[39;00m \u001b[38;5;21m_validate_data\u001b[39m(\n\u001b[0;32m    509\u001b[0m     \u001b[38;5;28mself\u001b[39m,\n\u001b[0;32m    510\u001b[0m     X\u001b[38;5;241m=\u001b[39m\u001b[38;5;124m\"\u001b[39m\u001b[38;5;124mno_validation\u001b[39m\u001b[38;5;124m\"\u001b[39m,\n\u001b[1;32m   (...)\u001b[0m\n\u001b[0;32m    515\u001b[0m     \u001b[38;5;241m*\u001b[39m\u001b[38;5;241m*\u001b[39mcheck_params,\n\u001b[0;32m    516\u001b[0m ):\n\u001b[0;32m    517\u001b[0m \u001b[38;5;250m    \u001b[39m\u001b[38;5;124;03m\"\"\"Validate input data and set or check the `n_features_in_` attribute.\u001b[39;00m\n\u001b[0;32m    518\u001b[0m \n\u001b[0;32m    519\u001b[0m \u001b[38;5;124;03m    Parameters\u001b[39;00m\n\u001b[1;32m   (...)\u001b[0m\n\u001b[0;32m    577\u001b[0m \u001b[38;5;124;03m        validated.\u001b[39;00m\n\u001b[0;32m    578\u001b[0m \u001b[38;5;124;03m    \"\"\"\u001b[39;00m\n\u001b[1;32m--> 579\u001b[0m     \u001b[38;5;28mself\u001b[39m\u001b[38;5;241m.\u001b[39m_check_feature_names(X, reset\u001b[38;5;241m=\u001b[39mreset)\n\u001b[0;32m    581\u001b[0m     \u001b[38;5;28;01mif\u001b[39;00m y \u001b[38;5;129;01mis\u001b[39;00m \u001b[38;5;28;01mNone\u001b[39;00m \u001b[38;5;129;01mand\u001b[39;00m \u001b[38;5;28mself\u001b[39m\u001b[38;5;241m.\u001b[39m_get_tags()[\u001b[38;5;124m\"\u001b[39m\u001b[38;5;124mrequires_y\u001b[39m\u001b[38;5;124m\"\u001b[39m]:\n\u001b[0;32m    582\u001b[0m         \u001b[38;5;28;01mraise\u001b[39;00m \u001b[38;5;167;01mValueError\u001b[39;00m(\n\u001b[0;32m    583\u001b[0m             \u001b[38;5;124mf\u001b[39m\u001b[38;5;124m\"\u001b[39m\u001b[38;5;124mThis \u001b[39m\u001b[38;5;132;01m{\u001b[39;00m\u001b[38;5;28mself\u001b[39m\u001b[38;5;241m.\u001b[39m\u001b[38;5;18m__class__\u001b[39m\u001b[38;5;241m.\u001b[39m\u001b[38;5;18m__name__\u001b[39m\u001b[38;5;132;01m}\u001b[39;00m\u001b[38;5;124m estimator \u001b[39m\u001b[38;5;124m\"\u001b[39m\n\u001b[0;32m    584\u001b[0m             \u001b[38;5;124m\"\u001b[39m\u001b[38;5;124mrequires y to be passed, but the target y is None.\u001b[39m\u001b[38;5;124m\"\u001b[39m\n\u001b[0;32m    585\u001b[0m         )\n",
      "File \u001b[1;32mc:\\Users\\Ajunjee Selvam\\anaconda3\\Lib\\site-packages\\sklearn\\base.py:506\u001b[0m, in \u001b[0;36mBaseEstimator._check_feature_names\u001b[1;34m(self, X, reset)\u001b[0m\n\u001b[0;32m    501\u001b[0m \u001b[38;5;28;01mif\u001b[39;00m \u001b[38;5;129;01mnot\u001b[39;00m missing_names \u001b[38;5;129;01mand\u001b[39;00m \u001b[38;5;129;01mnot\u001b[39;00m unexpected_names:\n\u001b[0;32m    502\u001b[0m     message \u001b[38;5;241m+\u001b[39m\u001b[38;5;241m=\u001b[39m (\n\u001b[0;32m    503\u001b[0m         \u001b[38;5;124m\"\u001b[39m\u001b[38;5;124mFeature names must be in the same order as they were in fit.\u001b[39m\u001b[38;5;130;01m\\n\u001b[39;00m\u001b[38;5;124m\"\u001b[39m\n\u001b[0;32m    504\u001b[0m     )\n\u001b[1;32m--> 506\u001b[0m \u001b[38;5;28;01mraise\u001b[39;00m \u001b[38;5;167;01mValueError\u001b[39;00m(message)\n",
      "\u001b[1;31mValueError\u001b[0m: The feature names should match those that were passed during fit.\nFeature names unseen at fit time:\n- Bathrooms\n- Bedrooms\n- FinishedSqft\n- Lotsize\n- Year\nFeature names seen at fit time, yet now missing:\n- bdrms\n- district\n- extwall_alum/vynyl siding\n- extwall_aluminum / vinyl\n- extwall_aluminum/vinyl\n- ...\n"
     ]
    }
   ],
   "source": [
    "X_pred1 = prediction1_df[['Bedrooms', 'Bathrooms','FinishedSqft', 'Lotsize','Year']]\n",
    "y_predicted_sales1 = model.predict(X_pred1)\n",
    "listings_data_df['2024 Forecasted House Price'] = y_predicted_sales1\n",
    "listings_data_df['Price Difference'] = listings_data_df['Price'] - listings_data_df['2024 Forecasted House Price']\n",
    "listings_data_df['Market Estimate Difference'] = listings_data_df['MarketEstimate'] - listings_data_df['2024 Forecasted House Price']\n",
    "listings_data_df"
   ]
  },
  {
   "cell_type": "code",
   "execution_count": null,
   "metadata": {},
   "outputs": [],
   "source": []
  }
 ],
 "metadata": {
  "kernelspec": {
   "display_name": "base",
   "language": "python",
   "name": "python3"
  },
  "language_info": {
   "codemirror_mode": {
    "name": "ipython",
    "version": 3
   },
   "file_extension": ".py",
   "mimetype": "text/x-python",
   "name": "python",
   "nbconvert_exporter": "python",
   "pygments_lexer": "ipython3",
   "version": "3.11.5"
  }
 },
 "nbformat": 4,
 "nbformat_minor": 2
}
