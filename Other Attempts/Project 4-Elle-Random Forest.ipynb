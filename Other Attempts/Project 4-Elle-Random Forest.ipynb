{
 "cells": [
  {
   "cell_type": "code",
   "execution_count": 1,
   "metadata": {},
   "outputs": [
    {
     "name": "stderr",
     "output_type": "stream",
     "text": [
      "c:\\Users\\ebehnia\\AppData\\Local\\anaconda3\\conda-meta\\Lib\\site-packages\\pandas\\core\\arrays\\masked.py:60: UserWarning: Pandas requires version '1.3.6' or newer of 'bottleneck' (version '1.3.5' currently installed).\n",
      "  from pandas.core import (\n"
     ]
    }
   ],
   "source": [
    "import pandas as pd\n",
    "import numpy as np\n",
    "import matplotlib.pyplot as plt\n",
    "import os\n",
    "from sklearn.metrics import mean_squared_error, mean_absolute_error\n",
    "from sklearn.model_selection import train_test_split, GridSearchCV\n",
    "from sklearn.preprocessing import StandardScaler\n",
    "from sklearn.linear_model import LinearRegression\n",
    "from sklearn.ensemble import RandomForestRegressor\n"
   ]
  },
  {
   "cell_type": "code",
   "execution_count": 15,
   "metadata": {},
   "outputs": [],
   "source": [
    "# Load the dataset\n",
    "file_path = 'Resources\\historical-property-sales-data.csv'\n",
    "data = pd.read_csv(file_path)"
   ]
  },
  {
   "cell_type": "markdown",
   "metadata": {},
   "source": [
    "# Loading Load the dataset and initial cleaning"
   ]
  },
  {
   "cell_type": "code",
   "execution_count": 16,
   "metadata": {},
   "outputs": [
    {
     "name": "stdout",
     "output_type": "stream",
     "text": [
      "Columns in the dataset: ['PropertyID', 'PropType', 'taxkey', 'Address', 'CondoProject', 'District', 'nbhd', 'Style', 'Extwall', 'Stories', 'Year_Built', 'Rooms', 'FinishedSqft', 'Units', 'Bdrms', 'Fbath', 'Hbath', 'Lotsize', 'Sale_date', 'Sale_price']\n",
      "Columns after dropping unnecessary columns: ['PropType', 'nbhd', 'Style', 'Stories', 'Year_Built', 'Rooms', 'FinishedSqft', 'Units', 'Bdrms', 'Fbath', 'Hbath', 'Lotsize', 'Sale_date', 'Sale_price']\n",
      "Columns after conversion: ['PropType', 'nbhd', 'Style', 'Stories', 'Year_Built', 'Rooms', 'FinishedSqft', 'Units', 'Bdrms', 'Fbath', 'Hbath', 'Lotsize', 'Sale_date', 'Sale_price']\n",
      "      nbhd  Stories  Year_Built  Rooms  FinishedSqft  Units  Bdrms  Fbath  \\\n",
      "83   780.0      2.0      1930.0    5.0        1120.0      1    2.0    1.0   \n",
      "144  240.0      2.0      1948.0    7.0        2200.0      1    4.0    2.0   \n",
      "179  800.0      1.0      1929.0    4.0        1125.0      1    2.0    1.0   \n",
      "207  240.0      2.0      1914.0    9.0        2555.0      1    5.0    1.0   \n",
      "226  440.0      2.0      1979.0    8.0        2303.0      1    4.0    2.0   \n",
      "\n",
      "     Hbath   Lotsize  ... Style_Res O/S 2sty +  Style_Res O/S A & 1/2  \\\n",
      "83     0.0  218163.0  ...                False                  False   \n",
      "144    0.0  128502.0  ...                False                  False   \n",
      "179    1.0  101059.0  ...                False                  False   \n",
      "207    0.0   90605.0  ...                False                  False   \n",
      "226    1.0   84071.0  ...                False                  False   \n",
      "\n",
      "     Style_Residence O/S  Style_Residence O/S 2sty+  \\\n",
      "83                 False                      False   \n",
      "144                False                      False   \n",
      "179                False                      False   \n",
      "207                 True                      False   \n",
      "226                False                      False   \n",
      "\n",
      "     Style_Rm or Rooming House  Style_Split Level  Style_Townhouse  \\\n",
      "83                       False              False            False   \n",
      "144                      False              False            False   \n",
      "179                      False              False            False   \n",
      "207                      False              False            False   \n",
      "226                      False              False            False   \n",
      "\n",
      "     Style_Triplex  Style_Tudor  Style_Unknown  \n",
      "83           False        False          False  \n",
      "144          False        False          False  \n",
      "179          False        False          False  \n",
      "207          False        False          False  \n",
      "226          False        False          False  \n",
      "\n",
      "[5 rows x 40 columns]\n"
     ]
    }
   ],
   "source": [
    "\n",
    "# Check available columns in the dataset\n",
    "print('Columns in the dataset:', data.columns.tolist())\n",
    "\n",
    "# Dropping Unnecessary columns that exist in the DataFrame\n",
    "columns_to_drop = ['PropertyID', 'taxkey', 'Address', 'CondoProject', 'District', 'Extwall']\n",
    "existing_columns_to_drop = [col for col in columns_to_drop if col in data.columns]\n",
    "data = data.drop(columns=existing_columns_to_drop)\n",
    "\n",
    "# Checking columns after dropping\n",
    "print('Columns after dropping unnecessary columns:', data.columns.tolist())\n",
    "\n",
    "# Handling missing values by filling numeric columns with zeros and categorical columns with a placeholder\n",
    "data.fillna({\n",
    "    'PropType': 'Unknown',\n",
    "    'nbhd': 0,\n",
    "    'Style': 'Unknown',\n",
    "    'Stories': 0,\n",
    "    'Year_Built': 0,\n",
    "    'Rooms': 0,\n",
    "    'FinishedSqft': 0,\n",
    "    'Units': 0,\n",
    "    'Bdrms': 0,\n",
    "    'Fbath': 0,\n",
    "    'Hbath': 0,\n",
    "    'Lotsize': 0,\n",
    "    'Sale_date': '1970-01-01',  # Placeholder date\n",
    "    'Sale_price': '$0'\n",
    "}, inplace=True)\n",
    "\n",
    "# Normalizing date formats\n",
    "data['Sale_date'] = pd.to_datetime(data['Sale_date'], errors='coerce')\n",
    "\n",
    "# Removing special characters and converting to numeric\n",
    "data['Sale_price'] = data['Sale_price'].replace('[\\\\$,]', '', regex=True).astype(float)\n",
    "data['FinishedSqft'] = data['FinishedSqft'].replace('[,]', '', regex=True).astype(float)\n",
    "data['Lotsize'] = data['Lotsize'].replace('[,]', '', regex=True).astype(float)\n",
    "\n",
    "# Converting appropriate columns to numeric types\n",
    "numeric_columns = ['nbhd', 'Stories', 'Year_Built', 'Rooms', 'FinishedSqft', 'Units', 'Bdrms', 'Fbath', 'Hbath', 'Lotsize']\n",
    "for col in numeric_columns:\n",
    "    data[col] = pd.to_numeric(data[col], errors='coerce')\n",
    "\n",
    "# Checking the columns again  after conversion\n",
    "print('Columns after conversion:', data.columns.tolist())\n",
    "\n",
    "# Function to keep only 'Residential' in 'PropType'\n",
    "def filter_residential(df):\n",
    "    return df[df['PropType'] == 'Residential']\n",
    "\n",
    "# Function to drop rows where 'Sale_price' is under 80,000\n",
    "def drop_low_prices(df, threshold=80000):\n",
    "    return df[df['Sale_price'] >= threshold]\n",
    "\n",
    "# Apply the filtering functions\n",
    "data = filter_residential(data)\n",
    "data = drop_low_prices(data)\n",
    "\n",
    "# Convert non-numeric columns to numeric using pd.get_dummies()\n",
    "data = pd.get_dummies(data)\n",
    "\n",
    "# Dropping any remaining rows with NaN values resulting from type conversion\n",
    "cleaned_data = data.dropna()\n",
    "\n",
    "# Displaying the cleaned dataset\n",
    "print(cleaned_data.head())\n"
   ]
  },
  {
   "cell_type": "code",
   "execution_count": 17,
   "metadata": {},
   "outputs": [],
   "source": [
    "\n",
    "\n",
    "# Save the cleaned data to a new CSV file\n",
    "cleaned_file_path = 'Resources\\Cleanedd-historical-property-sales-data.csv'  # Adjust the path as needed\n",
    "cleaned_data.to_csv(cleaned_file_path, index=False)\n"
   ]
  },
  {
   "cell_type": "markdown",
   "metadata": {},
   "source": [
    "# Loading the cleaning data and checking columns (if not already done)"
   ]
  },
  {
   "cell_type": "code",
   "execution_count": 18,
   "metadata": {},
   "outputs": [
    {
     "name": "stdout",
     "output_type": "stream",
     "text": [
      "Index(['nbhd', 'Stories', 'Year_Built', 'Rooms', 'FinishedSqft', 'Units',\n",
      "       'Bdrms', 'Fbath', 'Hbath', 'Lotsize', 'Sale_date', 'Sale_price',\n",
      "       'PropType_Residential', 'Style_**', 'Style_AP 1', 'Style_Bi-Level',\n",
      "       'Style_Cape Cod', 'Style_Colonial', 'Style_Contemporary',\n",
      "       'Style_Cottage', 'Style_Dplx Bungalow', 'Style_Duplex N/S',\n",
      "       'Style_Duplex O/S', 'Style_Duplex-Cottage', 'Style_Mansion',\n",
      "       'Style_Milwaukee Bungalow', 'Style_Multiple Residential Bldgs',\n",
      "       'Style_OBY', 'Style_Ranch', 'Style_Res O/S 1 Story',\n",
      "       'Style_Res O/S 2sty +', 'Style_Res O/S A & 1/2', 'Style_Residence O/S',\n",
      "       'Style_Residence O/S 2sty+', 'Style_Rm or Rooming House',\n",
      "       'Style_Split Level', 'Style_Townhouse', 'Style_Triplex', 'Style_Tudor',\n",
      "       'Style_Unknown'],\n",
      "      dtype='object')\n"
     ]
    }
   ],
   "source": [
    "# Load the cleaned data for machine learning\n",
    "cleaned_data = pd.read_csv(cleaned_file_path)\n",
    "\n",
    "# Print the columns to check for the correct column names\n",
    "print(cleaned_data.columns)\n"
   ]
  },
  {
   "cell_type": "markdown",
   "metadata": {},
   "source": [
    "# Cleaning column names"
   ]
  },
  {
   "cell_type": "code",
   "execution_count": 19,
   "metadata": {},
   "outputs": [
    {
     "name": "stdout",
     "output_type": "stream",
     "text": [
      "Index(['nbhd', 'Stories', 'Year_Built', 'Rooms', 'FinishedSqft', 'Units',\n",
      "       'Bdrms', 'Fbath', 'Hbath', 'Lotsize', 'Sale_date', 'Sale_price',\n",
      "       'PropType_Residential', 'Style_**', 'Style_AP 1', 'Style_Bi-Level',\n",
      "       'Style_Cape Cod', 'Style_Colonial', 'Style_Contemporary',\n",
      "       'Style_Cottage', 'Style_Dplx Bungalow', 'Style_Duplex N/S',\n",
      "       'Style_Duplex O/S', 'Style_Duplex-Cottage', 'Style_Mansion',\n",
      "       'Style_Milwaukee Bungalow', 'Style_Multiple Residential Bldgs',\n",
      "       'Style_OBY', 'Style_Ranch', 'Style_Res O/S 1 Story',\n",
      "       'Style_Res O/S 2sty +', 'Style_Res O/S A & 1/2', 'Style_Residence O/S',\n",
      "       'Style_Residence O/S 2sty+', 'Style_Rm or Rooming House',\n",
      "       'Style_Split Level', 'Style_Townhouse', 'Style_Triplex', 'Style_Tudor',\n",
      "       'Style_Unknown'],\n",
      "      dtype='object')\n"
     ]
    }
   ],
   "source": [
    "# Clean column names by stripping any extra spaces\n",
    "cleaned_data.columns = cleaned_data.columns.str.strip()\n",
    "\n",
    "# Check the cleaned column names\n",
    "print(cleaned_data.columns)\n"
   ]
  },
  {
   "cell_type": "markdown",
   "metadata": {},
   "source": [
    "# Feature Engineering "
   ]
  },
  {
   "cell_type": "code",
   "execution_count": 20,
   "metadata": {},
   "outputs": [],
   "source": [
    "# Featuring engineering: Example of creating new features\n",
    "cleaned_data['Age'] = 2024 - cleaned_data['Year_Built']\n",
    "cleaned_data['Total_Bathrooms'] = cleaned_data['Fbath'] + 0.5 * cleaned_data['Hbath']\n",
    "\n",
    "# Preparing the data for modeling\n",
    "X = cleaned_data.drop(columns=['Sale_date', 'Sale_price'])\n",
    "y = cleaned_data['Sale_price']\n",
    "\n",
    "# Spliting the data into training and testing sets\n",
    "X_train, X_test, y_train, y_test = train_test_split(X, y, test_size=0.2, random_state=42)\n",
    "\n",
    "# Standardizing the features\n",
    "scaler = StandardScaler()\n",
    "X_train = scaler.fit_transform(X_train)\n",
    "X_test = scaler.transform(X_test)\n"
   ]
  },
  {
   "cell_type": "markdown",
   "metadata": {},
   "source": [
    "#  Train and evaluate an advanced model (Random Forest)"
   ]
  },
  {
   "cell_type": "code",
   "execution_count": 21,
   "metadata": {},
   "outputs": [
    {
     "name": "stdout",
     "output_type": "stream",
     "text": [
      "Random Forest Mean Squared Error: 3082239124.083184\n",
      "Random Forest Mean Absolute Error: 33673.79544243649\n",
      "Random Forest R-squared: 0.7200277634532132\n",
      "Random Forest R-squared as percentage: 72.00277634532132%\n"
     ]
    }
   ],
   "source": [
    "# Initializing the Random Forest Regressor\n",
    "rf_model = RandomForestRegressor(random_state=42)\n",
    "\n",
    "# Fitting the model\n",
    "rf_model.fit(X_train, y_train)\n",
    "\n",
    "# Making predictions on the test set\n",
    "y_pred_rf = rf_model.predict(X_test)\n",
    "\n",
    "# Calculating Mean Squared Error (MSE) for Random Forest\n",
    "mse_rf = mean_squared_error(y_test, y_pred_rf)\n",
    "print(f'Random Forest Mean Squared Error: {mse_rf}')\n",
    "\n",
    "# Calculating Mean Absolute Error (MAE) for Random Forest\n",
    "mae_rf = mean_absolute_error(y_test, y_pred_rf)\n",
    "print(f'Random Forest Mean Absolute Error: {mae_rf}')\n",
    "\n",
    "# Calculation for the R-squared score for Random Forest\n",
    "r2_score_rf = rf_model.score(X_test, y_test)\n",
    "print(f'Random Forest R-squared: {r2_score_rf}')\n",
    "print(f'Random Forest R-squared as percentage: {r2_score_rf * 100}%')\n"
   ]
  },
  {
   "cell_type": "code",
   "execution_count": 9,
   "metadata": {},
   "outputs": [
    {
     "data": {
      "image/png": "[encoded data removed]",
      "text/plain": [
       "<Figure size 640x480 with 1 Axes>"
      ]
     },
     "metadata": {},
     "output_type": "display_data"
    }
   ],
   "source": [
    "# Plotting the predictions vs actual values for Random Forest\n",
    "plt.scatter(y_test, y_pred_rf)\n",
    "plt.xlabel('Actual Values')\n",
    "plt.ylabel('Predicted Values')\n",
    "plt.title('Random Forest Predictions vs Actual Values')\n",
    "plt.show()\n"
   ]
  }
 ],
 "metadata": {
  "kernelspec": {
   "display_name": "base",
   "language": "python",
   "name": "python3"
  },
  "language_info": {
   "codemirror_mode": {
    "name": "ipython",
    "version": 3
   },
   "file_extension": ".py",
   "mimetype": "text/x-python",
   "name": "python",
   "nbconvert_exporter": "python",
   "pygments_lexer": "ipython3",
   "version": "3.11.5"
  }
 },
 "nbformat": 4,
 "nbformat_minor": 2
}
