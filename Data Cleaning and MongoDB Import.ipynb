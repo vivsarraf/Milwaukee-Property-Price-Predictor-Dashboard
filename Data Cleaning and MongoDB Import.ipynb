{
 "cells": [
  {
   "cell_type": "code",
   "execution_count": 11,
   "metadata": {},
   "outputs": [],
   "source": [
    "# Import dependencies\n",
    "import requests\n",
    "import pprint\n",
    "import pandas as pd\n",
    "import json\n",
    "import os\n",
    "import csv\n",
    "from pymongo import MongoClient\n",
    "from pprint import pprint"
   ]
  },
  {
   "cell_type": "markdown",
   "metadata": {},
   "source": [
    "## Property Listings Data"
   ]
  },
  {
   "cell_type": "code",
   "execution_count": 12,
   "metadata": {},
   "outputs": [],
   "source": [
    "# Connect to MongoDB\n",
    "client = MongoClient('mongodb://localhost:27017/')\n",
    "\n",
    "# Create the Database in Mongo Db\n",
    "db = client['real_estate_price_prediction_project_db']  \n",
    "\n",
    "# Create the collection in MongoDB\n",
    "collection = db['property_listings_price_prediction'] \n",
    "\n"
   ]
  },
  {
   "cell_type": "markdown",
   "metadata": {},
   "source": [
    "## Milwaukee Property Listings with Predicted Price\n"
   ]
  },
  {
   "cell_type": "markdown",
   "metadata": {},
   "source": []
  },
  {
   "cell_type": "code",
   "execution_count": 13,
   "metadata": {},
   "outputs": [
    {
     "data": {
      "text/html": [
       "<div>\n",
       "<style scoped>\n",
       "    .dataframe tbody tr th:only-of-type {\n",
       "        vertical-align: middle;\n",
       "    }\n",
       "\n",
       "    .dataframe tbody tr th {\n",
       "        vertical-align: top;\n",
       "    }\n",
       "\n",
       "    .dataframe thead th {\n",
       "        text-align: right;\n",
       "    }\n",
       "</style>\n",
       "<table border=\"1\" class=\"dataframe\">\n",
       "  <thead>\n",
       "    <tr style=\"text-align: right;\">\n",
       "      <th></th>\n",
       "      <th>Unnamed: 0</th>\n",
       "      <th>district</th>\n",
       "      <th>nbhd</th>\n",
       "      <th>style</th>\n",
       "      <th>extwall</th>\n",
       "      <th>stories</th>\n",
       "      <th>rooms</th>\n",
       "      <th>finishedsqft</th>\n",
       "      <th>lotsize</th>\n",
       "      <th>units</th>\n",
       "      <th>...</th>\n",
       "      <th>state</th>\n",
       "      <th>city</th>\n",
       "      <th>address</th>\n",
       "      <th>zipcode</th>\n",
       "      <th>latitude</th>\n",
       "      <th>longitude</th>\n",
       "      <th>marketestimate</th>\n",
       "      <th>price</th>\n",
       "      <th>2024 predictions</th>\n",
       "      <th>Price difference</th>\n",
       "    </tr>\n",
       "  </thead>\n",
       "  <tbody>\n",
       "    <tr>\n",
       "      <th>0</th>\n",
       "      <td>0</td>\n",
       "      <td>7</td>\n",
       "      <td>1440</td>\n",
       "      <td>milwaukee bungalow</td>\n",
       "      <td>aluminum/vinyl</td>\n",
       "      <td>1.0</td>\n",
       "      <td>7</td>\n",
       "      <td>1400</td>\n",
       "      <td>3484.8</td>\n",
       "      <td>1</td>\n",
       "      <td>...</td>\n",
       "      <td>WI</td>\n",
       "      <td>Milwaukee</td>\n",
       "      <td>South 8th STREET</td>\n",
       "      <td>53215</td>\n",
       "      <td>42.996044</td>\n",
       "      <td>-87.921000</td>\n",
       "      <td>156700.0</td>\n",
       "      <td>155000</td>\n",
       "      <td>109479.08</td>\n",
       "      <td>-45520.92</td>\n",
       "    </tr>\n",
       "    <tr>\n",
       "      <th>1</th>\n",
       "      <td>1</td>\n",
       "      <td>12</td>\n",
       "      <td>4120</td>\n",
       "      <td>duplex-cottage</td>\n",
       "      <td>wood</td>\n",
       "      <td>2.0</td>\n",
       "      <td>10</td>\n",
       "      <td>1600</td>\n",
       "      <td>3484.8</td>\n",
       "      <td>2</td>\n",
       "      <td>...</td>\n",
       "      <td>WI</td>\n",
       "      <td>Milwaukee</td>\n",
       "      <td>East Homer STREET</td>\n",
       "      <td>53207</td>\n",
       "      <td>42.999760</td>\n",
       "      <td>-87.899940</td>\n",
       "      <td>370200.0</td>\n",
       "      <td>349900</td>\n",
       "      <td>118689.65</td>\n",
       "      <td>-231210.35</td>\n",
       "    </tr>\n",
       "    <tr>\n",
       "      <th>2</th>\n",
       "      <td>2</td>\n",
       "      <td>10</td>\n",
       "      <td>2710</td>\n",
       "      <td>cottage</td>\n",
       "      <td>aluminum/vinyl</td>\n",
       "      <td>1.0</td>\n",
       "      <td>4</td>\n",
       "      <td>667</td>\n",
       "      <td>4356.0</td>\n",
       "      <td>1</td>\n",
       "      <td>...</td>\n",
       "      <td>WI</td>\n",
       "      <td>Milwaukee</td>\n",
       "      <td>North 35th STREET</td>\n",
       "      <td>53216</td>\n",
       "      <td>43.095448</td>\n",
       "      <td>-87.957344</td>\n",
       "      <td>139700.0</td>\n",
       "      <td>137500</td>\n",
       "      <td>133050.00</td>\n",
       "      <td>-4450.00</td>\n",
       "    </tr>\n",
       "    <tr>\n",
       "      <th>3</th>\n",
       "      <td>3</td>\n",
       "      <td>15</td>\n",
       "      <td>2400</td>\n",
       "      <td>colonial</td>\n",
       "      <td>aluminum/vinyl</td>\n",
       "      <td>2.0</td>\n",
       "      <td>6</td>\n",
       "      <td>1184</td>\n",
       "      <td>4356.0</td>\n",
       "      <td>1</td>\n",
       "      <td>...</td>\n",
       "      <td>WI</td>\n",
       "      <td>Milwaukee</td>\n",
       "      <td>North 25th STREET</td>\n",
       "      <td>53205</td>\n",
       "      <td>43.056957</td>\n",
       "      <td>-87.944756</td>\n",
       "      <td>132800.0</td>\n",
       "      <td>135000</td>\n",
       "      <td>135061.00</td>\n",
       "      <td>61.00</td>\n",
       "    </tr>\n",
       "    <tr>\n",
       "      <th>4</th>\n",
       "      <td>4</td>\n",
       "      <td>13</td>\n",
       "      <td>4520</td>\n",
       "      <td>colonial</td>\n",
       "      <td>aluminum/vinyl</td>\n",
       "      <td>2.0</td>\n",
       "      <td>6</td>\n",
       "      <td>1300</td>\n",
       "      <td>4356.0</td>\n",
       "      <td>1</td>\n",
       "      <td>...</td>\n",
       "      <td>WI</td>\n",
       "      <td>Milwaukee</td>\n",
       "      <td>South Whitnall AVENUE</td>\n",
       "      <td>53207</td>\n",
       "      <td>42.982292</td>\n",
       "      <td>-87.905945</td>\n",
       "      <td>360000.0</td>\n",
       "      <td>339000</td>\n",
       "      <td>267721.00</td>\n",
       "      <td>-71279.00</td>\n",
       "    </tr>\n",
       "  </tbody>\n",
       "</table>\n",
       "<p>5 rows × 22 columns</p>\n",
       "</div>"
      ],
      "text/plain": [
       "   Unnamed: 0  district  nbhd               style         extwall  stories  \\\n",
       "0           0         7  1440  milwaukee bungalow  aluminum/vinyl      1.0   \n",
       "1           1        12  4120      duplex-cottage            wood      2.0   \n",
       "2           2        10  2710             cottage  aluminum/vinyl      1.0   \n",
       "3           3        15  2400            colonial  aluminum/vinyl      2.0   \n",
       "4           4        13  4520            colonial  aluminum/vinyl      2.0   \n",
       "\n",
       "   rooms  finishedsqft  lotsize  units  ...  state       city  \\\n",
       "0      7          1400   3484.8      1  ...     WI  Milwaukee   \n",
       "1     10          1600   3484.8      2  ...     WI  Milwaukee   \n",
       "2      4           667   4356.0      1  ...     WI  Milwaukee   \n",
       "3      6          1184   4356.0      1  ...     WI  Milwaukee   \n",
       "4      6          1300   4356.0      1  ...     WI  Milwaukee   \n",
       "\n",
       "                 address zipcode   latitude  longitude  marketestimate  \\\n",
       "0       South 8th STREET   53215  42.996044 -87.921000        156700.0   \n",
       "1      East Homer STREET   53207  42.999760 -87.899940        370200.0   \n",
       "2      North 35th STREET   53216  43.095448 -87.957344        139700.0   \n",
       "3      North 25th STREET   53205  43.056957 -87.944756        132800.0   \n",
       "4  South Whitnall AVENUE   53207  42.982292 -87.905945        360000.0   \n",
       "\n",
       "    price  2024 predictions  Price difference  \n",
       "0  155000         109479.08         -45520.92  \n",
       "1  349900         118689.65        -231210.35  \n",
       "2  137500         133050.00          -4450.00  \n",
       "3  135000         135061.00             61.00  \n",
       "4  339000         267721.00         -71279.00  \n",
       "\n",
       "[5 rows x 22 columns]"
      ]
     },
     "execution_count": 13,
     "metadata": {},
     "output_type": "execute_result"
    }
   ],
   "source": [
    "# Set the column width\n",
    "pd.options.display.max_colwidth = 200\n",
    "\n",
    "# Read the dataset and store as pandas dataframe. \n",
    "properties_listings = pd.read_csv(\"Resources/final-listings-dataset-with-predictions.csv\")\n",
    "properties_listings.head()"
   ]
  },
  {
   "cell_type": "code",
   "execution_count": 14,
   "metadata": {},
   "outputs": [
    {
     "data": {
      "text/plain": [
       "Unnamed: 0            int64\n",
       "district              int64\n",
       "nbhd                  int64\n",
       "style                object\n",
       "extwall              object\n",
       "stories             float64\n",
       "rooms                 int64\n",
       "finishedsqft          int64\n",
       "lotsize             float64\n",
       "units                 int64\n",
       "bdrms                 int64\n",
       "baths_total           int64\n",
       "state                object\n",
       "city                 object\n",
       "address              object\n",
       "zipcode               int64\n",
       "latitude            float64\n",
       "longitude           float64\n",
       "marketestimate      float64\n",
       "price                 int64\n",
       "2024 predictions    float64\n",
       "Price difference    float64\n",
       "dtype: object"
      ]
     },
     "execution_count": 14,
     "metadata": {},
     "output_type": "execute_result"
    }
   ],
   "source": [
    "\n",
    "# Confrm columns have been cleaned and identify the necessary ones only for export to mongodb\n",
    "properties_listings.dtypes\n"
   ]
  },
  {
   "cell_type": "code",
   "execution_count": 15,
   "metadata": {},
   "outputs": [],
   "source": [
    "# Assign the collection to a variable\n",
    "properties_price_prediction = db['property_listings_price_prediction']"
   ]
  },
  {
   "cell_type": "code",
   "execution_count": 16,
   "metadata": {},
   "outputs": [
    {
     "data": {
      "text/plain": [
       "InsertManyResult([ObjectId('666a2f5a6aaea1917d05784f'), ObjectId('666a2f5a6aaea1917d057850'), ObjectId('666a2f5a6aaea1917d057851'), ObjectId('666a2f5a6aaea1917d057852'), ObjectId('666a2f5a6aaea1917d057853'), ObjectId('666a2f5a6aaea1917d057854'), ObjectId('666a2f5a6aaea1917d057855'), ObjectId('666a2f5a6aaea1917d057856'), ObjectId('666a2f5a6aaea1917d057857'), ObjectId('666a2f5a6aaea1917d057858'), ObjectId('666a2f5a6aaea1917d057859'), ObjectId('666a2f5a6aaea1917d05785a'), ObjectId('666a2f5a6aaea1917d05785b'), ObjectId('666a2f5a6aaea1917d05785c'), ObjectId('666a2f5a6aaea1917d05785d'), ObjectId('666a2f5a6aaea1917d05785e'), ObjectId('666a2f5a6aaea1917d05785f'), ObjectId('666a2f5a6aaea1917d057860'), ObjectId('666a2f5a6aaea1917d057861'), ObjectId('666a2f5a6aaea1917d057862'), ObjectId('666a2f5a6aaea1917d057863'), ObjectId('666a2f5a6aaea1917d057864'), ObjectId('666a2f5a6aaea1917d057865'), ObjectId('666a2f5a6aaea1917d057866'), ObjectId('666a2f5a6aaea1917d057867')], acknowledged=True)"
      ]
     },
     "execution_count": 16,
     "metadata": {},
     "output_type": "execute_result"
    }
   ],
   "source": [
    "# Convert the dataframe to dictionary values and insert all entries into the specified collection\n",
    "properties_listings.reset_index(inplace=True)\n",
    "data_dict = properties_listings.to_dict(\"records\")\n",
    "properties_price_prediction.insert_many(data_dict)"
   ]
  },
  {
   "cell_type": "code",
   "execution_count": 17,
   "metadata": {},
   "outputs": [
    {
     "name": "stdout",
     "output_type": "stream",
     "text": [
      "['property_listings_price_prediction']\n"
     ]
    }
   ],
   "source": [
    "# List out the collections in the database\n",
    "print(db.list_collection_names())"
   ]
  },
  {
   "cell_type": "code",
   "execution_count": 18,
   "metadata": {},
   "outputs": [
    {
     "name": "stdout",
     "output_type": "stream",
     "text": [
      "{'_id': ObjectId('666a2f2c6aaea1917d057834'), 'level_0': 0, 'index': 0, 'Unnamed: 0': 0, 'district': 7, 'nbhd': 1440, 'style': 'milwaukee bungalow', 'extwall': 'aluminum/vinyl', 'stories': 1.0, 'rooms': 7, 'finishedsqft': 1400, 'lotsize': 3484.8, 'units': 1, 'bdrms': 3, 'baths_total': 1, 'state': 'WI', 'city': 'Milwaukee', 'address': 'South 8th STREET', 'zipcode': 53215, 'latitude': 42.996044, 'longitude': -87.921, 'marketestimate': 156700.0, 'price': 155000, '2024 predictions': 109479.08, 'Price difference': -45520.92}\n"
     ]
    }
   ],
   "source": [
    "# review a document in the collection\n",
    "print(db.property_listings_price_prediction.find_one())"
   ]
  },
  {
   "cell_type": "code",
   "execution_count": 19,
   "metadata": {},
   "outputs": [
    {
     "name": "stdout",
     "output_type": "stream",
     "text": [
      "['property_listings_price_prediction']\n"
     ]
    }
   ],
   "source": [
    "# List out the collections in the database\n",
    "mongo = MongoClient(port=27017)\n",
    "db = mongo['real_estate_price_prediction_project_db']  \n",
    "print(db.list_collection_names())\n",
    "\n",
    "# Closing the connection to MongoDB\n",
    "client.close()"
   ]
  }
 ],
 "metadata": {
  "kernelspec": {
   "display_name": "base",
   "language": "python",
   "name": "python3"
  },
  "language_info": {
   "codemirror_mode": {
    "name": "ipython",
    "version": 3
   },
   "file_extension": ".py",
   "mimetype": "text/x-python",
   "name": "python",
   "nbconvert_exporter": "python",
   "pygments_lexer": "ipython3",
   "version": "3.12.1"
  }
 },
 "nbformat": 4,
 "nbformat_minor": 2
}
